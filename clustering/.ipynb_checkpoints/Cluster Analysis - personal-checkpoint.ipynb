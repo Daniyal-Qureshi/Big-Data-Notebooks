{
 "cells": [
  {
   "cell_type": "code",
   "execution_count": 74,
   "metadata": {},
   "outputs": [],
   "source": [
    "from pyspark.sql import SparkSession\n",
    "spark = SparkSession.builder.appName(\"Cluster Analysis\").config('spark.sql.shuffle.partitions','20').getOrCreate()"
   ]
  },
  {
   "cell_type": "code",
   "execution_count": 75,
   "metadata": {},
   "outputs": [
    {
     "data": {
      "text/plain": [
       "8950"
      ]
     },
     "execution_count": 75,
     "metadata": {},
     "output_type": "execute_result"
    }
   ],
   "source": [
    "customerDF=spark.read.csv('CC GENERAL.csv', header=True, inferSchema=True)\n",
    "customerDF.count()"
   ]
  },
  {
   "cell_type": "code",
   "execution_count": 76,
   "metadata": {},
   "outputs": [
    {
     "name": "stdout",
     "output_type": "stream",
     "text": [
      "root\n",
      " |-- CUST_ID: string (nullable = true)\n",
      " |-- BALANCE: double (nullable = true)\n",
      " |-- BALANCE_FREQUENCY: double (nullable = true)\n",
      " |-- PURCHASES: double (nullable = true)\n",
      " |-- ONEOFF_PURCHASES: double (nullable = true)\n",
      " |-- INSTALLMENTS_PURCHASES: double (nullable = true)\n",
      " |-- CASH_ADVANCE: double (nullable = true)\n",
      " |-- PURCHASES_FREQUENCY: double (nullable = true)\n",
      " |-- ONEOFF_PURCHASES_FREQUENCY: double (nullable = true)\n",
      " |-- PURCHASES_INSTALLMENTS_FREQUENCY: double (nullable = true)\n",
      " |-- CASH_ADVANCE_FREQUENCY: double (nullable = true)\n",
      " |-- CASH_ADVANCE_TRX: integer (nullable = true)\n",
      " |-- PURCHASES_TRX: integer (nullable = true)\n",
      " |-- CREDIT_LIMIT: double (nullable = true)\n",
      " |-- PAYMENTS: double (nullable = true)\n",
      " |-- MINIMUM_PAYMENTS: double (nullable = true)\n",
      " |-- PRC_FULL_PAYMENT: double (nullable = true)\n",
      " |-- TENURE: integer (nullable = true)\n",
      "\n"
     ]
    }
   ],
   "source": [
    "customerDF.printSchema()"
   ]
  },
  {
   "cell_type": "code",
   "execution_count": 77,
   "metadata": {},
   "outputs": [
    {
     "name": "stdout",
     "output_type": "stream",
     "text": [
      "+-------+-----------+-----------------+---------+----------------+----------------------+------------+-------------------+--------------------------+--------------------------------+----------------------+----------------+-------------+------------+-----------+----------------+----------------+------+\n",
      "|CUST_ID|BALANCE    |BALANCE_FREQUENCY|PURCHASES|ONEOFF_PURCHASES|INSTALLMENTS_PURCHASES|CASH_ADVANCE|PURCHASES_FREQUENCY|ONEOFF_PURCHASES_FREQUENCY|PURCHASES_INSTALLMENTS_FREQUENCY|CASH_ADVANCE_FREQUENCY|CASH_ADVANCE_TRX|PURCHASES_TRX|CREDIT_LIMIT|PAYMENTS   |MINIMUM_PAYMENTS|PRC_FULL_PAYMENT|TENURE|\n",
      "+-------+-----------+-----------------+---------+----------------+----------------------+------------+-------------------+--------------------------+--------------------------------+----------------------+----------------+-------------+------------+-----------+----------------+----------------+------+\n",
      "|C10001 |40.900749  |0.818182         |95.4     |0.0             |95.4                  |0.0         |0.166667           |0.0                       |0.083333                        |0.0                   |0               |2            |1000.0      |201.802084 |139.509787      |0.0             |12    |\n",
      "|C10002 |3202.467416|0.909091         |0.0      |0.0             |0.0                   |6442.945483 |0.0                |0.0                       |0.0                             |0.25                  |4               |0            |7000.0      |4103.032597|1072.340217     |0.222222        |12    |\n",
      "|C10003 |2495.148862|1.0              |773.17   |773.17          |0.0                   |0.0         |1.0                |1.0                       |0.0                             |0.0                   |0               |12           |7500.0      |622.066742 |627.284787      |0.0             |12    |\n",
      "|C10004 |1666.670542|0.636364         |1499.0   |1499.0          |0.0                   |205.788017  |0.083333           |0.083333                  |0.0                             |0.083333              |1               |1            |7500.0      |0.0        |null            |0.0             |12    |\n",
      "|C10005 |817.714335 |1.0              |16.0     |16.0            |0.0                   |0.0         |0.083333           |0.083333                  |0.0                             |0.0                   |0               |1            |1200.0      |678.334763 |244.791237      |0.0             |12    |\n",
      "+-------+-----------+-----------------+---------+----------------+----------------------+------------+-------------------+--------------------------+--------------------------------+----------------------+----------------+-------------+------------+-----------+----------------+----------------+------+\n",
      "only showing top 5 rows\n",
      "\n"
     ]
    }
   ],
   "source": [
    "customerDF.show(5,truncate=False)"
   ]
  },
  {
   "cell_type": "code",
   "execution_count": 78,
   "metadata": {},
   "outputs": [
    {
     "data": {
      "text/plain": [
       "1"
      ]
     },
     "execution_count": 78,
     "metadata": {},
     "output_type": "execute_result"
    }
   ],
   "source": [
    "customerDF.rdd.getNumPartitions()"
   ]
  },
  {
   "cell_type": "code",
   "execution_count": 79,
   "metadata": {},
   "outputs": [],
   "source": [
    "customerDF = customerDF.repartition(20)"
   ]
  },
  {
   "cell_type": "code",
   "execution_count": 80,
   "metadata": {},
   "outputs": [
    {
     "data": {
      "text/plain": [
       "20"
      ]
     },
     "execution_count": 80,
     "metadata": {},
     "output_type": "execute_result"
    }
   ],
   "source": [
    "customerDF.rdd.getNumPartitions()"
   ]
  },
  {
   "cell_type": "code",
   "execution_count": 81,
   "metadata": {},
   "outputs": [
    {
     "name": "stdout",
     "output_type": "stream",
     "text": [
      "296 ms ± 75.5 ms per loop (mean ± std. dev. of 7 runs, 1 loop each)\n"
     ]
    }
   ],
   "source": [
    "%%timeit\n",
    "customerDF.rdd.glom().map(len).collect()"
   ]
  },
  {
   "cell_type": "markdown",
   "metadata": {},
   "source": [
    "#### Null Values"
   ]
  },
  {
   "cell_type": "code",
   "execution_count": 82,
   "metadata": {},
   "outputs": [
    {
     "name": "stdout",
     "output_type": "stream",
     "text": [
      "+-------+-------+-----------------+---------+----------------+----------------------+------------+-------------------+--------------------------+--------------------------------+----------------------+----------------+-------------+------------+--------+----------------+----------------+------+\n",
      "|CUST_ID|BALANCE|BALANCE_FREQUENCY|PURCHASES|ONEOFF_PURCHASES|INSTALLMENTS_PURCHASES|CASH_ADVANCE|PURCHASES_FREQUENCY|ONEOFF_PURCHASES_FREQUENCY|PURCHASES_INSTALLMENTS_FREQUENCY|CASH_ADVANCE_FREQUENCY|CASH_ADVANCE_TRX|PURCHASES_TRX|CREDIT_LIMIT|PAYMENTS|MINIMUM_PAYMENTS|PRC_FULL_PAYMENT|TENURE|\n",
      "+-------+-------+-----------------+---------+----------------+----------------------+------------+-------------------+--------------------------+--------------------------------+----------------------+----------------+-------------+------------+--------+----------------+----------------+------+\n",
      "|      0|      0|                0|        0|               0|                     0|           0|                  0|                         0|                               0|                     0|               0|            0|           1|       0|             313|               0|     0|\n",
      "+-------+-------+-----------------+---------+----------------+----------------------+------------+-------------------+--------------------------+--------------------------------+----------------------+----------------+-------------+------------+--------+----------------+----------------+------+\n",
      "\n"
     ]
    }
   ],
   "source": [
    "from pyspark.sql.functions import col,isnan,when,count\n",
    "customerDF.select([count(when(col(c).contains('None') | col(c).contains('NULL') | (col(c) == '' ) | col(c).isNull() |  isnan(c), c )).alias(c) for c in customerDF.columns]).show()"
   ]
  },
  {
   "cell_type": "code",
   "execution_count": 83,
   "metadata": {},
   "outputs": [
    {
     "name": "stdout",
     "output_type": "stream",
     "text": [
      "+------------+----------------+\n",
      "|CREDIT_LIMIT|MINIMUM_PAYMENTS|\n",
      "+------------+----------------+\n",
      "|           1|             313|\n",
      "+------------+----------------+\n",
      "\n",
      "+-----------------+\n",
      "|avg(CREDIT_LIMIT)|\n",
      "+-----------------+\n",
      "|4494.449450364621|\n",
      "+-----------------+\n",
      "\n"
     ]
    }
   ],
   "source": [
    "from pyspark.sql.functions import col,isnan,when,count\n",
    "customerDF.select([count(when(col(c).contains('None') | col(c).contains('NULL') | (col(c) == '' ) | col(c).isNull() |  isnan(c), c )).alias(c) for c in ['CREDIT_LIMIT','MINIMUM_PAYMENTS']]).show()\n",
    "\n",
    "\n",
    "a=customerDF.select(mean(customerDF['CREDIT_LIMIT']))\n",
    "\n",
    "a.show()"
   ]
  },
  {
   "cell_type": "code",
   "execution_count": 84,
   "metadata": {},
   "outputs": [
    {
     "name": "stdout",
     "output_type": "stream",
     "text": [
      "+---------------------+-------------------+\n",
      "|CREDIT_LIMIT_        |MINIMUM_PAYMENTS_  |\n",
      "+---------------------+-------------------+\n",
      "|1.1173184357538002E-4|0.03497206703910616|\n",
      "+---------------------+-------------------+\n",
      "\n"
     ]
    }
   ],
   "source": [
    "customerDF.select([(1 - (count(c) / count('*'))).alias(c + '_') for c in ('CREDIT_LIMIT','MINIMUM_PAYMENTS')]).show(truncate=False)"
   ]
  },
  {
   "cell_type": "code",
   "execution_count": 85,
   "metadata": {},
   "outputs": [],
   "source": [
    "from pyspark.sql.functions import mean\n",
    "means = customerDF.select([mean(c).alias(c) for c in ('CREDIT_LIMIT','MINIMUM_PAYMENTS')]).drop('income').toPandas().to_dict('records')[0]\n"
   ]
  },
  {
   "cell_type": "code",
   "execution_count": 86,
   "metadata": {},
   "outputs": [
    {
     "data": {
      "text/plain": [
       "{'CREDIT_LIMIT': 4494.449450364622, 'MINIMUM_PAYMENTS': 864.2065423050828}"
      ]
     },
     "execution_count": 86,
     "metadata": {},
     "output_type": "execute_result"
    }
   ],
   "source": [
    "means"
   ]
  },
  {
   "cell_type": "code",
   "execution_count": 87,
   "metadata": {},
   "outputs": [],
   "source": [
    "customerDF = customerDF.fillna(means)"
   ]
  },
  {
   "cell_type": "code",
   "execution_count": 88,
   "metadata": {},
   "outputs": [
    {
     "name": "stdout",
     "output_type": "stream",
     "text": [
      "+-------+-------+-----------------+---------+----------------+----------------------+------------+-------------------+--------------------------+--------------------------------+----------------------+----------------+-------------+------------+--------+----------------+----------------+------+\n",
      "|CUST_ID|BALANCE|BALANCE_FREQUENCY|PURCHASES|ONEOFF_PURCHASES|INSTALLMENTS_PURCHASES|CASH_ADVANCE|PURCHASES_FREQUENCY|ONEOFF_PURCHASES_FREQUENCY|PURCHASES_INSTALLMENTS_FREQUENCY|CASH_ADVANCE_FREQUENCY|CASH_ADVANCE_TRX|PURCHASES_TRX|CREDIT_LIMIT|PAYMENTS|MINIMUM_PAYMENTS|PRC_FULL_PAYMENT|TENURE|\n",
      "+-------+-------+-----------------+---------+----------------+----------------------+------------+-------------------+--------------------------+--------------------------------+----------------------+----------------+-------------+------------+--------+----------------+----------------+------+\n",
      "|      0|      0|                0|        0|               0|                     0|           0|                  0|                         0|                               0|                     0|               0|            0|           0|       0|               0|               0|     0|\n",
      "+-------+-------+-----------------+---------+----------------+----------------------+------------+-------------------+--------------------------+--------------------------------+----------------------+----------------+-------------+------------+--------+----------------+----------------+------+\n",
      "\n"
     ]
    }
   ],
   "source": [
    "customerDF.select([count(when(col(c).contains('None') | col(c).contains('NULL') | (col(c) == '' ) | col(c).isNull() |  isnan(c), c )).alias(c) for c in customerDF.columns]).show()"
   ]
  },
  {
   "cell_type": "code",
   "execution_count": null,
   "metadata": {},
   "outputs": [],
   "source": []
  },
  {
   "cell_type": "code",
   "execution_count": 99,
   "metadata": {},
   "outputs": [],
   "source": [
    "cols = [c for c in customerDF.columns if c !='CUST_ID']\n",
    "bounds = {}\n",
    "for col in cols:\n",
    "    quantiles = customerDF.approxQuantile(col, [0.25, 0.75], 0.05)\n",
    "    IQR = quantiles[1] - quantiles[0]\n",
    "    bounds[col] = [quantiles[0] - 1.5 * IQR , quantiles[1] + 1.5 * IQR]"
   ]
  },
  {
   "cell_type": "code",
   "execution_count": 100,
   "metadata": {},
   "outputs": [
    {
     "data": {
      "text/plain": [
       "{'BALANCE': [-2381.2763274999998, 4272.0555644999995],\n",
       " 'BALANCE_FREQUENCY': [0.5833325, 1.2500005],\n",
       " 'PURCHASES': [-1366.18, 2336.0600000000004],\n",
       " 'ONEOFF_PURCHASES': [-672.0, 1120.0],\n",
       " 'INSTALLMENTS_PURCHASES': [-593.58, 989.3000000000001],\n",
       " 'CASH_ADVANCE': [-1351.7784434999999, 2252.9640725],\n",
       " 'PURCHASES_FREQUENCY': [-1.166668, 2.166668],\n",
       " 'ONEOFF_PURCHASES_FREQUENCY': [-0.375, 0.625],\n",
       " 'PURCHASES_INSTALLMENTS_FREQUENCY': [-1.0000005, 1.6666675],\n",
       " 'CASH_ADVANCE_FREQUENCY': [-0.2500005, 0.4166675],\n",
       " 'CASH_ADVANCE_TRX': [-4.5, 7.5],\n",
       " 'PURCHASES_TRX': [-18.5, 33.5],\n",
       " 'CREDIT_LIMIT': [-5250.0, 12750.0],\n",
       " 'PAYMENTS': [-1578.9243295, 3616.4625705],\n",
       " 'MINIMUM_PAYMENTS': [-762.4654229999999, 1718.0445289999998],\n",
       " 'PRC_FULL_PAYMENT': [-0.1363635, 0.2272725],\n",
       " 'TENURE': [12.0, 12.0]}"
      ]
     },
     "execution_count": 100,
     "metadata": {},
     "output_type": "execute_result"
    }
   ],
   "source": [
    "bounds"
   ]
  },
  {
   "cell_type": "code",
   "execution_count": 119,
   "metadata": {
    "scrolled": true
   },
   "outputs": [
    {
     "name": "stdout",
     "output_type": "stream",
     "text": [
      "+-------+---------+-------------------+-----------+------------------+------------------------+--------------+---------------------+----------------------------+----------------------------------+------------------------+------------------+---------------+--------------+----------+------------------+------------------+--------+\n",
      "|CUST_ID|BALANCE_o|BALANCE_FREQUENCY_o|PURCHASES_o|ONEOFF_PURCHASES_o|INSTALLMENTS_PURCHASES_o|CASH_ADVANCE_o|PURCHASES_FREQUENCY_o|ONEOFF_PURCHASES_FREQUENCY_o|PURCHASES_INSTALLMENTS_FREQUENCY_o|CASH_ADVANCE_FREQUENCY_o|CASH_ADVANCE_TRX_o|PURCHASES_TRX_o|CREDIT_LIMIT_o|PAYMENTS_o|MINIMUM_PAYMENTS_o|PRC_FULL_PAYMENT_o|TENURE_o|\n",
      "+-------+---------+-------------------+-----------+------------------+------------------------+--------------+---------------------+----------------------------+----------------------------------+------------------------+------------------+---------------+--------------+----------+------------------+------------------+--------+\n",
      "| C12499|    false|              false|      false|             false|                   false|         false|                false|                       false|                             false|                   false|             false|          false|         false|     false|             false|             false|   false|\n",
      "| C16403|    false|              false|      false|             false|                   false|         false|                false|                        true|                             false|                   false|             false|          false|         false|     false|             false|              true|   false|\n",
      "| C17174|    false|              false|      false|             false|                   false|         false|                false|                       false|                             false|                   false|             false|          false|         false|     false|             false|             false|   false|\n",
      "| C16928|    false|              false|      false|             false|                   false|         false|                false|                       false|                             false|                   false|             false|          false|         false|     false|             false|             false|    true|\n",
      "| C12600|    false|              false|      false|             false|                   false|         false|                false|                       false|                             false|                   false|             false|          false|         false|     false|              true|             false|   false|\n",
      "| C11609|    false|              false|      false|             false|                   false|         false|                false|                       false|                             false|                   false|             false|          false|         false|     false|             false|             false|   false|\n",
      "| C11654|    false|              false|      false|             false|                   false|         false|                false|                       false|                             false|                   false|             false|          false|         false|     false|             false|             false|   false|\n",
      "| C19003|    false|              false|      false|             false|                    true|         false|                false|                       false|                             false|                   false|             false|          false|         false|     false|             false|             false|    true|\n",
      "| C12153|    false|               true|      false|             false|                    true|          true|                false|                       false|                             false|                   false|             false|          false|         false|      true|              true|             false|   false|\n",
      "| C17359|    false|              false|      false|             false|                   false|          true|                false|                       false|                             false|                   false|             false|          false|         false|     false|             false|             false|   false|\n",
      "| C13358|     true|              false|      false|             false|                   false|          true|                false|                       false|                             false|                    true|              true|          false|         false|     false|              true|             false|   false|\n",
      "| C17130|    false|               true|      false|             false|                   false|          true|                false|                       false|                             false|                   false|              true|          false|         false|     false|             false|             false|   false|\n",
      "| C13331|    false|              false|      false|             false|                   false|         false|                false|                       false|                             false|                   false|             false|          false|         false|     false|             false|             false|   false|\n",
      "| C15735|    false|              false|      false|             false|                   false|         false|                false|                       false|                             false|                   false|             false|          false|         false|     false|             false|             false|   false|\n",
      "| C12936|    false|              false|      false|             false|                   false|         false|                false|                       false|                             false|                   false|             false|          false|         false|     false|             false|             false|   false|\n",
      "| C17121|    false|              false|      false|             false|                   false|         false|                false|                       false|                             false|                   false|             false|          false|         false|     false|             false|             false|   false|\n",
      "| C19145|    false|              false|      false|             false|                   false|         false|                false|                       false|                             false|                   false|             false|          false|         false|     false|             false|              true|    true|\n",
      "| C15182|    false|              false|      false|             false|                   false|         false|                false|                       false|                             false|                   false|             false|          false|         false|     false|             false|             false|   false|\n",
      "| C17471|    false|               true|      false|             false|                   false|         false|                false|                       false|                             false|                   false|             false|          false|         false|     false|             false|              true|   false|\n",
      "| C14682|    false|              false|      false|             false|                   false|         false|                false|                       false|                             false|                   false|              true|          false|         false|     false|             false|             false|   false|\n",
      "+-------+---------+-------------------+-----------+------------------+------------------------+--------------+---------------------+----------------------------+----------------------------------+------------------------+------------------+---------------+--------------+----------+------------------+------------------+--------+\n",
      "only showing top 20 rows\n",
      "\n"
     ]
    }
   ],
   "source": [
    "outliers = customerDF.select(['CUST_ID']+[((customerDF[c] < bounds[c][0]) | (customerDF[c] > bounds[c][1]) ).alias(c + '_o') for c in customerDF.columns if c !='CUST_ID'])\n",
    "outliers.show()"
   ]
  },
  {
   "cell_type": "code",
   "execution_count": 124,
   "metadata": {},
   "outputs": [
    {
     "name": "stdout",
     "output_type": "stream",
     "text": [
      "root\n",
      " |-- CUST_ID: string (nullable = true)\n",
      " |-- BALANCE_o: boolean (nullable = true)\n",
      " |-- BALANCE_FREQUENCY_o: boolean (nullable = true)\n",
      " |-- PURCHASES_o: boolean (nullable = true)\n",
      " |-- ONEOFF_PURCHASES_o: boolean (nullable = true)\n",
      " |-- INSTALLMENTS_PURCHASES_o: boolean (nullable = true)\n",
      " |-- CASH_ADVANCE_o: boolean (nullable = true)\n",
      " |-- PURCHASES_FREQUENCY_o: boolean (nullable = true)\n",
      " |-- ONEOFF_PURCHASES_FREQUENCY_o: boolean (nullable = true)\n",
      " |-- PURCHASES_INSTALLMENTS_FREQUENCY_o: boolean (nullable = true)\n",
      " |-- CASH_ADVANCE_FREQUENCY_o: boolean (nullable = true)\n",
      " |-- CASH_ADVANCE_TRX_o: boolean (nullable = true)\n",
      " |-- PURCHASES_TRX_o: boolean (nullable = true)\n",
      " |-- CREDIT_LIMIT_o: boolean (nullable = false)\n",
      " |-- PAYMENTS_o: boolean (nullable = true)\n",
      " |-- MINIMUM_PAYMENTS_o: boolean (nullable = false)\n",
      " |-- PRC_FULL_PAYMENT_o: boolean (nullable = true)\n",
      " |-- TENURE_o: boolean (nullable = true)\n",
      "\n"
     ]
    }
   ],
   "source": [
    "outliers.printSchema()"
   ]
  },
  {
   "cell_type": "code",
   "execution_count": 128,
   "metadata": {},
   "outputs": [
    {
     "data": {
      "text/plain": [
       "6452"
      ]
     },
     "execution_count": 128,
     "metadata": {},
     "output_type": "execute_result"
    }
   ],
   "source": [
    "outliers.select('CUST_ID').where(\" or \".join([ c  for c in outliers.columns if c!='CUST_ID'])).count()"
   ]
  },
  {
   "cell_type": "code",
   "execution_count": null,
   "metadata": {},
   "outputs": [],
   "source": []
  },
  {
   "cell_type": "code",
   "execution_count": 102,
   "metadata": {},
   "outputs": [],
   "source": [
    "from pyspark.ml.feature import VectorAssembler\n",
    "\n",
    "assembler=VectorAssembler(inputCols=[c for c in customerDF.columns if c!='CUST_ID'], outputCol='features')"
   ]
  },
  {
   "cell_type": "code",
   "execution_count": 104,
   "metadata": {},
   "outputs": [],
   "source": [
    "assembleDF = assembler.transform(customerDF)"
   ]
  },
  {
   "cell_type": "code",
   "execution_count": 105,
   "metadata": {},
   "outputs": [
    {
     "data": {
      "text/plain": [
       "20"
      ]
     },
     "execution_count": 105,
     "metadata": {},
     "output_type": "execute_result"
    }
   ],
   "source": [
    "assembleDF.rdd.getNumPartitions()"
   ]
  },
  {
   "cell_type": "code",
   "execution_count": 106,
   "metadata": {},
   "outputs": [
    {
     "name": "stderr",
     "output_type": "stream",
     "text": [
      "22/01/10 16:50:44 WARN package: Truncated the string representation of a plan since it was too large. This behavior can be adjusted by setting 'spark.sql.debug.maxToStringFields'.\n"
     ]
    },
    {
     "name": "stdout",
     "output_type": "stream",
     "text": [
      "+--------------------------------------------------------------------------------------------------------------------------------------+\n",
      "|features                                                                                                                              |\n",
      "+--------------------------------------------------------------------------------------------------------------------------------------+\n",
      "|[37.759404,1.0,398.64,0.0,398.64,0.0,1.0,0.0,1.0,0.0,0.0,12.0,2500.0,429.594704,186.268047,1.0,12.0]                                  |\n",
      "|[97.064177,0.545455,863.97,114.0,749.97,0.0,0.416667,0.083333,0.416667,0.0,0.0,9.0,7000.0,1384.018459,103.701385,0.363636,12.0]       |\n",
      "|[1681.16287,0.454545,1138.85,0.0,1138.85,4044.377495,0.416667,0.0,0.333333,0.25,6.0,5.0,4500.0,3763.240294,1818.174017,0.0,12.0]      |\n",
      "|(17,[0,1,5,9,10,12,13,14,16],[51.071594,0.888889,360.199098,0.555556,14.0,500.0,0.049513,67.786744,9.0])                              |\n",
      "|(17,[0,1,5,9,10,12,13,14,16],[4094.433899,1.0,1618.325972,0.5,8.0,7500.0,1070.599052,1441.148962,12.0])                               |\n",
      "|[1344.982445,1.0,224.54,0.0,224.54,0.0,0.5,0.0,0.5,0.0,0.0,18.0,1500.0,619.063466,678.63587,0.0,12.0]                                 |\n",
      "|(17,[0,1,5,9,10,12,13,14,15,16],[805.368458,1.0,1257.626787,0.333333,7.0,1000.0,1515.789235,201.815134,0.083333,12.0])                |\n",
      "|[83.148283,0.636364,843.34,843.34,0.0,0.0,0.5,0.5,0.0,0.0,0.0,17.0,6500.0,1024.267592,122.850835,0.5,12.0]                            |\n",
      "|[8281.348085,1.0,4231.12,3101.11,1130.01,0.0,1.0,1.0,0.583333,0.0,0.0,43.0,10500.0,2856.165405,2046.341231,0.0,12.0]                  |\n",
      "|[220.943665,1.0,1833.34,0.0,1833.34,0.0,0.916667,0.0,0.916667,0.0,0.0,11.0,1000.0,1652.755379,176.825347,0.818182,12.0]               |\n",
      "|(17,[0,1,5,9,10,12,13,14,15,16],[919.85102,1.0,1483.168185,0.25,3.0,2000.0,2087.8452,338.75698,0.083333,12.0])                        |\n",
      "|[1274.851959,1.0,1798.24,144.86,1653.38,756.233501,1.0,0.166667,0.916667,0.166667,3.0,17.0,1500.0,1340.224464,1732.955307,0.0,12.0]   |\n",
      "|[1729.618796,1.0,3533.46,2533.5,999.96,0.0,1.0,0.5,0.833333,0.0,0.0,46.0,5000.0,4868.256038,735.288195,0.083333,12.0]                 |\n",
      "|(17,[0,1,5,9,10,12,13,14,16],[2663.506152,1.0,181.289985,0.083333,1.0,3200.0,705.964088,957.582069,12.0])                             |\n",
      "|[720.995394,0.909091,547.46,457.46,90.0,455.540479,0.909091,0.636364,0.454545,0.363636,13.0,23.0,900.0,315.918387,544.286252,0.0,11.0]|\n",
      "|(17,[2,4,6,8,11,12,13,14,16],[140.4,140.4,1.0,1.0,12.0,2200.0,124.99276,864.2065423050828,12.0])                                      |\n",
      "|[2944.156996,1.0,12.22,12.22,0.0,244.694657,0.083333,0.083333,0.0,0.166667,2.0,1.0,3000.0,628.31462,1288.695715,0.0,12.0]             |\n",
      "|(17,[0,1,5,9,10,12,13,14,16],[2458.376257,0.818182,102.275984,0.083333,1.0,7500.0,4543.63481,647.20869,12.0])                         |\n",
      "|[216.705656,1.0,1442.9,424.6,1018.3,0.0,1.0,0.666667,0.833333,0.0,0.0,29.0,4000.0,1111.898226,87.775306,1.0,6.0]                      |\n",
      "|[9303.557117,1.0,6133.01,4045.67,2087.34,1895.60877,1.0,1.0,1.0,0.833333,23.0,115.0,12500.0,4054.579469,2998.465025,0.0,12.0]         |\n",
      "+--------------------------------------------------------------------------------------------------------------------------------------+\n",
      "only showing top 20 rows\n",
      "\n"
     ]
    }
   ],
   "source": [
    "assembleDF.select('features').show(truncate=False)"
   ]
  },
  {
   "cell_type": "code",
   "execution_count": 107,
   "metadata": {},
   "outputs": [],
   "source": [
    "from pyspark.ml.feature import StandardScaler"
   ]
  },
  {
   "cell_type": "code",
   "execution_count": 110,
   "metadata": {},
   "outputs": [],
   "source": [
    "scaler = StandardScaler(inputCol='features',outputCol='scaledFeatures')"
   ]
  },
  {
   "cell_type": "code",
   "execution_count": 111,
   "metadata": {},
   "outputs": [],
   "source": [
    "scaledDF = scaler.fit(assembleDF).transform(assembleDF)"
   ]
  },
  {
   "cell_type": "code",
   "execution_count": 112,
   "metadata": {},
   "outputs": [],
   "source": [
    "scaledDF = scaledDF.select('scaledFeatures')"
   ]
  },
  {
   "cell_type": "code",
   "execution_count": 113,
   "metadata": {},
   "outputs": [
    {
     "name": "stdout",
     "output_type": "stream",
     "text": [
      "+--------------------+\n",
      "|      scaledFeatures|\n",
      "+--------------------+\n",
      "|[0.01814019971188...|\n",
      "|[0.04663112679558...|\n",
      "|[0.80765655649670...|\n",
      "|(17,[0,1,5,9,10,1...|\n",
      "|(17,[0,1,5,9,10,1...|\n",
      "|[0.6461502983808,...|\n",
      "|(17,[0,1,5,9,10,1...|\n",
      "|[0.03994571681588...|\n",
      "|[3.97848727023200...|\n",
      "|[0.10614474233163...|\n",
      "|(17,[0,1,5,9,10,1...|\n",
      "|[0.61245853190239...|\n",
      "|[0.83093553025551...|\n",
      "|(17,[0,1,5,9,10,1...|\n",
      "|[0.34637730083107...|\n",
      "|(17,[2,4,6,8,11,1...|\n",
      "|[1.41441840264712...|\n",
      "|(17,[0,1,5,9,10,1...|\n",
      "|[0.10410873748259...|\n",
      "|[4.46957224571980...|\n",
      "+--------------------+\n",
      "only showing top 20 rows\n",
      "\n"
     ]
    }
   ],
   "source": [
    "scaledDF.show()"
   ]
  },
  {
   "cell_type": "markdown",
   "metadata": {},
   "source": [
    "### K-means Clustering\n",
    "\n",
    "distanceMeasure = Param(parent='undefined', name='distanceMeasure', doc=\"the distance measure. Supported options: 'euclidean' and 'cosine'.\")\n",
    "\n",
    "featuresCol = Param(parent='undefined', name='featuresCol', doc='features column name.')\n",
    "\n",
    "initMode = Param(parent='undefined', name='initMode', doc='The initialization algorithm. This can be either \"random\" to choose random points as initial cluster centers, or \"k-means||\" to use a parallel variant of k-means++')\n",
    "\n",
    "initSteps = Param(parent='undefined', name='initSteps', doc='The number of steps for k-means|| initialization mode. Must be > 0.')\n",
    "\n",
    "k = Param(parent='undefined', name='k', doc='The number of clusters to create. Must be > 1.')\n",
    "\n",
    "maxIter = Param(parent='undefined', name='maxIter', doc='max number of iterations (>= 0).')¶\n",
    "\n",
    "params\n",
    "\n",
    "Returns all params ordered by name. The default implementation uses dir() to get all attributes of type Param.\n",
    "\n",
    "predictionCol = Param(parent='undefined', name='predictionCol', doc='prediction column name.')\n",
    "\n",
    "seed = Param(parent='undefined', name='seed', doc='random seed.')\n",
    "\n",
    "tol = Param(parent='undefined', name='tol', doc='the convergence tolerance for iterative algorithms (>= 0).')\n",
    "\n",
    "weightCol = Param(parent='undefined', name='weightCol', doc='weight column name. If this is not set or empty, we treat all instance weights as 1.0.')"
   ]
  },
  {
   "cell_type": "code",
   "execution_count": 114,
   "metadata": {},
   "outputs": [],
   "source": [
    "from pyspark.ml.clustering import KMeans\n",
    "from pyspark.ml.evaluation import ClusteringEvaluator"
   ]
  },
  {
   "cell_type": "code",
   "execution_count": 115,
   "metadata": {},
   "outputs": [],
   "source": [
    "eval_result =[]\n",
    "evaluator = ClusteringEvaluator(featuresCol='scaledFeatures', predictionCol='prediction', metricName='silhouette', distanceMeasure='squaredEuclidean')"
   ]
  },
  {
   "cell_type": "code",
   "execution_count": 116,
   "metadata": {},
   "outputs": [],
   "source": [
    "for i in range(3,20):\n",
    "    kmeans = KMeans(featuresCol='scaledFeatures',\n",
    "    predictionCol='prediction',\n",
    "    k=i,\n",
    "    initMode='k-means||',\n",
    "    initSteps=5,\n",
    "    tol=0.0001,\n",
    "    maxIter=20,\n",
    "    seed=None,\n",
    "    distanceMeasure='euclidean')\n",
    "    \n",
    "    kmeansModel = kmeans.fit(scaledDF)\n",
    "    kmeansresult = kmeansModel.transform(scaledDF)\n",
    "    \n",
    "    result = evaluator.evaluate(kmeansresult)\n",
    "    eval_result.append(result)"
   ]
  },
  {
   "cell_type": "code",
   "execution_count": 129,
   "metadata": {},
   "outputs": [
    {
     "name": "stdout",
     "output_type": "stream",
     "text": [
      "[0.27927360343604385, 0.2931670073022059, 0.24970885636951734, 0.2810229879698894, 0.2229968151377946, 0.27400735942280785, 0.29081580353485903, 0.30187011360518645, 0.3348684498050339, 0.3319772866146267, 0.2650022214775889, 0.2986168430621672, 0.32161068285143674, 0.23667356175942064, 0.2827311445225526, 0.2719307509450092, 0.30848201894984084]\n"
     ]
    }
   ],
   "source": [
    "print(eval_result)"
   ]
  },
  {
   "cell_type": "markdown",
   "metadata": {},
   "source": [
    "### Visualizing the silhouette scores in a plot"
   ]
  },
  {
   "cell_type": "code",
   "execution_count": 130,
   "metadata": {},
   "outputs": [
    {
     "data": {
      "text/plain": [
       "Text(0, 0.5, 'cost')"
      ]
     },
     "execution_count": 130,
     "metadata": {},
     "output_type": "execute_result"
    },
    {
     "data": {
      "image/png": "[encoded data removed]",
      "text/plain": [
       "<Figure size 576x432 with 1 Axes>"
      ]
     },
     "metadata": {
      "needs_background": "light"
     },
     "output_type": "display_data"
    }
   ],
   "source": [
    "import matplotlib.pyplot as plt\n",
    "fig, ax = plt.subplots(1,1, figsize =(8,6))\n",
    "ax.plot(range(3,20),eval_result)\n",
    "ax.set_xlabel('k')\n",
    "ax.set_ylabel('cost')"
   ]
  },
  {
   "cell_type": "code",
   "execution_count": 131,
   "metadata": {},
   "outputs": [
    {
     "name": "stdout",
     "output_type": "stream",
     "text": [
      "Cluster Centers: \n",
      "[1.26519423 4.15844268 1.62389343 1.12320486 1.77508057 0.2642722\n",
      " 2.41395433 2.08269249 2.24593815 0.40389901 0.25271131 2.42028213\n",
      " 2.11372153 1.12832652 0.45339631 0.47980798 8.92781892]\n",
      "[2.96436582 3.96529368 1.0408555  0.85368415 0.89226368 7.84341786\n",
      " 1.41245768 1.08445813 1.14108925 2.92120658 4.13940839 0.98784706\n",
      " 3.35445334 7.28353164 1.2096716  0.61275648 8.82110449]\n",
      "[ 1.71377609  4.10871104  0.11652053  0.0468438   0.18931676  3.70017947\n",
      "  0.56280951  0.21699781  0.40721233  4.62988039 12.72127116  0.14628751\n",
      "  1.86634583  2.01947013  0.43074601  0.27985531  8.55882994]\n",
      "[0.58875801 4.09746344 0.12458303 0.12608193 0.06321665 0.17548266\n",
      " 0.4118153  0.29808617 0.19234222 0.39490586 0.19117047 0.11940602\n",
      " 0.84017177 0.27864991 0.25614865 0.06806034 8.88945235]\n",
      "[0.47127966 4.05811269 0.39198571 0.13200363 0.6844714  0.1298425\n",
      " 2.19502038 0.34863878 2.0900475  0.26522852 0.14851632 0.75205365\n",
      " 0.88066203 0.36832397 0.29215475 0.19602264 8.87833048]\n",
      "[0.97972047 4.06494355 0.06274696 0.06368143 0.03140665 0.9742151\n",
      " 0.21338294 0.1675506  0.08758806 1.9212346  1.26716919 0.06408689\n",
      " 1.02856889 0.53041797 0.31959228 0.11236213 8.7745674 ]\n",
      "[0.40694046 3.3432079  0.17634836 0.13944398 0.16129948 0.50134915\n",
      " 1.02636756 0.39565955 0.69530983 0.92866306 0.44300305 0.20186757\n",
      " 0.65343159 0.18928238 0.1612943  0.45423414 5.30685993]\n",
      "[ 3.20633128  4.22111906  0.8024294   0.          1.89586012  0.4809096\n",
      "  1.42369262  0.          1.43774503  0.29743876  0.33492053  1.37353524\n",
      "  1.77461684  0.74943208 22.57817877  0.          8.96639327]\n",
      "[1.20280919 4.17270176 3.70185268 4.11659031 1.19029448 0.17171933\n",
      " 2.29832487 2.90342133 1.52558712 0.27452457 0.1736625  3.26868609\n",
      " 2.493421   2.38547821 0.44049445 1.60070733 8.91104516]\n",
      "[0.02859107 2.14996806 0.24155089 0.15465466 0.28690786 0.05787995\n",
      " 0.94180894 0.33222475 0.65431157 0.07229554 0.04768654 0.25863243\n",
      " 1.21264961 0.49754216 0.06412755 2.71864726 8.78733068]\n",
      "[ 2.45463997  4.00814439 13.61754276 14.47175785  5.61097604  0.53196942\n",
      "  2.21947739  2.81561684  1.67317566  0.22902749  0.30038185  4.95420944\n",
      "  4.41789292  9.99935943  1.23149999  1.79811417  8.89167332]\n",
      "[1.82409202 4.13902461 0.4279263  0.34376708 0.38006514 1.80251317\n",
      " 1.38026572 0.97821723 0.96932165 3.46510313 3.42772263 0.68405065\n",
      " 1.72394362 0.93542504 0.64460631 0.12480749 8.49248856]\n",
      "[1.4919783  4.16297698 0.27531236 0.08642405 0.49183786 0.400152\n",
      " 1.06241745 0.1369701  0.98626313 0.53801111 0.44402343 0.49311082\n",
      " 0.91755757 0.36200503 6.96910291 0.01295    8.89846605]\n",
      "[5.21338481e-02 4.01039764e+00 5.04545101e-01 1.05296984e-01\n",
      " 9.98969005e-01 6.56133509e-03 2.29365750e+00 3.09461227e-01\n",
      " 2.19550456e+00 2.06230880e-02 1.01682945e-02 7.80458192e-01\n",
      " 1.11855204e+00 3.90983378e-01 8.84150602e-02 2.63378813e+00\n",
      " 8.69782692e+00]\n",
      "[0.05708048 1.3838011  0.14276416 0.12084974 0.11583347 0.16833154\n",
      " 0.59507508 0.21674999 0.42948124 0.17895563 0.1089307  0.15294418\n",
      " 1.0022202  0.34716391 0.13237219 0.20517933 8.78151918]\n",
      "[0.4832329  4.09310071 0.75747942 0.84907981 0.23119622 0.10749047\n",
      " 2.10706438 2.66219195 0.63266975 0.20475572 0.10846113 0.90709716\n",
      " 1.50158282 0.58314259 0.18697282 0.92336387 8.87762675]\n",
      "[3.34707809e+00 4.20694692e+00 2.36917098e-01 1.85276047e-01\n",
      " 2.19893463e-01 1.28783842e+00 7.15608959e-01 3.92442867e-01\n",
      " 4.80240105e-01 1.38342547e+00 8.79166384e-01 2.63088947e-01\n",
      " 2.86986941e+00 8.59164279e-01 9.49857422e-01 8.59901353e-03\n",
      " 8.89846605e+00]\n",
      "[2.32268978 3.90990356 0.15578677 0.14641572 0.09932761 3.80774284\n",
      " 0.36206973 0.22969448 0.19839697 2.38825944 1.99319779 0.13031138\n",
      " 2.42987891 2.07207368 0.70955607 0.22834799 8.41582526]\n",
      "[2.35813242 4.14684724 4.59087463 1.87882633 7.40879832 0.43636406\n",
      " 2.35081503 1.83774268 2.3196024  0.40969763 0.42303974 5.05328974\n",
      " 3.03886669 3.21789692 1.39131282 0.80965836 8.88203204]\n"
     ]
    }
   ],
   "source": [
    "centers = kmeansModel.clusterCenters()\n",
    "print(\"Cluster Centers: \")\n",
    "for center in centers:\n",
    "    print(center)"
   ]
  },
  {
   "cell_type": "code",
   "execution_count": 133,
   "metadata": {},
   "outputs": [],
   "source": [
    "kmeans = KMeans(featuresCol='scaledFeatures',predictionCol='prediction',k=10,initMode='k-means||',initSteps=5,tol=0.0001,\n",
    "    maxIter=20,\n",
    "    seed=None,\n",
    "    distanceMeasure='euclidean')\n",
    "    \n",
    "kmeansModel = kmeans.fit(scaledDF)\n",
    "kmeanCluters = kmeansModel.transform(scaledDF)"
   ]
  },
  {
   "cell_type": "code",
   "execution_count": 134,
   "metadata": {},
   "outputs": [
    {
     "name": "stdout",
     "output_type": "stream",
     "text": [
      "+----------+-----+\n",
      "|prediction|count|\n",
      "+----------+-----+\n",
      "|         4| 2382|\n",
      "|         8|   30|\n",
      "|         1|  192|\n",
      "|         5| 1005|\n",
      "|         7| 1574|\n",
      "|         9|  703|\n",
      "|         6|  595|\n",
      "|         3| 1081|\n",
      "|         0|  398|\n",
      "|         2|  990|\n",
      "+----------+-----+\n",
      "\n"
     ]
    }
   ],
   "source": [
    "kmeanCluters.groupBy('prediction').count().show()"
   ]
  },
  {
   "cell_type": "code",
   "execution_count": 135,
   "metadata": {},
   "outputs": [
    {
     "data": {
      "text/plain": [
       "20"
      ]
     },
     "execution_count": 135,
     "metadata": {},
     "output_type": "execute_result"
    }
   ],
   "source": [
    "kmeanCluters.rdd.getNumPartitions()"
   ]
  },
  {
   "cell_type": "code",
   "execution_count": 136,
   "metadata": {},
   "outputs": [],
   "source": [
    "evaResult = evaluator.evaluate(kmeanCluters)"
   ]
  },
  {
   "cell_type": "code",
   "execution_count": 137,
   "metadata": {},
   "outputs": [
    {
     "name": "stdout",
     "output_type": "stream",
     "text": [
      "0.30187011360518645\n"
     ]
    }
   ],
   "source": [
    "print(evaResult)"
   ]
  },
  {
   "cell_type": "markdown",
   "metadata": {},
   "source": [
    "## Bisecting k-means"
   ]
  },
  {
   "cell_type": "code",
   "execution_count": null,
   "metadata": {},
   "outputs": [],
   "source": [
    "from pyspark.ml.clustering import BisectingKMeans"
   ]
  },
  {
   "cell_type": "code",
   "execution_count": null,
   "metadata": {},
   "outputs": [],
   "source": [
    "bkmeans = BisectingKMeans(k=10,seed=1, featuresCol='scaledFeatures', predictionCol='prediction',maxIter=50)"
   ]
  },
  {
   "cell_type": "code",
   "execution_count": null,
   "metadata": {},
   "outputs": [],
   "source": [
    "bkmeansModel = bkmeans.fit(scaledDF)"
   ]
  },
  {
   "cell_type": "code",
   "execution_count": null,
   "metadata": {},
   "outputs": [],
   "source": [
    "bkmansClusters = bkmeansModel.transform(scaledDF)"
   ]
  },
  {
   "cell_type": "code",
   "execution_count": null,
   "metadata": {},
   "outputs": [],
   "source": [
    "bkmansClusters.show()"
   ]
  },
  {
   "cell_type": "code",
   "execution_count": null,
   "metadata": {},
   "outputs": [],
   "source": [
    "bkmansClusters.groupBy('prediction').count().show()"
   ]
  },
  {
   "cell_type": "code",
   "execution_count": null,
   "metadata": {},
   "outputs": [],
   "source": [
    "bikmeansEvalutionResult = evaluator.evaluate(bkmansClusters)"
   ]
  },
  {
   "cell_type": "code",
   "execution_count": null,
   "metadata": {},
   "outputs": [],
   "source": [
    "print(bikmeansEvalutionResult)"
   ]
  },
  {
   "cell_type": "code",
   "execution_count": null,
   "metadata": {},
   "outputs": [],
   "source": [
    "bi_eval_result=[]\n",
    "for i in range(3,20):\n",
    "    bkmeans = BisectingKMeans(k=i,seed=None, featuresCol='scaledFeatures', predictionCol='prediction',maxIter=50)\n",
    "    \n",
    "    bkmeansModel = bkmeans.fit(scaledDF)\n",
    "    bkmansClusters = bkmeansModel.transform(scaledDF)\n",
    "    \n",
    "    result = evaluator.evaluate(bkmansClusters)\n",
    "    bi_eval_result.append(result)"
   ]
  },
  {
   "cell_type": "code",
   "execution_count": null,
   "metadata": {},
   "outputs": [],
   "source": [
    "import matplotlib.pyplot as plt\n",
    "fig, ax = plt.subplots(1,1, figsize =(8,6))\n",
    "ax.plot(range(3,20),bi_eval_result)\n",
    "ax.set_xlabel('k')\n",
    "ax.set_ylabel('silhouette')"
   ]
  },
  {
   "cell_type": "markdown",
   "metadata": {},
   "source": [
    "## Reading Multiple Files"
   ]
  },
  {
   "cell_type": "code",
   "execution_count": null,
   "metadata": {},
   "outputs": [],
   "source": [
    "from  pyspark.sql.functions import input_file_name\n",
    "\n",
    "txtFiles = spark.read.text('txtFiles/*', wholetext=True).withColumn(\"filename\", input_file_name())"
   ]
  },
  {
   "cell_type": "code",
   "execution_count": null,
   "metadata": {},
   "outputs": [],
   "source": [
    "txtFiles.show(5,truncate=False)"
   ]
  },
  {
   "cell_type": "code",
   "execution_count": null,
   "metadata": {},
   "outputs": [],
   "source": [
    "txtFiles.count()"
   ]
  },
  {
   "cell_type": "code",
   "execution_count": null,
   "metadata": {},
   "outputs": [],
   "source": []
  }
 ],
 "metadata": {
  "kernelspec": {
   "display_name": "Python 3 (ipykernel)",
   "language": "python",
   "name": "python3"
  },
  "language_info": {
   "codemirror_mode": {
    "name": "ipython",
    "version": 3
   },
   "file_extension": ".py",
   "mimetype": "text/x-python",
   "name": "python",
   "nbconvert_exporter": "python",
   "pygments_lexer": "ipython3",
   "version": "3.8.10"
  }
 },
 "nbformat": 4,
 "nbformat_minor": 4
}
