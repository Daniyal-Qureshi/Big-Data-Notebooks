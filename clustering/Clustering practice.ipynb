{
 "cells": [
  {
   "cell_type": "code",
   "execution_count": 51,
   "id": "ecae02a2",
   "metadata": {},
   "outputs": [],
   "source": [
    "from pyspark.sql import SparkSession\n",
    "spark=SparkSession.builder.getOrCreate()"
   ]
  },
  {
   "cell_type": "code",
   "execution_count": 52,
   "id": "d74b500d",
   "metadata": {},
   "outputs": [],
   "source": [
    "\n",
    "df=spark.read.csv('Live.csv',header=True,inferSchema=True)\n"
   ]
  },
  {
   "cell_type": "code",
   "execution_count": 53,
   "id": "b1abacb8",
   "metadata": {},
   "outputs": [
    {
     "name": "stdout",
     "output_type": "stream",
     "text": [
      "root\n",
      " |-- status_id: string (nullable = true)\n",
      " |-- status_type: string (nullable = true)\n",
      " |-- status_published: string (nullable = true)\n",
      " |-- num_reactions: integer (nullable = true)\n",
      " |-- num_comments: integer (nullable = true)\n",
      " |-- num_shares: integer (nullable = true)\n",
      " |-- num_likes: integer (nullable = true)\n",
      " |-- num_loves: integer (nullable = true)\n",
      " |-- num_wows: integer (nullable = true)\n",
      " |-- num_hahas: integer (nullable = true)\n",
      " |-- num_sads: integer (nullable = true)\n",
      " |-- num_angrys: integer (nullable = true)\n",
      " |-- Column1: string (nullable = true)\n",
      " |-- Column2: string (nullable = true)\n",
      " |-- Column3: string (nullable = true)\n",
      " |-- Column4: string (nullable = true)\n",
      "\n"
     ]
    }
   ],
   "source": [
    "df.printSchema()"
   ]
  },
  {
   "cell_type": "code",
   "execution_count": 54,
   "id": "8a825091",
   "metadata": {},
   "outputs": [
    {
     "name": "stdout",
     "output_type": "stream",
     "text": [
      "+---------+-----------+----------------+-------------+------------+----------+---------+---------+--------+---------+--------+----------+-------+-------+-------+-------+\n",
      "|status_id|status_type|status_published|num_reactions|num_comments|num_shares|num_likes|num_loves|num_wows|num_hahas|num_sads|num_angrys|Column1|Column2|Column3|Column4|\n",
      "+---------+-----------+----------------+-------------+------------+----------+---------+---------+--------+---------+--------+----------+-------+-------+-------+-------+\n",
      "|        0|          0|               0|            0|           0|         0|        0|        0|       0|        0|       0|         0|   7050|   7050|   7050|   7050|\n",
      "+---------+-----------+----------------+-------------+------------+----------+---------+---------+--------+---------+--------+----------+-------+-------+-------+-------+\n",
      "\n"
     ]
    }
   ],
   "source": [
    "#Checking Null values\n",
    "from pyspark.sql.functions import col,isnan,when,count\n",
    "df.select([count(when( isnan(c)|col(c).isNull(),c)).alias(c) for c in df.columns]).show()\n",
    "\n",
    "\n",
    "\n",
    "\n",
    "\n"
   ]
  },
  {
   "cell_type": "code",
   "execution_count": 55,
   "id": "9462c706",
   "metadata": {},
   "outputs": [],
   "source": [
    "df=df.drop('Column1','Column2','Column3','Column4','status_id','status_published')"
   ]
  },
  {
   "cell_type": "code",
   "execution_count": 56,
   "id": "65f095e3",
   "metadata": {},
   "outputs": [],
   "source": [
    "#String indexer \n",
    "from pyspark.ml.feature import StringIndexer\n",
    "sind=StringIndexer(inputCol='status_type',outputCol='status_type_o')\n",
    "df=sind.fit(df).transform(df)\n",
    "\n"
   ]
  },
  {
   "cell_type": "code",
   "execution_count": 57,
   "id": "b8a649e7",
   "metadata": {},
   "outputs": [],
   "source": [
    "df=df.drop('status_type')"
   ]
  },
  {
   "cell_type": "code",
   "execution_count": 58,
   "id": "7fc547d9",
   "metadata": {},
   "outputs": [],
   "source": [
    "\n",
    "\n",
    "from pyspark.ml.feature import VectorAssembler \n",
    "va=VectorAssembler(inputCols=[c for c in df.columns],outputCol='features')\n",
    "df=va.transform(df)\n"
   ]
  },
  {
   "cell_type": "code",
   "execution_count": 61,
   "id": "65b812a5",
   "metadata": {},
   "outputs": [
    {
     "name": "stdout",
     "output_type": "stream",
     "text": [
      "root\n",
      " |-- num_reactions: integer (nullable = true)\n",
      " |-- num_comments: integer (nullable = true)\n",
      " |-- num_shares: integer (nullable = true)\n",
      " |-- num_likes: integer (nullable = true)\n",
      " |-- num_loves: integer (nullable = true)\n",
      " |-- num_wows: integer (nullable = true)\n",
      " |-- num_hahas: integer (nullable = true)\n",
      " |-- num_sads: integer (nullable = true)\n",
      " |-- num_angrys: integer (nullable = true)\n",
      " |-- status_type_o: double (nullable = false)\n",
      " |-- features: vector (nullable = true)\n",
      "\n"
     ]
    }
   ],
   "source": [
    "df.printSchema()"
   ]
  },
  {
   "cell_type": "code",
   "execution_count": 64,
   "id": "c7029035",
   "metadata": {},
   "outputs": [],
   "source": [
    "#Standard Scaler\n",
    "from pyspark.ml.feature import StandardScaler \n",
    "sa=StandardScaler(inputCol='features',outputCol='scaledFeatures')\n",
    "df=sa.fit(df).transform(df)\n"
   ]
  },
  {
   "cell_type": "code",
   "execution_count": 66,
   "id": "20837c88",
   "metadata": {},
   "outputs": [],
   "source": [
    "from pyspark.ml.evaluation import ClusteringEvaluator\n",
    "from pyspark.ml.clustering import KMeans\n",
    "evaluator=ClusteringEvaluator(predictionCol='prediction',\n",
    "    featuresCol='scaledFeatures',\n",
    "    metricName='silhouette',\n",
    "    distanceMeasure='squaredEuclidean',)\n",
    "\n"
   ]
  },
  {
   "cell_type": "code",
   "execution_count": 68,
   "id": "ba8f9e92",
   "metadata": {},
   "outputs": [
    {
     "name": "stderr",
     "output_type": "stream",
     "text": [
      "\r",
      "[Stage 107:>                                                        (0 + 1) / 1]\r",
      "\r",
      "                                                                                \r"
     ]
    }
   ],
   "source": [
    "eval_result=[]\n",
    "\n",
    "for i in range(3,20):\n",
    "    kmeans=KMeans(featuresCol='scaledFeatures',\n",
    "    predictionCol='prediction',\n",
    "    k=i,\n",
    "    initMode='k-means||',\n",
    "    initSteps=5,\n",
    "    tol=0.0001,\n",
    "    maxIter=20,\n",
    "    seed=None,\n",
    "    distanceMeasure='euclidean',\n",
    "    )\n",
    "    model=kmeans.fit(df).transform(df)\n",
    "    eval_result.append(evaluator.evaluate(model))\n"
   ]
  },
  {
   "cell_type": "code",
   "execution_count": 69,
   "id": "82eb71a8",
   "metadata": {},
   "outputs": [
    {
     "data": {
      "text/plain": [
       "[0.5720547444609645,\n",
       " 0.8035580138465238,\n",
       " 0.8102174460583219,\n",
       " 0.5522878619389526,\n",
       " 0.6507334913474948,\n",
       " 0.6158217073760831,\n",
       " 0.6461831855626264,\n",
       " 0.6570894359161519,\n",
       " 0.6409509414219746,\n",
       " 0.6543791858800424,\n",
       " 0.6641694809710874,\n",
       " 0.6944074625388051,\n",
       " 0.6753302307828762,\n",
       " 0.6575068627026703,\n",
       " 0.6228814778053664,\n",
       " 0.6366314512982908,\n",
       " 0.705886441670099]"
      ]
     },
     "execution_count": 69,
     "metadata": {},
     "output_type": "execute_result"
    }
   ],
   "source": [
    "eval_result"
   ]
  },
  {
   "cell_type": "code",
   "execution_count": 71,
   "id": "7736458d",
   "metadata": {},
   "outputs": [
    {
     "data": {
      "text/plain": [
       "Text(0, 0.5, 'cost')"
      ]
     },
     "execution_count": 71,
     "metadata": {},
     "output_type": "execute_result"
    },
    {
     "data": {
      "image/png": "[encoded data removed]",
      "text/plain": [
       "<Figure size 576x432 with 1 Axes>"
      ]
     },
     "metadata": {
      "needs_background": "light"
     },
     "output_type": "display_data"
    }
   ],
   "source": [
    "#Visualizing\n",
    "\n",
    "#Visualizing\n",
    "import matplotlib.pyplot as plt\n",
    "fig, ax = plt.subplots(1,1, figsize =(8,6))\n",
    "ax.plot(range(3,20),eval_result)\n",
    "ax.set_xlabel('k')\n",
    "ax.set_ylabel('cost')"
   ]
  },
  {
   "cell_type": "code",
   "execution_count": null,
   "id": "037e4b02",
   "metadata": {},
   "outputs": [],
   "source": []
  }
 ],
 "metadata": {
  "kernelspec": {
   "display_name": "Python 3 (ipykernel)",
   "language": "python",
   "name": "python3"
  },
  "language_info": {
   "codemirror_mode": {
    "name": "ipython",
    "version": 3
   },
   "file_extension": ".py",
   "mimetype": "text/x-python",
   "name": "python",
   "nbconvert_exporter": "python",
   "pygments_lexer": "ipython3",
   "version": "3.10.2"
  }
 },
 "nbformat": 4,
 "nbformat_minor": 5
}
