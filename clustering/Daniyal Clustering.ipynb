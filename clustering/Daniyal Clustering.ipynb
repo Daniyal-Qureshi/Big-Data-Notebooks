{
 "cells": [
  {
   "cell_type": "code",
   "execution_count": 71,
   "id": "248b1919",
   "metadata": {},
   "outputs": [],
   "source": [
    "from pyspark.sql import SparkSession"
   ]
  },
  {
   "cell_type": "code",
   "execution_count": 72,
   "id": "edf02c7a",
   "metadata": {},
   "outputs": [],
   "source": [
    "spark=SparkSession.builder.getOrCreate()"
   ]
  },
  {
   "cell_type": "code",
   "execution_count": 121,
   "id": "2094acde",
   "metadata": {},
   "outputs": [],
   "source": [
    "df=spark.read.csv(\"CC GENERAL.csv\",inferSchema=True,header=True)"
   ]
  },
  {
   "cell_type": "code",
   "execution_count": null,
   "id": "d809ec08",
   "metadata": {},
   "outputs": [],
   "source": []
  },
  {
   "cell_type": "code",
   "execution_count": 122,
   "id": "42bcb932",
   "metadata": {},
   "outputs": [
    {
     "name": "stdout",
     "output_type": "stream",
     "text": [
      "root\n",
      " |-- CUST_ID: string (nullable = true)\n",
      " |-- BALANCE: double (nullable = true)\n",
      " |-- BALANCE_FREQUENCY: double (nullable = true)\n",
      " |-- PURCHASES: double (nullable = true)\n",
      " |-- ONEOFF_PURCHASES: double (nullable = true)\n",
      " |-- INSTALLMENTS_PURCHASES: double (nullable = true)\n",
      " |-- CASH_ADVANCE: double (nullable = true)\n",
      " |-- PURCHASES_FREQUENCY: double (nullable = true)\n",
      " |-- ONEOFF_PURCHASES_FREQUENCY: double (nullable = true)\n",
      " |-- PURCHASES_INSTALLMENTS_FREQUENCY: double (nullable = true)\n",
      " |-- CASH_ADVANCE_FREQUENCY: double (nullable = true)\n",
      " |-- CASH_ADVANCE_TRX: integer (nullable = true)\n",
      " |-- PURCHASES_TRX: integer (nullable = true)\n",
      " |-- CREDIT_LIMIT: double (nullable = true)\n",
      " |-- PAYMENTS: double (nullable = true)\n",
      " |-- MINIMUM_PAYMENTS: double (nullable = true)\n",
      " |-- PRC_FULL_PAYMENT: double (nullable = true)\n",
      " |-- TENURE: integer (nullable = true)\n",
      "\n"
     ]
    }
   ],
   "source": [
    "df.printSchema()"
   ]
  },
  {
   "cell_type": "markdown",
   "id": "4e9a5584",
   "metadata": {},
   "source": [
    "# Preprocessing\n",
    "\n"
   ]
  },
  {
   "cell_type": "code",
   "execution_count": 123,
   "id": "9d304597",
   "metadata": {},
   "outputs": [
    {
     "name": "stdout",
     "output_type": "stream",
     "text": [
      "+----------------+------------+\n",
      "|MINIMUM_PAYMENTS|CREDIT_LIMIT|\n",
      "+----------------+------------+\n",
      "|             313|           1|\n",
      "+----------------+------------+\n",
      "\n"
     ]
    }
   ],
   "source": [
    "#Checking Null values\n",
    "from pyspark.sql.functions import col,isnan,when,count\n",
    "l=['MINIMUM_PAYMENTS','CREDIT_LIMIT']\n",
    "df.select([count(when( isnan(c)|col(c).isNull(),c)).alias(c) for c in l]).show()\n",
    "\n",
    "\n",
    "\n",
    "\n",
    "\n"
   ]
  },
  {
   "cell_type": "code",
   "execution_count": 127,
   "id": "9da6ac97",
   "metadata": {},
   "outputs": [
    {
     "name": "stdout",
     "output_type": "stream",
     "text": [
      "+----------------+-----+\n",
      "|MINIMUM_PAYMENTS|count|\n",
      "+----------------+-----+\n",
      "|      128.834658|    1|\n",
      "|      930.115009|    1|\n",
      "|      885.376298|    1|\n",
      "|     1287.324868|    1|\n",
      "|      152.391012|    1|\n",
      "|      285.440312|    1|\n",
      "|     1860.347671|    1|\n",
      "|     2716.326216|    1|\n",
      "|      179.244755|    1|\n",
      "|     1809.974326|    1|\n",
      "|      886.458108|    1|\n",
      "|      179.358734|    1|\n",
      "|      526.749661|    1|\n",
      "|      218.463565|    1|\n",
      "|      233.202069|    1|\n",
      "|       77.604225|    1|\n",
      "|      292.103091|    1|\n",
      "|      434.689529|    1|\n",
      "|      237.529082|    1|\n",
      "|      135.625973|    1|\n",
      "+----------------+-----+\n",
      "only showing top 20 rows\n",
      "\n",
      "None\n",
      "+-----------------+-----+\n",
      "|     CREDIT_LIMIT|count|\n",
      "+-----------------+-----+\n",
      "|           4800.0|    4|\n",
      "|          21500.0|    2|\n",
      "|      2283.333333|    1|\n",
      "|      3666.666667|    1|\n",
      "|      7227.272727|    1|\n",
      "|      5181.818182|    1|\n",
      "|      3511.111111|    1|\n",
      "|4494.449450364621|    1|\n",
      "|      1833.333333|    1|\n",
      "|      6727.272727|    1|\n",
      "|      8954.545455|    1|\n",
      "|      3777.777778|    1|\n",
      "|          10300.0|    2|\n",
      "|           1350.0|    2|\n",
      "|           7700.0|    2|\n",
      "|            650.0|    1|\n",
      "|          19500.0|    5|\n",
      "|          21000.0|    2|\n",
      "|           5600.0|    3|\n",
      "|          11250.0|    1|\n",
      "+-----------------+-----+\n",
      "only showing top 20 rows\n",
      "\n",
      "None\n"
     ]
    }
   ],
   "source": [
    "for i in l:\n",
    "    print(df.groupby(i).count().show())"
   ]
  },
  {
   "cell_type": "code",
   "execution_count": 125,
   "id": "5469a76b",
   "metadata": {},
   "outputs": [
    {
     "name": "stdout",
     "output_type": "stream",
     "text": [
      "+-----------------+-----------------+\n",
      "| MINIMUM_PAYMENTS|     CREDIT_LIMIT|\n",
      "+-----------------+-----------------+\n",
      "|864.2065423050816|4494.449450364621|\n",
      "+-----------------+-----------------+\n",
      "\n"
     ]
    }
   ],
   "source": [
    "#Mean of the null values column\n",
    "from pyspark.sql.functions import mean\n",
    "mean=df.select(mean(l[0]).alias(l[0]),mean(l[1]).alias(l[1]))\n",
    "mean.show()\n"
   ]
  },
  {
   "cell_type": "code",
   "execution_count": 126,
   "id": "a9f724fb",
   "metadata": {},
   "outputs": [],
   "source": [
    "#Fill the mean\n",
    "df=df.fillna(mean.toPandas().to_dict('records')[0])\n",
    "\n",
    "\n"
   ]
  },
  {
   "cell_type": "code",
   "execution_count": null,
   "id": "c34c86ec",
   "metadata": {},
   "outputs": [],
   "source": []
  },
  {
   "cell_type": "code",
   "execution_count": 78,
   "id": "42b8ade3",
   "metadata": {},
   "outputs": [
    {
     "name": "stdout",
     "output_type": "stream",
     "text": [
      "+----------------+------------+\n",
      "|MINIMUM_PAYMENTS|CREDIT_LIMIT|\n",
      "+----------------+------------+\n",
      "|               0|           0|\n",
      "+----------------+------------+\n",
      "\n"
     ]
    }
   ],
   "source": [
    "#Checking Null values\n",
    "from pyspark.sql.functions import col,isnan,when,count\n",
    "l=['MINIMUM_PAYMENTS','CREDIT_LIMIT']\n",
    "df.select([count(when( isnan(c)|col(c).isNull(),c)).alias(c) for c in l]).show()\n",
    "\n",
    "\n",
    "\n"
   ]
  },
  {
   "cell_type": "code",
   "execution_count": 79,
   "id": "d2c06631",
   "metadata": {},
   "outputs": [],
   "source": [
    "#Vector Assembler\n",
    "from pyspark.ml.feature import VectorAssembler,StandardScaler\n",
    "va=VectorAssembler(inputCols=[c for c in df.columns if c!='CUST_ID'],outputCol='features')"
   ]
  },
  {
   "cell_type": "code",
   "execution_count": 80,
   "id": "eba4f913",
   "metadata": {},
   "outputs": [],
   "source": [
    "df=va.transform(df)"
   ]
  },
  {
   "cell_type": "code",
   "execution_count": 84,
   "id": "6115720b",
   "metadata": {},
   "outputs": [
    {
     "name": "stderr",
     "output_type": "stream",
     "text": [
      "22/01/10 17:51:51 WARN package: Truncated the string representation of a plan since it was too large. This behavior can be adjusted by setting 'spark.sql.debug.maxToStringFields'.\n"
     ]
    }
   ],
   "source": [
    "#Scaling Standard Scaler\n",
    "scaled=StandardScaler(inputCol='features',outputCol='scaledFeatures')\n",
    "df=scaled.fit(df).transform(df)\n"
   ]
  },
  {
   "cell_type": "code",
   "execution_count": 88,
   "id": "d7341dcc",
   "metadata": {},
   "outputs": [],
   "source": [
    "from pyspark.ml.clustering import KMeans\n",
    "from pyspark.ml.evaluation import ClusteringEvaluator\n"
   ]
  },
  {
   "cell_type": "code",
   "execution_count": 101,
   "id": "1ea82386",
   "metadata": {},
   "outputs": [],
   "source": [
    "evaluator=ClusteringEvaluator(predictionCol='prediction',\n",
    "    featuresCol='scaledFeatures',\n",
    "    metricName='silhouette',\n",
    "    distanceMeasure='squaredEuclidean',)\n",
    "\n",
    "    "
   ]
  },
  {
   "cell_type": "code",
   "execution_count": 102,
   "id": "12251e19",
   "metadata": {},
   "outputs": [],
   "source": [
    "\n",
    "\n",
    "evalresult=[]\n",
    "for i in range(3,20):\n",
    "    kmeans=KMeans(\n",
    "    featuresCol='scaledFeatures',\n",
    "    predictionCol='prediction',\n",
    "    k=i,\n",
    "    initMode='k-means||',\n",
    "    initSteps=2,\n",
    "    tol=0.0001,\n",
    "    maxIter=20,\n",
    "    seed=None,\n",
    "    distanceMeasure='euclidean',\n",
    "    )\n",
    "    model=kmeans.fit(df).transform(df)\n",
    "    evalresult.append(evaluator.evaluate(model))"
   ]
  },
  {
   "cell_type": "code",
   "execution_count": 103,
   "id": "298c86eb",
   "metadata": {},
   "outputs": [
    {
     "data": {
      "text/plain": [
       "[0.2678774091004895,\n",
       " 0.2888913270376332,\n",
       " 0.2680635845742012,\n",
       " 0.2783522139808728,\n",
       " 0.30877985904155975,\n",
       " 0.317432656891454,\n",
       " 0.30669702767789003,\n",
       " 0.30872591053292,\n",
       " 0.3107948871155489,\n",
       " 0.3339435263717126,\n",
       " 0.32627423599044003,\n",
       " 0.3106625493672098,\n",
       " 0.3185140372120438,\n",
       " 0.2835129698227398,\n",
       " 0.2693381731947676,\n",
       " 0.3256699447941999,\n",
       " 0.3254081452393961]"
      ]
     },
     "execution_count": 103,
     "metadata": {},
     "output_type": "execute_result"
    }
   ],
   "source": [
    "evalresult"
   ]
  },
  {
   "cell_type": "code",
   "execution_count": 107,
   "id": "7db4fd2f",
   "metadata": {},
   "outputs": [
    {
     "data": {
      "text/plain": [
       "Text(0, 0.5, 'cost')"
      ]
     },
     "execution_count": 107,
     "metadata": {},
     "output_type": "execute_result"
    },
    {
     "data": {
      "image/png": "[encoded data removed]",
      "text/plain": [
       "<Figure size 576x432 with 1 Axes>"
      ]
     },
     "metadata": {
      "needs_background": "light"
     },
     "output_type": "display_data"
    }
   ],
   "source": [
    "#Visualizing\n",
    "import matplotlib.pyplot as plt\n",
    "fig, ax = plt.subplots(1,1, figsize =(8,6))\n",
    "ax.plot(range(3,20),evalresult)\n",
    "ax.set_xlabel('k')\n",
    "ax.set_ylabel('cost')"
   ]
  },
  {
   "cell_type": "code",
   "execution_count": 105,
   "id": "3723f34a",
   "metadata": {},
   "outputs": [
    {
     "name": "stdout",
     "output_type": "stream",
     "text": [
      "Defaulting to user installation because normal site-packages is not writeable\n",
      "Collecting matplotlib\n",
      "  Downloading matplotlib-3.5.1-cp38-cp38-manylinux_2_5_x86_64.manylinux1_x86_64.whl (11.3 MB)\n",
      "     |████████████████████████████████| 11.3 MB 998 kB/s            \n",
      "\u001b[?25hCollecting fonttools>=4.22.0\n",
      "  Downloading fonttools-4.28.5-py3-none-any.whl (890 kB)\n",
      "     |████████████████████████████████| 890 kB 732 kB/s            \n",
      "\u001b[?25hCollecting kiwisolver>=1.0.1\n",
      "  Using cached kiwisolver-1.3.2-cp38-cp38-manylinux_2_5_x86_64.manylinux1_x86_64.whl (1.2 MB)\n",
      "Requirement already satisfied: pyparsing>=2.2.1 in /home/daniyal/.local/lib/python3.8/site-packages (from matplotlib) (3.0.6)\n",
      "Requirement already satisfied: packaging>=20.0 in /home/daniyal/.local/lib/python3.8/site-packages (from matplotlib) (21.3)\n",
      "Requirement already satisfied: numpy>=1.17 in /home/daniyal/.local/lib/python3.8/site-packages (from matplotlib) (1.21.4)\n",
      "Requirement already satisfied: python-dateutil>=2.7 in /usr/lib/python3/dist-packages (from matplotlib) (2.7.3)\n",
      "Collecting cycler>=0.10\n",
      "  Using cached cycler-0.11.0-py3-none-any.whl (6.4 kB)\n",
      "Requirement already satisfied: pillow>=6.2.0 in /usr/lib/python3/dist-packages (from matplotlib) (7.0.0)\n",
      "Installing collected packages: kiwisolver, fonttools, cycler, matplotlib\n",
      "Successfully installed cycler-0.11.0 fonttools-4.28.5 kiwisolver-1.3.2 matplotlib-3.5.1\n"
     ]
    }
   ],
   "source": [
    "!pip install matplotlib"
   ]
  },
  {
   "cell_type": "code",
   "execution_count": 109,
   "id": "5badcfd1",
   "metadata": {},
   "outputs": [],
   "source": [
    "kmeans=KMeans(featuresCol='features',\n",
    "    predictionCol='prediction',\n",
    "    k=12,\n",
    "    initMode='k-means||',\n",
    "    initSteps=2,\n",
    "    tol=0.0001,\n",
    "    maxIter=20,\n",
    "    seed=None,\n",
    "    distanceMeasure='euclidean')"
   ]
  },
  {
   "cell_type": "code",
   "execution_count": 110,
   "id": "88ff21cc",
   "metadata": {},
   "outputs": [],
   "source": [
    "kmodel=kmeans.fit(df).transform(df)"
   ]
  },
  {
   "cell_type": "code",
   "execution_count": 111,
   "id": "43f1a4ee",
   "metadata": {},
   "outputs": [],
   "source": [
    "result=evaluator.evaluate(kmodel)"
   ]
  },
  {
   "cell_type": "code",
   "execution_count": 116,
   "id": "9f1168b7",
   "metadata": {},
   "outputs": [
    {
     "data": {
      "text/plain": [
       "0.08406319367546175"
      ]
     },
     "execution_count": 116,
     "metadata": {},
     "output_type": "execute_result"
    }
   ],
   "source": [
    "result"
   ]
  },
  {
   "cell_type": "code",
   "execution_count": 117,
   "id": "45600d15",
   "metadata": {},
   "outputs": [
    {
     "name": "stdout",
     "output_type": "stream",
     "text": [
      "+----------+-----+\n",
      "|prediction|count|\n",
      "+----------+-----+\n",
      "|         1| 4126|\n",
      "|         6|   60|\n",
      "|         3|  322|\n",
      "|         5|  280|\n",
      "|         9| 2026|\n",
      "|         4|  803|\n",
      "|         8|    7|\n",
      "|         7|   73|\n",
      "|        10|    5|\n",
      "|        11|   18|\n",
      "|         2|  257|\n",
      "|         0|  973|\n",
      "+----------+-----+\n",
      "\n"
     ]
    }
   ],
   "source": [
    "kmodel.groupBy('prediction').count().show()"
   ]
  },
  {
   "cell_type": "code",
   "execution_count": null,
   "id": "8ba0157f",
   "metadata": {},
   "outputs": [],
   "source": []
  }
 ],
 "metadata": {
  "kernelspec": {
   "display_name": "Python 3 (ipykernel)",
   "language": "python",
   "name": "python3"
  },
  "language_info": {
   "codemirror_mode": {
    "name": "ipython",
    "version": 3
   },
   "file_extension": ".py",
   "mimetype": "text/x-python",
   "name": "python",
   "nbconvert_exporter": "python",
   "pygments_lexer": "ipython3",
   "version": "3.8.10"
  }
 },
 "nbformat": 4,
 "nbformat_minor": 5
}
