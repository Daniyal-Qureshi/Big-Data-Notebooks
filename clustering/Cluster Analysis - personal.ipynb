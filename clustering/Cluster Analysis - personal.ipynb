{
 "cells": [
  {
   "cell_type": "code",
   "execution_count": 3,
   "metadata": {},
   "outputs": [],
   "source": [
    "import findspark\n",
    "findspark.init()\n",
    "from pyspark.sql import SparkSession\n",
    "spark = SparkSession.builder.appName(\"Cluster Analysis\").config('spark.sql.shuffle.partitions','20').getOrCreate()"
   ]
  },
  {
   "cell_type": "code",
   "execution_count": 4,
   "metadata": {},
   "outputs": [],
   "source": [
    "import findspark\n",
    "findspark.init()"
   ]
  },
  {
   "cell_type": "code",
   "execution_count": 5,
   "metadata": {},
   "outputs": [
    {
     "data": {
      "text/plain": [
       "8950"
      ]
     },
     "execution_count": 5,
     "metadata": {},
     "output_type": "execute_result"
    }
   ],
   "source": [
    "customerDF=spark.read.csv('../Dataset/CC GENERAL.csv', header=True, inferSchema=True)\n",
    "customerDF.count()"
   ]
  },
  {
   "cell_type": "code",
   "execution_count": 6,
   "metadata": {},
   "outputs": [
    {
     "name": "stdout",
     "output_type": "stream",
     "text": [
      "root\n",
      " |-- CUST_ID: string (nullable = true)\n",
      " |-- BALANCE: double (nullable = true)\n",
      " |-- BALANCE_FREQUENCY: double (nullable = true)\n",
      " |-- PURCHASES: double (nullable = true)\n",
      " |-- ONEOFF_PURCHASES: double (nullable = true)\n",
      " |-- INSTALLMENTS_PURCHASES: double (nullable = true)\n",
      " |-- CASH_ADVANCE: double (nullable = true)\n",
      " |-- PURCHASES_FREQUENCY: double (nullable = true)\n",
      " |-- ONEOFF_PURCHASES_FREQUENCY: double (nullable = true)\n",
      " |-- PURCHASES_INSTALLMENTS_FREQUENCY: double (nullable = true)\n",
      " |-- CASH_ADVANCE_FREQUENCY: double (nullable = true)\n",
      " |-- CASH_ADVANCE_TRX: integer (nullable = true)\n",
      " |-- PURCHASES_TRX: integer (nullable = true)\n",
      " |-- CREDIT_LIMIT: double (nullable = true)\n",
      " |-- PAYMENTS: double (nullable = true)\n",
      " |-- MINIMUM_PAYMENTS: double (nullable = true)\n",
      " |-- PRC_FULL_PAYMENT: double (nullable = true)\n",
      " |-- TENURE: integer (nullable = true)\n",
      "\n"
     ]
    }
   ],
   "source": [
    "customerDF.printSchema()"
   ]
  },
  {
   "cell_type": "code",
   "execution_count": 7,
   "metadata": {},
   "outputs": [
    {
     "name": "stdout",
     "output_type": "stream",
     "text": [
      "+-------+-----------+-----------------+---------+----------------+----------------------+------------+-------------------+--------------------------+--------------------------------+----------------------+----------------+-------------+------------+-----------+----------------+----------------+------+\n",
      "|CUST_ID|BALANCE    |BALANCE_FREQUENCY|PURCHASES|ONEOFF_PURCHASES|INSTALLMENTS_PURCHASES|CASH_ADVANCE|PURCHASES_FREQUENCY|ONEOFF_PURCHASES_FREQUENCY|PURCHASES_INSTALLMENTS_FREQUENCY|CASH_ADVANCE_FREQUENCY|CASH_ADVANCE_TRX|PURCHASES_TRX|CREDIT_LIMIT|PAYMENTS   |MINIMUM_PAYMENTS|PRC_FULL_PAYMENT|TENURE|\n",
      "+-------+-----------+-----------------+---------+----------------+----------------------+------------+-------------------+--------------------------+--------------------------------+----------------------+----------------+-------------+------------+-----------+----------------+----------------+------+\n",
      "|C10001 |40.900749  |0.818182         |95.4     |0.0             |95.4                  |0.0         |0.166667           |0.0                       |0.083333                        |0.0                   |0               |2            |1000.0      |201.802084 |139.509787      |0.0             |12    |\n",
      "|C10002 |3202.467416|0.909091         |0.0      |0.0             |0.0                   |6442.945483 |0.0                |0.0                       |0.0                             |0.25                  |4               |0            |7000.0      |4103.032597|1072.340217     |0.222222        |12    |\n",
      "|C10003 |2495.148862|1.0              |773.17   |773.17          |0.0                   |0.0         |1.0                |1.0                       |0.0                             |0.0                   |0               |12           |7500.0      |622.066742 |627.284787      |0.0             |12    |\n",
      "|C10004 |1666.670542|0.636364         |1499.0   |1499.0          |0.0                   |205.788017  |0.083333           |0.083333                  |0.0                             |0.083333              |1               |1            |7500.0      |0.0        |null            |0.0             |12    |\n",
      "|C10005 |817.714335 |1.0              |16.0     |16.0            |0.0                   |0.0         |0.083333           |0.083333                  |0.0                             |0.0                   |0               |1            |1200.0      |678.334763 |244.791237      |0.0             |12    |\n",
      "+-------+-----------+-----------------+---------+----------------+----------------------+------------+-------------------+--------------------------+--------------------------------+----------------------+----------------+-------------+------------+-----------+----------------+----------------+------+\n",
      "only showing top 5 rows\n",
      "\n"
     ]
    }
   ],
   "source": [
    "customerDF.show(5,truncate=False)"
   ]
  },
  {
   "cell_type": "code",
   "execution_count": 8,
   "metadata": {},
   "outputs": [
    {
     "data": {
      "text/plain": [
       "1"
      ]
     },
     "execution_count": 8,
     "metadata": {},
     "output_type": "execute_result"
    }
   ],
   "source": [
    "customerDF.rdd.getNumPartitions()"
   ]
  },
  {
   "cell_type": "code",
   "execution_count": 9,
   "metadata": {},
   "outputs": [],
   "source": [
    "customerDF = customerDF.repartition(20)"
   ]
  },
  {
   "cell_type": "code",
   "execution_count": 10,
   "metadata": {},
   "outputs": [
    {
     "data": {
      "text/plain": [
       "20"
      ]
     },
     "execution_count": 10,
     "metadata": {},
     "output_type": "execute_result"
    }
   ],
   "source": [
    "customerDF.rdd.getNumPartitions()"
   ]
  },
  {
   "cell_type": "code",
   "execution_count": 11,
   "metadata": {},
   "outputs": [
    {
     "name": "stdout",
     "output_type": "stream",
     "text": [
      "22.8 s ± 210 ms per loop (mean ± std. dev. of 7 runs, 1 loop each)\n"
     ]
    }
   ],
   "source": [
    "%%timeit\n",
    "customerDF.rdd.glom().map(len).collect()"
   ]
  },
  {
   "cell_type": "markdown",
   "metadata": {},
   "source": [
    "#### Null Values"
   ]
  },
  {
   "cell_type": "code",
   "execution_count": 12,
   "metadata": {},
   "outputs": [
    {
     "name": "stdout",
     "output_type": "stream",
     "text": [
      "+-------+-------+-----------------+---------+----------------+----------------------+------------+-------------------+--------------------------+--------------------------------+----------------------+----------------+-------------+------------+--------+----------------+----------------+------+\n",
      "|CUST_ID|BALANCE|BALANCE_FREQUENCY|PURCHASES|ONEOFF_PURCHASES|INSTALLMENTS_PURCHASES|CASH_ADVANCE|PURCHASES_FREQUENCY|ONEOFF_PURCHASES_FREQUENCY|PURCHASES_INSTALLMENTS_FREQUENCY|CASH_ADVANCE_FREQUENCY|CASH_ADVANCE_TRX|PURCHASES_TRX|CREDIT_LIMIT|PAYMENTS|MINIMUM_PAYMENTS|PRC_FULL_PAYMENT|TENURE|\n",
      "+-------+-------+-----------------+---------+----------------+----------------------+------------+-------------------+--------------------------+--------------------------------+----------------------+----------------+-------------+------------+--------+----------------+----------------+------+\n",
      "|      0|      0|                0|        0|               0|                     0|           0|                  0|                         0|                               0|                     0|               0|            0|           1|       0|             313|               0|     0|\n",
      "+-------+-------+-----------------+---------+----------------+----------------------+------------+-------------------+--------------------------+--------------------------------+----------------------+----------------+-------------+------------+--------+----------------+----------------+------+\n",
      "\n"
     ]
    }
   ],
   "source": [
    "from pyspark.sql.functions import col,isnan,when,count\n",
    "customerDF.select([count(when(col(c).contains('None') | col(c).contains('NULL') | (col(c) == '' ) | col(c).isNull() |  isnan(c), c )).alias(c) for c in customerDF.columns]).show()"
   ]
  },
  {
   "cell_type": "code",
   "execution_count": 13,
   "metadata": {},
   "outputs": [
    {
     "name": "stdout",
     "output_type": "stream",
     "text": [
      "+------------+----------------+\n",
      "|CREDIT_LIMIT|MINIMUM_PAYMENTS|\n",
      "+------------+----------------+\n",
      "|           1|             313|\n",
      "+------------+----------------+\n",
      "\n",
      "+-----------------+\n",
      "|avg(CREDIT_LIMIT)|\n",
      "+-----------------+\n",
      "|4494.449450364621|\n",
      "+-----------------+\n",
      "\n"
     ]
    }
   ],
   "source": [
    "from pyspark.sql.functions import col,isnan,when,count,mean\n",
    "customerDF.select([count(when(col(c).contains('None') | col(c).contains('NULL') | (col(c) == '' ) | col(c).isNull() |  isnan(c), c )).alias(c) for c in ['CREDIT_LIMIT','MINIMUM_PAYMENTS']]).show()\n",
    "\n",
    "\n",
    "a=customerDF.select(mean(customerDF['CREDIT_LIMIT']))\n",
    "\n",
    "a.show()"
   ]
  },
  {
   "cell_type": "code",
   "execution_count": 14,
   "metadata": {},
   "outputs": [
    {
     "name": "stdout",
     "output_type": "stream",
     "text": [
      "+---------------------+-------------------+\n",
      "|CREDIT_LIMIT_        |MINIMUM_PAYMENTS_  |\n",
      "+---------------------+-------------------+\n",
      "|1.1173184357538002E-4|0.03497206703910616|\n",
      "+---------------------+-------------------+\n",
      "\n"
     ]
    }
   ],
   "source": [
    "customerDF.select([(1 - (count(c) / count('*'))).alias(c + '_') for c in ('CREDIT_LIMIT','MINIMUM_PAYMENTS')]).show(truncate=False)"
   ]
  },
  {
   "cell_type": "code",
   "execution_count": 15,
   "metadata": {},
   "outputs": [],
   "source": [
    "from pyspark.sql.functions import mean\n",
    "means = customerDF.select([mean(c).alias(c) for c in ('CREDIT_LIMIT','MINIMUM_PAYMENTS')]).drop('income').toPandas().to_dict('records')[0]\n"
   ]
  },
  {
   "cell_type": "code",
   "execution_count": 16,
   "metadata": {},
   "outputs": [
    {
     "data": {
      "text/plain": [
       "{'CREDIT_LIMIT': 4494.449450364622, 'MINIMUM_PAYMENTS': 864.2065423050828}"
      ]
     },
     "execution_count": 16,
     "metadata": {},
     "output_type": "execute_result"
    }
   ],
   "source": [
    "means"
   ]
  },
  {
   "cell_type": "code",
   "execution_count": 17,
   "metadata": {},
   "outputs": [],
   "source": [
    "customerDF = customerDF.fillna(means)"
   ]
  },
  {
   "cell_type": "code",
   "execution_count": 18,
   "metadata": {},
   "outputs": [
    {
     "name": "stdout",
     "output_type": "stream",
     "text": [
      "+-------+-------+-----------------+---------+----------------+----------------------+------------+-------------------+--------------------------+--------------------------------+----------------------+----------------+-------------+------------+--------+----------------+----------------+------+\n",
      "|CUST_ID|BALANCE|BALANCE_FREQUENCY|PURCHASES|ONEOFF_PURCHASES|INSTALLMENTS_PURCHASES|CASH_ADVANCE|PURCHASES_FREQUENCY|ONEOFF_PURCHASES_FREQUENCY|PURCHASES_INSTALLMENTS_FREQUENCY|CASH_ADVANCE_FREQUENCY|CASH_ADVANCE_TRX|PURCHASES_TRX|CREDIT_LIMIT|PAYMENTS|MINIMUM_PAYMENTS|PRC_FULL_PAYMENT|TENURE|\n",
      "+-------+-------+-----------------+---------+----------------+----------------------+------------+-------------------+--------------------------+--------------------------------+----------------------+----------------+-------------+------------+--------+----------------+----------------+------+\n",
      "|      0|      0|                0|        0|               0|                     0|           0|                  0|                         0|                               0|                     0|               0|            0|           0|       0|               0|               0|     0|\n",
      "+-------+-------+-----------------+---------+----------------+----------------------+------------+-------------------+--------------------------+--------------------------------+----------------------+----------------+-------------+------------+--------+----------------+----------------+------+\n",
      "\n"
     ]
    }
   ],
   "source": [
    "customerDF.select([count(when(col(c).contains('None') | col(c).contains('NULL') | (col(c) == '' ) | col(c).isNull() |  isnan(c), c )).alias(c) for c in customerDF.columns]).show()"
   ]
  },
  {
   "cell_type": "code",
   "execution_count": null,
   "metadata": {},
   "outputs": [],
   "source": []
  },
  {
   "cell_type": "code",
   "execution_count": 19,
   "metadata": {},
   "outputs": [],
   "source": [
    "cols = [c for c in customerDF.columns if c !='CUST_ID']\n",
    "bounds = {}\n",
    "for col in cols:\n",
    "    quantiles = customerDF.approxQuantile(col, [0.25, 0.75], 0.05)\n",
    "    IQR = quantiles[1] - quantiles[0]\n",
    "    bounds[col] = [quantiles[0] - 1.5 * IQR , quantiles[1] + 1.5 * IQR]"
   ]
  },
  {
   "cell_type": "code",
   "execution_count": 20,
   "metadata": {},
   "outputs": [
    {
     "data": {
      "text/plain": [
       "{'BALANCE': [-2381.2763274999998, 4272.0555644999995],\n",
       " 'BALANCE_FREQUENCY': [0.5833325, 1.2500005],\n",
       " 'PURCHASES': [-1366.18, 2336.0600000000004],\n",
       " 'ONEOFF_PURCHASES': [-672.0, 1120.0],\n",
       " 'INSTALLMENTS_PURCHASES': [-593.58, 989.3000000000001],\n",
       " 'CASH_ADVANCE': [-1351.7784434999999, 2252.9640725],\n",
       " 'PURCHASES_FREQUENCY': [-1.166668, 2.166668],\n",
       " 'ONEOFF_PURCHASES_FREQUENCY': [-0.375, 0.625],\n",
       " 'PURCHASES_INSTALLMENTS_FREQUENCY': [-1.0000005, 1.6666675],\n",
       " 'CASH_ADVANCE_FREQUENCY': [-0.2500005, 0.4166675],\n",
       " 'CASH_ADVANCE_TRX': [-4.5, 7.5],\n",
       " 'PURCHASES_TRX': [-18.5, 33.5],\n",
       " 'CREDIT_LIMIT': [-5250.0, 12750.0],\n",
       " 'PAYMENTS': [-1578.9243295, 3616.4625705],\n",
       " 'MINIMUM_PAYMENTS': [-762.4654229999999, 1718.0445289999998],\n",
       " 'PRC_FULL_PAYMENT': [-0.1363635, 0.2272725],\n",
       " 'TENURE': [12.0, 12.0]}"
      ]
     },
     "execution_count": 20,
     "metadata": {},
     "output_type": "execute_result"
    }
   ],
   "source": [
    "bounds"
   ]
  },
  {
   "cell_type": "code",
   "execution_count": 21,
   "metadata": {
    "scrolled": true
   },
   "outputs": [
    {
     "name": "stdout",
     "output_type": "stream",
     "text": [
      "+-------+---------+-------------------+-----------+------------------+------------------------+--------------+---------------------+----------------------------+----------------------------------+------------------------+------------------+---------------+--------------+----------+------------------+------------------+--------+\n",
      "|CUST_ID|BALANCE_o|BALANCE_FREQUENCY_o|PURCHASES_o|ONEOFF_PURCHASES_o|INSTALLMENTS_PURCHASES_o|CASH_ADVANCE_o|PURCHASES_FREQUENCY_o|ONEOFF_PURCHASES_FREQUENCY_o|PURCHASES_INSTALLMENTS_FREQUENCY_o|CASH_ADVANCE_FREQUENCY_o|CASH_ADVANCE_TRX_o|PURCHASES_TRX_o|CREDIT_LIMIT_o|PAYMENTS_o|MINIMUM_PAYMENTS_o|PRC_FULL_PAYMENT_o|TENURE_o|\n",
      "+-------+---------+-------------------+-----------+------------------+------------------------+--------------+---------------------+----------------------------+----------------------------------+------------------------+------------------+---------------+--------------+----------+------------------+------------------+--------+\n",
      "| C12499|    false|              false|      false|             false|                   false|         false|                false|                       false|                             false|                   false|             false|          false|         false|     false|             false|             false|   false|\n",
      "| C16403|    false|              false|      false|             false|                   false|         false|                false|                        true|                             false|                   false|             false|          false|         false|     false|             false|              true|   false|\n",
      "| C17174|    false|              false|      false|             false|                   false|         false|                false|                       false|                             false|                   false|             false|          false|         false|     false|             false|             false|   false|\n",
      "| C16928|    false|              false|      false|             false|                   false|         false|                false|                       false|                             false|                   false|             false|          false|         false|     false|             false|             false|    true|\n",
      "| C12600|    false|              false|      false|             false|                   false|         false|                false|                       false|                             false|                   false|             false|          false|         false|     false|              true|             false|   false|\n",
      "| C11609|    false|              false|      false|             false|                   false|         false|                false|                       false|                             false|                   false|             false|          false|         false|     false|             false|             false|   false|\n",
      "| C11654|    false|              false|      false|             false|                   false|         false|                false|                       false|                             false|                   false|             false|          false|         false|     false|             false|             false|   false|\n",
      "| C19003|    false|              false|      false|             false|                    true|         false|                false|                       false|                             false|                   false|             false|          false|         false|     false|             false|             false|    true|\n",
      "| C12153|    false|               true|      false|             false|                    true|          true|                false|                       false|                             false|                   false|             false|          false|         false|      true|              true|             false|   false|\n",
      "| C17359|    false|              false|      false|             false|                   false|          true|                false|                       false|                             false|                   false|             false|          false|         false|     false|             false|             false|   false|\n",
      "| C13358|     true|              false|      false|             false|                   false|          true|                false|                       false|                             false|                    true|              true|          false|         false|     false|              true|             false|   false|\n",
      "| C17130|    false|               true|      false|             false|                   false|          true|                false|                       false|                             false|                   false|              true|          false|         false|     false|             false|             false|   false|\n",
      "| C13331|    false|              false|      false|             false|                   false|         false|                false|                       false|                             false|                   false|             false|          false|         false|     false|             false|             false|   false|\n",
      "| C15735|    false|              false|      false|             false|                   false|         false|                false|                       false|                             false|                   false|             false|          false|         false|     false|             false|             false|   false|\n",
      "| C12936|    false|              false|      false|             false|                   false|         false|                false|                       false|                             false|                   false|             false|          false|         false|     false|             false|             false|   false|\n",
      "| C17121|    false|              false|      false|             false|                   false|         false|                false|                       false|                             false|                   false|             false|          false|         false|     false|             false|             false|   false|\n",
      "| C19145|    false|              false|      false|             false|                   false|         false|                false|                       false|                             false|                   false|             false|          false|         false|     false|             false|              true|    true|\n",
      "| C15182|    false|              false|      false|             false|                   false|         false|                false|                       false|                             false|                   false|             false|          false|         false|     false|             false|             false|   false|\n",
      "| C17471|    false|               true|      false|             false|                   false|         false|                false|                       false|                             false|                   false|             false|          false|         false|     false|             false|              true|   false|\n",
      "| C14682|    false|              false|      false|             false|                   false|         false|                false|                       false|                             false|                   false|              true|          false|         false|     false|             false|             false|   false|\n",
      "+-------+---------+-------------------+-----------+------------------+------------------------+--------------+---------------------+----------------------------+----------------------------------+------------------------+------------------+---------------+--------------+----------+------------------+------------------+--------+\n",
      "only showing top 20 rows\n",
      "\n"
     ]
    }
   ],
   "source": [
    "outliers = customerDF.select(['CUST_ID']+[((customerDF[c] < bounds[c][0]) | (customerDF[c] > bounds[c][1]) ).alias(c + '_o') for c in customerDF.columns if c !='CUST_ID'])\n",
    "outliers.show()"
   ]
  },
  {
   "cell_type": "code",
   "execution_count": 22,
   "metadata": {},
   "outputs": [
    {
     "name": "stdout",
     "output_type": "stream",
     "text": [
      "root\n",
      " |-- CUST_ID: string (nullable = true)\n",
      " |-- BALANCE_o: boolean (nullable = true)\n",
      " |-- BALANCE_FREQUENCY_o: boolean (nullable = true)\n",
      " |-- PURCHASES_o: boolean (nullable = true)\n",
      " |-- ONEOFF_PURCHASES_o: boolean (nullable = true)\n",
      " |-- INSTALLMENTS_PURCHASES_o: boolean (nullable = true)\n",
      " |-- CASH_ADVANCE_o: boolean (nullable = true)\n",
      " |-- PURCHASES_FREQUENCY_o: boolean (nullable = true)\n",
      " |-- ONEOFF_PURCHASES_FREQUENCY_o: boolean (nullable = true)\n",
      " |-- PURCHASES_INSTALLMENTS_FREQUENCY_o: boolean (nullable = true)\n",
      " |-- CASH_ADVANCE_FREQUENCY_o: boolean (nullable = true)\n",
      " |-- CASH_ADVANCE_TRX_o: boolean (nullable = true)\n",
      " |-- PURCHASES_TRX_o: boolean (nullable = true)\n",
      " |-- CREDIT_LIMIT_o: boolean (nullable = false)\n",
      " |-- PAYMENTS_o: boolean (nullable = true)\n",
      " |-- MINIMUM_PAYMENTS_o: boolean (nullable = false)\n",
      " |-- PRC_FULL_PAYMENT_o: boolean (nullable = true)\n",
      " |-- TENURE_o: boolean (nullable = true)\n",
      "\n"
     ]
    }
   ],
   "source": [
    "outliers.printSchema()"
   ]
  },
  {
   "cell_type": "code",
   "execution_count": 23,
   "metadata": {},
   "outputs": [
    {
     "data": {
      "text/plain": [
       "6452"
      ]
     },
     "execution_count": 23,
     "metadata": {},
     "output_type": "execute_result"
    }
   ],
   "source": [
    "outliers.select('CUST_ID').where(\" or \".join([ c  for c in outliers.columns if c!='CUST_ID'])).count()"
   ]
  },
  {
   "cell_type": "code",
   "execution_count": null,
   "metadata": {},
   "outputs": [],
   "source": []
  },
  {
   "cell_type": "code",
   "execution_count": 24,
   "metadata": {},
   "outputs": [],
   "source": [
    "from pyspark.ml.feature import VectorAssembler\n",
    "\n",
    "assembler=VectorAssembler(inputCols=[c for c in customerDF.columns if c!='CUST_ID'], outputCol='features')"
   ]
  },
  {
   "cell_type": "code",
   "execution_count": 25,
   "metadata": {},
   "outputs": [],
   "source": [
    "assembleDF = assembler.transform(customerDF)"
   ]
  },
  {
   "cell_type": "code",
   "execution_count": 26,
   "metadata": {},
   "outputs": [
    {
     "data": {
      "text/plain": [
       "20"
      ]
     },
     "execution_count": 26,
     "metadata": {},
     "output_type": "execute_result"
    }
   ],
   "source": [
    "assembleDF.rdd.getNumPartitions()"
   ]
  },
  {
   "cell_type": "code",
   "execution_count": 27,
   "metadata": {},
   "outputs": [
    {
     "name": "stdout",
     "output_type": "stream",
     "text": [
      "+--------------------------------------------------------------------------------------------------------------------------------------+\n",
      "|features                                                                                                                              |\n",
      "+--------------------------------------------------------------------------------------------------------------------------------------+\n",
      "|[37.759404,1.0,398.64,0.0,398.64,0.0,1.0,0.0,1.0,0.0,0.0,12.0,2500.0,429.594704,186.268047,1.0,12.0]                                  |\n",
      "|[97.064177,0.545455,863.97,114.0,749.97,0.0,0.416667,0.083333,0.416667,0.0,0.0,9.0,7000.0,1384.018459,103.701385,0.363636,12.0]       |\n",
      "|[1681.16287,0.454545,1138.85,0.0,1138.85,4044.377495,0.416667,0.0,0.333333,0.25,6.0,5.0,4500.0,3763.240294,1818.174017,0.0,12.0]      |\n",
      "|(17,[0,1,5,9,10,12,13,14,16],[51.071594,0.888889,360.199098,0.555556,14.0,500.0,0.049513,67.786744,9.0])                              |\n",
      "|(17,[0,1,5,9,10,12,13,14,16],[4094.433899,1.0,1618.325972,0.5,8.0,7500.0,1070.599052,1441.148962,12.0])                               |\n",
      "|[1344.982445,1.0,224.54,0.0,224.54,0.0,0.5,0.0,0.5,0.0,0.0,18.0,1500.0,619.063466,678.63587,0.0,12.0]                                 |\n",
      "|(17,[0,1,5,9,10,12,13,14,15,16],[805.368458,1.0,1257.626787,0.333333,7.0,1000.0,1515.789235,201.815134,0.083333,12.0])                |\n",
      "|[83.148283,0.636364,843.34,843.34,0.0,0.0,0.5,0.5,0.0,0.0,0.0,17.0,6500.0,1024.267592,122.850835,0.5,12.0]                            |\n",
      "|[8281.348085,1.0,4231.12,3101.11,1130.01,0.0,1.0,1.0,0.583333,0.0,0.0,43.0,10500.0,2856.165405,2046.341231,0.0,12.0]                  |\n",
      "|[220.943665,1.0,1833.34,0.0,1833.34,0.0,0.916667,0.0,0.916667,0.0,0.0,11.0,1000.0,1652.755379,176.825347,0.818182,12.0]               |\n",
      "|(17,[0,1,5,9,10,12,13,14,15,16],[919.85102,1.0,1483.168185,0.25,3.0,2000.0,2087.8452,338.75698,0.083333,12.0])                        |\n",
      "|[1274.851959,1.0,1798.24,144.86,1653.38,756.233501,1.0,0.166667,0.916667,0.166667,3.0,17.0,1500.0,1340.224464,1732.955307,0.0,12.0]   |\n",
      "|[1729.618796,1.0,3533.46,2533.5,999.96,0.0,1.0,0.5,0.833333,0.0,0.0,46.0,5000.0,4868.256038,735.288195,0.083333,12.0]                 |\n",
      "|(17,[0,1,5,9,10,12,13,14,16],[2663.506152,1.0,181.289985,0.083333,1.0,3200.0,705.964088,957.582069,12.0])                             |\n",
      "|[720.995394,0.909091,547.46,457.46,90.0,455.540479,0.909091,0.636364,0.454545,0.363636,13.0,23.0,900.0,315.918387,544.286252,0.0,11.0]|\n",
      "|(17,[2,4,6,8,11,12,13,14,16],[140.4,140.4,1.0,1.0,12.0,2200.0,124.99276,864.2065423050828,12.0])                                      |\n",
      "|[2944.156996,1.0,12.22,12.22,0.0,244.694657,0.083333,0.083333,0.0,0.166667,2.0,1.0,3000.0,628.31462,1288.695715,0.0,12.0]             |\n",
      "|(17,[0,1,5,9,10,12,13,14,16],[2458.376257,0.818182,102.275984,0.083333,1.0,7500.0,4543.63481,647.20869,12.0])                         |\n",
      "|[216.705656,1.0,1442.9,424.6,1018.3,0.0,1.0,0.666667,0.833333,0.0,0.0,29.0,4000.0,1111.898226,87.775306,1.0,6.0]                      |\n",
      "|[9303.557117,1.0,6133.01,4045.67,2087.34,1895.60877,1.0,1.0,1.0,0.833333,23.0,115.0,12500.0,4054.579469,2998.465025,0.0,12.0]         |\n",
      "+--------------------------------------------------------------------------------------------------------------------------------------+\n",
      "only showing top 20 rows\n",
      "\n"
     ]
    }
   ],
   "source": [
    "assembleDF.select('features').show(truncate=False)"
   ]
  },
  {
   "cell_type": "code",
   "execution_count": 28,
   "metadata": {},
   "outputs": [],
   "source": [
    "from pyspark.ml.feature import StandardScaler"
   ]
  },
  {
   "cell_type": "code",
   "execution_count": 29,
   "metadata": {},
   "outputs": [],
   "source": [
    "scaler = StandardScaler(inputCol='features',outputCol='scaledFeatures')"
   ]
  },
  {
   "cell_type": "code",
   "execution_count": 30,
   "metadata": {},
   "outputs": [],
   "source": [
    "scaledDF = scaler.fit(assembleDF).transform(assembleDF)"
   ]
  },
  {
   "cell_type": "code",
   "execution_count": 31,
   "metadata": {},
   "outputs": [],
   "source": [
    "scaledDF = scaledDF.select('scaledFeatures')"
   ]
  },
  {
   "cell_type": "code",
   "execution_count": 32,
   "metadata": {},
   "outputs": [
    {
     "name": "stdout",
     "output_type": "stream",
     "text": [
      "+--------------------+\n",
      "|      scaledFeatures|\n",
      "+--------------------+\n",
      "|[0.01814019971188...|\n",
      "|[0.04663112679558...|\n",
      "|[0.80765655649670...|\n",
      "|(17,[0,1,5,9,10,1...|\n",
      "|(17,[0,1,5,9,10,1...|\n",
      "|[0.6461502983808,...|\n",
      "|(17,[0,1,5,9,10,1...|\n",
      "|[0.03994571681588...|\n",
      "|[3.97848727023200...|\n",
      "|[0.10614474233163...|\n",
      "|(17,[0,1,5,9,10,1...|\n",
      "|[0.61245853190239...|\n",
      "|[0.83093553025551...|\n",
      "|(17,[0,1,5,9,10,1...|\n",
      "|[0.34637730083107...|\n",
      "|(17,[2,4,6,8,11,1...|\n",
      "|[1.41441840264712...|\n",
      "|(17,[0,1,5,9,10,1...|\n",
      "|[0.10410873748259...|\n",
      "|[4.46957224571980...|\n",
      "+--------------------+\n",
      "only showing top 20 rows\n",
      "\n"
     ]
    }
   ],
   "source": [
    "scaledDF.show()"
   ]
  },
  {
   "cell_type": "markdown",
   "metadata": {},
   "source": [
    "### K-means Clustering\n",
    "\n",
    "distanceMeasure = Param(parent='undefined', name='distanceMeasure', doc=\"the distance measure. Supported options: 'euclidean' and 'cosine'.\")\n",
    "\n",
    "featuresCol = Param(parent='undefined', name='featuresCol', doc='features column name.')\n",
    "\n",
    "initMode = Param(parent='undefined', name='initMode', doc='The initialization algorithm. This can be either \"random\" to choose random points as initial cluster centers, or \"k-means||\" to use a parallel variant of k-means++')\n",
    "\n",
    "initSteps = Param(parent='undefined', name='initSteps', doc='The number of steps for k-means|| initialization mode. Must be > 0.')\n",
    "\n",
    "k = Param(parent='undefined', name='k', doc='The number of clusters to create. Must be > 1.')\n",
    "\n",
    "maxIter = Param(parent='undefined', name='maxIter', doc='max number of iterations (>= 0).')¶\n",
    "\n",
    "params\n",
    "\n",
    "Returns all params ordered by name. The default implementation uses dir() to get all attributes of type Param.\n",
    "\n",
    "predictionCol = Param(parent='undefined', name='predictionCol', doc='prediction column name.')\n",
    "\n",
    "seed = Param(parent='undefined', name='seed', doc='random seed.')\n",
    "\n",
    "tol = Param(parent='undefined', name='tol', doc='the convergence tolerance for iterative algorithms (>= 0).')\n",
    "\n",
    "weightCol = Param(parent='undefined', name='weightCol', doc='weight column name. If this is not set or empty, we treat all instance weights as 1.0.')"
   ]
  },
  {
   "cell_type": "code",
   "execution_count": 33,
   "metadata": {},
   "outputs": [],
   "source": [
    "from pyspark.ml.clustering import KMeans\n",
    "from pyspark.ml.evaluation import ClusteringEvaluator"
   ]
  },
  {
   "cell_type": "code",
   "execution_count": 34,
   "metadata": {},
   "outputs": [],
   "source": [
    "eval_result =[]\n",
    "evaluator = ClusteringEvaluator(featuresCol='scaledFeatures', predictionCol='prediction', metricName='silhouette', distanceMeasure='squaredEuclidean')"
   ]
  },
  {
   "cell_type": "code",
   "execution_count": 35,
   "metadata": {},
   "outputs": [],
   "source": [
    "for i in range(3,20):\n",
    "    kmeans = KMeans(featuresCol='scaledFeatures',\n",
    "    predictionCol='prediction',\n",
    "    k=i,\n",
    "    initMode='k-means||',\n",
    "    initSteps=5,\n",
    "    tol=0.0001,\n",
    "    maxIter=20,\n",
    "    seed=None,\n",
    "    distanceMeasure='euclidean')\n",
    "    \n",
    "    kmeansModel = kmeans.fit(scaledDF)\n",
    "    kmeansresult = kmeansModel.transform(scaledDF)\n",
    "    \n",
    "    result = evaluator.evaluate(kmeansresult)\n",
    "    eval_result.append(result)"
   ]
  },
  {
   "cell_type": "code",
   "execution_count": 36,
   "metadata": {},
   "outputs": [
    {
     "name": "stdout",
     "output_type": "stream",
     "text": [
      "[0.27927360343604385, 0.29316700730220563, 0.24970885636951734, 0.2810229879698895, 0.22299681513779435, 0.27400735942280785, 0.2908158035348592, 0.3018701136051864, 0.33486844980503383, 0.3319772866146268, 0.26500222147758895, 0.2986168430621672, 0.32161068285143657, 0.23667356175942067, 0.28273114452255255, 0.2719307509450091, 0.30848201894984056]\n"
     ]
    }
   ],
   "source": [
    "print(eval_result)"
   ]
  },
  {
   "cell_type": "markdown",
   "metadata": {},
   "source": [
    "### Visualizing the silhouette scores in a plot"
   ]
  },
  {
   "cell_type": "code",
   "execution_count": 37,
   "metadata": {},
   "outputs": [
    {
     "ename": "ModuleNotFoundError",
     "evalue": "No module named 'matplotlib'",
     "output_type": "error",
     "traceback": [
      "\u001b[1;31m---------------------------------------------------------------------------\u001b[0m",
      "\u001b[1;31mModuleNotFoundError\u001b[0m                       Traceback (most recent call last)",
      "Input \u001b[1;32mIn [37]\u001b[0m, in \u001b[0;36m<module>\u001b[1;34m\u001b[0m\n\u001b[1;32m----> 1\u001b[0m \u001b[38;5;28;01mimport\u001b[39;00m \u001b[38;5;21;01mmatplotlib\u001b[39;00m\u001b[38;5;21;01m.\u001b[39;00m\u001b[38;5;21;01mpyplot\u001b[39;00m \u001b[38;5;28;01mas\u001b[39;00m \u001b[38;5;21;01mplt\u001b[39;00m\n\u001b[0;32m      2\u001b[0m fig, ax \u001b[38;5;241m=\u001b[39m plt\u001b[38;5;241m.\u001b[39msubplots(\u001b[38;5;241m1\u001b[39m,\u001b[38;5;241m1\u001b[39m, figsize \u001b[38;5;241m=\u001b[39m(\u001b[38;5;241m8\u001b[39m,\u001b[38;5;241m6\u001b[39m))\n\u001b[0;32m      3\u001b[0m ax\u001b[38;5;241m.\u001b[39mplot(\u001b[38;5;28mrange\u001b[39m(\u001b[38;5;241m3\u001b[39m,\u001b[38;5;241m20\u001b[39m),eval_result)\n",
      "\u001b[1;31mModuleNotFoundError\u001b[0m: No module named 'matplotlib'"
     ]
    }
   ],
   "source": [
    "import matplotlib.pyplot as plt\n",
    "fig, ax = plt.subplots(1,1, figsize =(8,6))\n",
    "ax.plot(range(3,20),eval_result)\n",
    "ax.set_xlabel('k')\n",
    "ax.set_ylabel('cost')"
   ]
  },
  {
   "cell_type": "code",
   "execution_count": null,
   "metadata": {},
   "outputs": [],
   "source": [
    "centers = kmeansModel.clusterCenters()\n",
    "print(\"Cluster Centers: \")\n",
    "for center in centers:\n",
    "    print(center)"
   ]
  },
  {
   "cell_type": "code",
   "execution_count": null,
   "metadata": {},
   "outputs": [],
   "source": [
    "kmeans = KMeans(featuresCol='scaledFeatures',predictionCol='prediction',k=10,initMode='k-means||',initSteps=5,tol=0.0001,\n",
    "    maxIter=20,\n",
    "    seed=None,\n",
    "    distanceMeasure='euclidean')\n",
    "    \n",
    "kmeansModel = kmeans.fit(scaledDF)\n",
    "kmeanCluters = kmeansModel.transform(scaledDF)"
   ]
  },
  {
   "cell_type": "code",
   "execution_count": null,
   "metadata": {},
   "outputs": [],
   "source": [
    "kmeanCluters.groupBy('prediction').count().show()"
   ]
  },
  {
   "cell_type": "code",
   "execution_count": null,
   "metadata": {},
   "outputs": [],
   "source": [
    "kmeanCluters.rdd.getNumPartitions()"
   ]
  },
  {
   "cell_type": "code",
   "execution_count": null,
   "metadata": {},
   "outputs": [],
   "source": [
    "evaResult = evaluator.evaluate(kmeanCluters)"
   ]
  },
  {
   "cell_type": "code",
   "execution_count": null,
   "metadata": {},
   "outputs": [],
   "source": [
    "print(evaResult)"
   ]
  },
  {
   "cell_type": "markdown",
   "metadata": {},
   "source": [
    "## Bisecting k-means"
   ]
  },
  {
   "cell_type": "code",
   "execution_count": null,
   "metadata": {},
   "outputs": [],
   "source": [
    "from pyspark.ml.clustering import BisectingKMeans"
   ]
  },
  {
   "cell_type": "code",
   "execution_count": null,
   "metadata": {},
   "outputs": [],
   "source": [
    "bkmeans = BisectingKMeans(k=10,seed=1, featuresCol='scaledFeatures', predictionCol='prediction',maxIter=50)"
   ]
  },
  {
   "cell_type": "code",
   "execution_count": null,
   "metadata": {},
   "outputs": [],
   "source": [
    "bkmeansModel = bkmeans.fit(scaledDF)"
   ]
  },
  {
   "cell_type": "code",
   "execution_count": null,
   "metadata": {},
   "outputs": [],
   "source": [
    "bkmansClusters = bkmeansModel.transform(scaledDF)"
   ]
  },
  {
   "cell_type": "code",
   "execution_count": null,
   "metadata": {},
   "outputs": [],
   "source": [
    "bkmansClusters.show()"
   ]
  },
  {
   "cell_type": "code",
   "execution_count": null,
   "metadata": {},
   "outputs": [],
   "source": [
    "bkmansClusters.groupBy('prediction').count().show()"
   ]
  },
  {
   "cell_type": "code",
   "execution_count": null,
   "metadata": {},
   "outputs": [],
   "source": [
    "bikmeansEvalutionResult = evaluator.evaluate(bkmansClusters)"
   ]
  },
  {
   "cell_type": "code",
   "execution_count": null,
   "metadata": {},
   "outputs": [],
   "source": [
    "print(bikmeansEvalutionResult)"
   ]
  },
  {
   "cell_type": "code",
   "execution_count": null,
   "metadata": {},
   "outputs": [],
   "source": [
    "bi_eval_result=[]\n",
    "for i in range(3,20):\n",
    "    bkmeans = BisectingKMeans(k=i,seed=None, featuresCol='scaledFeatures', predictionCol='prediction',maxIter=50)\n",
    "    \n",
    "    bkmeansModel = bkmeans.fit(scaledDF)\n",
    "    bkmansClusters = bkmeansModel.transform(scaledDF)\n",
    "    \n",
    "    result = evaluator.evaluate(bkmansClusters)\n",
    "    bi_eval_result.append(result)"
   ]
  },
  {
   "cell_type": "code",
   "execution_count": null,
   "metadata": {},
   "outputs": [],
   "source": [
    "import matplotlib.pyplot as plt\n",
    "fig, ax = plt.subplots(1,1, figsize =(8,6))\n",
    "ax.plot(range(3,20),bi_eval_result)\n",
    "ax.set_xlabel('k')\n",
    "ax.set_ylabel('silhouette')"
   ]
  },
  {
   "cell_type": "markdown",
   "metadata": {},
   "source": [
    "## Reading Multiple Files"
   ]
  },
  {
   "cell_type": "code",
   "execution_count": null,
   "metadata": {},
   "outputs": [],
   "source": [
    "from  pyspark.sql.functions import input_file_name\n",
    "\n",
    "txtFiles = spark.read.text('txtFiles/*', wholetext=True).withColumn(\"filename\", input_file_name())"
   ]
  },
  {
   "cell_type": "code",
   "execution_count": null,
   "metadata": {},
   "outputs": [],
   "source": [
    "txtFiles.show(5,truncate=False)"
   ]
  },
  {
   "cell_type": "code",
   "execution_count": null,
   "metadata": {},
   "outputs": [],
   "source": [
    "txtFiles.count()"
   ]
  },
  {
   "cell_type": "code",
   "execution_count": null,
   "metadata": {},
   "outputs": [],
   "source": []
  }
 ],
 "metadata": {
  "kernelspec": {
   "display_name": "Python 3 (ipykernel)",
   "language": "python",
   "name": "python3"
  },
  "language_info": {
   "codemirror_mode": {
    "name": "ipython",
    "version": 3
   },
   "file_extension": ".py",
   "mimetype": "text/x-python",
   "name": "python",
   "nbconvert_exporter": "python",
   "pygments_lexer": "ipython3",
   "version": "3.10.2"
  }
 },
 "nbformat": 4,
 "nbformat_minor": 4
}
