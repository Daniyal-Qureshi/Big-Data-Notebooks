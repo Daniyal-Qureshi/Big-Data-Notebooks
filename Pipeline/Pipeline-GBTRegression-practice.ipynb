{
 "cells": [
  {
   "cell_type": "code",
   "execution_count": 4,
   "id": "b102f840",
   "metadata": {},
   "outputs": [],
   "source": [
    "from pyspark.sql import SparkSession"
   ]
  },
  {
   "cell_type": "code",
   "execution_count": 5,
   "id": "6e55bc2f",
   "metadata": {},
   "outputs": [
    {
     "name": "stderr",
     "output_type": "stream",
     "text": [
      "22/01/10 21:41:01 WARN Utils: Your hostname, daniyal resolves to a loopback address: 127.0.1.1; using 192.168.228.38 instead (on interface wlp1s0)\n",
      "22/01/10 21:41:01 WARN Utils: Set SPARK_LOCAL_IP if you need to bind to another address\n",
      "WARNING: An illegal reflective access operation has occurred\n",
      "WARNING: Illegal reflective access by org.apache.spark.unsafe.Platform (file:/opt/spark/jars/spark-unsafe_2.12-3.2.0.jar) to constructor java.nio.DirectByteBuffer(long,int)\n",
      "WARNING: Please consider reporting this to the maintainers of org.apache.spark.unsafe.Platform\n",
      "WARNING: Use --illegal-access=warn to enable warnings of further illegal reflective access operations\n",
      "WARNING: All illegal access operations will be denied in a future release\n",
      "Using Spark's default log4j profile: org/apache/spark/log4j-defaults.properties\n",
      "Setting default log level to \"WARN\".\n",
      "To adjust logging level use sc.setLogLevel(newLevel). For SparkR, use setLogLevel(newLevel).\n",
      "22/01/10 21:41:02 WARN NativeCodeLoader: Unable to load native-hadoop library for your platform... using builtin-java classes where applicable\n",
      "22/01/10 21:41:03 WARN Utils: Service 'SparkUI' could not bind on port 4040. Attempting port 4041.\n",
      "22/01/10 21:41:03 WARN Utils: Service 'SparkUI' could not bind on port 4041. Attempting port 4042.\n",
      "22/01/10 21:41:03 WARN Utils: Service 'SparkUI' could not bind on port 4042. Attempting port 4043.\n",
      "22/01/10 21:41:03 WARN Utils: Service 'SparkUI' could not bind on port 4043. Attempting port 4044.\n",
      "22/01/10 21:41:03 WARN Utils: Service 'SparkUI' could not bind on port 4044. Attempting port 4045.\n",
      "22/01/10 21:41:03 WARN Utils: Service 'SparkUI' could not bind on port 4045. Attempting port 4046.\n",
      "22/01/10 21:41:03 WARN Utils: Service 'SparkUI' could not bind on port 4046. Attempting port 4047.\n",
      "22/01/10 21:41:03 WARN Utils: Service 'SparkUI' could not bind on port 4047. Attempting port 4048.\n"
     ]
    }
   ],
   "source": [
    "spark = SparkSession.builder.getOrCreate()"
   ]
  },
  {
   "cell_type": "code",
   "execution_count": 7,
   "id": "ff06c265",
   "metadata": {},
   "outputs": [],
   "source": [
    "df = spark.read.csv('data.csv',header=True,inferSchema=True)"
   ]
  },
  {
   "cell_type": "code",
   "execution_count": 10,
   "id": "9c8d2107",
   "metadata": {},
   "outputs": [
    {
     "name": "stdout",
     "output_type": "stream",
     "text": [
      "+------+\n",
      "|   cnt|\n",
      "+------+\n",
      "| 985.0|\n",
      "| 801.0|\n",
      "|1349.0|\n",
      "|1562.0|\n",
      "|1600.0|\n",
      "|1606.0|\n",
      "|1510.0|\n",
      "| 959.0|\n",
      "| 822.0|\n",
      "|1321.0|\n",
      "|1263.0|\n",
      "|1162.0|\n",
      "|1406.0|\n",
      "|1421.0|\n",
      "|1248.0|\n",
      "|1204.0|\n",
      "|1000.0|\n",
      "| 683.0|\n",
      "|1650.0|\n",
      "|1927.0|\n",
      "+------+\n",
      "only showing top 20 rows\n",
      "\n"
     ]
    }
   ],
   "source": [
    "df.select('cnt').show()"
   ]
  },
  {
   "cell_type": "code",
   "execution_count": 45,
   "id": "09be73b9",
   "metadata": {},
   "outputs": [
    {
     "name": "stdout",
     "output_type": "stream",
     "text": [
      "+---+-----+\n",
      "| yr|count|\n",
      "+---+-----+\n",
      "|0.0|  365|\n",
      "|1.0|  366|\n",
      "+---+-----+\n",
      "\n"
     ]
    }
   ],
   "source": [
    "df.groupBy('yr').count().show()"
   ]
  },
  {
   "cell_type": "code",
   "execution_count": 7,
   "id": "4c925874",
   "metadata": {},
   "outputs": [],
   "source": [
    "from pyspark.ml.feature import VectorAssembler,VectorIndexer"
   ]
  },
  {
   "cell_type": "code",
   "execution_count": 8,
   "id": "ea672fc7",
   "metadata": {},
   "outputs": [],
   "source": [
    "cols = [c for c in df.columns if c !='cnt']"
   ]
  },
  {
   "cell_type": "code",
   "execution_count": 9,
   "id": "f2175a5c",
   "metadata": {},
   "outputs": [],
   "source": [
    "va = VectorAssembler(inputCols=cols,outputCol='vafeatures')"
   ]
  },
  {
   "cell_type": "code",
   "execution_count": 10,
   "id": "93c019d4",
   "metadata": {},
   "outputs": [],
   "source": [
    "vi = VectorIndexer(inputCol='vafeatures',outputCol='features',maxCategories=4)"
   ]
  },
  {
   "cell_type": "code",
   "execution_count": 11,
   "id": "4d157dd5",
   "metadata": {},
   "outputs": [],
   "source": [
    "from pyspark.ml.regression import GBTRegressor"
   ]
  },
  {
   "cell_type": "code",
   "execution_count": 12,
   "id": "7aa35f97",
   "metadata": {},
   "outputs": [],
   "source": [
    "gbt = GBTRegressor(featuresCol='features', labelCol='cnt')"
   ]
  },
  {
   "cell_type": "code",
   "execution_count": 13,
   "id": "cb02ada8",
   "metadata": {},
   "outputs": [],
   "source": [
    "from pyspark.ml.evaluation import RegressionEvaluator "
   ]
  },
  {
   "cell_type": "code",
   "execution_count": 14,
   "id": "627b4b8b",
   "metadata": {},
   "outputs": [],
   "source": [
    "eval = RegressionEvaluator(predictionCol=gbt.getPredictionCol(),\n",
    "    labelCol=gbt.getLabelCol(),\n",
    "    metricName='rmse')"
   ]
  },
  {
   "cell_type": "code",
   "execution_count": 15,
   "id": "6202338e",
   "metadata": {},
   "outputs": [
    {
     "name": "stdout",
     "output_type": "stream",
     "text": [
      "cacheNodeIds: If false, the algorithm will pass trees to executors to match instances with nodes. If true, the algorithm will cache node IDs for each instance. Caching can speed up training of deeper trees. Users can set how often should the cache be checkpointed or disable it by setting checkpointInterval. (default: False)\n",
      "checkpointInterval: set checkpoint interval (>= 1) or disable checkpoint (-1). E.g. 10 means that the cache will get checkpointed every 10 iterations. Note: this setting will be ignored if the checkpoint directory is not set in the SparkContext. (default: 10)\n",
      "featureSubsetStrategy: The number of features to consider for splits at each tree node. Supported options: 'auto' (choose automatically for task: If numTrees == 1, set to 'all'. If numTrees > 1 (forest), set to 'sqrt' for classification and to 'onethird' for regression), 'all' (use all features), 'onethird' (use 1/3 of the features), 'sqrt' (use sqrt(number of features)), 'log2' (use log2(number of features)), 'n' (when n is in the range (0, 1.0], use n * number of features. When n is in the range (1, number of features), use n features). default = 'auto' (default: all)\n",
      "featuresCol: features column name. (default: features, current: features)\n",
      "impurity: Criterion used for information gain calculation (case-insensitive). Supported options: variance (default: variance)\n",
      "labelCol: label column name. (default: label, current: cnt)\n",
      "leafCol: Leaf indices column name. Predicted leaf index of each instance in each tree by preorder. (default: )\n",
      "lossType: Loss function which GBT tries to minimize (case-insensitive). Supported options: squared, absolute (default: squared)\n",
      "maxBins: Max number of bins for discretizing continuous features.  Must be >=2 and >= number of categories for any categorical feature. (default: 32)\n",
      "maxDepth: Maximum depth of the tree. (>= 0) E.g., depth 0 means 1 leaf node; depth 1 means 1 internal node + 2 leaf nodes. Must be in range [0, 30]. (default: 5)\n",
      "maxIter: max number of iterations (>= 0). (default: 20)\n",
      "maxMemoryInMB: Maximum memory in MB allocated to histogram aggregation. If too small, then 1 node will be split per iteration, and its aggregates may exceed this size. (default: 256)\n",
      "minInfoGain: Minimum information gain for a split to be considered at a tree node. (default: 0.0)\n",
      "minInstancesPerNode: Minimum number of instances each child must have after split. If a split causes the left or right child to have fewer than minInstancesPerNode, the split will be discarded as invalid. Should be >= 1. (default: 1)\n",
      "minWeightFractionPerNode: Minimum fraction of the weighted sample count that each child must have after split. If a split causes the fraction of the total weight in the left or right child to be less than minWeightFractionPerNode, the split will be discarded as invalid. Should be in interval [0.0, 0.5). (default: 0.0)\n",
      "predictionCol: prediction column name. (default: prediction)\n",
      "seed: random seed. (default: 2355926070992973601)\n",
      "stepSize: Step size (a.k.a. learning rate) in interval (0, 1] for shrinking the contribution of each estimator. (default: 0.1)\n",
      "subsamplingRate: Fraction of the training data used for learning each decision tree, in range (0, 1]. (default: 1.0)\n",
      "validationIndicatorCol: name of the column that indicates whether each row is for training or for validation. False indicates training; true indicates validation. (undefined)\n",
      "validationTol: Threshold for stopping early when fit with validation is used. If the error rate on the validation input changes by less than the validationTol, then learning will stop early (before `maxIter`). This parameter is ignored when fit without validation is used. (default: 0.01)\n",
      "weightCol: weight column name. If this is not set or empty, we treat all instance weights as 1.0. (undefined)\n"
     ]
    }
   ],
   "source": [
    "print(gbt.explainParams())"
   ]
  },
  {
   "cell_type": "code",
   "execution_count": 16,
   "id": "0027976e",
   "metadata": {},
   "outputs": [],
   "source": [
    "from pyspark.ml.tuning import CrossValidator, ParamGridBuilder\n",
    "from pyspark.ml.pipeline import Pipeline"
   ]
  },
  {
   "cell_type": "code",
   "execution_count": 17,
   "id": "abb3d444",
   "metadata": {},
   "outputs": [],
   "source": [
    "param = ParamGridBuilder().addGrid(gbt.maxIter,[10,15]).addGrid(gbt.stepSize,[0.05,0.08]).addGrid(gbt.maxDepth,[3,10]).build()"
   ]
  },
  {
   "cell_type": "code",
   "execution_count": 18,
   "id": "1bcb43ac",
   "metadata": {},
   "outputs": [],
   "source": [
    "cv = CrossValidator(estimator=gbt,\n",
    "    estimatorParamMaps=param,\n",
    "    evaluator=eval,\n",
    "    numFolds=3,\n",
    "    parallelism=8)"
   ]
  },
  {
   "cell_type": "code",
   "execution_count": 19,
   "id": "f44e5f1b",
   "metadata": {},
   "outputs": [],
   "source": [
    "pipe = Pipeline(stages=[va,vi,cv])"
   ]
  },
  {
   "cell_type": "code",
   "execution_count": 20,
   "id": "c6de8eab",
   "metadata": {},
   "outputs": [
    {
     "name": "stdout",
     "output_type": "stream",
     "text": [
      "root\n",
      " |-- season: double (nullable = true)\n",
      " |-- yr: double (nullable = true)\n",
      " |-- mnth: double (nullable = true)\n",
      " |-- holiday: double (nullable = true)\n",
      " |-- weekday: double (nullable = true)\n",
      " |-- workingday: double (nullable = true)\n",
      " |-- weathersit: double (nullable = true)\n",
      " |-- temp: double (nullable = true)\n",
      " |-- atemp: double (nullable = true)\n",
      " |-- hum: double (nullable = true)\n",
      " |-- windspeed: double (nullable = true)\n",
      " |-- cnt: double (nullable = true)\n",
      "\n"
     ]
    }
   ],
   "source": [
    "df.printSchema()"
   ]
  },
  {
   "cell_type": "code",
   "execution_count": 21,
   "id": "a0bcd6be",
   "metadata": {},
   "outputs": [],
   "source": [
    "train, test = df.randomSplit([0.7,0.3])"
   ]
  },
  {
   "cell_type": "code",
   "execution_count": 22,
   "id": "65e1bf1d",
   "metadata": {},
   "outputs": [],
   "source": [
    "pModel = pipe.fit(train)"
   ]
  },
  {
   "cell_type": "code",
   "execution_count": 23,
   "id": "783eeb51",
   "metadata": {},
   "outputs": [],
   "source": [
    "explainPrm = pModel.stages[-1].explainParams()"
   ]
  },
  {
   "cell_type": "code",
   "execution_count": 24,
   "id": "ad5ac45d",
   "metadata": {},
   "outputs": [
    {
     "data": {
      "text/plain": [
       "\"estimator: estimator to be cross-validated (current: GBTRegressor_9dd10e034409)\\nestimatorParamMaps: estimator param maps (current: [{Param(parent='GBTRegressor_9dd10e034409', name='maxIter', doc='max number of iterations (>= 0).'): 10, Param(parent='GBTRegressor_9dd10e034409', name='stepSize', doc='Step size (a.k.a. learning rate) in interval (0, 1] for shrinking the contribution of each estimator.'): 0.05, Param(parent='GBTRegressor_9dd10e034409', name='maxDepth', doc='Maximum depth of the tree. (>= 0) E.g., depth 0 means 1 leaf node; depth 1 means 1 internal node + 2 leaf nodes. Must be in range [0, 30].'): 3}, {Param(parent='GBTRegressor_9dd10e034409', name='maxIter', doc='max number of iterations (>= 0).'): 10, Param(parent='GBTRegressor_9dd10e034409', name='stepSize', doc='Step size (a.k.a. learning rate) in interval (0, 1] for shrinking the contribution of each estimator.'): 0.05, Param(parent='GBTRegressor_9dd10e034409', name='maxDepth', doc='Maximum depth of the tree. (>= 0) E.g., depth 0 means 1 leaf node; depth 1 means 1 internal node + 2 leaf nodes. Must be in range [0, 30].'): 10}, {Param(parent='GBTRegressor_9dd10e034409', name='maxIter', doc='max number of iterations (>= 0).'): 10, Param(parent='GBTRegressor_9dd10e034409', name='stepSize', doc='Step size (a.k.a. learning rate) in interval (0, 1] for shrinking the contribution of each estimator.'): 0.08, Param(parent='GBTRegressor_9dd10e034409', name='maxDepth', doc='Maximum depth of the tree. (>= 0) E.g., depth 0 means 1 leaf node; depth 1 means 1 internal node + 2 leaf nodes. Must be in range [0, 30].'): 3}, {Param(parent='GBTRegressor_9dd10e034409', name='maxIter', doc='max number of iterations (>= 0).'): 10, Param(parent='GBTRegressor_9dd10e034409', name='stepSize', doc='Step size (a.k.a. learning rate) in interval (0, 1] for shrinking the contribution of each estimator.'): 0.08, Param(parent='GBTRegressor_9dd10e034409', name='maxDepth', doc='Maximum depth of the tree. (>= 0) E.g., depth 0 means 1 leaf node; depth 1 means 1 internal node + 2 leaf nodes. Must be in range [0, 30].'): 10}, {Param(parent='GBTRegressor_9dd10e034409', name='maxIter', doc='max number of iterations (>= 0).'): 15, Param(parent='GBTRegressor_9dd10e034409', name='stepSize', doc='Step size (a.k.a. learning rate) in interval (0, 1] for shrinking the contribution of each estimator.'): 0.05, Param(parent='GBTRegressor_9dd10e034409', name='maxDepth', doc='Maximum depth of the tree. (>= 0) E.g., depth 0 means 1 leaf node; depth 1 means 1 internal node + 2 leaf nodes. Must be in range [0, 30].'): 3}, {Param(parent='GBTRegressor_9dd10e034409', name='maxIter', doc='max number of iterations (>= 0).'): 15, Param(parent='GBTRegressor_9dd10e034409', name='stepSize', doc='Step size (a.k.a. learning rate) in interval (0, 1] for shrinking the contribution of each estimator.'): 0.05, Param(parent='GBTRegressor_9dd10e034409', name='maxDepth', doc='Maximum depth of the tree. (>= 0) E.g., depth 0 means 1 leaf node; depth 1 means 1 internal node + 2 leaf nodes. Must be in range [0, 30].'): 10}, {Param(parent='GBTRegressor_9dd10e034409', name='maxIter', doc='max number of iterations (>= 0).'): 15, Param(parent='GBTRegressor_9dd10e034409', name='stepSize', doc='Step size (a.k.a. learning rate) in interval (0, 1] for shrinking the contribution of each estimator.'): 0.08, Param(parent='GBTRegressor_9dd10e034409', name='maxDepth', doc='Maximum depth of the tree. (>= 0) E.g., depth 0 means 1 leaf node; depth 1 means 1 internal node + 2 leaf nodes. Must be in range [0, 30].'): 3}, {Param(parent='GBTRegressor_9dd10e034409', name='maxIter', doc='max number of iterations (>= 0).'): 15, Param(parent='GBTRegressor_9dd10e034409', name='stepSize', doc='Step size (a.k.a. learning rate) in interval (0, 1] for shrinking the contribution of each estimator.'): 0.08, Param(parent='GBTRegressor_9dd10e034409', name='maxDepth', doc='Maximum depth of the tree. (>= 0) E.g., depth 0 means 1 leaf node; depth 1 means 1 internal node + 2 leaf nodes. Must be in range [0, 30].'): 10}])\\nevaluator: evaluator used to select hyper-parameters that maximize the validator metric (current: RegressionEvaluator_12af582202da)\\nfoldCol: Param for the column name of user specified fold number. Once this is specified, :py:class:`CrossValidator` won't do random k-fold split. Note that this column should be integer type with range [0, numFolds) and Spark will throw exception on out-of-range fold numbers. (default: )\\nnumFolds: number of folds for cross validation (default: 3, current: 3)\\nseed: random seed. (default: 4697197562029661849)\""
      ]
     },
     "execution_count": 24,
     "metadata": {},
     "output_type": "execute_result"
    }
   ],
   "source": [
    "explainPrm"
   ]
  },
  {
   "cell_type": "code",
   "execution_count": 25,
   "id": "b98aeb12",
   "metadata": {},
   "outputs": [],
   "source": [
    "bestModel = pModel.stages[-1].bestModel"
   ]
  },
  {
   "cell_type": "code",
   "execution_count": 26,
   "id": "33fb612b",
   "metadata": {},
   "outputs": [
    {
     "data": {
      "text/plain": [
       "GBTRegressionModel: uid=GBTRegressor_9dd10e034409, numTrees=15, numFeatures=11"
      ]
     },
     "execution_count": 26,
     "metadata": {},
     "output_type": "execute_result"
    }
   ],
   "source": [
    "bestModel"
   ]
  },
  {
   "cell_type": "code",
   "execution_count": 27,
   "id": "4c60aa9b",
   "metadata": {},
   "outputs": [
    {
     "data": {
      "text/plain": [
       "DataFrame[season: double, yr: double, mnth: double, holiday: double, weekday: double, workingday: double, weathersit: double, temp: double, atemp: double, hum: double, windspeed: double, cnt: double, vafeatures: vector, features: vector, prediction: double]"
      ]
     },
     "execution_count": 27,
     "metadata": {},
     "output_type": "execute_result"
    }
   ],
   "source": [
    "evalu = pModel.transform(test)\n",
    "evalu"
   ]
  },
  {
   "cell_type": "code",
   "execution_count": 31,
   "id": "fb43c343",
   "metadata": {},
   "outputs": [],
   "source": [
    "finalRes = eval.setMetricName('r2').evaluate(evalu)"
   ]
  },
  {
   "cell_type": "code",
   "execution_count": 32,
   "id": "15c4b4c8",
   "metadata": {},
   "outputs": [
    {
     "data": {
      "text/plain": [
       "0.8724726592297816"
      ]
     },
     "execution_count": 32,
     "metadata": {},
     "output_type": "execute_result"
    }
   ],
   "source": [
    "finalRes"
   ]
  }
 ],
 "metadata": {
  "kernelspec": {
   "display_name": "Python 3 (ipykernel)",
   "language": "python",
   "name": "python3"
  },
  "language_info": {
   "codemirror_mode": {
    "name": "ipython",
    "version": 3
   },
   "file_extension": ".py",
   "mimetype": "text/x-python",
   "name": "python",
   "nbconvert_exporter": "python",
   "pygments_lexer": "ipython3",
   "version": "3.8.10"
  }
 },
 "nbformat": 4,
 "nbformat_minor": 5
}
