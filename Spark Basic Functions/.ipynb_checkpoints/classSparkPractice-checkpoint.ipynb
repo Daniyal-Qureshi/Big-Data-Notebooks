{
 "cells": [
  {
   "cell_type": "code",
   "execution_count": 1,
   "metadata": {
    "executionInfo": {
     "elapsed": 8,
     "status": "ok",
     "timestamp": 1639645864274,
     "user": {
      "displayName": "Tahir Ahmed (F-Name: Abdul Qayoom",
      "photoUrl": "https://lh3.googleusercontent.com/a-/AOh14Gg6I5WwvaUJMfWCjQbqjFU-EMnNyMsoRpjwo6S2=s64",
      "userId": "03924803413236565866"
     },
     "user_tz": -300
    },
    "id": "xmRmmzycgTw3"
   },
   "outputs": [],
   "source": [
    "from pyspark.sql import SparkSession"
   ]
  },
  {
   "cell_type": "code",
   "execution_count": 2,
   "metadata": {
    "executionInfo": {
     "elapsed": 6944,
     "status": "ok",
     "timestamp": 1639645872771,
     "user": {
      "displayName": "Tahir Ahmed (F-Name: Abdul Qayoom",
      "photoUrl": "https://lh3.googleusercontent.com/a-/AOh14Gg6I5WwvaUJMfWCjQbqjFU-EMnNyMsoRpjwo6S2=s64",
      "userId": "03924803413236565866"
     },
     "user_tz": -300
    },
    "id": "HCemyRwPgeLJ"
   },
   "outputs": [
    {
     "name": "stderr",
     "output_type": "stream",
     "text": [
      "22/02/17 11:26:00 WARN Utils: Your hostname, daniyal resolves to a loopback address: 127.0.1.1; using 172.17.0.1 instead (on interface docker0)\n",
      "22/02/17 11:26:00 WARN Utils: Set SPARK_LOCAL_IP if you need to bind to another address\n",
      "WARNING: An illegal reflective access operation has occurred\n",
      "WARNING: Illegal reflective access by org.apache.spark.unsafe.Platform (file:/opt/spark/jars/spark-unsafe_2.12-3.2.0.jar) to constructor java.nio.DirectByteBuffer(long,int)\n",
      "WARNING: Please consider reporting this to the maintainers of org.apache.spark.unsafe.Platform\n",
      "WARNING: Use --illegal-access=warn to enable warnings of further illegal reflective access operations\n",
      "WARNING: All illegal access operations will be denied in a future release\n",
      "Using Spark's default log4j profile: org/apache/spark/log4j-defaults.properties\n",
      "Setting default log level to \"WARN\".\n",
      "To adjust logging level use sc.setLogLevel(newLevel). For SparkR, use setLogLevel(newLevel).\n",
      "22/02/17 11:26:01 WARN NativeCodeLoader: Unable to load native-hadoop library for your platform... using builtin-java classes where applicable\n",
      "22/02/17 11:26:02 WARN Utils: Service 'SparkUI' could not bind on port 4040. Attempting port 4041.\n",
      "22/02/17 11:26:02 WARN Utils: Service 'SparkUI' could not bind on port 4041. Attempting port 4042.\n"
     ]
    }
   ],
   "source": [
    "spark = SparkSession.builder.getOrCreate()"
   ]
  },
  {
   "cell_type": "code",
   "execution_count": 4,
   "metadata": {
    "executionInfo": {
     "elapsed": 879,
     "status": "ok",
     "timestamp": 1639651515304,
     "user": {
      "displayName": "Tahir Ahmed (F-Name: Abdul Qayoom",
      "photoUrl": "https://lh3.googleusercontent.com/a-/AOh14Gg6I5WwvaUJMfWCjQbqjFU-EMnNyMsoRpjwo6S2=s64",
      "userId": "03924803413236565866"
     },
     "user_tz": -300
    },
    "id": "069z63G2geVf"
   },
   "outputs": [],
   "source": [
    "df=spark.read.csv(\"adult.csv\",inferSchema=True, header=True,ignoreLeadingWhiteSpace=True,ignoreTrailingWhiteSpace=True)"
   ]
  },
  {
   "cell_type": "code",
   "execution_count": 5,
   "metadata": {
    "colab": {
     "base_uri": "https://localhost:8080/"
    },
    "executionInfo": {
     "elapsed": 365,
     "status": "ok",
     "timestamp": 1639646124968,
     "user": {
      "displayName": "Tahir Ahmed (F-Name: Abdul Qayoom",
      "photoUrl": "https://lh3.googleusercontent.com/a-/AOh14Gg6I5WwvaUJMfWCjQbqjFU-EMnNyMsoRpjwo6S2=s64",
      "userId": "03924803413236565866"
     },
     "user_tz": -300
    },
    "id": "9QyLBaO5hDMW",
    "outputId": "1c0fa920-c329-4b29-93da-c0a9b16068b0"
   },
   "outputs": [
    {
     "data": {
      "text/plain": [
       "32561"
      ]
     },
     "execution_count": 5,
     "metadata": {},
     "output_type": "execute_result"
    }
   ],
   "source": [
    "df.count()"
   ]
  },
  {
   "cell_type": "code",
   "execution_count": 6,
   "metadata": {
    "id": "rpjwdQWAijBp"
   },
   "outputs": [
    {
     "data": {
      "text/plain": [
       "<bound method DataFrame.dropna of DataFrame[age: int, workclass: string, fnlwgt: int, education: string, education-years: int, marital-status: string, occupation: string, relationship: string, ethnic-group: string, gender: string, capital-gain: int, capital-loss: int, hours-per-week: int, country: string, target: string]>"
      ]
     },
     "execution_count": 6,
     "metadata": {},
     "output_type": "execute_result"
    }
   ],
   "source": [
    "df.dropna"
   ]
  },
  {
   "cell_type": "code",
   "execution_count": 8,
   "metadata": {
    "executionInfo": {
     "elapsed": 802,
     "status": "ok",
     "timestamp": 1639646579234,
     "user": {
      "displayName": "Tahir Ahmed (F-Name: Abdul Qayoom",
      "photoUrl": "https://lh3.googleusercontent.com/a-/AOh14Gg6I5WwvaUJMfWCjQbqjFU-EMnNyMsoRpjwo6S2=s64",
      "userId": "03924803413236565866"
     },
     "user_tz": -300
    },
    "id": "xr3NT-7oijEn"
   },
   "outputs": [],
   "source": [
    "from pyspark.sql.functions import col,count,when,isnan"
   ]
  },
  {
   "cell_type": "code",
   "execution_count": 9,
   "metadata": {
    "colab": {
     "base_uri": "https://localhost:8080/"
    },
    "executionInfo": {
     "elapsed": 1746,
     "status": "ok",
     "timestamp": 1639646711633,
     "user": {
      "displayName": "Tahir Ahmed (F-Name: Abdul Qayoom",
      "photoUrl": "https://lh3.googleusercontent.com/a-/AOh14Gg6I5WwvaUJMfWCjQbqjFU-EMnNyMsoRpjwo6S2=s64",
      "userId": "03924803413236565866"
     },
     "user_tz": -300
    },
    "id": "pVxsPv72ijM3",
    "outputId": "018ecbb2-0b49-4fac-921c-9da20e4acc88"
   },
   "outputs": [
    {
     "name": "stdout",
     "output_type": "stream",
     "text": [
      "+---+---------+------+---------+---------------+--------------+----------+------------+------------+------+------------+------------+--------------+-------+------+\n",
      "|age|workclass|fnlwgt|education|education-years|marital-status|occupation|relationship|ethnic-group|gender|capital-gain|capital-loss|hours-per-week|country|target|\n",
      "+---+---------+------+---------+---------------+--------------+----------+------------+------------+------+------------+------------+--------------+-------+------+\n",
      "|  0|     1836|     0|        0|              0|             0|      1843|           0|           0|     0|           0|           0|             0|    583|     0|\n",
      "+---+---------+------+---------+---------------+--------------+----------+------------+------------+------+------------+------------+--------------+-------+------+\n",
      "\n"
     ]
    }
   ],
   "source": [
    "df.select([count(when(  col(c).contains('?') | col(c).contains(\"NULL\") ,c)).alias(c) for c in df.columns]).show()"
   ]
  },
  {
   "cell_type": "code",
   "execution_count": 10,
   "metadata": {
    "colab": {
     "base_uri": "https://localhost:8080/"
    },
    "executionInfo": {
     "elapsed": 7,
     "status": "ok",
     "timestamp": 1639646746325,
     "user": {
      "displayName": "Tahir Ahmed (F-Name: Abdul Qayoom",
      "photoUrl": "https://lh3.googleusercontent.com/a-/AOh14Gg6I5WwvaUJMfWCjQbqjFU-EMnNyMsoRpjwo6S2=s64",
      "userId": "03924803413236565866"
     },
     "user_tz": -300
    },
    "id": "Ih-6WEhwjUx_",
    "outputId": "05c36f08-25a4-46e9-f6fa-db9cbf1d5fe2"
   },
   "outputs": [
    {
     "name": "stdout",
     "output_type": "stream",
     "text": [
      "root\n",
      " |-- age: integer (nullable = true)\n",
      " |-- workclass: string (nullable = true)\n",
      " |-- fnlwgt: integer (nullable = true)\n",
      " |-- education: string (nullable = true)\n",
      " |-- education-years: integer (nullable = true)\n",
      " |-- marital-status: string (nullable = true)\n",
      " |-- occupation: string (nullable = true)\n",
      " |-- relationship: string (nullable = true)\n",
      " |-- ethnic-group: string (nullable = true)\n",
      " |-- gender: string (nullable = true)\n",
      " |-- capital-gain: integer (nullable = true)\n",
      " |-- capital-loss: integer (nullable = true)\n",
      " |-- hours-per-week: integer (nullable = true)\n",
      " |-- country: string (nullable = true)\n",
      " |-- target: string (nullable = true)\n",
      "\n"
     ]
    }
   ],
   "source": [
    "df.printSchema()"
   ]
  },
  {
   "cell_type": "code",
   "execution_count": 11,
   "metadata": {
    "executionInfo": {
     "elapsed": 546,
     "status": "ok",
     "timestamp": 1639647454311,
     "user": {
      "displayName": "Tahir Ahmed (F-Name: Abdul Qayoom",
      "photoUrl": "https://lh3.googleusercontent.com/a-/AOh14Gg6I5WwvaUJMfWCjQbqjFU-EMnNyMsoRpjwo6S2=s64",
      "userId": "03924803413236565866"
     },
     "user_tz": -300
    },
    "id": "m50yN3-QjU0l"
   },
   "outputs": [],
   "source": [
    "stringCols = [\"workclass\",\"education\",\"marital-status\",\"occupation\",\"relationship\",\"ethnic-group\",\"country\"]"
   ]
  },
  {
   "cell_type": "code",
   "execution_count": 12,
   "metadata": {
    "executionInfo": {
     "elapsed": 7,
     "status": "ok",
     "timestamp": 1639647454854,
     "user": {
      "displayName": "Tahir Ahmed (F-Name: Abdul Qayoom",
      "photoUrl": "https://lh3.googleusercontent.com/a-/AOh14Gg6I5WwvaUJMfWCjQbqjFU-EMnNyMsoRpjwo6S2=s64",
      "userId": "03924803413236565866"
     },
     "user_tz": -300
    },
    "id": "dvGAun17jU3V"
   },
   "outputs": [],
   "source": [
    "from pyspark.ml.feature import StringIndexer, OneHotEncoder"
   ]
  },
  {
   "cell_type": "code",
   "execution_count": 13,
   "metadata": {
    "executionInfo": {
     "elapsed": 344,
     "status": "ok",
     "timestamp": 1639647638414,
     "user": {
      "displayName": "Tahir Ahmed (F-Name: Abdul Qayoom",
      "photoUrl": "https://lh3.googleusercontent.com/a-/AOh14Gg6I5WwvaUJMfWCjQbqjFU-EMnNyMsoRpjwo6S2=s64",
      "userId": "03924803413236565866"
     },
     "user_tz": -300
    },
    "id": "YTI-n62Hl2cQ"
   },
   "outputs": [],
   "source": [
    "outCols = [\"workclass1\",\"education1\",\"marital-status1\",\"occupation1\",\"relationship1\",\"ethnic-group1\",\"country1\"]"
   ]
  },
  {
   "cell_type": "code",
   "execution_count": 14,
   "metadata": {
    "executionInfo": {
     "elapsed": 4,
     "status": "ok",
     "timestamp": 1639651521373,
     "user": {
      "displayName": "Tahir Ahmed (F-Name: Abdul Qayoom",
      "photoUrl": "https://lh3.googleusercontent.com/a-/AOh14Gg6I5WwvaUJMfWCjQbqjFU-EMnNyMsoRpjwo6S2=s64",
      "userId": "03924803413236565866"
     },
     "user_tz": -300
    },
    "id": "7IlB_UIWlEnB"
   },
   "outputs": [],
   "source": [
    "si= StringIndexer(inputCols=stringCols,outputCols=outCols)"
   ]
  },
  {
   "cell_type": "code",
   "execution_count": 15,
   "metadata": {
    "executionInfo": {
     "elapsed": 1813,
     "status": "ok",
     "timestamp": 1639647457250,
     "user": {
      "displayName": "Tahir Ahmed (F-Name: Abdul Qayoom",
      "photoUrl": "https://lh3.googleusercontent.com/a-/AOh14Gg6I5WwvaUJMfWCjQbqjFU-EMnNyMsoRpjwo6S2=s64",
      "userId": "03924803413236565866"
     },
     "user_tz": -300
    },
    "id": "Y-6p_kMMlEpu"
   },
   "outputs": [
    {
     "name": "stderr",
     "output_type": "stream",
     "text": [
      "                                                                                \r"
     ]
    },
    {
     "name": "stdout",
     "output_type": "stream",
     "text": [
      "root\n",
      " |-- age: integer (nullable = true)\n",
      " |-- workclass: string (nullable = true)\n",
      " |-- fnlwgt: integer (nullable = true)\n",
      " |-- education: string (nullable = true)\n",
      " |-- education-years: integer (nullable = true)\n",
      " |-- marital-status: string (nullable = true)\n",
      " |-- occupation: string (nullable = true)\n",
      " |-- relationship: string (nullable = true)\n",
      " |-- ethnic-group: string (nullable = true)\n",
      " |-- gender: string (nullable = true)\n",
      " |-- capital-gain: integer (nullable = true)\n",
      " |-- capital-loss: integer (nullable = true)\n",
      " |-- hours-per-week: integer (nullable = true)\n",
      " |-- country: string (nullable = true)\n",
      " |-- target: string (nullable = true)\n",
      " |-- workclass1: double (nullable = false)\n",
      " |-- education1: double (nullable = false)\n",
      " |-- marital-status1: double (nullable = false)\n",
      " |-- occupation1: double (nullable = false)\n",
      " |-- relationship1: double (nullable = false)\n",
      " |-- ethnic-group1: double (nullable = false)\n",
      " |-- country1: double (nullable = false)\n",
      "\n"
     ]
    }
   ],
   "source": [
    "siDf=si.fit(df).transform(df)\n",
    "for i in stringCols:\n",
    "    siDf.drop(i)\n",
    "    \n",
    "siDf.printSchema()    "
   ]
  },
  {
   "cell_type": "code",
   "execution_count": 49,
   "metadata": {
    "colab": {
     "base_uri": "https://localhost:8080/"
    },
    "executionInfo": {
     "elapsed": 607,
     "status": "ok",
     "timestamp": 1639647488805,
     "user": {
      "displayName": "Tahir Ahmed (F-Name: Abdul Qayoom",
      "photoUrl": "https://lh3.googleusercontent.com/a-/AOh14Gg6I5WwvaUJMfWCjQbqjFU-EMnNyMsoRpjwo6S2=s64",
      "userId": "03924803413236565866"
     },
     "user_tz": -300
    },
    "id": "k3tBow1UlEsh",
    "outputId": "65cc2c0a-d839-4205-b868-95441878eb2e"
   },
   "outputs": [
    {
     "name": "stdout",
     "output_type": "stream",
     "text": [
      "+----------+----------+---------------+-----------+-------------+-------------+--------+\n",
      "|workclass1|education1|marital-status1|occupation1|relationship1|ethnic-group1|country1|\n",
      "+----------+----------+---------------+-----------+-------------+-------------+--------+\n",
      "|       4.0|       2.0|            1.0|        3.0|          1.0|          0.0|     0.0|\n",
      "|       1.0|       2.0|            0.0|        2.0|          0.0|          0.0|     0.0|\n",
      "|       0.0|       0.0|            2.0|        9.0|          1.0|          0.0|     0.0|\n",
      "|       0.0|       5.0|            0.0|        9.0|          0.0|          1.0|     0.0|\n",
      "|       0.0|       2.0|            0.0|        0.0|          4.0|          1.0|     9.0|\n",
      "|       0.0|       3.0|            0.0|        2.0|          4.0|          0.0|     0.0|\n",
      "|       0.0|      10.0|            5.0|        5.0|          1.0|          1.0|    11.0|\n",
      "|       1.0|       0.0|            0.0|        2.0|          0.0|          0.0|     0.0|\n",
      "|       0.0|       3.0|            1.0|        0.0|          1.0|          0.0|     0.0|\n",
      "|       0.0|       2.0|            0.0|        2.0|          0.0|          0.0|     0.0|\n",
      "|       0.0|       1.0|            0.0|        2.0|          0.0|          1.0|     0.0|\n",
      "|       4.0|       2.0|            0.0|        0.0|          0.0|          2.0|     8.0|\n",
      "|       0.0|       2.0|            1.0|        3.0|          2.0|          0.0|     0.0|\n",
      "|       0.0|       6.0|            1.0|        4.0|          1.0|          1.0|     0.0|\n",
      "|       0.0|       4.0|            0.0|        1.0|          0.0|          2.0|     2.0|\n",
      "|       0.0|       8.0|            0.0|        8.0|          0.0|          3.0|     1.0|\n",
      "|       1.0|       0.0|            1.0|       10.0|          2.0|          0.0|     0.0|\n",
      "|       0.0|       0.0|            1.0|        6.0|          3.0|          0.0|     0.0|\n",
      "|       0.0|       5.0|            0.0|        4.0|          0.0|          0.0|     0.0|\n",
      "|       1.0|       3.0|            2.0|        2.0|          3.0|          0.0|     0.0|\n",
      "+----------+----------+---------------+-----------+-------------+-------------+--------+\n",
      "only showing top 20 rows\n",
      "\n"
     ]
    }
   ],
   "source": [
    "siDf.select(outCols).show()"
   ]
  },
  {
   "cell_type": "code",
   "execution_count": 50,
   "metadata": {
    "executionInfo": {
     "elapsed": 343,
     "status": "ok",
     "timestamp": 1639647642170,
     "user": {
      "displayName": "Tahir Ahmed (F-Name: Abdul Qayoom",
      "photoUrl": "https://lh3.googleusercontent.com/a-/AOh14Gg6I5WwvaUJMfWCjQbqjFU-EMnNyMsoRpjwo6S2=s64",
      "userId": "03924803413236565866"
     },
     "user_tz": -300
    },
    "id": "0tSh5v-9m4ca"
   },
   "outputs": [],
   "source": [
    "outCols2 = [\"workclass2\",\"education2\",\"marital-status2\",\"occupation2\",\"relationship2\",\"ethnic-group2\",\"country2\"]"
   ]
  },
  {
   "cell_type": "code",
   "execution_count": 51,
   "metadata": {
    "executionInfo": {
     "elapsed": 4,
     "status": "ok",
     "timestamp": 1639651529377,
     "user": {
      "displayName": "Tahir Ahmed (F-Name: Abdul Qayoom",
      "photoUrl": "https://lh3.googleusercontent.com/a-/AOh14Gg6I5WwvaUJMfWCjQbqjFU-EMnNyMsoRpjwo6S2=s64",
      "userId": "03924803413236565866"
     },
     "user_tz": -300
    },
    "id": "COHNNJAAm4ff"
   },
   "outputs": [],
   "source": [
    "ohi=OneHotEncoder(inputCols=outCols,outputCols=outCols2)"
   ]
  },
  {
   "cell_type": "code",
   "execution_count": 52,
   "metadata": {
    "executionInfo": {
     "elapsed": 5,
     "status": "ok",
     "timestamp": 1639647715670,
     "user": {
      "displayName": "Tahir Ahmed (F-Name: Abdul Qayoom",
      "photoUrl": "https://lh3.googleusercontent.com/a-/AOh14Gg6I5WwvaUJMfWCjQbqjFU-EMnNyMsoRpjwo6S2=s64",
      "userId": "03924803413236565866"
     },
     "user_tz": -300
    },
    "id": "cMzbNlWTnRk8"
   },
   "outputs": [],
   "source": [
    "ohiDf=ohi.fit(siDf).transform(siDf)\n",
    "\n",
    "for i in outCols:\n",
    "    ohiDf.drop(i)\n",
    "    \n"
   ]
  },
  {
   "cell_type": "code",
   "execution_count": 53,
   "metadata": {
    "colab": {
     "base_uri": "https://localhost:8080/"
    },
    "executionInfo": {
     "elapsed": 608,
     "status": "ok",
     "timestamp": 1639647732510,
     "user": {
      "displayName": "Tahir Ahmed (F-Name: Abdul Qayoom",
      "photoUrl": "https://lh3.googleusercontent.com/a-/AOh14Gg6I5WwvaUJMfWCjQbqjFU-EMnNyMsoRpjwo6S2=s64",
      "userId": "03924803413236565866"
     },
     "user_tz": -300
    },
    "id": "QqGfrjpTnRm2",
    "outputId": "3b2f7996-d538-4113-a404-a575feee904d"
   },
   "outputs": [
    {
     "name": "stdout",
     "output_type": "stream",
     "text": [
      "root\n",
      " |-- age: integer (nullable = true)\n",
      " |-- workclass: string (nullable = true)\n",
      " |-- fnlwgt: integer (nullable = true)\n",
      " |-- education: string (nullable = true)\n",
      " |-- education-years: integer (nullable = true)\n",
      " |-- marital-status: string (nullable = true)\n",
      " |-- occupation: string (nullable = true)\n",
      " |-- relationship: string (nullable = true)\n",
      " |-- ethnic-group: string (nullable = true)\n",
      " |-- gender: string (nullable = true)\n",
      " |-- capital-gain: integer (nullable = true)\n",
      " |-- capital-loss: integer (nullable = true)\n",
      " |-- hours-per-week: integer (nullable = true)\n",
      " |-- country: string (nullable = true)\n",
      " |-- target: string (nullable = true)\n",
      " |-- workclass1: double (nullable = false)\n",
      " |-- education1: double (nullable = false)\n",
      " |-- marital-status1: double (nullable = false)\n",
      " |-- occupation1: double (nullable = false)\n",
      " |-- relationship1: double (nullable = false)\n",
      " |-- ethnic-group1: double (nullable = false)\n",
      " |-- country1: double (nullable = false)\n",
      " |-- workclass2: vector (nullable = true)\n",
      " |-- education2: vector (nullable = true)\n",
      " |-- marital-status2: vector (nullable = true)\n",
      " |-- occupation2: vector (nullable = true)\n",
      " |-- relationship2: vector (nullable = true)\n",
      " |-- ethnic-group2: vector (nullable = true)\n",
      " |-- country2: vector (nullable = true)\n",
      "\n"
     ]
    }
   ],
   "source": [
    "ohiDf.printSchema()"
   ]
  },
  {
   "cell_type": "code",
   "execution_count": 54,
   "metadata": {
    "executionInfo": {
     "elapsed": 434,
     "status": "ok",
     "timestamp": 1639651533728,
     "user": {
      "displayName": "Tahir Ahmed (F-Name: Abdul Qayoom",
      "photoUrl": "https://lh3.googleusercontent.com/a-/AOh14Gg6I5WwvaUJMfWCjQbqjFU-EMnNyMsoRpjwo6S2=s64",
      "userId": "03924803413236565866"
     },
     "user_tz": -300
    },
    "id": "hnE_85qJnRpO"
   },
   "outputs": [],
   "source": [
    "si2=StringIndexer(inputCol=\"target\",outputCol=\"label\")"
   ]
  },
  {
   "cell_type": "code",
   "execution_count": 55,
   "metadata": {
    "executionInfo": {
     "elapsed": 919,
     "status": "ok",
     "timestamp": 1639647822836,
     "user": {
      "displayName": "Tahir Ahmed (F-Name: Abdul Qayoom",
      "photoUrl": "https://lh3.googleusercontent.com/a-/AOh14Gg6I5WwvaUJMfWCjQbqjFU-EMnNyMsoRpjwo6S2=s64",
      "userId": "03924803413236565866"
     },
     "user_tz": -300
    },
    "id": "i-WK9DCBnRre"
   },
   "outputs": [
    {
     "name": "stdout",
     "output_type": "stream",
     "text": [
      "+------+\n",
      "|target|\n",
      "+------+\n",
      "| <=50K|\n",
      "| <=50K|\n",
      "| <=50K|\n",
      "| <=50K|\n",
      "| <=50K|\n",
      "| <=50K|\n",
      "| <=50K|\n",
      "|  >50K|\n",
      "|  >50K|\n",
      "|  >50K|\n",
      "|  >50K|\n",
      "|  >50K|\n",
      "| <=50K|\n",
      "| <=50K|\n",
      "|  >50K|\n",
      "| <=50K|\n",
      "| <=50K|\n",
      "| <=50K|\n",
      "| <=50K|\n",
      "|  >50K|\n",
      "+------+\n",
      "only showing top 20 rows\n",
      "\n"
     ]
    }
   ],
   "source": [
    "newDf=si2.fit(ohiDf).transform(ohiDf)\n",
    "newDf.select('target').show()"
   ]
  },
  {
   "cell_type": "code",
   "execution_count": 56,
   "metadata": {
    "colab": {
     "base_uri": "https://localhost:8080/"
    },
    "executionInfo": {
     "elapsed": 9,
     "status": "ok",
     "timestamp": 1639647837969,
     "user": {
      "displayName": "Tahir Ahmed (F-Name: Abdul Qayoom",
      "photoUrl": "https://lh3.googleusercontent.com/a-/AOh14Gg6I5WwvaUJMfWCjQbqjFU-EMnNyMsoRpjwo6S2=s64",
      "userId": "03924803413236565866"
     },
     "user_tz": -300
    },
    "id": "CJVHK5xGoEqI",
    "outputId": "38072faa-3fc9-49f4-f1ec-97fb319cb124"
   },
   "outputs": [
    {
     "name": "stdout",
     "output_type": "stream",
     "text": [
      "+-----+\n",
      "|label|\n",
      "+-----+\n",
      "|  0.0|\n",
      "|  0.0|\n",
      "|  0.0|\n",
      "|  0.0|\n",
      "|  0.0|\n",
      "|  0.0|\n",
      "|  0.0|\n",
      "|  1.0|\n",
      "|  1.0|\n",
      "|  1.0|\n",
      "|  1.0|\n",
      "|  1.0|\n",
      "|  0.0|\n",
      "|  0.0|\n",
      "|  1.0|\n",
      "|  0.0|\n",
      "|  0.0|\n",
      "|  0.0|\n",
      "|  0.0|\n",
      "|  1.0|\n",
      "+-----+\n",
      "only showing top 20 rows\n",
      "\n"
     ]
    }
   ],
   "source": [
    "newDf.select(\"label\").show()"
   ]
  },
  {
   "cell_type": "code",
   "execution_count": 57,
   "metadata": {
    "colab": {
     "base_uri": "https://localhost:8080/"
    },
    "executionInfo": {
     "elapsed": 670,
     "status": "ok",
     "timestamp": 1639648311182,
     "user": {
      "displayName": "Tahir Ahmed (F-Name: Abdul Qayoom",
      "photoUrl": "https://lh3.googleusercontent.com/a-/AOh14Gg6I5WwvaUJMfWCjQbqjFU-EMnNyMsoRpjwo6S2=s64",
      "userId": "03924803413236565866"
     },
     "user_tz": -300
    },
    "id": "xPh4v1mioEsf",
    "outputId": "5c298305-059d-40b0-cb5a-23a3e5cfee40"
   },
   "outputs": [
    {
     "name": "stderr",
     "output_type": "stream",
     "text": [
      "22/01/09 11:10:15 WARN package: Truncated the string representation of a plan since it was too large. This behavior can be adjusted by setting 'spark.sql.debug.maxToStringFields'.\n"
     ]
    },
    {
     "name": "stdout",
     "output_type": "stream",
     "text": [
      "+---+----------------+------+------------+---------------+--------------------+-----------------+-------------+------------------+------+------------+------------+--------------+-------------+------+----------+----------+---------------+-----------+-------------+-------------+--------+-------------+---------------+---------------+---------------+-------------+-------------+---------------+-----+\n",
      "|age|       workclass|fnlwgt|   education|education-years|      marital-status|       occupation| relationship|      ethnic-group|gender|capital-gain|capital-loss|hours-per-week|      country|target|workclass1|education1|marital-status1|occupation1|relationship1|ethnic-group1|country1|   workclass2|     education2|marital-status2|    occupation2|relationship2|ethnic-group2|       country2|label|\n",
      "+---+----------------+------+------------+---------------+--------------------+-----------------+-------------+------------------+------+------------+------------+--------------+-------------+------+----------+----------+---------------+-----------+-------------+-------------+--------+-------------+---------------+---------------+---------------+-------------+-------------+---------------+-----+\n",
      "| 39|       State-gov| 77516|   Bachelors|             13|       Never-married|     Adm-clerical|Not-in-family|             White|  Male|        2174|           0|            40|United-States| <=50K|       4.0|       2.0|            1.0|        3.0|          1.0|          0.0|     0.0|(8,[4],[1.0])| (15,[2],[1.0])|  (6,[1],[1.0])| (14,[3],[1.0])|(5,[1],[1.0])|(4,[0],[1.0])| (41,[0],[1.0])|  0.0|\n",
      "| 50|Self-emp-not-inc| 83311|   Bachelors|             13|  Married-civ-spouse|  Exec-managerial|      Husband|             White|  Male|           0|           0|            13|United-States| <=50K|       1.0|       2.0|            0.0|        2.0|          0.0|          0.0|     0.0|(8,[1],[1.0])| (15,[2],[1.0])|  (6,[0],[1.0])| (14,[2],[1.0])|(5,[0],[1.0])|(4,[0],[1.0])| (41,[0],[1.0])|  0.0|\n",
      "| 38|         Private|215646|     HS-grad|              9|            Divorced|Handlers-cleaners|Not-in-family|             White|  Male|           0|           0|            40|United-States| <=50K|       0.0|       0.0|            2.0|        9.0|          1.0|          0.0|     0.0|(8,[0],[1.0])| (15,[0],[1.0])|  (6,[2],[1.0])| (14,[9],[1.0])|(5,[1],[1.0])|(4,[0],[1.0])| (41,[0],[1.0])|  0.0|\n",
      "| 53|         Private|234721|        11th|              7|  Married-civ-spouse|Handlers-cleaners|      Husband|             Black|  Male|           0|           0|            40|United-States| <=50K|       0.0|       5.0|            0.0|        9.0|          0.0|          1.0|     0.0|(8,[0],[1.0])| (15,[5],[1.0])|  (6,[0],[1.0])| (14,[9],[1.0])|(5,[0],[1.0])|(4,[1],[1.0])| (41,[0],[1.0])|  0.0|\n",
      "| 28|         Private|338409|   Bachelors|             13|  Married-civ-spouse|   Prof-specialty|         Wife|             Black|Female|           0|           0|            40|         Cuba| <=50K|       0.0|       2.0|            0.0|        0.0|          4.0|          1.0|     9.0|(8,[0],[1.0])| (15,[2],[1.0])|  (6,[0],[1.0])| (14,[0],[1.0])|(5,[4],[1.0])|(4,[1],[1.0])| (41,[9],[1.0])|  0.0|\n",
      "| 37|         Private|284582|     Masters|             14|  Married-civ-spouse|  Exec-managerial|         Wife|             White|Female|           0|           0|            40|United-States| <=50K|       0.0|       3.0|            0.0|        2.0|          4.0|          0.0|     0.0|(8,[0],[1.0])| (15,[3],[1.0])|  (6,[0],[1.0])| (14,[2],[1.0])|(5,[4],[1.0])|(4,[0],[1.0])| (41,[0],[1.0])|  0.0|\n",
      "| 49|         Private|160187|         9th|              5|Married-spouse-ab...|    Other-service|Not-in-family|             Black|Female|           0|           0|            16|      Jamaica| <=50K|       0.0|      10.0|            5.0|        5.0|          1.0|          1.0|    11.0|(8,[0],[1.0])|(15,[10],[1.0])|  (6,[5],[1.0])| (14,[5],[1.0])|(5,[1],[1.0])|(4,[1],[1.0])|(41,[11],[1.0])|  0.0|\n",
      "| 52|Self-emp-not-inc|209642|     HS-grad|              9|  Married-civ-spouse|  Exec-managerial|      Husband|             White|  Male|           0|           0|            45|United-States|  >50K|       1.0|       0.0|            0.0|        2.0|          0.0|          0.0|     0.0|(8,[1],[1.0])| (15,[0],[1.0])|  (6,[0],[1.0])| (14,[2],[1.0])|(5,[0],[1.0])|(4,[0],[1.0])| (41,[0],[1.0])|  1.0|\n",
      "| 31|         Private| 45781|     Masters|             14|       Never-married|   Prof-specialty|Not-in-family|             White|Female|       14084|           0|            50|United-States|  >50K|       0.0|       3.0|            1.0|        0.0|          1.0|          0.0|     0.0|(8,[0],[1.0])| (15,[3],[1.0])|  (6,[1],[1.0])| (14,[0],[1.0])|(5,[1],[1.0])|(4,[0],[1.0])| (41,[0],[1.0])|  1.0|\n",
      "| 42|         Private|159449|   Bachelors|             13|  Married-civ-spouse|  Exec-managerial|      Husband|             White|  Male|        5178|           0|            40|United-States|  >50K|       0.0|       2.0|            0.0|        2.0|          0.0|          0.0|     0.0|(8,[0],[1.0])| (15,[2],[1.0])|  (6,[0],[1.0])| (14,[2],[1.0])|(5,[0],[1.0])|(4,[0],[1.0])| (41,[0],[1.0])|  1.0|\n",
      "| 37|         Private|280464|Some-college|             10|  Married-civ-spouse|  Exec-managerial|      Husband|             Black|  Male|           0|           0|            80|United-States|  >50K|       0.0|       1.0|            0.0|        2.0|          0.0|          1.0|     0.0|(8,[0],[1.0])| (15,[1],[1.0])|  (6,[0],[1.0])| (14,[2],[1.0])|(5,[0],[1.0])|(4,[1],[1.0])| (41,[0],[1.0])|  1.0|\n",
      "| 30|       State-gov|141297|   Bachelors|             13|  Married-civ-spouse|   Prof-specialty|      Husband|Asian-Pac-Islander|  Male|           0|           0|            40|        India|  >50K|       4.0|       2.0|            0.0|        0.0|          0.0|          2.0|     8.0|(8,[4],[1.0])| (15,[2],[1.0])|  (6,[0],[1.0])| (14,[0],[1.0])|(5,[0],[1.0])|(4,[2],[1.0])| (41,[8],[1.0])|  1.0|\n",
      "| 23|         Private|122272|   Bachelors|             13|       Never-married|     Adm-clerical|    Own-child|             White|Female|           0|           0|            30|United-States| <=50K|       0.0|       2.0|            1.0|        3.0|          2.0|          0.0|     0.0|(8,[0],[1.0])| (15,[2],[1.0])|  (6,[1],[1.0])| (14,[3],[1.0])|(5,[2],[1.0])|(4,[0],[1.0])| (41,[0],[1.0])|  0.0|\n",
      "| 32|         Private|205019|  Assoc-acdm|             12|       Never-married|            Sales|Not-in-family|             Black|  Male|           0|           0|            50|United-States| <=50K|       0.0|       6.0|            1.0|        4.0|          1.0|          1.0|     0.0|(8,[0],[1.0])| (15,[6],[1.0])|  (6,[1],[1.0])| (14,[4],[1.0])|(5,[1],[1.0])|(4,[1],[1.0])| (41,[0],[1.0])|  0.0|\n",
      "| 40|         Private|121772|   Assoc-voc|             11|  Married-civ-spouse|     Craft-repair|      Husband|Asian-Pac-Islander|  Male|           0|           0|            40|            ?|  >50K|       0.0|       4.0|            0.0|        1.0|          0.0|          2.0|     2.0|(8,[0],[1.0])| (15,[4],[1.0])|  (6,[0],[1.0])| (14,[1],[1.0])|(5,[0],[1.0])|(4,[2],[1.0])| (41,[2],[1.0])|  1.0|\n",
      "| 34|         Private|245487|     7th-8th|              4|  Married-civ-spouse| Transport-moving|      Husband|Amer-Indian-Eskimo|  Male|           0|           0|            45|       Mexico| <=50K|       0.0|       8.0|            0.0|        8.0|          0.0|          3.0|     1.0|(8,[0],[1.0])| (15,[8],[1.0])|  (6,[0],[1.0])| (14,[8],[1.0])|(5,[0],[1.0])|(4,[3],[1.0])| (41,[1],[1.0])|  0.0|\n",
      "| 25|Self-emp-not-inc|176756|     HS-grad|              9|       Never-married|  Farming-fishing|    Own-child|             White|  Male|           0|           0|            35|United-States| <=50K|       1.0|       0.0|            1.0|       10.0|          2.0|          0.0|     0.0|(8,[1],[1.0])| (15,[0],[1.0])|  (6,[1],[1.0])|(14,[10],[1.0])|(5,[2],[1.0])|(4,[0],[1.0])| (41,[0],[1.0])|  0.0|\n",
      "| 32|         Private|186824|     HS-grad|              9|       Never-married|Machine-op-inspct|    Unmarried|             White|  Male|           0|           0|            40|United-States| <=50K|       0.0|       0.0|            1.0|        6.0|          3.0|          0.0|     0.0|(8,[0],[1.0])| (15,[0],[1.0])|  (6,[1],[1.0])| (14,[6],[1.0])|(5,[3],[1.0])|(4,[0],[1.0])| (41,[0],[1.0])|  0.0|\n",
      "| 38|         Private| 28887|        11th|              7|  Married-civ-spouse|            Sales|      Husband|             White|  Male|           0|           0|            50|United-States| <=50K|       0.0|       5.0|            0.0|        4.0|          0.0|          0.0|     0.0|(8,[0],[1.0])| (15,[5],[1.0])|  (6,[0],[1.0])| (14,[4],[1.0])|(5,[0],[1.0])|(4,[0],[1.0])| (41,[0],[1.0])|  0.0|\n",
      "| 43|Self-emp-not-inc|292175|     Masters|             14|            Divorced|  Exec-managerial|    Unmarried|             White|Female|           0|           0|            45|United-States|  >50K|       1.0|       3.0|            2.0|        2.0|          3.0|          0.0|     0.0|(8,[1],[1.0])| (15,[3],[1.0])|  (6,[2],[1.0])| (14,[2],[1.0])|(5,[3],[1.0])|(4,[0],[1.0])| (41,[0],[1.0])|  1.0|\n",
      "+---+----------------+------+------------+---------------+--------------------+-----------------+-------------+------------------+------+------------+------------+--------------+-------------+------+----------+----------+---------------+-----------+-------------+-------------+--------+-------------+---------------+---------------+---------------+-------------+-------------+---------------+-----+\n",
      "only showing top 20 rows\n",
      "\n"
     ]
    }
   ],
   "source": [
    "newDf.show()"
   ]
  },
  {
   "cell_type": "code",
   "execution_count": 58,
   "metadata": {
    "executionInfo": {
     "elapsed": 366,
     "status": "ok",
     "timestamp": 1639648051163,
     "user": {
      "displayName": "Tahir Ahmed (F-Name: Abdul Qayoom",
      "photoUrl": "https://lh3.googleusercontent.com/a-/AOh14Gg6I5WwvaUJMfWCjQbqjFU-EMnNyMsoRpjwo6S2=s64",
      "userId": "03924803413236565866"
     },
     "user_tz": -300
    },
    "id": "nruucj6JoOos"
   },
   "outputs": [],
   "source": [
    "from pyspark.ml.feature import VectorAssembler"
   ]
  },
  {
   "cell_type": "code",
   "execution_count": 60,
   "metadata": {
    "colab": {
     "base_uri": "https://localhost:8080/"
    },
    "executionInfo": {
     "elapsed": 933,
     "status": "ok",
     "timestamp": 1639648995105,
     "user": {
      "displayName": "Tahir Ahmed (F-Name: Abdul Qayoom",
      "photoUrl": "https://lh3.googleusercontent.com/a-/AOh14Gg6I5WwvaUJMfWCjQbqjFU-EMnNyMsoRpjwo6S2=s64",
      "userId": "03924803413236565866"
     },
     "user_tz": -300
    },
    "id": "yt5iqnEBsctV",
    "outputId": "4f506d3e-06ed-4b3e-c3b0-50c95bec8a03"
   },
   "outputs": [
    {
     "name": "stdout",
     "output_type": "stream",
     "text": [
      "+------+-----+\n",
      "|target|count|\n",
      "+------+-----+\n",
      "| <=50K|24720|\n",
      "|  >50K| 7841|\n",
      "+------+-----+\n",
      "\n"
     ]
    }
   ],
   "source": [
    "df.groupBy('target').count().show()"
   ]
  },
  {
   "cell_type": "code",
   "execution_count": 61,
   "metadata": {
    "executionInfo": {
     "elapsed": 588,
     "status": "ok",
     "timestamp": 1639649150349,
     "user": {
      "displayName": "Tahir Ahmed (F-Name: Abdul Qayoom",
      "photoUrl": "https://lh3.googleusercontent.com/a-/AOh14Gg6I5WwvaUJMfWCjQbqjFU-EMnNyMsoRpjwo6S2=s64",
      "userId": "03924803413236565866"
     },
     "user_tz": -300
    },
    "id": "oM-eoNkmsoht"
   },
   "outputs": [
    {
     "data": {
      "text/plain": [
       "0.2408095574460244"
      ]
     },
     "execution_count": 61,
     "metadata": {},
     "output_type": "execute_result"
    }
   ],
   "source": [
    "percentage = df.where('target = \">50K\"').count()/df.count()\n",
    "percentage"
   ]
  },
  {
   "cell_type": "code",
   "execution_count": 62,
   "metadata": {
    "executionInfo": {
     "elapsed": 386,
     "status": "ok",
     "timestamp": 1639649162026,
     "user": {
      "displayName": "Tahir Ahmed (F-Name: Abdul Qayoom",
      "photoUrl": "https://lh3.googleusercontent.com/a-/AOh14Gg6I5WwvaUJMfWCjQbqjFU-EMnNyMsoRpjwo6S2=s64",
      "userId": "03924803413236565866"
     },
     "user_tz": -300
    },
    "id": "ykMe6l5ys9ym"
   },
   "outputs": [
    {
     "data": {
      "text/plain": [
       "0.7591904425539756"
      ]
     },
     "execution_count": 62,
     "metadata": {},
     "output_type": "execute_result"
    }
   ],
   "source": [
    "greaterWeight = 1-percentage\n",
    "greaterWeight"
   ]
  },
  {
   "cell_type": "code",
   "execution_count": 63,
   "metadata": {
    "executionInfo": {
     "elapsed": 5,
     "status": "ok",
     "timestamp": 1639649177183,
     "user": {
      "displayName": "Tahir Ahmed (F-Name: Abdul Qayoom",
      "photoUrl": "https://lh3.googleusercontent.com/a-/AOh14Gg6I5WwvaUJMfWCjQbqjFU-EMnNyMsoRpjwo6S2=s64",
      "userId": "03924803413236565866"
     },
     "user_tz": -300
    },
    "id": "JmesDimts-V1"
   },
   "outputs": [],
   "source": [
    "lesserWeight = percentage"
   ]
  },
  {
   "cell_type": "code",
   "execution_count": 64,
   "metadata": {
    "executionInfo": {
     "elapsed": 345,
     "status": "ok",
     "timestamp": 1639648231671,
     "user": {
      "displayName": "Tahir Ahmed (F-Name: Abdul Qayoom",
      "photoUrl": "https://lh3.googleusercontent.com/a-/AOh14Gg6I5WwvaUJMfWCjQbqjFU-EMnNyMsoRpjwo6S2=s64",
      "userId": "03924803413236565866"
     },
     "user_tz": -300
    },
    "id": "sooUm48joOya"
   },
   "outputs": [],
   "source": [
    "numericCols=['age','fnlwgt','education-years','capital-gain','capital-loss','hours-per-week']"
   ]
  },
  {
   "cell_type": "code",
   "execution_count": 65,
   "metadata": {
    "executionInfo": {
     "elapsed": 549,
     "status": "ok",
     "timestamp": 1639651546615,
     "user": {
      "displayName": "Tahir Ahmed (F-Name: Abdul Qayoom",
      "photoUrl": "https://lh3.googleusercontent.com/a-/AOh14Gg6I5WwvaUJMfWCjQbqjFU-EMnNyMsoRpjwo6S2=s64",
      "userId": "03924803413236565866"
     },
     "user_tz": -300
    },
    "id": "T4JIKZF8poxZ"
   },
   "outputs": [],
   "source": [
    "vaDf=VectorAssembler(inputCols=numericCols+outCols2,outputCol='features')"
   ]
  },
  {
   "cell_type": "code",
   "execution_count": 66,
   "metadata": {
    "executionInfo": {
     "elapsed": 8,
     "status": "ok",
     "timestamp": 1639646273613,
     "user": {
      "displayName": "Tahir Ahmed (F-Name: Abdul Qayoom",
      "photoUrl": "https://lh3.googleusercontent.com/a-/AOh14Gg6I5WwvaUJMfWCjQbqjFU-EMnNyMsoRpjwo6S2=s64",
      "userId": "03924803413236565866"
     },
     "user_tz": -300
    },
    "id": "1PPiuVU_hiN2"
   },
   "outputs": [],
   "source": [
    "from pyspark.ml.classification import GBTClassifier"
   ]
  },
  {
   "cell_type": "code",
   "execution_count": 81,
   "metadata": {
    "executionInfo": {
     "elapsed": 4,
     "status": "ok",
     "timestamp": 1639648533485,
     "user": {
      "displayName": "Tahir Ahmed (F-Name: Abdul Qayoom",
      "photoUrl": "https://lh3.googleusercontent.com/a-/AOh14Gg6I5WwvaUJMfWCjQbqjFU-EMnNyMsoRpjwo6S2=s64",
      "userId": "03924803413236565866"
     },
     "user_tz": -300
    },
    "id": "30UGqNRYm3bR"
   },
   "outputs": [
    {
     "name": "stdout",
     "output_type": "stream",
     "text": [
      "root\n",
      " |-- age: integer (nullable = true)\n",
      " |-- workclass: string (nullable = true)\n",
      " |-- fnlwgt: integer (nullable = true)\n",
      " |-- education: string (nullable = true)\n",
      " |-- education-years: integer (nullable = true)\n",
      " |-- marital-status: string (nullable = true)\n",
      " |-- occupation: string (nullable = true)\n",
      " |-- relationship: string (nullable = true)\n",
      " |-- ethnic-group: string (nullable = true)\n",
      " |-- gender: string (nullable = true)\n",
      " |-- capital-gain: integer (nullable = true)\n",
      " |-- capital-loss: integer (nullable = true)\n",
      " |-- hours-per-week: integer (nullable = true)\n",
      " |-- country: string (nullable = true)\n",
      " |-- target: string (nullable = true)\n",
      " |-- workclass1: double (nullable = false)\n",
      " |-- education1: double (nullable = false)\n",
      " |-- marital-status1: double (nullable = false)\n",
      " |-- occupation1: double (nullable = false)\n",
      " |-- relationship1: double (nullable = false)\n",
      " |-- ethnic-group1: double (nullable = false)\n",
      " |-- country1: double (nullable = false)\n",
      " |-- workclass2: vector (nullable = true)\n",
      " |-- education2: vector (nullable = true)\n",
      " |-- marital-status2: vector (nullable = true)\n",
      " |-- occupation2: vector (nullable = true)\n",
      " |-- relationship2: vector (nullable = true)\n",
      " |-- ethnic-group2: vector (nullable = true)\n",
      " |-- country2: vector (nullable = true)\n",
      " |-- label: double (nullable = false)\n",
      " |-- features: vector (nullable = true)\n",
      "\n"
     ]
    }
   ],
   "source": [
    "va=vaDf.transform(newDf)\n",
    "\n",
    "va.printSchema()"
   ]
  },
  {
   "cell_type": "code",
   "execution_count": 78,
   "metadata": {
    "executionInfo": {
     "elapsed": 342,
     "status": "ok",
     "timestamp": 1639649384440,
     "user": {
      "displayName": "Tahir Ahmed (F-Name: Abdul Qayoom",
      "photoUrl": "https://lh3.googleusercontent.com/a-/AOh14Gg6I5WwvaUJMfWCjQbqjFU-EMnNyMsoRpjwo6S2=s64",
      "userId": "03924803413236565866"
     },
     "user_tz": -300
    },
    "id": "L14stcvGti6H"
   },
   "outputs": [],
   "source": [
    "weightedDF = va.withColumn('weight', when(va.label == 1, greaterWeight).otherwise(lesserWeight))"
   ]
  },
  {
   "cell_type": "code",
   "execution_count": 84,
   "metadata": {
    "colab": {
     "base_uri": "https://localhost:8080/"
    },
    "executionInfo": {
     "elapsed": 1075,
     "status": "ok",
     "timestamp": 1639649401207,
     "user": {
      "displayName": "Tahir Ahmed (F-Name: Abdul Qayoom",
      "photoUrl": "https://lh3.googleusercontent.com/a-/AOh14Gg6I5WwvaUJMfWCjQbqjFU-EMnNyMsoRpjwo6S2=s64",
      "userId": "03924803413236565866"
     },
     "user_tz": -300
    },
    "id": "I5vi8Vfbti3f",
    "outputId": "a9f5e68c-308b-4082-b112-e9b0a09b5b5f"
   },
   "outputs": [
    {
     "name": "stdout",
     "output_type": "stream",
     "text": [
      "+------+------------------+-----+\n",
      "|target|            weight|label|\n",
      "+------+------------------+-----+\n",
      "| <=50K|0.2408095574460244|  0.0|\n",
      "| <=50K|0.2408095574460244|  0.0|\n",
      "| <=50K|0.2408095574460244|  0.0|\n",
      "| <=50K|0.2408095574460244|  0.0|\n",
      "| <=50K|0.2408095574460244|  0.0|\n",
      "| <=50K|0.2408095574460244|  0.0|\n",
      "| <=50K|0.2408095574460244|  0.0|\n",
      "|  >50K|0.7591904425539756|  1.0|\n",
      "|  >50K|0.7591904425539756|  1.0|\n",
      "|  >50K|0.7591904425539756|  1.0|\n",
      "|  >50K|0.7591904425539756|  1.0|\n",
      "|  >50K|0.7591904425539756|  1.0|\n",
      "| <=50K|0.2408095574460244|  0.0|\n",
      "| <=50K|0.2408095574460244|  0.0|\n",
      "|  >50K|0.7591904425539756|  1.0|\n",
      "| <=50K|0.2408095574460244|  0.0|\n",
      "| <=50K|0.2408095574460244|  0.0|\n",
      "| <=50K|0.2408095574460244|  0.0|\n",
      "| <=50K|0.2408095574460244|  0.0|\n",
      "|  >50K|0.7591904425539756|  1.0|\n",
      "+------+------------------+-----+\n",
      "only showing top 20 rows\n",
      "\n"
     ]
    }
   ],
   "source": [
    "weightedDF.select('target','weight','label').show()"
   ]
  },
  {
   "cell_type": "code",
   "execution_count": null,
   "metadata": {
    "id": "4l3AgMjCti0v"
   },
   "outputs": [],
   "source": []
  },
  {
   "cell_type": "code",
   "execution_count": 85,
   "metadata": {
    "executionInfo": {
     "elapsed": 558,
     "status": "ok",
     "timestamp": 1639651554037,
     "user": {
      "displayName": "Tahir Ahmed (F-Name: Abdul Qayoom",
      "photoUrl": "https://lh3.googleusercontent.com/a-/AOh14Gg6I5WwvaUJMfWCjQbqjFU-EMnNyMsoRpjwo6S2=s64",
      "userId": "03924803413236565866"
     },
     "user_tz": -300
    },
    "id": "YscJl6bdm3dv"
   },
   "outputs": [],
   "source": [
    "gbt=GBTClassifier(featuresCol='features',labelCol='label',weightCol='weight')\n",
    "\n"
   ]
  },
  {
   "cell_type": "code",
   "execution_count": null,
   "metadata": {
    "id": "60Ttml1BtW0H"
   },
   "outputs": [],
   "source": []
  },
  {
   "cell_type": "code",
   "execution_count": null,
   "metadata": {
    "id": "mfnf3SgBtWw-"
   },
   "outputs": [],
   "source": []
  },
  {
   "cell_type": "code",
   "execution_count": null,
   "metadata": {
    "id": "Nr_kZBZvtWt2"
   },
   "outputs": [],
   "source": []
  },
  {
   "cell_type": "code",
   "execution_count": 88,
   "metadata": {
    "executionInfo": {
     "elapsed": 336,
     "status": "ok",
     "timestamp": 1639651597409,
     "user": {
      "displayName": "Tahir Ahmed (F-Name: Abdul Qayoom",
      "photoUrl": "https://lh3.googleusercontent.com/a-/AOh14Gg6I5WwvaUJMfWCjQbqjFU-EMnNyMsoRpjwo6S2=s64",
      "userId": "03924803413236565866"
     },
     "user_tz": -300
    },
    "id": "wNFclPVSiJt3"
   },
   "outputs": [],
   "source": [
    "train,test=weightedDF.randomSplit([0.7,0.3])"
   ]
  },
  {
   "cell_type": "code",
   "execution_count": 89,
   "metadata": {
    "executionInfo": {
     "elapsed": 22375,
     "status": "ok",
     "timestamp": 1639649492364,
     "user": {
      "displayName": "Tahir Ahmed (F-Name: Abdul Qayoom",
      "photoUrl": "https://lh3.googleusercontent.com/a-/AOh14Gg6I5WwvaUJMfWCjQbqjFU-EMnNyMsoRpjwo6S2=s64",
      "userId": "03924803413236565866"
     },
     "user_tz": -300
    },
    "id": "DWXoVmKVqM1o"
   },
   "outputs": [
    {
     "name": "stderr",
     "output_type": "stream",
     "text": [
      "                                                                                \r"
     ]
    }
   ],
   "source": [
    "gbtModel=gbt.fit(train)"
   ]
  },
  {
   "cell_type": "code",
   "execution_count": 91,
   "metadata": {
    "executionInfo": {
     "elapsed": 508,
     "status": "ok",
     "timestamp": 1639649494357,
     "user": {
      "displayName": "Tahir Ahmed (F-Name: Abdul Qayoom",
      "photoUrl": "https://lh3.googleusercontent.com/a-/AOh14Gg6I5WwvaUJMfWCjQbqjFU-EMnNyMsoRpjwo6S2=s64",
      "userId": "03924803413236565866"
     },
     "user_tz": -300
    },
    "id": "VUSPRGKVrev_"
   },
   "outputs": [
    {
     "data": {
      "text/plain": [
       "DataFrame[age: int, workclass: string, fnlwgt: int, education: string, education-years: int, marital-status: string, occupation: string, relationship: string, ethnic-group: string, gender: string, capital-gain: int, capital-loss: int, hours-per-week: int, country: string, target: string, workclass1: double, education1: double, marital-status1: double, occupation1: double, relationship1: double, ethnic-group1: double, country1: double, workclass2: vector, education2: vector, marital-status2: vector, occupation2: vector, relationship2: vector, ethnic-group2: vector, country2: vector, label: double, features: vector, weight: double, rawPrediction: vector, probability: vector, prediction: double]"
      ]
     },
     "execution_count": 91,
     "metadata": {},
     "output_type": "execute_result"
    }
   ],
   "source": [
    "result = gbtModel.transform(test)\n",
    "\n",
    "result"
   ]
  },
  {
   "cell_type": "code",
   "execution_count": 92,
   "metadata": {
    "executionInfo": {
     "elapsed": 1,
     "status": "ok",
     "timestamp": 1639649495651,
     "user": {
      "displayName": "Tahir Ahmed (F-Name: Abdul Qayoom",
      "photoUrl": "https://lh3.googleusercontent.com/a-/AOh14Gg6I5WwvaUJMfWCjQbqjFU-EMnNyMsoRpjwo6S2=s64",
      "userId": "03924803413236565866"
     },
     "user_tz": -300
    },
    "id": "0_5hobn9rtcl"
   },
   "outputs": [],
   "source": [
    "from pyspark.ml.evaluation import MulticlassClassificationEvaluator"
   ]
  },
  {
   "cell_type": "code",
   "execution_count": 93,
   "metadata": {
    "executionInfo": {
     "elapsed": 343,
     "status": "ok",
     "timestamp": 1639651561578,
     "user": {
      "displayName": "Tahir Ahmed (F-Name: Abdul Qayoom",
      "photoUrl": "https://lh3.googleusercontent.com/a-/AOh14Gg6I5WwvaUJMfWCjQbqjFU-EMnNyMsoRpjwo6S2=s64",
      "userId": "03924803413236565866"
     },
     "user_tz": -300
    },
    "id": "BnWM7rJMr0yl"
   },
   "outputs": [],
   "source": [
    "evaluator = MulticlassClassificationEvaluator()"
   ]
  },
  {
   "cell_type": "code",
   "execution_count": 99,
   "metadata": {
    "executionInfo": {
     "elapsed": 1293,
     "status": "ok",
     "timestamp": 1639649499756,
     "user": {
      "displayName": "Tahir Ahmed (F-Name: Abdul Qayoom",
      "photoUrl": "https://lh3.googleusercontent.com/a-/AOh14Gg6I5WwvaUJMfWCjQbqjFU-EMnNyMsoRpjwo6S2=s64",
      "userId": "03924803413236565866"
     },
     "user_tz": -300
    },
    "id": "kIpY2b6Yr_il"
   },
   "outputs": [
    {
     "name": "stderr",
     "output_type": "stream",
     "text": [
      "                                                                                \r"
     ]
    }
   ],
   "source": [
    "res=evaluator.evaluate(result)"
   ]
  },
  {
   "cell_type": "code",
   "execution_count": 100,
   "metadata": {
    "colab": {
     "base_uri": "https://localhost:8080/"
    },
    "executionInfo": {
     "elapsed": 9,
     "status": "ok",
     "timestamp": 1639649501605,
     "user": {
      "displayName": "Tahir Ahmed (F-Name: Abdul Qayoom",
      "photoUrl": "https://lh3.googleusercontent.com/a-/AOh14Gg6I5WwvaUJMfWCjQbqjFU-EMnNyMsoRpjwo6S2=s64",
      "userId": "03924803413236565866"
     },
     "user_tz": -300
    },
    "id": "jRnnaf_FsGNs",
    "outputId": "13efe67a-bd7f-4d54-b753-924d968fb069"
   },
   "outputs": [
    {
     "data": {
      "text/plain": [
       "0.8217056498209194"
      ]
     },
     "execution_count": 100,
     "metadata": {},
     "output_type": "execute_result"
    }
   ],
   "source": [
    "res"
   ]
  },
  {
   "cell_type": "code",
   "execution_count": 96,
   "metadata": {
    "executionInfo": {
     "elapsed": 344,
     "status": "ok",
     "timestamp": 1639649629380,
     "user": {
      "displayName": "Tahir Ahmed (F-Name: Abdul Qayoom",
      "photoUrl": "https://lh3.googleusercontent.com/a-/AOh14Gg6I5WwvaUJMfWCjQbqjFU-EMnNyMsoRpjwo6S2=s64",
      "userId": "03924803413236565866"
     },
     "user_tz": -300
    },
    "id": "B6f0up1hsHr8"
   },
   "outputs": [],
   "source": [
    "from pyspark.ml.tuning import CrossValidator, ParamGridBuilder"
   ]
  },
  {
   "cell_type": "code",
   "execution_count": 89,
   "metadata": {
    "colab": {
     "base_uri": "https://localhost:8080/",
     "height": 244
    },
    "executionInfo": {
     "elapsed": 14,
     "status": "ok",
     "timestamp": 1639649670159,
     "user": {
      "displayName": "Tahir Ahmed (F-Name: Abdul Qayoom",
      "photoUrl": "https://lh3.googleusercontent.com/a-/AOh14Gg6I5WwvaUJMfWCjQbqjFU-EMnNyMsoRpjwo6S2=s64",
      "userId": "03924803413236565866"
     },
     "user_tz": -300
    },
    "id": "kVV7g9HEu3Iq",
    "outputId": "3208d3eb-3df0-401f-e87b-f9c90c8f1cc7"
   },
   "outputs": [
    {
     "data": {
      "application/vnd.google.colaboratory.intrinsic+json": {
       "type": "string"
      },
      "text/plain": [
       "\"cacheNodeIds: If false, the algorithm will pass trees to executors to match instances with nodes. If true, the algorithm will cache node IDs for each instance. Caching can speed up training of deeper trees. Users can set how often should the cache be checkpointed or disable it by setting checkpointInterval. (default: False)\\ncheckpointInterval: set checkpoint interval (>= 1) or disable checkpoint (-1). E.g. 10 means that the cache will get checkpointed every 10 iterations. Note: this setting will be ignored if the checkpoint directory is not set in the SparkContext. (default: 10)\\nfeatureSubsetStrategy: The number of features to consider for splits at each tree node. Supported options: 'auto' (choose automatically for task: If numTrees == 1, set to 'all'. If numTrees > 1 (forest), set to 'sqrt' for classification and to 'onethird' for regression), 'all' (use all features), 'onethird' (use 1/3 of the features), 'sqrt' (use sqrt(number of features)), 'log2' (use log2(number of features)), 'n' (when n is in the range (0, 1.0], use n * number of features. When n is in the range (1, number of features), use n features). default = 'auto' (default: all)\\nfeaturesCol: features column name. (default: features, current: features)\\nimpurity: Criterion used for information gain calculation (case-insensitive). Supported options: variance (default: variance)\\nlabelCol: label column name. (default: label, current: label)\\nleafCol: Leaf indices column name. Predicted leaf index of each instance in each tree by preorder. (default: )\\nlossType: Loss function which GBT tries to minimize (case-insensitive). Supported options: logistic (default: logistic)\\nmaxBins: Max number of bins for discretizing continuous features.  Must be >=2 and >= number of categories for any categorical feature. (default: 32)\\nmaxDepth: Maximum depth of the tree. (>= 0) E.g., depth 0 means 1 leaf node; depth 1 means 1 internal node + 2 leaf nodes. Must be in range [0, 30]. (default: 5)\\nmaxIter: max number of iterations (>= 0). (default: 20)\\nmaxMemoryInMB: Maximum memory in MB allocated to histogram aggregation. If too small, then 1 node will be split per iteration, and its aggregates may exceed this size. (default: 256)\\nminInfoGain: Minimum information gain for a split to be considered at a tree node. (default: 0.0)\\nminInstancesPerNode: Minimum number of instances each child must have after split. If a split causes the left or right child to have fewer than minInstancesPerNode, the split will be discarded as invalid. Should be >= 1. (default: 1)\\nminWeightFractionPerNode: Minimum fraction of the weighted sample count that each child must have after split. If a split causes the fraction of the total weight in the left or right child to be less than minWeightFractionPerNode, the split will be discarded as invalid. Should be in interval [0.0, 0.5). (default: 0.0)\\npredictionCol: prediction column name. (default: prediction)\\nprobabilityCol: Column name for predicted class conditional probabilities. Note: Not all models output well-calibrated probability estimates! These probabilities should be treated as confidences, not precise probabilities. (default: probability)\\nrawPredictionCol: raw prediction (a.k.a. confidence) column name. (default: rawPrediction)\\nseed: random seed. (default: -8515944957632454973)\\nstepSize: Step size (a.k.a. learning rate) in interval (0, 1] for shrinking the contribution of each estimator. (default: 0.1)\\nsubsamplingRate: Fraction of the training data used for learning each decision tree, in range (0, 1]. (default: 1.0)\\nthresholds: Thresholds in multi-class classification to adjust the probability of predicting each class. Array must have length equal to the number of classes, with values > 0, excepting that at most one value may be 0. The class with largest value p/t is predicted, where p is the original probability of that class and t is the class's threshold. (undefined)\\nvalidationIndicatorCol: name of the column that indicates whether each row is for training or for validation. False indicates training; true indicates validation. (undefined)\\nvalidationTol: Threshold for stopping early when fit with validation is used. If the error rate on the validation input changes by less than the validationTol, then learning will stop early (before `maxIter`). This parameter is ignored when fit without validation is used. (default: 0.01)\\nweightCol: weight column name. If this is not set or empty, we treat all instance weights as 1.0. (current: weight)\""
      ]
     },
     "execution_count": 89,
     "metadata": {},
     "output_type": "execute_result"
    }
   ],
   "source": [
    "gbtModel.explainParams()"
   ]
  },
  {
   "cell_type": "code",
   "execution_count": 97,
   "metadata": {
    "executionInfo": {
     "elapsed": 495,
     "status": "ok",
     "timestamp": 1639651571530,
     "user": {
      "displayName": "Tahir Ahmed (F-Name: Abdul Qayoom",
      "photoUrl": "https://lh3.googleusercontent.com/a-/AOh14Gg6I5WwvaUJMfWCjQbqjFU-EMnNyMsoRpjwo6S2=s64",
      "userId": "03924803413236565866"
     },
     "user_tz": -300
    },
    "id": "d5r0QL4gvFnr"
   },
   "outputs": [],
   "source": [
    "params = ParamGridBuilder().addGrid(gbt.maxIter,[15,30]).addGrid(gbt.maxDepth,[8,12]).addGrid(gbt.stepSize,[0.05,0.08]).build()"
   ]
  },
  {
   "cell_type": "code",
   "execution_count": 98,
   "metadata": {
    "executionInfo": {
     "elapsed": 390,
     "status": "ok",
     "timestamp": 1639651573878,
     "user": {
      "displayName": "Tahir Ahmed (F-Name: Abdul Qayoom",
      "photoUrl": "https://lh3.googleusercontent.com/a-/AOh14Gg6I5WwvaUJMfWCjQbqjFU-EMnNyMsoRpjwo6S2=s64",
      "userId": "03924803413236565866"
     },
     "user_tz": -300
    },
    "id": "rN6rnP76v4Ba"
   },
   "outputs": [],
   "source": [
    "cv= CrossValidator(estimator=gbt, estimatorParamMaps=params, evaluator=evaluator, numFolds=2, parallelism=2)"
   ]
  },
  {
   "cell_type": "code",
   "execution_count": 93,
   "metadata": {
    "executionInfo": {
     "elapsed": 498226,
     "status": "ok",
     "timestamp": 1639650677248,
     "user": {
      "displayName": "Tahir Ahmed (F-Name: Abdul Qayoom",
      "photoUrl": "https://lh3.googleusercontent.com/a-/AOh14Gg6I5WwvaUJMfWCjQbqjFU-EMnNyMsoRpjwo6S2=s64",
      "userId": "03924803413236565866"
     },
     "user_tz": -300
    },
    "id": "0YVWzuPHw2ZR"
   },
   "outputs": [],
   "source": [
    "cvModel = cv.fit(train)"
   ]
  },
  {
   "cell_type": "code",
   "execution_count": 94,
   "metadata": {
    "executionInfo": {
     "elapsed": 435,
     "status": "ok",
     "timestamp": 1639650696046,
     "user": {
      "displayName": "Tahir Ahmed (F-Name: Abdul Qayoom",
      "photoUrl": "https://lh3.googleusercontent.com/a-/AOh14Gg6I5WwvaUJMfWCjQbqjFU-EMnNyMsoRpjwo6S2=s64",
      "userId": "03924803413236565866"
     },
     "user_tz": -300
    },
    "id": "ut4Zuz62xDMq"
   },
   "outputs": [],
   "source": [
    "res = cvModel.transform(test)"
   ]
  },
  {
   "cell_type": "code",
   "execution_count": 95,
   "metadata": {
    "executionInfo": {
     "elapsed": 1527,
     "status": "ok",
     "timestamp": 1639650732561,
     "user": {
      "displayName": "Tahir Ahmed (F-Name: Abdul Qayoom",
      "photoUrl": "https://lh3.googleusercontent.com/a-/AOh14Gg6I5WwvaUJMfWCjQbqjFU-EMnNyMsoRpjwo6S2=s64",
      "userId": "03924803413236565866"
     },
     "user_tz": -300
    },
    "id": "i0PTI8PhxMiE"
   },
   "outputs": [],
   "source": [
    "resultDF = evaluator.evaluate(res)"
   ]
  },
  {
   "cell_type": "code",
   "execution_count": 96,
   "metadata": {
    "colab": {
     "base_uri": "https://localhost:8080/"
    },
    "executionInfo": {
     "elapsed": 352,
     "status": "ok",
     "timestamp": 1639650740388,
     "user": {
      "displayName": "Tahir Ahmed (F-Name: Abdul Qayoom",
      "photoUrl": "https://lh3.googleusercontent.com/a-/AOh14Gg6I5WwvaUJMfWCjQbqjFU-EMnNyMsoRpjwo6S2=s64",
      "userId": "03924803413236565866"
     },
     "user_tz": -300
    },
    "id": "OBIwJmz5xMlL",
    "outputId": "40fd6be2-0d51-4775-8bf8-a700abe76f10"
   },
   "outputs": [
    {
     "data": {
      "text/plain": [
       "0.8195998931439484"
      ]
     },
     "execution_count": 96,
     "metadata": {},
     "output_type": "execute_result"
    }
   ],
   "source": [
    "resultDF"
   ]
  },
  {
   "cell_type": "code",
   "execution_count": 97,
   "metadata": {
    "executionInfo": {
     "elapsed": 374,
     "status": "ok",
     "timestamp": 1639650845148,
     "user": {
      "displayName": "Tahir Ahmed (F-Name: Abdul Qayoom",
      "photoUrl": "https://lh3.googleusercontent.com/a-/AOh14Gg6I5WwvaUJMfWCjQbqjFU-EMnNyMsoRpjwo6S2=s64",
      "userId": "03924803413236565866"
     },
     "user_tz": -300
    },
    "id": "0zXsoYfvzMQa"
   },
   "outputs": [],
   "source": [
    "from pyspark.ml import Pipeline\n",
    "from pyspark.ml.classification import RandomForestClassifier\n",
    "from pyspark.ml.feature import IndexToString, StringIndexer, VectorIndexer\n",
    "from pyspark.ml.evaluation import MulticlassClassificationEvaluator"
   ]
  },
  {
   "cell_type": "code",
   "execution_count": 120,
   "metadata": {
    "executionInfo": {
     "elapsed": 354,
     "status": "ok",
     "timestamp": 1639651624800,
     "user": {
      "displayName": "Tahir Ahmed (F-Name: Abdul Qayoom",
      "photoUrl": "https://lh3.googleusercontent.com/a-/AOh14Gg6I5WwvaUJMfWCjQbqjFU-EMnNyMsoRpjwo6S2=s64",
      "userId": "03924803413236565866"
     },
     "user_tz": -300
    },
    "id": "tQc3xIbWzly5"
   },
   "outputs": [],
   "source": [
    "pipeline = Pipeline(stages=[si,ohi,si2,vaDf,cv])"
   ]
  },
  {
   "cell_type": "code",
   "execution_count": 121,
   "metadata": {
    "colab": {
     "base_uri": "https://localhost:8080/",
     "height": 432
    },
    "executionInfo": {
     "elapsed": 113870,
     "status": "error",
     "timestamp": 1639651738668,
     "user": {
      "displayName": "Tahir Ahmed (F-Name: Abdul Qayoom",
      "photoUrl": "https://lh3.googleusercontent.com/a-/AOh14Gg6I5WwvaUJMfWCjQbqjFU-EMnNyMsoRpjwo6S2=s64",
      "userId": "03924803413236565866"
     },
     "user_tz": -300
    },
    "id": "S0arfqON0H8J",
    "outputId": "4acdec7c-dc4a-4bbb-f6a4-a459845fc436"
   },
   "outputs": [
    {
     "ename": "KeyboardInterrupt",
     "evalue": "ignored",
     "output_type": "error",
     "traceback": [
      "\u001b[0;31m---------------------------------------------------------------------------\u001b[0m",
      "\u001b[0;31mIndexError\u001b[0m                                Traceback (most recent call last)",
      "\u001b[0;32m/usr/lib/python3.7/multiprocessing/pool.py\u001b[0m in \u001b[0;36mnext\u001b[0;34m(self, timeout)\u001b[0m\n\u001b[1;32m    732\u001b[0m             \u001b[0;32mtry\u001b[0m\u001b[0;34m:\u001b[0m\u001b[0;34m\u001b[0m\u001b[0;34m\u001b[0m\u001b[0m\n\u001b[0;32m--> 733\u001b[0;31m                 \u001b[0mitem\u001b[0m \u001b[0;34m=\u001b[0m \u001b[0mself\u001b[0m\u001b[0;34m.\u001b[0m\u001b[0m_items\u001b[0m\u001b[0;34m.\u001b[0m\u001b[0mpopleft\u001b[0m\u001b[0;34m(\u001b[0m\u001b[0;34m)\u001b[0m\u001b[0;34m\u001b[0m\u001b[0;34m\u001b[0m\u001b[0m\n\u001b[0m\u001b[1;32m    734\u001b[0m             \u001b[0;32mexcept\u001b[0m \u001b[0mIndexError\u001b[0m\u001b[0;34m:\u001b[0m\u001b[0;34m\u001b[0m\u001b[0;34m\u001b[0m\u001b[0m\n",
      "\u001b[0;31mIndexError\u001b[0m: pop from an empty deque",
      "\nDuring handling of the above exception, another exception occurred:\n",
      "\u001b[0;31mKeyboardInterrupt\u001b[0m                         Traceback (most recent call last)",
      "\u001b[0;32m<ipython-input-121-b9f07cee8f4e>\u001b[0m in \u001b[0;36m<module>\u001b[0;34m()\u001b[0m\n\u001b[0;32m----> 1\u001b[0;31m \u001b[0mmodel\u001b[0m \u001b[0;34m=\u001b[0m \u001b[0mpipeline\u001b[0m\u001b[0;34m.\u001b[0m\u001b[0mfit\u001b[0m\u001b[0;34m(\u001b[0m\u001b[0mtrain\u001b[0m\u001b[0;34m)\u001b[0m\u001b[0;34m\u001b[0m\u001b[0;34m\u001b[0m\u001b[0m\n\u001b[0m",
      "\u001b[0;32m/usr/local/lib/python3.7/dist-packages/pyspark/ml/base.py\u001b[0m in \u001b[0;36mfit\u001b[0;34m(self, dataset, params)\u001b[0m\n\u001b[1;32m    159\u001b[0m                 \u001b[0;32mreturn\u001b[0m \u001b[0mself\u001b[0m\u001b[0;34m.\u001b[0m\u001b[0mcopy\u001b[0m\u001b[0;34m(\u001b[0m\u001b[0mparams\u001b[0m\u001b[0;34m)\u001b[0m\u001b[0;34m.\u001b[0m\u001b[0m_fit\u001b[0m\u001b[0;34m(\u001b[0m\u001b[0mdataset\u001b[0m\u001b[0;34m)\u001b[0m\u001b[0;34m\u001b[0m\u001b[0;34m\u001b[0m\u001b[0m\n\u001b[1;32m    160\u001b[0m             \u001b[0;32melse\u001b[0m\u001b[0;34m:\u001b[0m\u001b[0;34m\u001b[0m\u001b[0;34m\u001b[0m\u001b[0m\n\u001b[0;32m--> 161\u001b[0;31m                 \u001b[0;32mreturn\u001b[0m \u001b[0mself\u001b[0m\u001b[0;34m.\u001b[0m\u001b[0m_fit\u001b[0m\u001b[0;34m(\u001b[0m\u001b[0mdataset\u001b[0m\u001b[0;34m)\u001b[0m\u001b[0;34m\u001b[0m\u001b[0;34m\u001b[0m\u001b[0m\n\u001b[0m\u001b[1;32m    162\u001b[0m         \u001b[0;32melse\u001b[0m\u001b[0;34m:\u001b[0m\u001b[0;34m\u001b[0m\u001b[0;34m\u001b[0m\u001b[0m\n\u001b[1;32m    163\u001b[0m             raise TypeError(\"Params must be either a param map or a list/tuple of param maps, \"\n",
      "\u001b[0;32m/usr/local/lib/python3.7/dist-packages/pyspark/ml/pipeline.py\u001b[0m in \u001b[0;36m_fit\u001b[0;34m(self, dataset)\u001b[0m\n\u001b[1;32m    112\u001b[0m                     \u001b[0mdataset\u001b[0m \u001b[0;34m=\u001b[0m \u001b[0mstage\u001b[0m\u001b[0;34m.\u001b[0m\u001b[0mtransform\u001b[0m\u001b[0;34m(\u001b[0m\u001b[0mdataset\u001b[0m\u001b[0;34m)\u001b[0m\u001b[0;34m\u001b[0m\u001b[0;34m\u001b[0m\u001b[0m\n\u001b[1;32m    113\u001b[0m                 \u001b[0;32melse\u001b[0m\u001b[0;34m:\u001b[0m  \u001b[0;31m# must be an Estimator\u001b[0m\u001b[0;34m\u001b[0m\u001b[0;34m\u001b[0m\u001b[0m\n\u001b[0;32m--> 114\u001b[0;31m                     \u001b[0mmodel\u001b[0m \u001b[0;34m=\u001b[0m \u001b[0mstage\u001b[0m\u001b[0;34m.\u001b[0m\u001b[0mfit\u001b[0m\u001b[0;34m(\u001b[0m\u001b[0mdataset\u001b[0m\u001b[0;34m)\u001b[0m\u001b[0;34m\u001b[0m\u001b[0;34m\u001b[0m\u001b[0m\n\u001b[0m\u001b[1;32m    115\u001b[0m                     \u001b[0mtransformers\u001b[0m\u001b[0;34m.\u001b[0m\u001b[0mappend\u001b[0m\u001b[0;34m(\u001b[0m\u001b[0mmodel\u001b[0m\u001b[0;34m)\u001b[0m\u001b[0;34m\u001b[0m\u001b[0;34m\u001b[0m\u001b[0m\n\u001b[1;32m    116\u001b[0m                     \u001b[0;32mif\u001b[0m \u001b[0mi\u001b[0m \u001b[0;34m<\u001b[0m \u001b[0mindexOfLastEstimator\u001b[0m\u001b[0;34m:\u001b[0m\u001b[0;34m\u001b[0m\u001b[0;34m\u001b[0m\u001b[0m\n",
      "\u001b[0;32m/usr/local/lib/python3.7/dist-packages/pyspark/ml/base.py\u001b[0m in \u001b[0;36mfit\u001b[0;34m(self, dataset, params)\u001b[0m\n\u001b[1;32m    159\u001b[0m                 \u001b[0;32mreturn\u001b[0m \u001b[0mself\u001b[0m\u001b[0;34m.\u001b[0m\u001b[0mcopy\u001b[0m\u001b[0;34m(\u001b[0m\u001b[0mparams\u001b[0m\u001b[0;34m)\u001b[0m\u001b[0;34m.\u001b[0m\u001b[0m_fit\u001b[0m\u001b[0;34m(\u001b[0m\u001b[0mdataset\u001b[0m\u001b[0;34m)\u001b[0m\u001b[0;34m\u001b[0m\u001b[0;34m\u001b[0m\u001b[0m\n\u001b[1;32m    160\u001b[0m             \u001b[0;32melse\u001b[0m\u001b[0;34m:\u001b[0m\u001b[0;34m\u001b[0m\u001b[0;34m\u001b[0m\u001b[0m\n\u001b[0;32m--> 161\u001b[0;31m                 \u001b[0;32mreturn\u001b[0m \u001b[0mself\u001b[0m\u001b[0;34m.\u001b[0m\u001b[0m_fit\u001b[0m\u001b[0;34m(\u001b[0m\u001b[0mdataset\u001b[0m\u001b[0;34m)\u001b[0m\u001b[0;34m\u001b[0m\u001b[0;34m\u001b[0m\u001b[0m\n\u001b[0m\u001b[1;32m    162\u001b[0m         \u001b[0;32melse\u001b[0m\u001b[0;34m:\u001b[0m\u001b[0;34m\u001b[0m\u001b[0;34m\u001b[0m\u001b[0m\n\u001b[1;32m    163\u001b[0m             raise TypeError(\"Params must be either a param map or a list/tuple of param maps, \"\n",
      "\u001b[0;32m/usr/local/lib/python3.7/dist-packages/pyspark/ml/tuning.py\u001b[0m in \u001b[0;36m_fit\u001b[0;34m(self, dataset)\u001b[0m\n\u001b[1;32m    687\u001b[0m                 \u001b[0minheritable_thread_target\u001b[0m\u001b[0;34m,\u001b[0m\u001b[0;34m\u001b[0m\u001b[0;34m\u001b[0m\u001b[0m\n\u001b[1;32m    688\u001b[0m                 _parallelFitTasks(est, train, eva, validation, epm, collectSubModelsParam))\n\u001b[0;32m--> 689\u001b[0;31m             \u001b[0;32mfor\u001b[0m \u001b[0mj\u001b[0m\u001b[0;34m,\u001b[0m \u001b[0mmetric\u001b[0m\u001b[0;34m,\u001b[0m \u001b[0msubModel\u001b[0m \u001b[0;32min\u001b[0m \u001b[0mpool\u001b[0m\u001b[0;34m.\u001b[0m\u001b[0mimap_unordered\u001b[0m\u001b[0;34m(\u001b[0m\u001b[0;32mlambda\u001b[0m \u001b[0mf\u001b[0m\u001b[0;34m:\u001b[0m \u001b[0mf\u001b[0m\u001b[0;34m(\u001b[0m\u001b[0;34m)\u001b[0m\u001b[0;34m,\u001b[0m \u001b[0mtasks\u001b[0m\u001b[0;34m)\u001b[0m\u001b[0;34m:\u001b[0m\u001b[0;34m\u001b[0m\u001b[0;34m\u001b[0m\u001b[0m\n\u001b[0m\u001b[1;32m    690\u001b[0m                 \u001b[0mmetrics\u001b[0m\u001b[0;34m[\u001b[0m\u001b[0mj\u001b[0m\u001b[0;34m]\u001b[0m \u001b[0;34m+=\u001b[0m \u001b[0;34m(\u001b[0m\u001b[0mmetric\u001b[0m \u001b[0;34m/\u001b[0m \u001b[0mnFolds\u001b[0m\u001b[0;34m)\u001b[0m\u001b[0;34m\u001b[0m\u001b[0;34m\u001b[0m\u001b[0m\n\u001b[1;32m    691\u001b[0m                 \u001b[0;32mif\u001b[0m \u001b[0mcollectSubModelsParam\u001b[0m\u001b[0;34m:\u001b[0m\u001b[0;34m\u001b[0m\u001b[0;34m\u001b[0m\u001b[0m\n",
      "\u001b[0;32m/usr/lib/python3.7/multiprocessing/pool.py\u001b[0m in \u001b[0;36mnext\u001b[0;34m(self, timeout)\u001b[0m\n\u001b[1;32m    735\u001b[0m                 \u001b[0;32mif\u001b[0m \u001b[0mself\u001b[0m\u001b[0;34m.\u001b[0m\u001b[0m_index\u001b[0m \u001b[0;34m==\u001b[0m \u001b[0mself\u001b[0m\u001b[0;34m.\u001b[0m\u001b[0m_length\u001b[0m\u001b[0;34m:\u001b[0m\u001b[0;34m\u001b[0m\u001b[0;34m\u001b[0m\u001b[0m\n\u001b[1;32m    736\u001b[0m                     \u001b[0;32mraise\u001b[0m \u001b[0mStopIteration\u001b[0m \u001b[0;32mfrom\u001b[0m \u001b[0;32mNone\u001b[0m\u001b[0;34m\u001b[0m\u001b[0;34m\u001b[0m\u001b[0m\n\u001b[0;32m--> 737\u001b[0;31m                 \u001b[0mself\u001b[0m\u001b[0;34m.\u001b[0m\u001b[0m_cond\u001b[0m\u001b[0;34m.\u001b[0m\u001b[0mwait\u001b[0m\u001b[0;34m(\u001b[0m\u001b[0mtimeout\u001b[0m\u001b[0;34m)\u001b[0m\u001b[0;34m\u001b[0m\u001b[0;34m\u001b[0m\u001b[0m\n\u001b[0m\u001b[1;32m    738\u001b[0m                 \u001b[0;32mtry\u001b[0m\u001b[0;34m:\u001b[0m\u001b[0;34m\u001b[0m\u001b[0;34m\u001b[0m\u001b[0m\n\u001b[1;32m    739\u001b[0m                     \u001b[0mitem\u001b[0m \u001b[0;34m=\u001b[0m \u001b[0mself\u001b[0m\u001b[0;34m.\u001b[0m\u001b[0m_items\u001b[0m\u001b[0;34m.\u001b[0m\u001b[0mpopleft\u001b[0m\u001b[0;34m(\u001b[0m\u001b[0;34m)\u001b[0m\u001b[0;34m\u001b[0m\u001b[0;34m\u001b[0m\u001b[0m\n",
      "\u001b[0;32m/usr/lib/python3.7/threading.py\u001b[0m in \u001b[0;36mwait\u001b[0;34m(self, timeout)\u001b[0m\n\u001b[1;32m    294\u001b[0m         \u001b[0;32mtry\u001b[0m\u001b[0;34m:\u001b[0m    \u001b[0;31m# restore state no matter what (e.g., KeyboardInterrupt)\u001b[0m\u001b[0;34m\u001b[0m\u001b[0;34m\u001b[0m\u001b[0m\n\u001b[1;32m    295\u001b[0m             \u001b[0;32mif\u001b[0m \u001b[0mtimeout\u001b[0m \u001b[0;32mis\u001b[0m \u001b[0;32mNone\u001b[0m\u001b[0;34m:\u001b[0m\u001b[0;34m\u001b[0m\u001b[0;34m\u001b[0m\u001b[0m\n\u001b[0;32m--> 296\u001b[0;31m                 \u001b[0mwaiter\u001b[0m\u001b[0;34m.\u001b[0m\u001b[0macquire\u001b[0m\u001b[0;34m(\u001b[0m\u001b[0;34m)\u001b[0m\u001b[0;34m\u001b[0m\u001b[0;34m\u001b[0m\u001b[0m\n\u001b[0m\u001b[1;32m    297\u001b[0m                 \u001b[0mgotit\u001b[0m \u001b[0;34m=\u001b[0m \u001b[0;32mTrue\u001b[0m\u001b[0;34m\u001b[0m\u001b[0;34m\u001b[0m\u001b[0m\n\u001b[1;32m    298\u001b[0m             \u001b[0;32melse\u001b[0m\u001b[0;34m:\u001b[0m\u001b[0;34m\u001b[0m\u001b[0;34m\u001b[0m\u001b[0m\n",
      "\u001b[0;31mKeyboardInterrupt\u001b[0m: "
     ]
    }
   ],
   "source": [
    "model = pipeline.fit(train)"
   ]
  },
  {
   "cell_type": "code",
   "execution_count": 122,
   "metadata": {
    "colab": {
     "base_uri": "https://localhost:8080/"
    },
    "executionInfo": {
     "elapsed": 7,
     "status": "ok",
     "timestamp": 1639651757647,
     "user": {
      "displayName": "Tahir Ahmed (F-Name: Abdul Qayoom",
      "photoUrl": "https://lh3.googleusercontent.com/a-/AOh14Gg6I5WwvaUJMfWCjQbqjFU-EMnNyMsoRpjwo6S2=s64",
      "userId": "03924803413236565866"
     },
     "user_tz": -300
    },
    "id": "OAv9oJdq0XH5",
    "outputId": "48727462-aaa4-4205-e173-f028feee9f6e"
   },
   "outputs": [
    {
     "name": "stdout",
     "output_type": "stream",
     "text": [
      "root\n",
      " |-- age: integer (nullable = true)\n",
      " |-- workclass: string (nullable = true)\n",
      " |-- fnlwgt: integer (nullable = true)\n",
      " |-- education: string (nullable = true)\n",
      " |-- education-years: integer (nullable = true)\n",
      " |-- marital-status: string (nullable = true)\n",
      " |-- occupation: string (nullable = true)\n",
      " |-- relationship: string (nullable = true)\n",
      " |-- ethnic-group: string (nullable = true)\n",
      " |-- gender: string (nullable = true)\n",
      " |-- capital-gain: integer (nullable = true)\n",
      " |-- capital-loss: integer (nullable = true)\n",
      " |-- hours-per-week: integer (nullable = true)\n",
      " |-- country: string (nullable = true)\n",
      " |-- target: string (nullable = true)\n",
      "\n"
     ]
    }
   ],
   "source": [
    "df.printSchema()"
   ]
  },
  {
   "cell_type": "code",
   "execution_count": 124,
   "metadata": {
    "executionInfo": {
     "elapsed": 389,
     "status": "ok",
     "timestamp": 1639651895525,
     "user": {
      "displayName": "Tahir Ahmed (F-Name: Abdul Qayoom",
      "photoUrl": "https://lh3.googleusercontent.com/a-/AOh14Gg6I5WwvaUJMfWCjQbqjFU-EMnNyMsoRpjwo6S2=s64",
      "userId": "03924803413236565866"
     },
     "user_tz": -300
    },
    "id": "Vw2KaK-E3Eva"
   },
   "outputs": [],
   "source": [
    "cols=[c+str(i) for i,c in enumerate(df.columns)]"
   ]
  },
  {
   "cell_type": "code",
   "execution_count": 125,
   "metadata": {
    "colab": {
     "base_uri": "https://localhost:8080/"
    },
    "executionInfo": {
     "elapsed": 7,
     "status": "ok",
     "timestamp": 1639651900184,
     "user": {
      "displayName": "Tahir Ahmed (F-Name: Abdul Qayoom",
      "photoUrl": "https://lh3.googleusercontent.com/a-/AOh14Gg6I5WwvaUJMfWCjQbqjFU-EMnNyMsoRpjwo6S2=s64",
      "userId": "03924803413236565866"
     },
     "user_tz": -300
    },
    "id": "EbiICfhv3hNJ",
    "outputId": "e9ff443f-5de2-48bf-bb69-6722887da62e"
   },
   "outputs": [
    {
     "data": {
      "text/plain": [
       "['age0',\n",
       " 'workclass1',\n",
       " 'fnlwgt2',\n",
       " 'education3',\n",
       " 'education-years4',\n",
       " 'marital-status5',\n",
       " 'occupation6',\n",
       " 'relationship7',\n",
       " 'ethnic-group8',\n",
       " 'gender9',\n",
       " 'capital-gain10',\n",
       " 'capital-loss11',\n",
       " 'hours-per-week12',\n",
       " 'country13',\n",
       " 'target14']"
      ]
     },
     "execution_count": 125,
     "metadata": {},
     "output_type": "execute_result"
    }
   ],
   "source": [
    "cols"
   ]
  },
  {
   "cell_type": "code",
   "execution_count": 134,
   "metadata": {
    "executionInfo": {
     "elapsed": 466,
     "status": "ok",
     "timestamp": 1639652283532,
     "user": {
      "displayName": "Tahir Ahmed (F-Name: Abdul Qayoom",
      "photoUrl": "https://lh3.googleusercontent.com/a-/AOh14Gg6I5WwvaUJMfWCjQbqjFU-EMnNyMsoRpjwo6S2=s64",
      "userId": "03924803413236565866"
     },
     "user_tz": -300
    },
    "id": "kOtzBDFE3nYZ"
   },
   "outputs": [],
   "source": [
    "df2=spark.read.csv(\"adult.data\",header=False,inferSchema=True,ignoreLeadingWhiteSpace=True,ignoreTrailingWhiteSpace=True)"
   ]
  },
  {
   "cell_type": "code",
   "execution_count": 130,
   "metadata": {
    "executionInfo": {
     "elapsed": 1280,
     "status": "ok",
     "timestamp": 1639652195919,
     "user": {
      "displayName": "Tahir Ahmed (F-Name: Abdul Qayoom",
      "photoUrl": "https://lh3.googleusercontent.com/a-/AOh14Gg6I5WwvaUJMfWCjQbqjFU-EMnNyMsoRpjwo6S2=s64",
      "userId": "03924803413236565866"
     },
     "user_tz": -300
    },
    "id": "CJkjQL5b4VRp"
   },
   "outputs": [],
   "source": [
    "df=spark.createDataFrame(df2.rdd,cols)"
   ]
  },
  {
   "cell_type": "code",
   "execution_count": 132,
   "metadata": {
    "colab": {
     "base_uri": "https://localhost:8080/"
    },
    "executionInfo": {
     "elapsed": 6,
     "status": "ok",
     "timestamp": 1639652204143,
     "user": {
      "displayName": "Tahir Ahmed (F-Name: Abdul Qayoom",
      "photoUrl": "https://lh3.googleusercontent.com/a-/AOh14Gg6I5WwvaUJMfWCjQbqjFU-EMnNyMsoRpjwo6S2=s64",
      "userId": "03924803413236565866"
     },
     "user_tz": -300
    },
    "id": "HpA7vF-I4rAY",
    "outputId": "0aeda527-9b85-4ba8-d172-fc62e4015161"
   },
   "outputs": [
    {
     "name": "stdout",
     "output_type": "stream",
     "text": [
      "+----+----------------+-------+------------+----------------+--------------------+-----------------+-------------+------------------+-------+--------------+--------------+----------------+-------------+--------+\n",
      "|age0|      workclass1|fnlwgt2|  education3|education-years4|     marital-status5|      occupation6|relationship7|     ethnic-group8|gender9|capital-gain10|capital-loss11|hours-per-week12|    country13|target14|\n",
      "+----+----------------+-------+------------+----------------+--------------------+-----------------+-------------+------------------+-------+--------------+--------------+----------------+-------------+--------+\n",
      "| age|       workclass| fnlwgt|   education| education-years|      marital-status|       occupation| relationship|      ethnic-group| gender|  capital-gain|  capital-loss|  hours-per-week|      country|  target|\n",
      "|  39|       State-gov|  77516|   Bachelors|              13|       Never-married|     Adm-clerical|Not-in-family|             White|   Male|          2174|             0|              40|United-States|   <=50K|\n",
      "|  50|Self-emp-not-inc|  83311|   Bachelors|              13|  Married-civ-spouse|  Exec-managerial|      Husband|             White|   Male|             0|             0|              13|United-States|   <=50K|\n",
      "|  38|         Private| 215646|     HS-grad|               9|            Divorced|Handlers-cleaners|Not-in-family|             White|   Male|             0|             0|              40|United-States|   <=50K|\n",
      "|  53|         Private| 234721|        11th|               7|  Married-civ-spouse|Handlers-cleaners|      Husband|             Black|   Male|             0|             0|              40|United-States|   <=50K|\n",
      "|  28|         Private| 338409|   Bachelors|              13|  Married-civ-spouse|   Prof-specialty|         Wife|             Black| Female|             0|             0|              40|         Cuba|   <=50K|\n",
      "|  37|         Private| 284582|     Masters|              14|  Married-civ-spouse|  Exec-managerial|         Wife|             White| Female|             0|             0|              40|United-States|   <=50K|\n",
      "|  49|         Private| 160187|         9th|               5|Married-spouse-ab...|    Other-service|Not-in-family|             Black| Female|             0|             0|              16|      Jamaica|   <=50K|\n",
      "|  52|Self-emp-not-inc| 209642|     HS-grad|               9|  Married-civ-spouse|  Exec-managerial|      Husband|             White|   Male|             0|             0|              45|United-States|    >50K|\n",
      "|  31|         Private|  45781|     Masters|              14|       Never-married|   Prof-specialty|Not-in-family|             White| Female|         14084|             0|              50|United-States|    >50K|\n",
      "|  42|         Private| 159449|   Bachelors|              13|  Married-civ-spouse|  Exec-managerial|      Husband|             White|   Male|          5178|             0|              40|United-States|    >50K|\n",
      "|  37|         Private| 280464|Some-college|              10|  Married-civ-spouse|  Exec-managerial|      Husband|             Black|   Male|             0|             0|              80|United-States|    >50K|\n",
      "|  30|       State-gov| 141297|   Bachelors|              13|  Married-civ-spouse|   Prof-specialty|      Husband|Asian-Pac-Islander|   Male|             0|             0|              40|        India|    >50K|\n",
      "|  23|         Private| 122272|   Bachelors|              13|       Never-married|     Adm-clerical|    Own-child|             White| Female|             0|             0|              30|United-States|   <=50K|\n",
      "|  32|         Private| 205019|  Assoc-acdm|              12|       Never-married|            Sales|Not-in-family|             Black|   Male|             0|             0|              50|United-States|   <=50K|\n",
      "|  40|         Private| 121772|   Assoc-voc|              11|  Married-civ-spouse|     Craft-repair|      Husband|Asian-Pac-Islander|   Male|             0|             0|              40|            ?|    >50K|\n",
      "|  34|         Private| 245487|     7th-8th|               4|  Married-civ-spouse| Transport-moving|      Husband|Amer-Indian-Eskimo|   Male|             0|             0|              45|       Mexico|   <=50K|\n",
      "|  25|Self-emp-not-inc| 176756|     HS-grad|               9|       Never-married|  Farming-fishing|    Own-child|             White|   Male|             0|             0|              35|United-States|   <=50K|\n",
      "|  32|         Private| 186824|     HS-grad|               9|       Never-married|Machine-op-inspct|    Unmarried|             White|   Male|             0|             0|              40|United-States|   <=50K|\n",
      "|  38|         Private|  28887|        11th|               7|  Married-civ-spouse|            Sales|      Husband|             White|   Male|             0|             0|              50|United-States|   <=50K|\n",
      "+----+----------------+-------+------------+----------------+--------------------+-----------------+-------------+------------------+-------+--------------+--------------+----------------+-------------+--------+\n",
      "only showing top 20 rows\n",
      "\n"
     ]
    }
   ],
   "source": [
    "df.show()"
   ]
  },
  {
   "cell_type": "code",
   "execution_count": 135,
   "metadata": {
    "executionInfo": {
     "elapsed": 352,
     "status": "ok",
     "timestamp": 1639652288043,
     "user": {
      "displayName": "Tahir Ahmed (F-Name: Abdul Qayoom",
      "photoUrl": "https://lh3.googleusercontent.com/a-/AOh14Gg6I5WwvaUJMfWCjQbqjFU-EMnNyMsoRpjwo6S2=s64",
      "userId": "03924803413236565866"
     },
     "user_tz": -300
    },
    "id": "pq1SRfvX4weI"
   },
   "outputs": [],
   "source": [
    "df4=df.toDF(*cols)"
   ]
  },
  {
   "cell_type": "code",
   "execution_count": 136,
   "metadata": {
    "colab": {
     "base_uri": "https://localhost:8080/"
    },
    "executionInfo": {
     "elapsed": 2,
     "status": "ok",
     "timestamp": 1639652296255,
     "user": {
      "displayName": "Tahir Ahmed (F-Name: Abdul Qayoom",
      "photoUrl": "https://lh3.googleusercontent.com/a-/AOh14Gg6I5WwvaUJMfWCjQbqjFU-EMnNyMsoRpjwo6S2=s64",
      "userId": "03924803413236565866"
     },
     "user_tz": -300
    },
    "id": "KejxLczX5ANJ",
    "outputId": "5322cbb7-a627-435e-f152-919d472624a3"
   },
   "outputs": [
    {
     "name": "stdout",
     "output_type": "stream",
     "text": [
      "+----+----------------+-------+------------+----------------+--------------------+-----------------+-------------+------------------+-------+--------------+--------------+----------------+-------------+--------+\n",
      "|age0|      workclass1|fnlwgt2|  education3|education-years4|     marital-status5|      occupation6|relationship7|     ethnic-group8|gender9|capital-gain10|capital-loss11|hours-per-week12|    country13|target14|\n",
      "+----+----------------+-------+------------+----------------+--------------------+-----------------+-------------+------------------+-------+--------------+--------------+----------------+-------------+--------+\n",
      "| age|       workclass| fnlwgt|   education| education-years|      marital-status|       occupation| relationship|      ethnic-group| gender|  capital-gain|  capital-loss|  hours-per-week|      country|  target|\n",
      "|  39|       State-gov|  77516|   Bachelors|              13|       Never-married|     Adm-clerical|Not-in-family|             White|   Male|          2174|             0|              40|United-States|   <=50K|\n",
      "|  50|Self-emp-not-inc|  83311|   Bachelors|              13|  Married-civ-spouse|  Exec-managerial|      Husband|             White|   Male|             0|             0|              13|United-States|   <=50K|\n",
      "|  38|         Private| 215646|     HS-grad|               9|            Divorced|Handlers-cleaners|Not-in-family|             White|   Male|             0|             0|              40|United-States|   <=50K|\n",
      "|  53|         Private| 234721|        11th|               7|  Married-civ-spouse|Handlers-cleaners|      Husband|             Black|   Male|             0|             0|              40|United-States|   <=50K|\n",
      "|  28|         Private| 338409|   Bachelors|              13|  Married-civ-spouse|   Prof-specialty|         Wife|             Black| Female|             0|             0|              40|         Cuba|   <=50K|\n",
      "|  37|         Private| 284582|     Masters|              14|  Married-civ-spouse|  Exec-managerial|         Wife|             White| Female|             0|             0|              40|United-States|   <=50K|\n",
      "|  49|         Private| 160187|         9th|               5|Married-spouse-ab...|    Other-service|Not-in-family|             Black| Female|             0|             0|              16|      Jamaica|   <=50K|\n",
      "|  52|Self-emp-not-inc| 209642|     HS-grad|               9|  Married-civ-spouse|  Exec-managerial|      Husband|             White|   Male|             0|             0|              45|United-States|    >50K|\n",
      "|  31|         Private|  45781|     Masters|              14|       Never-married|   Prof-specialty|Not-in-family|             White| Female|         14084|             0|              50|United-States|    >50K|\n",
      "|  42|         Private| 159449|   Bachelors|              13|  Married-civ-spouse|  Exec-managerial|      Husband|             White|   Male|          5178|             0|              40|United-States|    >50K|\n",
      "|  37|         Private| 280464|Some-college|              10|  Married-civ-spouse|  Exec-managerial|      Husband|             Black|   Male|             0|             0|              80|United-States|    >50K|\n",
      "|  30|       State-gov| 141297|   Bachelors|              13|  Married-civ-spouse|   Prof-specialty|      Husband|Asian-Pac-Islander|   Male|             0|             0|              40|        India|    >50K|\n",
      "|  23|         Private| 122272|   Bachelors|              13|       Never-married|     Adm-clerical|    Own-child|             White| Female|             0|             0|              30|United-States|   <=50K|\n",
      "|  32|         Private| 205019|  Assoc-acdm|              12|       Never-married|            Sales|Not-in-family|             Black|   Male|             0|             0|              50|United-States|   <=50K|\n",
      "|  40|         Private| 121772|   Assoc-voc|              11|  Married-civ-spouse|     Craft-repair|      Husband|Asian-Pac-Islander|   Male|             0|             0|              40|            ?|    >50K|\n",
      "|  34|         Private| 245487|     7th-8th|               4|  Married-civ-spouse| Transport-moving|      Husband|Amer-Indian-Eskimo|   Male|             0|             0|              45|       Mexico|   <=50K|\n",
      "|  25|Self-emp-not-inc| 176756|     HS-grad|               9|       Never-married|  Farming-fishing|    Own-child|             White|   Male|             0|             0|              35|United-States|   <=50K|\n",
      "|  32|         Private| 186824|     HS-grad|               9|       Never-married|Machine-op-inspct|    Unmarried|             White|   Male|             0|             0|              40|United-States|   <=50K|\n",
      "|  38|         Private|  28887|        11th|               7|  Married-civ-spouse|            Sales|      Husband|             White|   Male|             0|             0|              50|United-States|   <=50K|\n",
      "+----+----------------+-------+------------+----------------+--------------------+-----------------+-------------+------------------+-------+--------------+--------------+----------------+-------------+--------+\n",
      "only showing top 20 rows\n",
      "\n"
     ]
    }
   ],
   "source": [
    "df4.show()"
   ]
  },
  {
   "cell_type": "code",
   "execution_count": null,
   "metadata": {
    "id": "e2vzRR2_5IE5"
   },
   "outputs": [],
   "source": []
  }
 ],
 "metadata": {
  "colab": {
   "authorship_tag": "ABX9TyPxxaq+OJdZfOUrl2vs2raT",
   "name": "classSparkPractice.ipynb",
   "provenance": []
  },
  "kernelspec": {
   "display_name": "Python 3 (ipykernel)",
   "language": "python",
   "name": "python3"
  },
  "language_info": {
   "codemirror_mode": {
    "name": "ipython",
    "version": 3
   },
   "file_extension": ".py",
   "mimetype": "text/x-python",
   "name": "python",
   "nbconvert_exporter": "python",
   "pygments_lexer": "ipython3",
   "version": "3.8.10"
  }
 },
 "nbformat": 4,
 "nbformat_minor": 1
}
