{
 "cells": [
  {
   "cell_type": "code",
   "execution_count": 2,
   "metadata": {},
   "outputs": [],
   "source": [
    "import findspark\n",
    "findspark.init()\n",
    "\n",
    "from pyspark.sql import SparkSession\n",
    "spark = SparkSession.builder.appName(\"Feature Engineering\").getOrCreate()"
   ]
  },
  {
   "cell_type": "code",
   "execution_count": 10,
   "metadata": {},
   "outputs": [
    {
     "ename": "AnalysisException",
     "evalue": "Path does not exist: file:/home/daniyal/notebook/sales",
     "output_type": "error",
     "traceback": [
      "\u001b[0;31m---------------------------------------------------------------------------\u001b[0m",
      "\u001b[0;31mAnalysisException\u001b[0m                         Traceback (most recent call last)",
      "\u001b[0;32m/tmp/ipykernel_3339/1425500368.py\u001b[0m in \u001b[0;36m<module>\u001b[0;34m\u001b[0m\n\u001b[0;32m----> 1\u001b[0;31m \u001b[0msales\u001b[0m \u001b[0;34m=\u001b[0m \u001b[0mspark\u001b[0m\u001b[0;34m.\u001b[0m\u001b[0mread\u001b[0m\u001b[0;34m.\u001b[0m\u001b[0mcsv\u001b[0m\u001b[0;34m(\u001b[0m\u001b[0;34m\"sales\"\u001b[0m\u001b[0;34m,\u001b[0m\u001b[0minferSchema\u001b[0m\u001b[0;34m=\u001b[0m\u001b[0;32mTrue\u001b[0m\u001b[0;34m,\u001b[0m \u001b[0mheader\u001b[0m\u001b[0;34m=\u001b[0m\u001b[0;32mTrue\u001b[0m\u001b[0;34m)\u001b[0m\u001b[0;34m.\u001b[0m\u001b[0mwhere\u001b[0m\u001b[0;34m(\u001b[0m\u001b[0;34m'Description is not null'\u001b[0m\u001b[0;34m)\u001b[0m\u001b[0;34m\u001b[0m\u001b[0;34m\u001b[0m\u001b[0m\n\u001b[0m",
      "\u001b[0;32m~/.local/lib/python3.8/site-packages/pyspark/sql/readwriter.py\u001b[0m in \u001b[0;36mcsv\u001b[0;34m(self, path, schema, sep, encoding, quote, escape, comment, header, inferSchema, ignoreLeadingWhiteSpace, ignoreTrailingWhiteSpace, nullValue, nanValue, positiveInf, negativeInf, dateFormat, timestampFormat, maxColumns, maxCharsPerColumn, maxMalformedLogPerPartition, mode, columnNameOfCorruptRecord, multiLine, charToEscapeQuoteEscaping, samplingRatio, enforceSchema, emptyValue, locale, lineSep, pathGlobFilter, recursiveFileLookup, modifiedBefore, modifiedAfter, unescapedQuoteHandling)\u001b[0m\n\u001b[1;32m    408\u001b[0m             \u001b[0mpath\u001b[0m \u001b[0;34m=\u001b[0m \u001b[0;34m[\u001b[0m\u001b[0mpath\u001b[0m\u001b[0;34m]\u001b[0m\u001b[0;34m\u001b[0m\u001b[0;34m\u001b[0m\u001b[0m\n\u001b[1;32m    409\u001b[0m         \u001b[0;32mif\u001b[0m \u001b[0mtype\u001b[0m\u001b[0;34m(\u001b[0m\u001b[0mpath\u001b[0m\u001b[0;34m)\u001b[0m \u001b[0;34m==\u001b[0m \u001b[0mlist\u001b[0m\u001b[0;34m:\u001b[0m\u001b[0;34m\u001b[0m\u001b[0;34m\u001b[0m\u001b[0m\n\u001b[0;32m--> 410\u001b[0;31m             \u001b[0;32mreturn\u001b[0m \u001b[0mself\u001b[0m\u001b[0;34m.\u001b[0m\u001b[0m_df\u001b[0m\u001b[0;34m(\u001b[0m\u001b[0mself\u001b[0m\u001b[0;34m.\u001b[0m\u001b[0m_jreader\u001b[0m\u001b[0;34m.\u001b[0m\u001b[0mcsv\u001b[0m\u001b[0;34m(\u001b[0m\u001b[0mself\u001b[0m\u001b[0;34m.\u001b[0m\u001b[0m_spark\u001b[0m\u001b[0;34m.\u001b[0m\u001b[0m_sc\u001b[0m\u001b[0;34m.\u001b[0m\u001b[0m_jvm\u001b[0m\u001b[0;34m.\u001b[0m\u001b[0mPythonUtils\u001b[0m\u001b[0;34m.\u001b[0m\u001b[0mtoSeq\u001b[0m\u001b[0;34m(\u001b[0m\u001b[0mpath\u001b[0m\u001b[0;34m)\u001b[0m\u001b[0;34m)\u001b[0m\u001b[0;34m)\u001b[0m\u001b[0;34m\u001b[0m\u001b[0;34m\u001b[0m\u001b[0m\n\u001b[0m\u001b[1;32m    411\u001b[0m         \u001b[0;32melif\u001b[0m \u001b[0misinstance\u001b[0m\u001b[0;34m(\u001b[0m\u001b[0mpath\u001b[0m\u001b[0;34m,\u001b[0m \u001b[0mRDD\u001b[0m\u001b[0;34m)\u001b[0m\u001b[0;34m:\u001b[0m\u001b[0;34m\u001b[0m\u001b[0;34m\u001b[0m\u001b[0m\n\u001b[1;32m    412\u001b[0m             \u001b[0;32mdef\u001b[0m \u001b[0mfunc\u001b[0m\u001b[0;34m(\u001b[0m\u001b[0miterator\u001b[0m\u001b[0;34m)\u001b[0m\u001b[0;34m:\u001b[0m\u001b[0;34m\u001b[0m\u001b[0;34m\u001b[0m\u001b[0m\n",
      "\u001b[0;32m~/.local/lib/python3.8/site-packages/py4j/java_gateway.py\u001b[0m in \u001b[0;36m__call__\u001b[0;34m(self, *args)\u001b[0m\n\u001b[1;32m   1307\u001b[0m \u001b[0;34m\u001b[0m\u001b[0m\n\u001b[1;32m   1308\u001b[0m         \u001b[0manswer\u001b[0m \u001b[0;34m=\u001b[0m \u001b[0mself\u001b[0m\u001b[0;34m.\u001b[0m\u001b[0mgateway_client\u001b[0m\u001b[0;34m.\u001b[0m\u001b[0msend_command\u001b[0m\u001b[0;34m(\u001b[0m\u001b[0mcommand\u001b[0m\u001b[0;34m)\u001b[0m\u001b[0;34m\u001b[0m\u001b[0;34m\u001b[0m\u001b[0m\n\u001b[0;32m-> 1309\u001b[0;31m         return_value = get_return_value(\n\u001b[0m\u001b[1;32m   1310\u001b[0m             answer, self.gateway_client, self.target_id, self.name)\n\u001b[1;32m   1311\u001b[0m \u001b[0;34m\u001b[0m\u001b[0m\n",
      "\u001b[0;32m~/.local/lib/python3.8/site-packages/pyspark/sql/utils.py\u001b[0m in \u001b[0;36mdeco\u001b[0;34m(*a, **kw)\u001b[0m\n\u001b[1;32m    115\u001b[0m                 \u001b[0;31m# Hide where the exception came from that shows a non-Pythonic\u001b[0m\u001b[0;34m\u001b[0m\u001b[0;34m\u001b[0m\u001b[0;34m\u001b[0m\u001b[0m\n\u001b[1;32m    116\u001b[0m                 \u001b[0;31m# JVM exception message.\u001b[0m\u001b[0;34m\u001b[0m\u001b[0;34m\u001b[0m\u001b[0;34m\u001b[0m\u001b[0m\n\u001b[0;32m--> 117\u001b[0;31m                 \u001b[0;32mraise\u001b[0m \u001b[0mconverted\u001b[0m \u001b[0;32mfrom\u001b[0m \u001b[0;32mNone\u001b[0m\u001b[0;34m\u001b[0m\u001b[0;34m\u001b[0m\u001b[0m\n\u001b[0m\u001b[1;32m    118\u001b[0m             \u001b[0;32melse\u001b[0m\u001b[0;34m:\u001b[0m\u001b[0;34m\u001b[0m\u001b[0;34m\u001b[0m\u001b[0m\n\u001b[1;32m    119\u001b[0m                 \u001b[0;32mraise\u001b[0m\u001b[0;34m\u001b[0m\u001b[0;34m\u001b[0m\u001b[0m\n",
      "\u001b[0;31mAnalysisException\u001b[0m: Path does not exist: file:/home/daniyal/notebook/sales"
     ]
    }
   ],
   "source": [
    "sales = spark.read.csv(\"sales\",inferSchema=True, header=True).where('Description is not null')"
   ]
  },
  {
   "cell_type": "code",
   "execution_count": 25,
   "metadata": {},
   "outputs": [
    {
     "name": "stdout",
     "output_type": "stream",
     "text": [
      "+---------+---------+--------------------+--------+-------------------+---------+----------+--------------+\n",
      "|InvoiceNo|StockCode|         Description|Quantity|        InvoiceDate|UnitPrice|CustomerID|       Country|\n",
      "+---------+---------+--------------------+--------+-------------------+---------+----------+--------------+\n",
      "|   536365|   85123A|WHITE HANGING HEA...|       6|2010-12-01 08:26:00|     2.55|   17850.0|United Kingdom|\n",
      "|   536365|    71053| WHITE METAL LANTERN|       6|2010-12-01 08:26:00|     3.39|   17850.0|United Kingdom|\n",
      "|   536365|   84406B|CREAM CUPID HEART...|       8|2010-12-01 08:26:00|     2.75|   17850.0|United Kingdom|\n",
      "|   536365|   84029G|KNITTED UNION FLA...|       6|2010-12-01 08:26:00|     3.39|   17850.0|United Kingdom|\n",
      "|   536365|   84029E|RED WOOLLY HOTTIE...|       6|2010-12-01 08:26:00|     3.39|   17850.0|United Kingdom|\n",
      "|   536365|    22752|SET 7 BABUSHKA NE...|       2|2010-12-01 08:26:00|     7.65|   17850.0|United Kingdom|\n",
      "|   536365|    21730|GLASS STAR FROSTE...|       6|2010-12-01 08:26:00|     4.25|   17850.0|United Kingdom|\n",
      "|   536366|    22633|HAND WARMER UNION...|       6|2010-12-01 08:28:00|     1.85|   17850.0|United Kingdom|\n",
      "|   536366|    22632|HAND WARMER RED P...|       6|2010-12-01 08:28:00|     1.85|   17850.0|United Kingdom|\n",
      "|   536367|    84879|ASSORTED COLOUR B...|      32|2010-12-01 08:34:00|     1.69|   13047.0|United Kingdom|\n",
      "|   536367|    22745|POPPY'S PLAYHOUSE...|       6|2010-12-01 08:34:00|      2.1|   13047.0|United Kingdom|\n",
      "|   536367|    22748|POPPY'S PLAYHOUSE...|       6|2010-12-01 08:34:00|      2.1|   13047.0|United Kingdom|\n",
      "|   536367|    22749|FELTCRAFT PRINCES...|       8|2010-12-01 08:34:00|     3.75|   13047.0|United Kingdom|\n",
      "|   536367|    22310|IVORY KNITTED MUG...|       6|2010-12-01 08:34:00|     1.65|   13047.0|United Kingdom|\n",
      "|   536367|    84969|BOX OF 6 ASSORTED...|       6|2010-12-01 08:34:00|     4.25|   13047.0|United Kingdom|\n",
      "|   536367|    22623|BOX OF VINTAGE JI...|       3|2010-12-01 08:34:00|     4.95|   13047.0|United Kingdom|\n",
      "|   536367|    22622|BOX OF VINTAGE AL...|       2|2010-12-01 08:34:00|     9.95|   13047.0|United Kingdom|\n",
      "|   536367|    21754|HOME BUILDING BLO...|       3|2010-12-01 08:34:00|     5.95|   13047.0|United Kingdom|\n",
      "|   536367|    21755|LOVE BUILDING BLO...|       3|2010-12-01 08:34:00|     5.95|   13047.0|United Kingdom|\n",
      "|   536367|    21777|RECIPE BOX WITH M...|       4|2010-12-01 08:34:00|     7.95|   13047.0|United Kingdom|\n",
      "+---------+---------+--------------------+--------+-------------------+---------+----------+--------------+\n",
      "only showing top 20 rows\n",
      "\n"
     ]
    }
   ],
   "source": [
    "sales.show()"
   ]
  },
  {
   "cell_type": "code",
   "execution_count": 47,
   "metadata": {},
   "outputs": [
    {
     "name": "stdout",
     "output_type": "stream",
     "text": [
      "+---------+---------+-----------------------------------+--------+-------------------+---------+----------+--------------+\n",
      "|InvoiceNo|StockCode|Description                        |Quantity|InvoiceDate        |UnitPrice|CustomerID|Country       |\n",
      "+---------+---------+-----------------------------------+--------+-------------------+---------+----------+--------------+\n",
      "|536365   |85123A   |WHITE HANGING HEART T-LIGHT HOLDER |6       |2010-12-01 08:26:00|2.55     |17850.0   |United Kingdom|\n",
      "|536365   |71053    |WHITE METAL LANTERN                |6       |2010-12-01 08:26:00|3.39     |17850.0   |United Kingdom|\n",
      "|536365   |84406B   |CREAM CUPID HEARTS COAT HANGER     |8       |2010-12-01 08:26:00|2.75     |17850.0   |United Kingdom|\n",
      "|536365   |84029G   |KNITTED UNION FLAG HOT WATER BOTTLE|6       |2010-12-01 08:26:00|3.39     |17850.0   |United Kingdom|\n",
      "|536365   |84029E   |RED WOOLLY HOTTIE WHITE HEART.     |6       |2010-12-01 08:26:00|3.39     |17850.0   |United Kingdom|\n",
      "|536365   |22752    |SET 7 BABUSHKA NESTING BOXES       |2       |2010-12-01 08:26:00|7.65     |17850.0   |United Kingdom|\n",
      "|536365   |21730    |GLASS STAR FROSTED T-LIGHT HOLDER  |6       |2010-12-01 08:26:00|4.25     |17850.0   |United Kingdom|\n",
      "|536366   |22633    |HAND WARMER UNION JACK             |6       |2010-12-01 08:28:00|1.85     |17850.0   |United Kingdom|\n",
      "|536366   |22632    |HAND WARMER RED POLKA DOT          |6       |2010-12-01 08:28:00|1.85     |17850.0   |United Kingdom|\n",
      "|536367   |84879    |ASSORTED COLOUR BIRD ORNAMENT      |32      |2010-12-01 08:34:00|1.69     |13047.0   |United Kingdom|\n",
      "|536367   |22745    |POPPY'S PLAYHOUSE BEDROOM          |6       |2010-12-01 08:34:00|2.1      |13047.0   |United Kingdom|\n",
      "|536367   |22748    |POPPY'S PLAYHOUSE KITCHEN          |6       |2010-12-01 08:34:00|2.1      |13047.0   |United Kingdom|\n",
      "|536367   |22749    |FELTCRAFT PRINCESS CHARLOTTE DOLL  |8       |2010-12-01 08:34:00|3.75     |13047.0   |United Kingdom|\n",
      "|536367   |22310    |IVORY KNITTED MUG COSY             |6       |2010-12-01 08:34:00|1.65     |13047.0   |United Kingdom|\n",
      "|536367   |84969    |BOX OF 6 ASSORTED COLOUR TEASPOONS |6       |2010-12-01 08:34:00|4.25     |13047.0   |United Kingdom|\n",
      "|536367   |22623    |BOX OF VINTAGE JIGSAW BLOCKS       |3       |2010-12-01 08:34:00|4.95     |13047.0   |United Kingdom|\n",
      "|536367   |22622    |BOX OF VINTAGE ALPHABET BLOCKS     |2       |2010-12-01 08:34:00|9.95     |13047.0   |United Kingdom|\n",
      "|536367   |21754    |HOME BUILDING BLOCK WORD           |3       |2010-12-01 08:34:00|5.95     |13047.0   |United Kingdom|\n",
      "|536367   |21755    |LOVE BUILDING BLOCK WORD           |3       |2010-12-01 08:34:00|5.95     |13047.0   |United Kingdom|\n",
      "|536367   |21777    |RECIPE BOX WITH METAL HEART        |4       |2010-12-01 08:34:00|7.95     |13047.0   |United Kingdom|\n",
      "+---------+---------+-----------------------------------+--------+-------------------+---------+----------+--------------+\n",
      "only showing top 20 rows\n",
      "\n"
     ]
    }
   ],
   "source": [
    "sales.show(truncate=False)"
   ]
  },
  {
   "cell_type": "code",
   "execution_count": 4,
   "metadata": {},
   "outputs": [],
   "source": [
    "intDF = spark.read.parquet(\"simple-ml-integers/*.parquet\")"
   ]
  },
  {
   "cell_type": "code",
   "execution_count": 5,
   "metadata": {},
   "outputs": [
    {
     "name": "stdout",
     "output_type": "stream",
     "text": [
      "+----+----+----+\n",
      "|int1|int2|int3|\n",
      "+----+----+----+\n",
      "|   1|   2|   3|\n",
      "|   4|   5|   6|\n",
      "|   7|   8|   9|\n",
      "+----+----+----+\n",
      "\n"
     ]
    }
   ],
   "source": [
    "intDF.show(5)"
   ]
  },
  {
   "cell_type": "code",
   "execution_count": 6,
   "metadata": {},
   "outputs": [],
   "source": [
    "scaleDF= spark.read.parquet(\"simple-ml-scaling\")"
   ]
  },
  {
   "cell_type": "code",
   "execution_count": 29,
   "metadata": {},
   "outputs": [
    {
     "name": "stdout",
     "output_type": "stream",
     "text": [
      "+---+--------------+\n",
      "| id|      features|\n",
      "+---+--------------+\n",
      "|  0|[1.0,0.1,-1.0]|\n",
      "|  1| [2.0,1.1,1.0]|\n",
      "|  0|[1.0,0.1,-1.0]|\n",
      "|  1| [2.0,1.1,1.0]|\n",
      "|  1|[3.0,10.1,3.0]|\n",
      "+---+--------------+\n",
      "\n"
     ]
    }
   ],
   "source": [
    "scaleDF.show(5)"
   ]
  },
  {
   "cell_type": "code",
   "execution_count": 13,
   "metadata": {},
   "outputs": [
    {
     "ename": "AnalysisException",
     "evalue": "Path does not exist: file:/home/daniyal/notebook/simple-ml",
     "output_type": "error",
     "traceback": [
      "\u001b[0;31m---------------------------------------------------------------------------\u001b[0m",
      "\u001b[0;31mAnalysisException\u001b[0m                         Traceback (most recent call last)",
      "\u001b[0;32m/tmp/ipykernel_3339/2297459959.py\u001b[0m in \u001b[0;36m<module>\u001b[0;34m\u001b[0m\n\u001b[0;32m----> 1\u001b[0;31m \u001b[0msimpleDF\u001b[0m \u001b[0;34m=\u001b[0m \u001b[0mspark\u001b[0m\u001b[0;34m.\u001b[0m\u001b[0mread\u001b[0m\u001b[0;34m.\u001b[0m\u001b[0mjson\u001b[0m\u001b[0;34m(\u001b[0m\u001b[0;34m\"simple-ml\"\u001b[0m\u001b[0;34m)\u001b[0m\u001b[0;34m\u001b[0m\u001b[0;34m\u001b[0m\u001b[0m\n\u001b[0m",
      "\u001b[0;32m~/.local/lib/python3.8/site-packages/pyspark/sql/readwriter.py\u001b[0m in \u001b[0;36mjson\u001b[0;34m(self, path, schema, primitivesAsString, prefersDecimal, allowComments, allowUnquotedFieldNames, allowSingleQuotes, allowNumericLeadingZero, allowBackslashEscapingAnyCharacter, mode, columnNameOfCorruptRecord, dateFormat, timestampFormat, multiLine, allowUnquotedControlChars, lineSep, samplingRatio, dropFieldIfAllNull, encoding, locale, pathGlobFilter, recursiveFileLookup, allowNonNumericNumbers, modifiedBefore, modifiedAfter)\u001b[0m\n\u001b[1;32m    227\u001b[0m             \u001b[0mpath\u001b[0m \u001b[0;34m=\u001b[0m \u001b[0;34m[\u001b[0m\u001b[0mpath\u001b[0m\u001b[0;34m]\u001b[0m\u001b[0;34m\u001b[0m\u001b[0;34m\u001b[0m\u001b[0m\n\u001b[1;32m    228\u001b[0m         \u001b[0;32mif\u001b[0m \u001b[0mtype\u001b[0m\u001b[0;34m(\u001b[0m\u001b[0mpath\u001b[0m\u001b[0;34m)\u001b[0m \u001b[0;34m==\u001b[0m \u001b[0mlist\u001b[0m\u001b[0;34m:\u001b[0m\u001b[0;34m\u001b[0m\u001b[0;34m\u001b[0m\u001b[0m\n\u001b[0;32m--> 229\u001b[0;31m             \u001b[0;32mreturn\u001b[0m \u001b[0mself\u001b[0m\u001b[0;34m.\u001b[0m\u001b[0m_df\u001b[0m\u001b[0;34m(\u001b[0m\u001b[0mself\u001b[0m\u001b[0;34m.\u001b[0m\u001b[0m_jreader\u001b[0m\u001b[0;34m.\u001b[0m\u001b[0mjson\u001b[0m\u001b[0;34m(\u001b[0m\u001b[0mself\u001b[0m\u001b[0;34m.\u001b[0m\u001b[0m_spark\u001b[0m\u001b[0;34m.\u001b[0m\u001b[0m_sc\u001b[0m\u001b[0;34m.\u001b[0m\u001b[0m_jvm\u001b[0m\u001b[0;34m.\u001b[0m\u001b[0mPythonUtils\u001b[0m\u001b[0;34m.\u001b[0m\u001b[0mtoSeq\u001b[0m\u001b[0;34m(\u001b[0m\u001b[0mpath\u001b[0m\u001b[0;34m)\u001b[0m\u001b[0;34m)\u001b[0m\u001b[0;34m)\u001b[0m\u001b[0;34m\u001b[0m\u001b[0;34m\u001b[0m\u001b[0m\n\u001b[0m\u001b[1;32m    230\u001b[0m         \u001b[0;32melif\u001b[0m \u001b[0misinstance\u001b[0m\u001b[0;34m(\u001b[0m\u001b[0mpath\u001b[0m\u001b[0;34m,\u001b[0m \u001b[0mRDD\u001b[0m\u001b[0;34m)\u001b[0m\u001b[0;34m:\u001b[0m\u001b[0;34m\u001b[0m\u001b[0;34m\u001b[0m\u001b[0m\n\u001b[1;32m    231\u001b[0m             \u001b[0;32mdef\u001b[0m \u001b[0mfunc\u001b[0m\u001b[0;34m(\u001b[0m\u001b[0miterator\u001b[0m\u001b[0;34m)\u001b[0m\u001b[0;34m:\u001b[0m\u001b[0;34m\u001b[0m\u001b[0;34m\u001b[0m\u001b[0m\n",
      "\u001b[0;32m~/.local/lib/python3.8/site-packages/py4j/java_gateway.py\u001b[0m in \u001b[0;36m__call__\u001b[0;34m(self, *args)\u001b[0m\n\u001b[1;32m   1307\u001b[0m \u001b[0;34m\u001b[0m\u001b[0m\n\u001b[1;32m   1308\u001b[0m         \u001b[0manswer\u001b[0m \u001b[0;34m=\u001b[0m \u001b[0mself\u001b[0m\u001b[0;34m.\u001b[0m\u001b[0mgateway_client\u001b[0m\u001b[0;34m.\u001b[0m\u001b[0msend_command\u001b[0m\u001b[0;34m(\u001b[0m\u001b[0mcommand\u001b[0m\u001b[0;34m)\u001b[0m\u001b[0;34m\u001b[0m\u001b[0;34m\u001b[0m\u001b[0m\n\u001b[0;32m-> 1309\u001b[0;31m         return_value = get_return_value(\n\u001b[0m\u001b[1;32m   1310\u001b[0m             answer, self.gateway_client, self.target_id, self.name)\n\u001b[1;32m   1311\u001b[0m \u001b[0;34m\u001b[0m\u001b[0m\n",
      "\u001b[0;32m~/.local/lib/python3.8/site-packages/pyspark/sql/utils.py\u001b[0m in \u001b[0;36mdeco\u001b[0;34m(*a, **kw)\u001b[0m\n\u001b[1;32m    115\u001b[0m                 \u001b[0;31m# Hide where the exception came from that shows a non-Pythonic\u001b[0m\u001b[0;34m\u001b[0m\u001b[0;34m\u001b[0m\u001b[0;34m\u001b[0m\u001b[0m\n\u001b[1;32m    116\u001b[0m                 \u001b[0;31m# JVM exception message.\u001b[0m\u001b[0;34m\u001b[0m\u001b[0;34m\u001b[0m\u001b[0;34m\u001b[0m\u001b[0m\n\u001b[0;32m--> 117\u001b[0;31m                 \u001b[0;32mraise\u001b[0m \u001b[0mconverted\u001b[0m \u001b[0;32mfrom\u001b[0m \u001b[0;32mNone\u001b[0m\u001b[0;34m\u001b[0m\u001b[0;34m\u001b[0m\u001b[0m\n\u001b[0m\u001b[1;32m    118\u001b[0m             \u001b[0;32melse\u001b[0m\u001b[0;34m:\u001b[0m\u001b[0;34m\u001b[0m\u001b[0;34m\u001b[0m\u001b[0m\n\u001b[1;32m    119\u001b[0m                 \u001b[0;32mraise\u001b[0m\u001b[0;34m\u001b[0m\u001b[0;34m\u001b[0m\u001b[0m\n",
      "\u001b[0;31mAnalysisException\u001b[0m: Path does not exist: file:/home/daniyal/notebook/simple-ml"
     ]
    }
   ],
   "source": [
    "simpleDF = spark.read.json(\"simple-ml\")"
   ]
  },
  {
   "cell_type": "code",
   "execution_count": 31,
   "metadata": {},
   "outputs": [
    {
     "name": "stdout",
     "output_type": "stream",
     "text": [
      "+-----+----+------+------------------+\n",
      "|color| lab|value1|            value2|\n",
      "+-----+----+------+------------------+\n",
      "|green|good|     1|14.386294994851129|\n",
      "| blue| bad|     8|14.386294994851129|\n",
      "| blue| bad|    12|14.386294994851129|\n",
      "|green|good|    15| 38.97187133755819|\n",
      "|green|good|    12|14.386294994851129|\n",
      "+-----+----+------+------------------+\n",
      "only showing top 5 rows\n",
      "\n"
     ]
    }
   ],
   "source": [
    "simpleDF.show(5)"
   ]
  },
  {
   "cell_type": "code",
   "execution_count": 19,
   "metadata": {},
   "outputs": [
    {
     "data": {
      "text/plain": [
       "DataFrame[InvoiceNo: string, StockCode: string, Description: string, Quantity: int, InvoiceDate: timestamp, UnitPrice: double, CustomerID: double, Country: string]"
      ]
     },
     "execution_count": 19,
     "metadata": {},
     "output_type": "execute_result"
    }
   ],
   "source": [
    "sales.cache()"
   ]
  },
  {
   "cell_type": "markdown",
   "metadata": {},
   "source": [
    "#### Main concepts in Spark Pipelines\n",
    "\n",
    "DataFrame: Spark ML uses DataFrame from Spark SQL as an ML dataset, which can hold a variety of data types. E.g., a DataFrame could have different columns storing text, feature vectors, true labels, and predictions.\n",
    "\n",
    "Transformer: A Transformer is an algorithm which can transform one DataFrame into another DataFrame. E.g., an ML model is a Transformer which transforms DataFrame with features into a DataFrame with predictions.\n",
    "\n",
    "Estimator: An Estimator is an algorithm which can be fit on a DataFrame to produce a Transformer. E.g., a learning algorithm is an Estimator which trains on a DataFrame and produces a model.\n",
    "\n",
    "Pipeline: A Pipeline chains multiple Transformers and Estimators together to specify an ML workflow.\n",
    "\n",
    "Parameter: All Transformers and Estimators now share a common API for specifying parameters."
   ]
  },
  {
   "cell_type": "markdown",
   "metadata": {},
   "source": [
    "##### Transformers\n",
    "- functions that convert raw data in some way\n",
    "- create a new interaction variable (from two other variables), to normalize a column, or to simply turn it into a Double to be input into a model\n",
    "- primarily used in preprocessing or feature generation\n",
    "- For Example - A tokenizer\n",
    "\n",
    "https://spark.apache.org/docs/latest/ml-guide.html"
   ]
  },
  {
   "cell_type": "code",
   "execution_count": 5,
   "metadata": {},
   "outputs": [],
   "source": [
    "from pyspark.ml.feature import Tokenizer"
   ]
  },
  {
   "cell_type": "code",
   "execution_count": 6,
   "metadata": {},
   "outputs": [],
   "source": [
    "tokens = Tokenizer(inputCol=\"Description\", outputCol=\"words\")"
   ]
  },
  {
   "cell_type": "code",
   "execution_count": 7,
   "metadata": {},
   "outputs": [],
   "source": [
    "tokenizedDF = tokens.transform(sales)"
   ]
  },
  {
   "cell_type": "code",
   "execution_count": 8,
   "metadata": {},
   "outputs": [
    {
     "name": "stdout",
     "output_type": "stream",
     "text": [
      "+-----------------------------------+------------------------------------------+\n",
      "|Description                        |words                                     |\n",
      "+-----------------------------------+------------------------------------------+\n",
      "|WHITE HANGING HEART T-LIGHT HOLDER |[white, hanging, heart, t-light, holder]  |\n",
      "|WHITE METAL LANTERN                |[white, metal, lantern]                   |\n",
      "|CREAM CUPID HEARTS COAT HANGER     |[cream, cupid, hearts, coat, hanger]      |\n",
      "|KNITTED UNION FLAG HOT WATER BOTTLE|[knitted, union, flag, hot, water, bottle]|\n",
      "|RED WOOLLY HOTTIE WHITE HEART.     |[red, woolly, hottie, white, heart.]      |\n",
      "+-----------------------------------+------------------------------------------+\n",
      "only showing top 5 rows\n",
      "\n"
     ]
    }
   ],
   "source": [
    "tokenizedDF.select('Description','words').show(5,truncate=False)"
   ]
  },
  {
   "cell_type": "markdown",
   "metadata": {},
   "source": [
    "#### Estimators for Preprocessing\n",
    "\n",
    "abstracts the concept of a learning algorithm or any algorithm that fits or trains on data. Technically, an Estimator implements a method fit(), which accepts a DataFrame and produces a Model, which is a Transformer. For example, a learning algorithm such as LogisticRegression is an Estimator, and calling fit() trains a LogisticRegressionModel, which is a Model and hence a Transformer. \n",
    "- An example of this type of estimator is the StandardScaler, which scales your input column according to the range of values in that column to have a zero mean and a variance of 1 in each dimension\n",
    "\n"
   ]
  },
  {
   "cell_type": "markdown",
   "metadata": {},
   "source": [
    "## converting words into vector of features\n",
    "\n",
    "https://towardsdatascience.com/countvectorizer-hashingtf-e66f169e2d4e\n"
   ]
  },
  {
   "cell_type": "code",
   "execution_count": 9,
   "metadata": {},
   "outputs": [],
   "source": [
    "from pyspark.ml.feature import HashingTF, IDF\n",
    "\n",
    "tf = HashingTF(inputCol='words', outputCol='rawFeatures', numFeatures=1000)\n"
   ]
  },
  {
   "cell_type": "code",
   "execution_count": 10,
   "metadata": {},
   "outputs": [],
   "source": [
    "featuredDF = tf.transform(tokenizedDF)"
   ]
  },
  {
   "cell_type": "code",
   "execution_count": 11,
   "metadata": {},
   "outputs": [
    {
     "name": "stdout",
     "output_type": "stream",
     "text": [
      "+------------------------------------------+---------------------------------------------------------+\n",
      "|words                                     |rawFeatures                                              |\n",
      "+------------------------------------------+---------------------------------------------------------+\n",
      "|[white, hanging, heart, t-light, holder]  |(1000,[77,152,160,348,538],[1.0,1.0,1.0,1.0,1.0])        |\n",
      "|[white, metal, lantern]                   |(1000,[77,495,729],[1.0,1.0,1.0])                        |\n",
      "|[cream, cupid, hearts, coat, hanger]      |(1000,[127,446,467,477,514],[1.0,1.0,1.0,1.0,1.0])       |\n",
      "|[knitted, union, flag, hot, water, bottle]|(1000,[69,138,194,231,411,932],[1.0,1.0,1.0,1.0,1.0,1.0])|\n",
      "|[red, woolly, hottie, white, heart.]      |(1000,[77,142,291,756,872],[1.0,1.0,1.0,1.0,1.0])        |\n",
      "+------------------------------------------+---------------------------------------------------------+\n",
      "only showing top 5 rows\n",
      "\n"
     ]
    }
   ],
   "source": [
    "featuredDF.select('words','rawFeatures').show(5,truncate=False)"
   ]
  },
  {
   "cell_type": "code",
   "execution_count": 12,
   "metadata": {},
   "outputs": [],
   "source": [
    "idf = IDF(inputCol=\"rawFeatures\", outputCol=\"features\")\n",
    "\n",
    "idf = idf.fit(featuredDF)"
   ]
  },
  {
   "cell_type": "code",
   "execution_count": 13,
   "metadata": {},
   "outputs": [],
   "source": [
    "idfDF = idf.transform(featuredDF)"
   ]
  },
  {
   "cell_type": "code",
   "execution_count": 14,
   "metadata": {},
   "outputs": [
    {
     "name": "stdout",
     "output_type": "stream",
     "text": [
      "+---------------------------------------------------------+----------------------------------------------------------------------------------------------------------------------------------------------+\n",
      "|rawFeatures                                              |features                                                                                                                                      |\n",
      "+---------------------------------------------------------+----------------------------------------------------------------------------------------------------------------------------------------------+\n",
      "|(1000,[77,152,160,348,538],[1.0,1.0,1.0,1.0,1.0])        |(1000,[77,152,160,348,538],[3.01461366633085,2.844800959228604,2.7450505564615444,3.396869541528644,3.4509367627989196])                      |\n",
      "|(1000,[77,495,729],[1.0,1.0,1.0])                        |(1000,[77,495,729],[3.01461366633085,5.168588259873252,3.4297943262251103])                                                                   |\n",
      "|(1000,[127,446,467,477,514],[1.0,1.0,1.0,1.0,1.0])       |(1000,[127,446,467,477,514],[4.672151373559362,2.394512548511893,4.0464454737949485,4.974432245432295,5.91052560460263])                      |\n",
      "|(1000,[69,138,194,231,411,932],[1.0,1.0,1.0,1.0,1.0,1.0])|(1000,[69,138,194,231,411,932],[3.293129771768551,3.2643508072185075,3.9434132478967134,3.229504075888339,5.192685811452313,4.79538401398331])|\n",
      "|(1000,[77,142,291,756,872],[1.0,1.0,1.0,1.0,1.0])        |(1000,[77,142,291,756,872],[3.01461366633085,5.2953399655123965,2.3009599572084194,3.4901574759522007,5.322738939700511])                     |\n",
      "+---------------------------------------------------------+----------------------------------------------------------------------------------------------------------------------------------------------+\n",
      "only showing top 5 rows\n",
      "\n"
     ]
    }
   ],
   "source": [
    "idfDF.select('rawFeatures', 'features').show(5,truncate=False)"
   ]
  },
  {
   "cell_type": "markdown",
   "metadata": {},
   "source": [
    "# PCA"
   ]
  },
  {
   "cell_type": "code",
   "execution_count": 25,
   "metadata": {},
   "outputs": [
    {
     "name": "stdout",
     "output_type": "stream",
     "text": [
      "+---------------------+\n",
      "|features             |\n",
      "+---------------------+\n",
      "|(5,[1,3],[1.0,7.0])  |\n",
      "|[2.0,0.0,3.0,4.0,5.0]|\n",
      "|[4.0,0.0,0.0,6.0,7.0]|\n",
      "+---------------------+\n",
      "\n"
     ]
    }
   ],
   "source": [
    "from pyspark.ml.feature import PCA\n",
    "from pyspark.ml.linalg import Vectors\n",
    "\n",
    "data = [(Vectors.sparse(5, [(1, 1.0), (3, 7.0)]),),\n",
    "        (Vectors.dense([2.0, 0.0, 3.0, 4.0, 5.0]),),\n",
    "        (Vectors.dense([4.0, 0.0, 0.0, 6.0, 7.0]),)]\n",
    "df = spark.createDataFrame(data, [\"features\"])\n",
    "\n",
    "df.show(truncate=False)"
   ]
  },
  {
   "cell_type": "code",
   "execution_count": 27,
   "metadata": {},
   "outputs": [
    {
     "name": "stdout",
     "output_type": "stream",
     "text": [
      "+---------------------+-----------------------------------------------------------+\n",
      "|features             |pcaFeatures                                                |\n",
      "+---------------------+-----------------------------------------------------------+\n",
      "|(5,[1,3],[1.0,7.0])  |[1.6485728230883807,-4.013282700516296,-5.524543751369388] |\n",
      "|[2.0,0.0,3.0,4.0,5.0]|[-4.645104331781534,-1.1167972663619026,-5.524543751369387]|\n",
      "|[4.0,0.0,0.0,6.0,7.0]|[-6.428880535676489,-5.337951427775355,-5.524543751369389] |\n",
      "+---------------------+-----------------------------------------------------------+\n",
      "\n"
     ]
    }
   ],
   "source": [
    "pca = PCA(k=3, inputCol=\"features\", outputCol=\"pcaFeatures\")\n",
    "model = pca.fit(df)\n",
    "\n",
    "result = model.transform(df)\n",
    "result.show(truncate=False)"
   ]
  },
  {
   "cell_type": "code",
   "execution_count": null,
   "metadata": {},
   "outputs": [],
   "source": []
  },
  {
   "cell_type": "code",
   "execution_count": 15,
   "metadata": {},
   "outputs": [],
   "source": [
    "pcaDF = idfDF.select('features')"
   ]
  },
  {
   "cell_type": "code",
   "execution_count": 16,
   "metadata": {},
   "outputs": [],
   "source": [
    "from pyspark.ml.feature import PCA\n",
    "\n",
    "pca = PCA(k=500, inputCol=\"features\", outputCol=\"pcaFeatures\")\n",
    "pcamodel = pca.fit(pcaDF).transform(pcaDF)"
   ]
  },
  {
   "cell_type": "code",
   "execution_count": 19,
   "metadata": {},
   "outputs": [
    {
     "name": "stdout",
     "output_type": "stream",
     "text": [
      "+-------------------------------------------------------------------------------------------------------------------------------------------------+\n",
      "|features                                                                                                                                         |\n",
      "+-------------------------------------------------------------------------------------------------------------------------------------------------+\n",
      "|(1000,[77,152,160,348,538],[3.01461366633085,2.844800959228604,2.7450505564615444,3.396869541528644,3.4509367627989196])                         |\n",
      "|(1000,[77,495,729],[3.01461366633085,5.168588259873252,3.4297943262251103])                                                                      |\n",
      "|(1000,[127,446,467,477,514],[4.672151373559362,2.394512548511893,4.0464454737949485,4.974432245432295,5.91052560460263])                         |\n",
      "|(1000,[69,138,194,231,411,932],[3.293129771768551,3.2643508072185075,3.9434132478967134,3.229504075888339,5.192685811452313,4.79538401398331])   |\n",
      "|(1000,[77,142,291,756,872],[3.01461366633085,5.2953399655123965,2.3009599572084194,3.4901574759522007,5.322738939700511])                        |\n",
      "|(1000,[3,153,156,320,813],[5.322738939700511,3.824853513172158,5.37989735354046,4.094073522784203,2.4765384001174837])                           |\n",
      "|(1000,[152,170,256,278,348],[2.844800959228604,3.357181793261401,4.57552453787029,3.5930518991148337,3.396869541528644])                         |\n",
      "|(1000,[194,423,467,977],[3.9434132478967134,3.530979470472456,4.0464454737949485,3.485722878884335])                                             |\n",
      "|(1000,[220,280,291,423,977],[4.955014159575193,4.935965964604499,2.3009599572084194,3.530979470472456,3.485722878884335])                        |\n",
      "|(1000,[134,706,855,894],[3.979004192999416,3.752966283658842,5.350909816667207,3.602952970097545])                                               |\n",
      "|(1000,[427,481,727],[5.770763662227472,4.935965964604499,4.880906187421472])                                                                     |\n",
      "|(1000,[461,481,727],[4.686750172980514,4.935965964604499,4.880906187421472])                                                                     |\n",
      "|(1000,[126,152,685,835],[5.728204047808675,2.844800959228604,4.214909995927477,4.463606621666305])                                               |\n",
      "|(1000,[9,322,411,426],[3.330308775010305,5.056110276446562,5.192685811452313,4.451910581903113])                                                 |\n",
      "|(1000,[343,512,584,675,706,894],[2.6258620391964262,2.7685308240703868,7.114498408928566,3.6751492613020345,3.752966283658842,3.602952970097545])|\n",
      "|(1000,[20,150,242,343,512],[5.861735440433198,2.947833185126839,3.3649943329981946,2.6258620391964262,2.7685308240703868])                       |\n",
      "|(1000,[20,23,150,343,512],[5.861735440433198,4.686750172980514,2.947833185126839,2.6258620391964262,2.7685308240703868])                         |\n",
      "|(1000,[365,511,519,852],[4.845814867610201,4.428921063678414,4.135573253690956,3.597990180755416])                                               |\n",
      "|(1000,[240,511,519,852],[4.144083943358865,4.428921063678414,4.135573253690956,3.597990180755416])                                               |\n",
      "|(1000,[43,160,512,650,729],[5.268671718430236,2.7450505564615444,2.7685308240703868,3.9226512564482845,3.4297943262251103])                      |\n",
      "+-------------------------------------------------------------------------------------------------------------------------------------------------+\n",
      "only showing top 20 rows\n",
      "\n"
     ]
    }
   ],
   "source": [
    "pcaDF.show(truncate=False)"
   ]
  },
  {
   "cell_type": "code",
   "execution_count": 22,
   "metadata": {},
   "outputs": [
    {
     "name": "stdout",
     "output_type": "stream",
     "text": [
      "+--------------------------------------------------------------------------------------------------------------------------------------------------------------------------------------------------------------------------------------------------------------------------------------------------------------------------------------------------------------------------------------------------------------------------------------------------------------------------------------------------------------------------------------------------------------------------------------------------------------------------------------------------------------------------------------------------------------------------------------------------------------------------------------------------------------------------------------------------------------------------------------------------------------------------------------------------------------------------------------------------------------------------------------------------------------------------------------------------------------------------------------------------------------------------------------------------------------------------------------------------------------------------------------------------------------------------------------------------------------------------------------------------------------------------------------------------------------------------------------------------------------------------------------------------------------------------------------------------------------------------------------------------------------------------------------------------------------------------------------------------------------------------------------------------------------------------------------------------------------------------------------------------------------------------------------------------------------------------------------------------------------------------------------------------------------------------------------------------------------------------------------------------------------------------------------------------------------------------------------------------------------------------------------------------------------------------------------------------------------------------------------------------------------------------------------------------------------------------------------------------------------------------------------------------------------------------------------------------------------------------------------------------------------------------------------------------------------------------------------------------------------------------------------------------------------------------------------------------------------------------------------------------------------------------------------------------------------------------------------------------------------------------------------------------------------------------------------------------------------------------------------------------------------------------------------------------------------------------------------------------------------------------------------------------------------------------------------------------------------------------------------------------------------------------------------------------------------------------------------------------------------------------------------------------------------------------------------------------------------------------------------------------------------------------------------------------------------------------------------------------------------------------------------------------------------------------------------------------------------------------------------------------------------------------------------------------------------------------------------------------------------------------------------------------------------------------------------------------------------------------------------------------------------------------------------------------------------------------------------------------------------------------------------------------------------------------------------------------------------------------------------------------------------------------------------------------------------------------------------------------------------------------------------------------------------------------------------------------------------------------------------------------------------------------------------------------------------------------------------------------------------------------------------------------------------------------------------------------------------------------------------------------------------------------------------------------------------------------------------------------------------------------------------------------------------------------------------------------------------------------------------------------------------------------------------------------------------------------------------------------------------------------------------------------------------------------------------------------------------------------------------------------------------------------------------------------------------------------------------------------------------------------------------------------------------------------------------------------------------------------------------------------------------------------------------------------------------------------------------------------------------------------------------------------------------------------------------------------------------------------------------------------------------------------------------------------------------------------------------------------------------------------------------------------------------------------------------------------------------------------------------------------------------------------------------------------------------------------------------------------------------------------------------------------------------------------------------------------------------------------------------------------------------------------------------------------------------------------------------------------------------------------------------------------------------------------------------------------------------------------------------------------------------------------------------------------------------------------------------------------------------------------------------------------------------------------------------------------------------------------------------------------------------------------------------------------------------------------------------------------------------------------------------------------------------------------------------------------------------------------------------------------------------------------------------------------------------------------------------------------------------------------------------------------------------------------------------------------------------------------------------------------------------------------------------------------------------------------------------------------------------------------------------------------------------------------------------------------------------------------------------------------------------------------------------------------------------------------------------------------------------------------------------------------------------------------------------------------------------------------------------------------------------------------------------------------------------------------------------------------------------------------------------------------------------------------------------------------------------------------------------------------------------------------------------------------------------------------------------------------------------------------------------------------------------------------------------------------------------------------------------------------------------------------------------------------------------------------------------------------------------------------------------------------------------------------------------------------------------------------------------------------------------------------------------------------------------------------------------------------------------------------------------------------------------------------------------------------------------------------------------------------------------------------------------------------------------------------------------------------------------------------------------------------------------------------------------------------------------------------------------------------------------------------------------------------------------------------------------------------------------------------------------------------------------------------------------------------------------------------------------------------------------------------------------------------------------------------------------------------------------------------------------------------------------------------------------------------------------------------------------------------------------------------------------------------------------------------------------------------------------------------------------------------------------------------------------------------------------------------------------------------------------------------------------------------------------------------------------------------------------------------------------------------------------------------------------------------------------------------------------------------------------------------------------------------------------------------------------------------------------------------------------------------------------------------------------------------------------------------------------------------------------------------------------------------------------------------------------------------------------------------------------------------------------------------------------------------------------------------------------------------------------------------------------------------------------------------+\n",
      "|pcaFeatures                                                                                                                                                                                                                                                                                                                                                                                                                                                                                                                                                                                                                                                                                                                                                                                                                                                                                                                                                                                                                                                                                                                                                                                                                                                                                                                                                                                                                                                                                                                                                                                                                                                                                                                                                                                                                                                                                                                                                                                                                                                                                                                                                                                                                                                                                                                                                                                                                                                                                                                                                                                                                                                                                                                                                                                                                                                                                                                                                                                                                                                                                                                                                                                                                                                                                                                                                                                                                                                                                                                                                                                                                                                                                                                                                                                                                                                                                                                                                                                                                                                                                                                                                                                                                                                                                                                                                                                                                                                                                                                                                                                                                                                                                                                                                                                                                                                                                                                                                                                                                                                                                                                                                                                                                                                                                                                                                                                                                                                                                                                                                                                                                                                                                                                                                                                                                                                                                                                                                                                                                                                                                                                                                                                                                                                                                                                                                                                                                                                                                                                                                                                                                                                                                                                                                                                                                                                                                                                                                                                                                                                                                                                                                                                                                                                                                                                                                                                                                                                                                                                                                                                                                                                                                                                                                                                                                                                                                                                                                                                                                                                                                                                                                                                                                                                                                                                                                                                                                                                                                                                                                                                                                                                                                                                                                                                                                                                                                                                                                                                                                                                                                                                                                                                                                                                                                                                                                                                                                                                                                                                                                                                                                                                                                                                                                                                                                                                                                                                                                                                                                                                                                                                                                                                                                                                                                                                                                                                                                                                                                                                                                                                                                                                                                                               |\n",
      "+--------------------------------------------------------------------------------------------------------------------------------------------------------------------------------------------------------------------------------------------------------------------------------------------------------------------------------------------------------------------------------------------------------------------------------------------------------------------------------------------------------------------------------------------------------------------------------------------------------------------------------------------------------------------------------------------------------------------------------------------------------------------------------------------------------------------------------------------------------------------------------------------------------------------------------------------------------------------------------------------------------------------------------------------------------------------------------------------------------------------------------------------------------------------------------------------------------------------------------------------------------------------------------------------------------------------------------------------------------------------------------------------------------------------------------------------------------------------------------------------------------------------------------------------------------------------------------------------------------------------------------------------------------------------------------------------------------------------------------------------------------------------------------------------------------------------------------------------------------------------------------------------------------------------------------------------------------------------------------------------------------------------------------------------------------------------------------------------------------------------------------------------------------------------------------------------------------------------------------------------------------------------------------------------------------------------------------------------------------------------------------------------------------------------------------------------------------------------------------------------------------------------------------------------------------------------------------------------------------------------------------------------------------------------------------------------------------------------------------------------------------------------------------------------------------------------------------------------------------------------------------------------------------------------------------------------------------------------------------------------------------------------------------------------------------------------------------------------------------------------------------------------------------------------------------------------------------------------------------------------------------------------------------------------------------------------------------------------------------------------------------------------------------------------------------------------------------------------------------------------------------------------------------------------------------------------------------------------------------------------------------------------------------------------------------------------------------------------------------------------------------------------------------------------------------------------------------------------------------------------------------------------------------------------------------------------------------------------------------------------------------------------------------------------------------------------------------------------------------------------------------------------------------------------------------------------------------------------------------------------------------------------------------------------------------------------------------------------------------------------------------------------------------------------------------------------------------------------------------------------------------------------------------------------------------------------------------------------------------------------------------------------------------------------------------------------------------------------------------------------------------------------------------------------------------------------------------------------------------------------------------------------------------------------------------------------------------------------------------------------------------------------------------------------------------------------------------------------------------------------------------------------------------------------------------------------------------------------------------------------------------------------------------------------------------------------------------------------------------------------------------------------------------------------------------------------------------------------------------------------------------------------------------------------------------------------------------------------------------------------------------------------------------------------------------------------------------------------------------------------------------------------------------------------------------------------------------------------------------------------------------------------------------------------------------------------------------------------------------------------------------------------------------------------------------------------------------------------------------------------------------------------------------------------------------------------------------------------------------------------------------------------------------------------------------------------------------------------------------------------------------------------------------------------------------------------------------------------------------------------------------------------------------------------------------------------------------------------------------------------------------------------------------------------------------------------------------------------------------------------------------------------------------------------------------------------------------------------------------------------------------------------------------------------------------------------------------------------------------------------------------------------------------------------------------------------------------------------------------------------------------------------------------------------------------------------------------------------------------------------------------------------------------------------------------------------------------------------------------------------------------------------------------------------------------------------------------------------------------------------------------------------------------------------------------------------------------------------------------------------------------------------------------------------------------------------------------------------------------------------------------------------------------------------------------------------------------------------------------------------------------------------------------------------------------------------------------------------------------------------------------------------------------------------------------------------------------------------------------------------------------------------------------------------------------------------------------------------------------------------------------------------------------------------------------------------------------------------------------------------------------------------------------------------------------------------------------------------------------------------------------------------------------------------------------------------------------------------------------------------------------------------------------------------------------------------------------------------------------------------------------------------------------------------------------------------------------------------------------------------------------------------------------------------------------------------------------------------------------------------------------------------------------------------------------------------------------------------------------------------------------------------------------------------------------------------------------------------------------------------------------------------------------------------------------------------------------------------------------------------------------------------------------------------------------------------------------------------------------------------------------------------------------------------------------------------------------------------------------------------------------------------------------------------------------------------------------------------------------------------------------------------------------------------------------------------------------------------------------------------------------------------------------------------------------------------------------------------------------------------------------------------------------------------------------------------------------------------------------------------------------------------------------------------------------------------------------------------------------------------------------------------------------------------------------------------------------------------------------------------------------------------------------------------------------------------------------------------------------------------------------------------------------------------------------------------------------------------------------------------------------------------------------------------------------------------------------------------------+\n",
      "|[-0.13122062134462792,-3.0903161043857703,2.946104418326435,-2.960248172891787,-1.4205640979681293,-0.4031510628001971,0.9029960228594525,-0.4916073342782894,-0.6041517808397128,-1.7664095841633523,0.5278568861555281,-1.107867584705485,0.26106593577399856,-0.24919304355112987,-0.5520634840556987,-0.06661913998102288,-0.32302143733591104,-0.5407243520387204,0.4060776015275834,-0.07115511151518362,0.6974067942366428,-0.5492061598117467,0.3877862041297143,0.32055387897594834,-0.5673171563040794,0.10274241828237825,-0.2530255099630827,-0.6072270608299156,0.5924682530891382,-0.5481152509050697,-0.12326947159265622,-0.46198320799959913,1.0946291863677575,-0.046264233207639116,0.2512981880518048,0.4588988066775028,0.17318318580931696,0.7427496335697418,-0.39941624591867336,0.04319784738314548,0.030764269237248915,0.21057003686745537,-0.19756485736196422,0.1497028230864502,0.3030418255540357,0.281052305656526,0.4325686715154743,0.11374482146958725,0.525481299685113,0.4236831353254909,-0.12596854636510954,-0.28209623568774633,0.25951943755815876,-0.0346507654497029,0.13684851987124783,0.06889517583335286,-0.012359951695703732,-0.15192776387085005,-0.030482728018437183,0.21978643895282932,-0.049339627661763946,-0.09635184823624678,0.03530265213965756,-0.04801721630091592,0.23659264754640652,-0.27187333095227384,-0.1409004476532858,-0.15552710333483644,0.005512056908774418,0.21226423343657946,0.1327113163907828,0.19236457101161875,0.34878829592724175,0.0507258833724632,-0.5698504965737007,-0.1765863402751524,-0.16263903214372746,-0.06697202672167929,0.164176105566045,0.03660105540548918,-0.08472173389360782,-0.4815501985317877,0.12992138779095808,-0.07260264307621131,0.07887752649454019,-0.33402623438358153,-0.11745810706609756,-0.25313091590459547,0.03762255363369117,0.13811739716154237,0.06016410242642409,0.35167750488991295,-0.296641981680093,0.37568190648717564,-0.09739887858932986,-0.15891421223734226,-0.0362555343450681,-0.21770515189951645,-0.07328527355757315,-0.250577008362763,0.2865715271471163,-0.3567609341077558,-0.00777430462455337,-0.2417428852882355,0.40677468016044277,0.2609989319310405,-0.2322297967700744,0.040641297626298645,0.10761517777417806,0.14473927176429566,-0.06509787314382617,-0.02355099815923853,0.2087179439882181,-0.09003999857527152,-0.08448609424661196,0.0426063015442443,0.30321099825148257,0.06891478845240318,0.26641084434142603,0.0923832000971285,-0.24156680806982433,-9.230527762567435E-4,0.035882187502715324,0.05130049393870015,-0.11802660133695692,0.1003241646864565,-0.05392314558913455,-0.14876373570054502,0.07840871822482061,-0.023811494074436695,0.07826500674509566,0.013594261839224062,0.2128479096903011,0.02621192620948186,-0.0060939770726184395,-0.13178430084486822,-0.1926196804024033,0.08085353396621353,0.055386864887629714,-0.043879312580274665,-0.010123418112232052,-0.229848082676992,0.0893126631510841,-0.1450561076430883,0.0920351385271431,0.12948093070370742,0.19351098010415524,-0.05036987184295656,0.11673602516825687,-0.1050923770317419,-0.12580914617527478,-0.07112355048451191,-0.28023673018454553,0.013343060417179267,0.1364110576022555,0.15196009518490156,-0.03597818284757093,0.0803626719874276,-0.09973933717807407,0.03443895024941773,0.2647157428286498,-0.07805943655521982,-0.1614285593427696,0.16867855316786975,-0.008433428450521408,0.22334112070617984,0.034797693909653524,0.08936684416174907,-0.16835997348337817,0.04841621256894532,-0.0239252368236315,-0.03571260441013385,-0.09171021568954915,0.07533854077826359,0.04399954265940628,0.0567017649478698,-0.10201302386478449,-0.05125954372357233,-0.03260907839920929,0.09656645064634892,0.029479107123372622,-0.06567515687279596,0.1561208268201613,0.04433126203090132,0.01805396263777652,-0.03369922139979749,0.12577848693601318,-0.11681008399503857,-0.05565336732733145,0.03951214143104482,0.08636051187542988,0.07027586102462889,-0.1638800661970053,-0.06234709130111259,-0.14836247474012335,-0.14213015881562666,-0.08618487231915668,-0.039124137751182314,-0.025226075836387196,-0.11694319698722519,0.1407906187644615,0.11242573600136521,0.026260536974857834,0.029840828794631624,-0.05082018646680477,0.1216993755526402,-0.09731725158585011,0.009625097705841062,0.09999143840141485,0.08723084855319357,-0.10452804347971377,0.0293209718177605,-0.07502195349363289,0.022159451198328038,0.011570834732687788,0.0617231627148844,-0.05997461433361356,-0.013960662566387796,0.10125362720205267,-0.024539532647125564,-0.09579844694155866,-0.07663516849077243,-0.0890519644898653,-0.058506830623291615,0.05156512071264063,-0.07956755505805714,-0.12705350908597607,0.16805351633758833,0.1827934395168492,-0.06441962364723713,0.002574591190516534,0.004963831222769055,0.08986276202013749,-0.04644419796904224,0.19645084833665127,-0.05903523554719821,-0.057820625292743316,-0.1967299071471604,-0.051704789284635594,0.012499338826940348,0.08606173505935759,0.01563392565089156,-0.03879325702575409,0.11821475163105954,0.13746043311600756,0.13075434951388815,0.04625392384688003,-0.011300322010125208,-0.060021299403728405,-0.10278565088936538,-0.034061043830198055,0.07591721748516457,0.014369967980945142,0.002432255416348561,0.15839876799930488,-0.19647045522641682,-0.06346570177462847,0.07537340055774802,-0.18591416184178491,-0.04096459020795136,-0.04929712175665435,-0.028206828619418332,0.07339740324162777,-0.15534529663217012,-0.005983971650143666,-0.10642602822849224,0.06722142881747308,-0.10927946863589003,-0.03957879876511743,-0.036020502690442865,0.025656397463381053,0.043964870081612324,0.043955106559734766,-0.09311211737393901,0.06860615036646672,-0.13621489062162645,0.027912389212608066,-0.02230016977747904,-0.02007809707431528,0.041613241467435294,-0.02062111363904537,0.03845675127614952,0.056124495061363015,0.08000363137017813,0.0626409893855792,-0.03497781318124732,-0.006844500091147173,-0.15773568105651709,-0.024606530763045798,0.03088161207461279,0.08484020115462616,0.052799549345483476,-0.11500770591482481,0.03609991252053551,-0.021423631610292843,-0.04104310965871433,0.03937855961650893,0.04863259603644571,0.02326018433410744,0.12786437562473274,0.006189423406819675,0.11949054332356515,-0.09584519849828327,0.044105056612947495,-0.05826834299515725,-0.06923676794263461,-0.04644699268494101,0.10811141070958472,0.008916279521331977,0.03613367243858878,-0.0512346973601875,-0.01806996915683192,0.044352204493861486,0.13372207165025926,0.02362172471398173,-0.023022122606304388,0.07566622017222704,0.021142380363895978,-0.026434230485446457,-0.0301532253330674,-0.06863097771549079,1.0022364435133269E-4,-0.16681152995697968,-0.08268062867355136,-0.19543111138774216,-0.0016252950919057318,-0.01819301223094534,-0.15993516967275195,-0.009789805895204728,0.06283186345146623,-0.12690984047794635,-0.012800985740668328,0.008780462760221791,-0.10012352138092204,-0.0507151145162153,-0.1187047783579931,0.054887810567789644,-0.03640158843228998,-0.02014307933074832,0.043369249331911705,-0.130956052565186,-0.021945347959575853,-0.038211360600458856,0.09509106689819993,-0.07334934058264216,-0.08899300333726456,-0.099486861500465,0.11371471128190232,-0.08607982882970056,0.06631717311342455,-0.08560153778191847,-0.02613902402520493,0.07537251057239645,-0.03654103982197386,0.08702970444602467,-0.061465134957216824,-0.12453976321066108,0.08458107581443346,0.008799193023156331,-0.05350367701712631,-0.1688760659279813,-2.8135099678235076E-4,0.06588723198359528,0.048403058373204355,-0.02723708247586734,0.11066897551333793,0.1536388806433839,0.038873589816175155,-0.06678283545814745,0.03232843625797022,-0.06258303110629405,-0.11437366472070136,-0.07191109463815784,0.07649676117725815,-0.06421344874427434,-0.053098509783200756,-0.009070189656278427,-0.04189588772851835,0.04730576771300077,-0.02440704503103893,-0.016218481742694177,-0.014389903257462762,0.007322178754729278,-0.08360514326359236,0.015092315230328335,-0.11038273492566533,0.01612851377323339,0.08119704650839157,-0.06252256507466286,0.0221922222667517,-0.06512836594856483,-0.058063926155979495,0.06879151900750945,0.012594763081507879,-0.0860992431238714,0.06994337968723122,-0.01477073518760813,-0.08489532994697681,-0.041842135637323176,-0.0702233010007776,0.0102564986755136,-0.007201793497954648,0.12879715763512584,-0.03203649889272514,-0.0385331666671883,-0.022060625044274952,0.080770443185181,-0.015716339951907236,0.038956292203658996,0.02346517626424549,-0.06727111559301766,0.03894812764773347,-0.10112445709474346,0.05360545849317776,0.01910273525328214,0.016107171253333247,-0.06288356399132353,0.0028723609639816072,-0.03510133556867344,-0.09915542594626396,0.00452557101803594,0.08228982497960503,0.08246909902784896,0.07562380701046538,-0.04855211564704642,-0.017288614906941745,0.036049262355690295,-0.06402264616576564,-0.024997388509521726,0.02820220822219452,0.04271464221093288,-0.08517204829926238,-0.017246024793204293,-0.017228517764223628,0.017107253185955074,0.0014643791711967669,0.09804866028319145,-0.03533918866104732,0.04861256380621062,0.07350177946230822,-0.05562558877206221,-0.010335279428880115,0.06509086926136143,0.030946517365859266,-0.04424862106306962,-0.010912447450116748,0.009482025918582195,-0.025118865556904457,-0.01461583750885767,0.04683056071376261,-0.080306320556895,-0.002783764784832863,8.032310788886055E-4,-0.001585297326390997,-0.04599844987407081,-0.04283188387431445,0.04724801995968996,0.0031634178197655766,0.006193896506312704,-0.03511687042100995,0.0019195136053625403,-0.008733480466009316,-0.06875054249046403,0.0680044455676116,-0.03045563229952056,-0.047478525477760054,-0.021384161339193415,-0.042480617589792824,-0.08381637151150444,0.027595543767087366,-0.04638029419386169,0.04325858548661766,0.05600230030289555,0.10853164953956762,-0.006863211335562364,-0.04189668083211276,0.03128334838333287,-0.032871290373382975,-0.002837035625008734,0.013285233560797388,-0.041064159878640795,-0.04195747507973868,0.057210240621846084,-0.12798428803815448,-0.007799096270939027,0.03466929835345586,-0.0321693126977838,-0.028693362800143105,0.025157033996187985,-0.05316912146371372,-0.023909391982207387,-0.002649970229267891,9.403938496993502E-4,0.008504496304198389,0.03693519751238622,0.040564616928367075,-0.015830385172240086,-0.021943916092579112,0.026710447140500734,0.02372027899125989]|\n",
      "|[-0.15809871326913752,-0.8676438547254408,0.5766774100297519,0.06532346014928059,-0.0928547237391758,-0.6089236584650866,-1.7379386125632417,-0.5711466495483923,1.75131955616861,-0.742823796832812,1.855582752232344,-0.3848281351319428,-0.41337686289650105,-0.15495016162492134,0.4004111363886762,-0.2555274173152198,-0.4237485242313409,-0.19034999659603993,0.25072629822180165,-0.14912991741983583,0.37448117507055956,-0.23034777038199547,0.3860373537447856,0.03678512492002409,-0.2730768724498077,-0.03606761300412602,-0.014504269487109034,0.21807298605562012,0.020858470682124,-0.46621312478443966,-0.06994401995929109,0.33696817750852637,0.37988072906175524,0.15966260885256078,0.4876667488161581,0.174772642779702,0.35613458290759564,-0.011633451311105672,-0.07436775775159402,0.49184316097907127,0.012265566771284153,0.07408691224329776,0.00980939320379376,0.0025609580014313016,-0.032359171225970595,0.23632769172717355,0.21812383275772182,0.2793344065797708,0.22706747055998822,-0.10016644950656428,0.06632766966424308,-0.7908437240677961,0.6211413751470741,-0.24878408560858858,0.028546844146089517,-0.029796765334618447,-0.22694276520283138,-0.4613246632540491,-0.45432648462908615,-0.7306494437792685,0.12949049756410203,-0.6359581529894447,0.2367179312609686,-0.20909015505856307,0.9139911420138691,-0.6915989841370416,-0.39639190984543204,-0.9831522305076363,0.30540040260829815,0.8295677367517353,0.5567314485520538,0.5521987471885816,1.0500595764531369,0.5143939620137986,-0.7347765646053299,-0.7735999602770146,-0.9028480413314013,0.02092185570214078,-0.22475464550933538,1.4487908486617163,-1.4548832008116743,0.17546932349588723,1.3607519121405462,-0.40849169519802525,0.6636906688704788,0.9311039095225648,0.21360291081440702,0.07400713042773621,-0.7442954372856704,0.37858326062215886,0.5935152047176341,-0.9736940886843526,-0.8013855135473138,-0.0913835995318026,-0.1031750914006263,-0.5265370671669553,0.09981964553842652,0.3048379355226775,0.3429860688337053,0.45877479009923633,-0.33456518132212054,0.31678456668553073,-0.3466522378411715,0.010172739174417474,-0.237496387633521,0.28886174516099095,0.2808981090376661,0.2153961934516695,-0.3294491170357745,-0.049832872797211075,-0.3601379741694198,0.22792499401174804,-0.8481256366286235,0.3204137864862208,0.38421981075449696,0.1182084153180481,-0.18945565462487993,0.09735571330420532,0.07969205486829889,0.14778090186741571,-0.47703614572175773,0.16038056346391497,-0.48932336065742443,0.5340947886998768,-0.6683076193350437,-0.20990924319697768,-0.3090930072518973,0.15199456847807305,0.18087894433241172,-0.380980663095303,-0.2850465766387016,0.1321443729973403,0.18463584249638207,0.13887195541321673,0.17535074186710484,0.022093605756925455,-0.07001150253525605,-0.15354683640816005,-0.3230193888890052,0.5102599420575142,0.037785532054627126,0.23182153815199258,0.21790130959453685,0.1715788122565616,-0.053900284410757934,-0.0591088870039342,0.21580655648386218,-0.03639417701702004,0.3616824045411726,0.04320239766649747,-0.13454733212906622,0.10132602690443578,-0.1282093780585586,-0.11333073321130079,-0.15444563418265755,0.25553516677201327,0.10402036703292637,-0.23617712209728903,-0.016299395576072517,0.053397101372960346,-0.12084172461568593,-0.06194766111075576,-0.020316889216513832,-0.04776377868582346,0.06031943156292359,0.3402447178619933,0.021193742801889404,0.18125249751416006,-0.1879509272811929,-0.03525511118494643,-0.0928983280102138,-0.057645953512315884,0.06097489934108345,0.0018862881845348872,-0.25481996691329106,0.32371015744843445,0.09234096600336578,0.012678277338913552,0.161901560978695,-0.053488531236334805,-0.015042910927400538,-0.012678344037113931,0.09921587670418955,-0.010889529025853335,0.031175348125326054,0.39633893032103984,0.08066209401753928,0.21421730592415167,0.19526688204954865,0.13502028550685397,-0.01377777346804665,-0.12257804619018127,-0.11519055914385828,0.09392558377187972,-0.14977557709199724,0.3643050397974532,-0.2688030472797455,0.0017103802566658943,0.12406341624774381,-0.07920319129884079,-0.003211093131621545,0.0945782753335459,0.0695848318893069,-0.043124171053948585,-0.08669782542101886,0.18733780036949252,-0.05391376036834611,-0.2234170530628336,0.08248768554987133,-0.16711613215925167,-0.12654623897751943,0.2772476971990383,0.05614821638262009,-0.05430074683863571,-0.37334506114012495,-0.1524685297863877,-0.034814838053732144,-0.07067902805141628,-0.06711817148382249,0.0011266928564583195,-0.19743517239422154,-0.1245930790053636,-0.12788533633607557,-0.1111712681347724,-0.003721139436458104,0.13745986367375496,0.10075953807614271,-0.06366110424520306,0.1840600397422558,-0.11833480864520149,-0.03078287669843781,0.10602872626655341,0.15315019976820277,-5.621830386497578E-4,0.1567258994112234,-0.219939097334844,-0.13014361396803856,-0.24617374505092227,0.06631627255898892,0.2687404070410494,-0.26370225285608356,0.20347550495965908,0.008133887661048956,0.03454178532727743,-0.30492292171107427,-0.2307470238955331,-0.213252464665054,0.07593775816956397,0.03392271360961187,-0.02584562784422638,0.055032698123824914,-0.1508057039222456,0.06290606257110526,0.010586705131588228,-0.046007989408283025,0.04082313665412732,-0.1057662878632221,0.06070118506105776,-0.11861246210588913,-0.012830756029856408,0.30301596182758445,0.12220002837097634,0.34232030231302113,-0.13231759797325887,0.15456941737529656,0.27256184638209546,0.1648823247206439,0.004203544590529802,-0.16170022498849124,0.04573618638829183,-0.0025578238188661145,0.2858545635484118,-0.10787998988122821,-0.24860000323896597,0.17172649108966603,0.4012694911963127,-0.07450307128836789,-0.041690782964712694,0.3490069575816459,0.13667215245005004,-0.04439516907611635,0.08639951514705892,-0.1838804268577637,-0.09502380632558238,-0.16857663989162686,-0.1354498301718285,-0.17714903200233348,4.671244167320787E-4,-0.024638282700566005,0.19502761199446284,-0.20453270649472077,0.07972270775507609,-0.1409418437595303,0.019452453564626587,-0.0956424403619647,0.048145899479233985,0.21560183898176016,0.11712202675102092,-0.14544398333839292,-0.1838217613712783,-0.07324530812195287,-0.12099415695808383,0.17101095484446088,0.21995678983550065,0.2452114104156703,0.3808113911222346,0.10338613523928436,-0.3066780357549613,0.1110112385971425,0.09317813336281373,0.04014856838574442,0.06812817483995932,-0.17654376699108454,-0.010007339053101388,-0.07388768159568768,-0.16749818091832902,0.015593911621936254,-0.1670611410888613,-0.028711051983899824,-0.09847739291790877,0.18102096072039828,0.05935337945817382,0.24175110828552393,0.027743350574838524,0.04382307750841269,0.03614607058747646,0.0576577916603212,-0.02076576955866114,-0.08603688629538774,-0.18547421964700672,-0.11027735989597642,-0.09993043478346249,0.1762807393506068,0.1977387183112907,-0.21418715027820454,0.03592804092357185,-0.017983139927814418,0.2348874825936261,-0.06808060610037814,0.0901583036185998,-0.1827605585225719,0.08172707053445911,-0.08610654140156859,0.0593766660628827,-0.1770839073315388,-0.027489401995440588,-0.1570325819749159,-0.16720526968094604,-0.1705855212970858,0.1537887432785009,0.15048486375197093,0.17727040829810442,0.14842511716075477,-0.011843830530581669,0.08008386327115012,-0.08245003767959289,-0.07988418143485825,0.12819923409722708,-0.10231076123407955,-0.10325692560306984,0.0035478955864656353,0.053478927951838756,0.14115360564570295,-0.029842090040709854,0.013235604694557897,-0.033651941422947584,0.2749533622619782,-0.08852703466385778,-0.024980654896650113,-0.09113992934358021,-0.11080011868806623,-0.04023834524872718,-0.033842666662645654,-0.1793926295795028,0.06387973856712949,0.08270656652994043,0.00914990110112969,0.05443109391227097,-0.11109259528083892,-0.09700261838229798,0.14631218644271493,0.011194370674612979,0.1764959642031895,-0.07030453902248485,-0.1934639944214706,-0.17342299458914767,-0.11551892987422523,0.33749039659535296,0.047919197220514735,-0.12315328201829998,-0.07744246736638553,0.00865111955740537,0.00754700554122486,-0.020382327452221315,0.2386646699735384,-0.06693246633237081,0.13724886196761107,0.052270893714187645,0.20464764526266557,-0.19068764500787722,-0.20578344958411793,0.029501223046120267,-0.2506786677220625,0.1731556394788117,0.10975528322167682,-0.0480491868965154,-0.13772301401591097,1.4206170417056796E-4,-0.068142019616741,-0.0023827960674188825,-0.041575642814486335,-0.25475782569842514,-0.07289709185958368,0.1730156659911275,-0.19493697570413793,-0.23764677031231854,0.01016030363076692,0.0637645093555019,0.0655642857519321,-0.21000786220923168,0.07134896896961951,-0.03099046846562495,0.033012313141154465,0.12651685771331184,-0.022391204459372586,0.1322372910013777,-0.010327886909687225,-0.03403424620897908,-0.2123619992259228,-0.1734621068418063,-0.07884749140573973,0.011270534345817318,0.03586791432733397,-0.10246362947307303,-0.2101160318737939,0.08595162431690903,0.19859419893421248,0.06184560847868861,5.371292191951732E-5,0.13765823433343288,0.05676902597982712,0.09697097523523752,-0.06688183251226565,0.03747628203305772,0.007955974018132098,0.15009522311905693,-0.08249224141390596,-0.04978537126723789,0.06565551563616587,0.1876119282352832,-0.08164558347949932,-0.10677382566127133,-0.05070937152298263,0.07792721213954226,0.2069375370456426,0.1330548079653647,0.0378035855850079,0.0469900412816686,5.944017757567102E-4,-0.003393049703896766,0.12287173200047874,-0.07245612129478021,0.03632073749931267,-0.09684738739352879,-0.0011536284642995366,-0.06475773364265743,0.1473711861570309,-0.03453418541583602,0.1837906209913659,-0.05682210980003159,0.08261188216889313,-0.18904723214561908,-0.09980750199930001,-0.08479456933667948,0.2386463910972687,-0.0032017142979038366,-0.025300449679362378,-0.23199053599161168,-0.0907528257185087,-0.06758709607324019,-0.08685055893053206,-0.16087226555521428,-0.11567710416507114,0.02613555461244295,-0.03270495862208183,0.23549230507863195,0.08109665288776759,0.03037797101182617,-0.14202469454656025,0.06781246635547905,-0.09251823436908647,0.018760121876093907,0.017569202912922327,-0.1144450583500096,0.08351053916897438,-0.046067194415614354,0.16683216715312843,-0.10554877212141081,-0.006518251887518986,0.05536350991869115]                                                                                                                |\n",
      "|[0.2256578219591191,-0.2425388047421824,-0.20362007866516577,-0.2624097766387669,1.0608614226331086,1.562523655825299,-0.22778743422347822,-0.4480465199825972,0.2063584056695506,0.3702958922166578,-0.1722515329200156,0.7940422352821415,-0.18681320015476024,0.6586925665246094,0.2474428063715742,-1.4909841554831265,1.25606540329314,1.073674213947191,0.3701833952431075,1.022224501506086,0.7561331635407461,1.5926455508935455,1.1440607888794665,-0.23737651737164767,0.43501392215881934,-0.677703059045879,-0.8713085007281212,-0.7764473524046408,0.8367695648817138,0.340465815066679,-0.01821507659210024,-0.36278374974220184,0.2907677059030421,0.49818455297056685,-0.14479146586408273,-0.2402800358380251,1.542778178411367,1.0158514869216189,-1.0342194630160262,-1.2387632279156815,-0.14026406845450862,0.0816337562268242,-1.0727679954800284,0.4507515756015862,2.081582832346909,-0.8692664747785626,2.0998714245409724,-0.46336021299505925,-2.7337653581544266,-0.012568486841736894,-2.1838865718328937,-1.10676125862,-1.3945929063090152,-0.01706713249205004,-1.2113968127190118,2.013147377878243,-1.0049961071193085,0.8528379479254881,1.1291213022787212,-0.08343306757063304,-1.1197564244061944,-2.0157102582951647,-0.3247758927568096,-0.7458026607442682,-1.8038900800567599,-1.7400663119039987,-0.3139957827964509,-0.32609080867663764,0.11001619327152667,0.011018569838531037,0.08107989259375398,0.03224415430336378,0.12287164608213856,-0.13092198327586843,-0.7144898946990341,-0.5132234451960438,0.3422764228746643,-0.45096085948794074,0.7844201607607574,0.48481664520724993,-0.5353447441384251,-0.47197238442497513,-0.2468251057486241,0.8160880477160706,-0.06685893835569771,0.10114551837888477,0.2871453659738346,-0.7349843934021695,0.041801250141499845,-0.22469915296565282,0.5913886356099145,-0.06982701302551803,1.0230672409575816,-0.6857226301494778,0.5003742319182313,0.5151226317700911,-0.15272597779465324,0.12935763768722108,0.46531868212140887,-0.40226244379906634,-0.30886811720853774,0.3384404928728419,0.11299349027298225,1.7572437581928182,0.8590949022638025,0.41594489414233793,-1.315034211431448,-0.27495871203203626,-0.8177214576480121,0.14109425126631284,0.25082996161295834,0.3481498340413683,0.10311524529542225,0.9742594243369197,-0.819398712132599,0.05025219544609653,-0.26411597687007643,-0.22166558216527643,-0.026052966921663746,0.627761866835992,0.6191305131500761,0.1518884086388447,0.4518189307853877,0.0655058752647053,-0.5632941742623223,-0.44490049118455044,0.5058103442398331,0.10325211730251564,0.31828002206290396,0.8324640486918642,-0.03149605679133378,-0.15136431576102802,0.12604285129365622,0.13348249208084423,0.36270951185481515,0.45017548756283854,0.004429904307593498,-0.15148214491537737,0.3390891384212095,0.27879821970756224,-0.06823243306828576,0.04721055191686778,0.2116769602223894,0.28846410367440206,-0.12274424805794143,-0.5807693923115614,0.07061118847896827,-0.08589788603464694,0.08591650279896873,-0.1483231067215427,-0.15802794150187238,-0.2510376542851549,-0.25099944472985614,-0.11010320728042158,-0.2214570130848046,0.4115585792385555,-0.05972316166453138,-0.19365366809625806,0.5376024106477999,-0.029534268493829792,0.28129964398578733,-0.029518788359733778,-0.2999683354954643,0.11467705633866171,-0.054301201120792425,0.5019970370585499,0.1280017685440818,-0.2471779967994839,-0.7019907961014181,0.08874028767218707,0.1918265988126192,0.5038423568252104,-0.059754075263915254,0.05208527078969193,0.1883467342531545,-0.0027052695392711934,0.1519392360113763,-0.07482388982711573,0.027972415414526917,0.07794234300987674,0.09797984128110146,0.07247786542539301,0.04724238413175619,0.13855997830102285,-0.24277547330689964,0.1404027829345335,0.31851380329101364,-0.0073175376267591505,0.20409549639302627,0.11592773594521899,0.1689523149752603,0.010740354714963311,0.31599846650912133,-0.3051319804412352,-0.2705738742117127,-0.057201846654899816,0.11091070063665784,-0.054428284868641694,0.2478667463626549,0.20620385389148613,0.3950058895204648,-0.31688813697885854,-0.04362944927722055,-0.014471739044740022,-0.2708547064693414,0.07819273047148725,-0.16155195637289452,0.22563393263890735,-0.25409680903192033,-0.3655825672579211,-0.10257167115140094,-0.37759033329240577,-0.16996207398153387,-0.4366902990138694,0.10412028709417477,0.10271135578539994,-0.33193490329773395,0.2538218592727846,-0.1503631012610902,0.3819868093394622,0.12721185819722747,-3.147979569892122E-4,0.18103415364956368,0.26737088476471904,-0.21501183359372794,0.32386997914942534,0.06495966025686742,-0.12449314662450378,-0.05747223291844502,-0.1900416325740899,-0.39951647076152047,0.3581702781368974,-0.11318139224225104,-0.14033959151378264,-0.10635770160158048,0.5158571001250469,-0.32460842678821145,0.10577327328159163,0.16588524963040677,0.03151758235590996,0.6088190197440422,0.4918412210056834,0.29507148960404217,-0.216282995249356,-0.116472574620782,-0.4658352571129493,-0.1988685409133787,0.11909921080438662,-0.10169564551006453,-0.14009544983760805,-0.08705601758881552,0.02854162549613745,-0.1482335083813287,0.3686809990218038,0.30889291731563345,-0.11098708625808898,0.1613079637866024,0.08326615334752871,-0.010601603813543102,-0.21068562750298417,-0.13370462556166107,0.21107706582265537,0.04902026911124293,-0.08239905931972652,0.05523814938907497,-0.095117176700274,-0.0628050277653207,-0.10482739837252839,-0.05054154532909552,-0.13097741733867835,-0.1438672294380909,-0.13592973062583044,0.14302864474953952,0.11449624533628405,0.10768907590353796,0.24813144084067876,0.3628537656395394,-0.021560529946349147,0.03409692810923954,0.012474405068814963,-0.017983262747645237,0.27039481299044,0.3534343222929293,0.2595134866201564,-0.15644120800128963,-0.031329129185006105,0.2902962049877696,-0.11826218256708337,0.02447143020218464,0.0030604076337684485,-0.21205902948604705,0.09551089061423063,-0.17967186445522682,-0.008544391212982937,-0.032406476594393954,-0.28401504898294383,0.08573322890348822,0.0774193506479396,-0.16802187658243412,0.17577997988313002,-0.22936846623966328,0.019486527551778772,0.056135744731524634,0.07392930001936217,-0.12775269260496935,0.06924925819488349,-0.07219030453389008,0.04025489132705756,0.0723905342745411,-0.14626393478337923,-0.05388995885032963,0.18848545828024238,0.08643497040430853,0.03055754940287861,-0.1603392728794094,0.08592187761791091,-0.085119786507673,-0.13897422849576305,0.14287658151304564,-0.019540727773718375,0.09161890457076954,-0.05052513880836581,0.0488438687874497,-0.21599476547033425,-0.11956713850675105,0.21039477182320165,-0.09947587323059429,-0.0066837029068352385,0.07314660240556717,-0.04647172678460848,-0.2929352929054719,0.48427373517329764,-0.1312890324559154,0.23701558456031796,0.2667704152426258,0.09676791122123796,-0.19391507244824213,-0.03211036791510391,-0.10351023280563272,0.03391446806908267,-0.05290546230236823,0.17426114463931194,-0.27872626039235593,-0.08187960706467395,-0.07816271891530058,-0.22070304450568112,0.05662672598461743,0.06682218770547044,-0.03388970775052809,-0.22133707030459865,0.2607096331809682,0.2469417898621417,0.054342016794137644,-0.03329871624630368,0.07533088446468525,-0.10430515066177334,-0.0023793295317830754,0.28921405015175516,-0.09373779508709418,-0.1371521002755985,-0.0418528587798961,0.049589577694864245,-0.07323845705307,0.07853480168036063,0.014167016590203713,0.1186428339910336,0.14200388196774538,-0.1039624595102993,2.3649451823606893E-6,-0.15247422511458417,-0.30225010586131995,-0.280952776241989,-0.168067396988936,-0.13517690878488464,-0.0547080137412318,-0.43797770633279665,0.11818813959059579,-0.003203804472782342,-0.024709322338504296,-0.24745486895134927,-0.0454819262202682,0.22524757783060528,0.03606396921343473,0.2770143253224375,0.10429067143848884,0.2695365619753969,0.22510537468537387,0.13210417438183733,0.19522448955923927,-0.03254367616663212,-0.1863362371076191,-0.24797212636804178,-0.14166332063521492,-0.0020909909897204315,-0.19126328206449378,-0.0410307265681418,0.12977227883968373,-0.09603527378435325,0.14478398219195404,0.14170710642371115,-0.04513010650507343,-0.022657973910619134,0.19679091344184002,0.10743096885190728,0.09269323977420851,0.03676614905856403,0.16975363214804806,0.11492509515450319,0.003613359233858026,0.0011891599149413817,0.10992190209534164,0.1554070030905675,-0.11791615649454419,0.06191492819624507,-0.029366342652999505,0.03163641041596265,-0.04108373237650438,-0.049012275450704176,-0.13651499119790533,-0.089924057609091,0.007053122210491411,-0.02970834692400389,0.013586401185926984,-0.0409257551375896,-0.034110622307041955,-0.04121355541889836,0.07038819194424441,-0.2001824366167947,-0.011791240194985321,0.013911014836807546,0.009866416777086572,0.0011787985703415188,0.007563606073745691,0.24323509984708092,-0.04670966178427678,-0.022013732437385296,0.019107079261592178,-0.059526617220223524,-0.15374433394530215,0.016838373101665,0.07483363253421445,0.02116467230645047,0.04586466310528137,0.0669425260694719,0.08771550570497838,-0.11963608616780477,-0.09158795408992404,-0.14217245935665862,-0.09459482386835263,0.030512873962395527,-0.0064164501354048165,0.02537240660922352,0.02877064190084351,0.0753259199977395,0.017919971303036644,-0.10725120534176644,-0.012377951150746018,0.04946251424308319,-0.03569899479093144,-0.05987256112261519,-0.03440099694841295,-0.0625224389754453,0.08156273479836312,0.0038568477051779404,0.09100526309430076,0.07224155022192304,-0.009186767246091451,-0.054317016647944374,-0.062335135474765824,-0.021019206602268692,-0.11417802076523244,-0.06038663320059247,-0.03587882015292648,-0.07600745938474773,-0.04375911748229386,-0.08332575325792814,0.12748688281274007,-0.1313783853547324,-0.06626379710545355,0.008936860154374664,-0.1060438418934215,-0.06520929481888516,0.025145064765482034,-0.1032388757811391,0.005495812137812167,0.012530409037477624,-0.02465948615636128,0.11446238927863023,-0.11510914839578812,-0.05608800247760884,0.019753023591909388,-0.012429308088833746,-0.016620932449932513,0.04828028624901658,-0.14307001700813382,0.06921977328107466,0.0010304358464673265,-0.053129826796352614,-0.017260944291157862,0.03287884838184853]                                                                                                                                                            |\n",
      "|[-6.662383225754547,1.306499467458886,0.042676048180572995,-0.5599595350226537,0.3063612910779119,0.9155353055736312,0.14819441006893044,0.11768513335613937,0.10587544519293371,-0.10994911340017573,-0.19809960241654367,0.4195147111767417,0.19557495090072763,0.27402941224607014,-0.7878451570362557,-1.1021522101323793,0.6411086822947913,0.23802574139977153,0.2267761549642904,1.6702459241081025,1.0435039894462084,1.4453004717161184,1.5600437219253325,0.6650468925315624,1.288307711851376,-0.45554546551830194,0.226050364100852,-0.9556712226130321,0.3844548483071502,-0.32451126601835956,0.13437258875746771,-0.5968008066906794,0.37044780000265304,0.23105368717972685,0.8602420319186457,-0.07238208417922515,1.2971850872791353,-0.9557834510786019,0.6312484436787845,0.4887233177723194,0.06861278426531224,-0.09845736825937004,-0.3367879641903052,-0.7039473915744391,-0.5572076399087261,0.2604850366193283,-0.8290556949603196,0.5109037866007506,1.5245408008064918,0.33130761315189367,1.191014616434876,0.2226777983635001,0.37622754735498043,0.4295819586036942,-0.7950528449363026,-1.043030277582457,1.4911802075403597,0.40677397172919494,-0.6369436314225532,0.27340373972898974,0.721563849665203,0.8984881189327174,0.41356950956598254,0.3795920866265796,-0.5276050382595462,0.17809852258315356,-0.08230865847871557,0.10143733048440728,0.08789670420060423,0.2114604489061156,0.3392410293610806,-0.7438402869799319,-0.3005195410123064,0.3678104506645577,-0.2770046478167939,-1.0084854866482604,-0.3804949617187964,0.17991934703447088,-0.16594111827268704,0.5677336760391924,-0.24927898413472774,-0.049768010025214575,-0.13622087766822347,-0.32419807359296093,-0.5568433574010911,-0.6960958766978672,-0.20742866014857847,-0.025779361444321747,-0.07931138319631506,0.41216128163556454,0.5027885577739852,9.968496080476003E-4,-0.38271587020308545,0.2428897289736902,-0.5828372593272768,0.22953677158815847,-0.8053213788061054,0.32560249074643766,0.41011532729406297,0.37219444839984606,0.21516756242546825,-0.0879816706949098,0.9750508252532915,0.5014802906013445,-0.29540548326184424,-0.1687374292027955,-0.03511296008422342,-0.012235758413614229,0.5398990786335803,-0.18664845982317457,0.3929552915716159,0.6305493663361764,0.1870831800531556,-0.7878230662709544,-0.7126714026732431,-0.25703814882169923,0.28758314717916317,0.19311808639540273,-0.0940402981114904,0.305703759513437,0.15304385309817928,-0.14286408562262037,0.2325407098589681,-0.005382648325083339,-0.37122486737253313,-0.8391825871946802,0.5244276100771704,0.3670468748137574,0.04657241881703449,-0.3383271718921145,0.4224696572768789,-0.40541193091971284,-0.023761168924100996,-0.0375072106944322,-0.09141077212611032,0.034399297580568554,-0.2315951993488349,0.30677887183610875,0.6364140683878599,0.08891987815862201,-0.1744237219377208,0.21271260499909173,-0.019460562305538602,0.7304785390777481,-0.10946460551310627,-0.31844418782554806,0.15253873343133928,0.08662734473225778,-0.6001169747756085,0.05416906905683261,-0.06004422155033655,-0.45520123294307074,-0.38155631747891805,-0.0680221403755685,-0.18406265267449212,-0.07035608307175072,-0.38997416061451096,-0.007646383936834478,0.47306809128929306,-0.07681540626002842,-0.14273437543305761,-0.06963403053461653,-0.43898268919240907,0.5836122797798412,0.09647187852962982,0.2234147221203307,-0.06023109920893907,0.08993943474844482,-0.6473101808758734,0.04629591524091167,0.16073518967262376,0.24049709657926358,-0.17836737118235135,0.07815550927894381,-0.0011694326984146852,-0.20390938280070361,0.08399491721209854,-0.05921206310751649,-0.03785244547480432,-0.26992709209462085,-0.10583097424528753,0.12885176707208054,-0.1830070703360523,-0.0711253327659086,-0.08500824727016244,-0.1519012009745162,0.13343745395000498,0.03856953523741406,-0.034878135684094334,0.33307026162427616,0.0360482578212631,0.002203185947654517,0.09049317228080377,0.16148077252300977,-0.13962057197109878,-0.21545795316512056,-0.15820689485713213,0.057371535228372156,0.12571753942678426,0.16145582727243057,0.16513284507803347,-0.18514986222183089,-0.0564272526315384,0.10897836467672267,0.007003708376094753,-0.12876620288347512,-0.05710793676955681,0.007992862173029275,-0.020462953487913244,-0.12364997082107586,-0.24001150262997853,-0.09966021754073065,0.024062256045172307,0.06390906620203596,0.24909211040075258,-0.04446829729199414,-0.06190300631654111,-0.11068876135234573,-0.15053082339390947,0.10390122215082431,0.05893069419062916,0.03244484981504155,0.18186942150903004,0.18116588322484145,-0.08530198691032609,0.14137300095237593,0.20147277247481857,-0.08544214267665136,0.04539235087934414,0.07700888485656425,0.026964158155243046,0.17368180235468578,0.07805081922049434,-0.021455051481522887,0.018804811285718943,0.14858387831069775,0.14408588969639546,0.17687449276064673,0.002167413330799506,0.20159737090246915,0.10627933040735042,0.0359222204670618,0.02021965836556698,-0.020778609912351174,-0.059257384470099456,-0.15769593313523161,-0.12382748175437036,0.033660339669752654,-0.08318394834940952,-0.11182747371171152,0.023486078678397332,0.11650425852987671,0.027203854753189673,0.1719121666419249,0.16147920640735403,0.1294729354256582,0.08689261963433405,-0.10925822739618671,0.09885750104691057,-0.11568342003525689,-0.09107384397753292,0.022961744278848714,-0.04502030506304435,-0.04183975752357558,0.05177513163651341,0.05567724475094421,0.1445915677186718,-0.026639882693284083,-0.05201313300016666,-0.10886980609174021,0.1523670082315054,0.13176796350171754,-0.003831974899819568,-0.052157387094055735,0.17001157390598995,-7.111302405744535E-4,0.011289183578389761,-0.10650307738925474,0.19241210801313516,0.08576539009441794,0.01717385869556365,0.05435525010742134,0.0781563068373132,0.060307279926001586,-0.20534900527171202,0.14515505978100046,-0.16174585984629158,-0.21410180478823487,-0.1931419743827229,0.023212223438707102,-0.02921306326542604,0.11070181426064254,-0.021052647974571126,-0.22882193873378542,0.11199176265614823,-0.01534906227777752,0.040035570655418656,0.012195214205481475,0.11152130142956804,0.01819816772135984,-0.008563224099231076,-0.14223096424852694,0.06619408859517059,0.09089087328009142,0.015610555618530655,0.01057184314865094,-0.06107208249739712,0.08301749334466302,0.07735704370810181,0.10355330607909174,0.008191969846694569,-0.013603678657964469,-0.014465292276750065,-0.031355888171929164,0.057099729186350076,0.02628828417267437,-0.2617216596758632,-0.03321117775496063,0.037659167791709594,-0.055250294647350026,-0.03794068108158618,-0.18377019186262894,-0.09474619455311786,-0.14606408966310744,-0.034191443157411766,0.03881884617525572,0.0013490888555164893,-0.16979025848404128,0.1040257476650164,0.07586279299038028,-0.05740014174563629,0.06772750446785838,-0.07862880439173808,-0.15581200187009395,-0.1151159133810187,-0.008543451002886192,-0.09449943085426525,-0.11465899683789496,0.08668944354019761,-0.06771511416659365,7.116991482253128E-4,-0.10539927683860029,0.00878591374152303,0.03766608805607771,-0.013116792269249222,0.08829840941632885,-0.06968238748530498,-0.10562834447877706,-0.1052385074857608,0.05315084870235459,-0.013099104270322598,0.17338638496582842,0.14651662542631294,0.03960071854222896,-0.0038028182818967277,-0.1465790911551243,-0.0036503855445992744,-0.00670167865725213,-0.045643828143544826,-0.11940550081215176,-0.0948821098116531,0.016025348735971556,0.0432524888592537,0.03179418435084014,-0.05927968712374443,0.01840147050276189,0.07266361254372468,-0.015986671173263512,0.054417138937441684,0.09010392809783493,-0.02872485403555891,-0.09247701026328992,-0.020486533105498153,-0.07140119296331462,-0.004263522693867983,-0.08020181076262867,0.011012917658996257,-0.0353334312802745,-0.12412976908051404,-0.05061802870377041,-0.004886171798248023,0.05717031976361925,0.03697634407525121,-0.014436506801779913,0.010967942661085937,-0.08952205505410252,-0.04709446320219461,0.06147428725494058,-0.1120943487683444,-0.03249512276718411,-0.07348497671438678,0.005765467880123568,0.11520464571663613,0.06925572603728229,-0.012420215797056905,-0.020464784692147853,0.0021799239023876857,-0.08024587191379046,-0.010648281364194379,-0.14450048005653837,0.03121090215219667,0.045503794581541246,-0.028066968168082795,-0.0035213401872719596,-0.05648468461030634,-0.05073028827180914,0.01913769596064673,-0.0015457482378673781,0.03795269262518913,0.04760442852953076,0.04436777609719196,-0.01903772720167876,-0.04296454858146652,0.020778964604263123,-0.11248330168392368,-0.02142569494067731,-0.07714807751048809,0.04798327327232252,-0.040693373312932046,-0.03541987986215098,0.041385873250435634,-0.0033902440678061363,0.0663282131039638,-0.020759826053617328,-0.004771526198399292,-0.031783042710823356,0.005246124668028471,-0.033841940927036074,-0.015861407572131732,0.03949713645557647,0.006734618949246984,-0.052855979162051786,-0.04319411217800839,0.04039337538148419,-0.021892483585363123,-0.006696950971447901,0.04777201578900808,-0.023500631117535642,0.025900548202592494,0.052798335130191804,0.0016387623712431146,0.06316340165801165,0.042137260449184075,-0.037191050726657016,0.03616479367757065,0.014354122596164032,-0.013125529316691434,-0.06484746005293054,-0.04878006625272677,0.002430155136765366,0.003694029462608578,-0.12212966391342309,-0.07694329184794198,0.01973793827179364,-0.041242672364460914,-0.055092247415209766,0.03635972923726591,0.017692151707199663,-0.016510467311248483,-0.08894446491004548,0.11138134578045428,0.06681657721227607,-0.02454001844580292,-0.016033827546525325,-0.022760189300147338,-0.04304816505657415,-0.03552806950386553,-0.03724849946453785,0.04999724321354021,-0.00651857411131504,0.012599722764975299,-0.013009581236538649,0.08518596086366391,0.045171854204121786,-0.04435830643363323,-0.046429209751270295,0.03608960389796842,-0.05643846568761318,0.019533277583516473,-0.0905863406545503,-0.08516650722772459,-0.06576508188815477,0.04923658836803427,-0.0375155151673085,0.003157703368227268,-0.05209519917613853,-0.01731343134841315,-0.034704462847159834,0.04611618498427128,0.0034919783692689606,0.009825238832004646,-0.010771444384437764,-0.013726904682090216,0.007500178538208058,0.016292846941111615,0.03840259209729223,-0.0071585042745132416,-0.019629529015271662,0.01218341560975688,0.021396751493290844]                                   |\n",
      "|[-0.2441784383708896,-1.1017522952054548,-0.05701508479624502,0.6895000922493835,-1.899872744173944,-1.283944704493411,-1.9061460756296984,-2.0142048315093235,2.318704858671735,-1.050084962017217,1.9349149250308209,-0.3243619495591383,-0.8532067433963312,-0.21971563805397415,0.013916546568330261,-0.5561272096999881,-1.254831904020935,0.0841481926995387,0.3888992744304346,-0.54123733810643,0.9761991898131723,-0.3702301756810869,0.6352037202787504,-0.4278997955990098,-0.852840577867467,0.055316791622810606,-0.620220272075086,-0.45633546093470745,0.4607445702095339,-0.2619568089360882,0.7801213415294096,0.31257556823381083,1.3320596843361026,-1.1015747587135922,-0.5017449705642999,0.19823861272777388,-0.5496316525954839,0.0451287612422792,-0.5161004393188274,0.8926299967713475,1.0502909054362526,0.47113354844633015,-2.1060637163767737,-1.6318478471074025,2.3562008398296754,0.4379266609921325,-0.9157656717895422,0.47895248189232775,0.8314501499338994,2.2447215387080988,0.19371679611134787,0.5867409427051475,-1.0106984046755096,-0.8027070759266898,0.5426415116215286,-0.11723351961307867,-0.4835579821941455,0.9759869506746552,-0.32564266398481606,0.39772516901779764,-0.42808724959053324,0.7318446485646773,-0.09970591914604365,0.03046574391234857,-1.9836813356102039,0.5138239160566896,-1.0311995985426075,0.6789184832597317,-0.22242491633067857,-0.7682881667483092,-0.2982282706282084,-0.04398723095346854,-1.1318761601956981,0.753912506645634,-0.2085486696860837,0.2650860755869433,-0.027362201693801824,-0.1265487681104319,-0.5167221505773252,-0.13821413487961418,0.4740579116220113,0.006226540322730324,-1.1134681199116185,0.33077341655142023,-0.04586791782112504,-0.4806602299731765,-0.31409879966848314,0.2950121803361917,0.3617893503842863,-0.5352063738334618,-0.5880087036145666,0.3695970844971191,0.4355238888463199,-0.4045320183571909,0.5105664407723617,0.15700928753225313,0.3738040315881077,0.4621817402317535,-0.5194809471500028,-0.21144038727197922,-0.516988637278545,0.2823141284802062,0.18373733976495807,0.29660089521630084,0.22894719737477937,-0.38284074239117694,0.45729468993416755,0.2346884703991359,0.03305894651374324,0.10142921271542604,-0.20760367137754882,-0.23876761563618318,0.00826919113169848,0.11671770417928345,0.3953942175338141,0.28565060218582283,-0.1859350941979586,-0.035765879877899594,0.08423729573347817,0.28709271587334917,0.24964041409804397,-0.18389835937101218,0.10263466569516648,0.3609100072728487,0.06906992178170576,0.051652474405762025,-0.35575327970360315,0.5900670187349462,-0.27138284842482024,0.09952602224899826,-0.5396940693860354,-0.4281409630038104,0.08662990630760689,-0.08647983359644479,0.09950764807830878,0.006084256914456361,0.4321061672814699,0.504588207655036,-0.3693122098746733,0.3199976350784547,0.005589205788700702,0.3568109385567637,-0.42702091911016593,0.11232919042356929,-0.14535729485787952,-0.15372902319597492,-0.23996656843347725,0.1073259289789054,-0.3691781158478493,-0.09812487520058841,-0.1386598974361138,0.22425179171549917,-0.02428615433458713,-0.5002714447118253,0.3023610048134588,0.052456025448749374,-0.19898835525255704,-0.05537300198224207,0.2580796228417789,-0.17222849002347085,-0.39193727935081163,-0.16819509968128873,0.22472972732961302,-0.12167616629392661,0.1301193792632683,0.10677600992381485,-0.24213258670687335,0.05616018447892097,0.17183812837950543,0.06970056661831897,0.3098990323663175,-0.3044429969818135,0.09675275496219793,-0.025994625672905627,0.1111353929146353,-0.015036042456467884,0.11162515484205134,-0.29345911794650814,-0.19728449074999546,-0.11841616219689835,-0.05363165668833965,0.11699376246991154,-0.12902512963454094,0.021939242841760503,0.2077724293031649,0.2004447472417989,-0.03865329661562949,0.014888273173854244,0.04165456969912505,0.055924390397987626,-0.21242114380531626,-0.27202688778241957,-0.14700818193287202,0.2332577265972121,-0.027564836636454117,0.2163552874344903,0.04596515636276227,0.19817990701246435,0.21986637341506376,0.1384915667907305,-0.11749251615507399,-0.18166987333459825,5.508775851890708E-5,-0.0183489356164582,-0.2852823027138519,0.06201700503339482,0.1556958827589011,-0.2330067781883381,-0.030027225491302934,-0.029089778999495722,-0.17884481205210706,0.40297621071652767,-0.0938462010131622,-0.10881469823048513,-0.012874359676373993,-0.23017036133384733,0.1004220031073783,0.07927386627647025,0.03357310331870998,0.10506380305328114,-0.14769841683,-0.1290203712252403,-0.010983295295608118,0.1383456718541738,-0.058583737586497625,0.06780536831336337,-0.12205118097289785,-0.33799995219447176,-0.04875337642202146,0.007689333509823142,0.013348620577561261,-0.0933887037077196,-0.005368450884341805,-0.0044112826431393845,0.017887328224704332,-0.006255362218308382,0.08092434984593186,0.08069719152409509,-0.038521216162283,0.035363563217841155,-0.05315887461236597,0.07482645963044904,-0.04353325763339279,3.1255357313807186E-4,-0.11003329316607567,-0.1500529916761334,0.051202452312911644,0.16775598709874673,-0.031169650320552036,0.04473462570713169,0.10549249844243933,0.012728220893244786,-0.056178026488065594,0.01976468327547761,-0.04220674681878839,0.04869750123830201,-0.11739480839599822,0.11035159063951988,0.13007724394180967,-0.06771215475276957,-0.08079884579111049,-0.017310198116072886,-0.0696705049434549,-0.06370793971448663,-0.03634688872100707,0.10435172810012429,0.07990303198660306,0.10341790614197338,-0.013169987390838744,-0.056083631300428816,-0.030067385351230547,0.06958372400367098,-0.0305435828070585,-0.061042328531306284,-0.032369943617691466,0.02839435779281646,-0.10681163436134211,0.12748100861243356,0.12764402334312036,-0.03983744088414573,0.2006105434885292,0.01817211819276816,-0.05908883845694623,-0.04732057221095245,-0.09634547700089635,0.01901657247885238,-0.048863223282002446,0.03055174738632506,0.06810103103138096,-0.0051379230245479765,-0.017900620100817083,0.11656114315420205,0.023177822233776034,-0.013462046523664893,-0.03212496171994404,-0.012468475923699186,0.04211596541179759,0.01994873877813153,-0.07376739628260079,-0.011698047118075374,-0.027892203318198215,-0.12414550224293837,-0.03176555651956798,0.029999492106941722,0.01887935140710519,0.003031971715837134,-0.07534395707607544,0.02910110055518364,-0.05176813955015035,-0.0077415837841642195,0.10749131452367258,-0.04128337967501425,-0.07083618609410187,0.03704539536772181,0.05034537887403391,-0.01604605460035985,-0.06959637761023321,-0.08013830226570978,0.06395364008035671,0.02263767565132277,0.021447556303471765,0.012104375204697093,0.11844026710971092,-0.12205878364053754,-0.0013760976970124128,0.04918883587201453,-0.01538671219760477,-0.011612104918095926,-0.023627463574678667,0.04479874293385641,-0.001775370343336212,-0.03818652824671284,0.13601890802561495,-0.007542358963253483,-0.0478094246332779,-0.02276424661910266,-0.10397612802593922,-0.02400840419207874,-0.02908233363660379,0.049548451215146665,0.022759203321819382,-0.047296819519446,-0.06297289760555043,0.018090984840393703,0.0074963610314509425,0.05806250516980124,-0.04773738751823747,0.10830874782100179,-0.004733561940616863,0.0444382462109621,0.11456833737870314,0.032285137072409265,0.028675253401725425,0.052030157468869215,0.051485334486328756,-0.03652847787690919,0.06792573722976078,2.8590331523947743E-4,0.02536413123083757,-0.08587427901207761,0.006449028413329921,-0.11469836675592093,0.03853867431136467,0.0271909126798211,-0.004807642113331637,0.04894422567266814,0.01422588967321111,-0.04448792718668731,0.029086038245876543,-0.011173347574754924,-0.07321172374793,-0.011637297842193119,-0.08685833428970621,-0.021568293023825624,-0.015952043259294165,0.008325631723346008,-0.06790850889461253,0.041141166977313987,-9.000701130143889E-4,-0.04754189744761078,-0.00158134379102471,0.054420066148393544,0.010439247627242361,-0.05472775129112757,0.02295001242963738,-0.0012438783353165526,-0.02743975866917038,0.09608692150635184,-0.007850070462855498,-0.012469729045697417,-0.009625933555675995,-0.0037693299088205,0.0025539655740331353,-0.04488496035737162,0.0025482115562809743,-0.02315711873731313,0.04625670025431927,0.034672515047936545,0.06603924118184054,-0.04728299417330282,-0.011298114387672463,0.08138100933620114,-0.008374887954469598,-0.06647963648029068,-0.047479217056838496,0.008838853478634452,0.00788573635197587,0.02305825066871197,-2.2691713063584772E-4,-0.008607969280800515,-0.002625959917283427,-0.02088388401094144,-0.057151860438935095,0.05105712908909896,-0.09089851122377678,0.031762609434191326,0.025784036979933818,0.04535753708549954,-0.04550065660755312,-0.047028917078969515,-0.03245158761388496,-0.022832831862033845,-0.03686106018731587,0.02394789791672596,0.03389454185208199,0.00299397945021547,-0.009359397882800283,-0.0333708703582929,-0.00481226414880858,-0.045654188107086546,0.0050074358997173885,-0.07543588292940556,-0.016831562479460146,0.0013531733208380706,0.022168665411015996,0.004763323678392991,0.031971572902139964,-0.05127070486753977,-0.022104974840174513,0.07074866914764724,0.03465037350235428,0.04855558163740781,0.06348897871354216,-0.011177976737043526,0.025891363373672732,0.005185182379735934,-0.010795775524792106,-0.043048619186266186,-0.037463267024604764,0.03081336015651751,-0.008130439942267781,-0.05213647899977675,-0.0021437461623505794,-0.018588943329324058,-0.04548815528023907,-0.06866749680209894,0.03867075343113978,-0.002238011868745413,0.028391361038515806,-0.019451737124064446,0.003340510873066471,-0.021458692747671912,0.019885241753661492,0.03425900879278921,-0.009755929617604436,-0.03887271795557724,-0.024004734915604536,-0.07284253684234585,0.029259274437164695,0.0039451407552738085,-0.03599601513944192,-0.04153736625882893,0.021003954082338787,-0.005309156864958128,0.024810405141974506,-0.03886153177639222,0.03608137441880339,-0.07664778410362627,-0.02341031315917353,-1.0048663063623106E-4,-0.06876862422602964,-0.03228341113126723,0.04253569677415364,-0.05157467121356231,-0.019182525107643372,0.010180474839528976,-0.034202941452374874,-0.009838807544633234,0.006989472676775899,-0.005089529350652158,0.0038984086734117906,-0.006457845043294108,-0.00446497973788354,-0.018245086054790558,0.03952571744461145,0.037255486909811536,-0.014355929421999439,0.0051925472588836286,0.009900414473989837,0.03830905654592656]                 |\n",
      "|[0.2399292614448766,1.8232688603316158,0.4115452610256055,-0.9869592365240617,1.4967624081777229,-1.5557560447869536,0.7620447075808097,-1.3639567606878749,8.463562254493739E-4,-0.09466595406611095,-0.22633289198700068,0.8709823143435527,-0.7396243921835362,0.19622495472959228,-1.2633256319614419,-0.12554666203712128,-1.841899012918852,-0.7077847379739836,-0.23130776143237974,-1.1808754164227835,-0.5290527646284111,1.4514843221309355,-0.15507159284893257,-1.5370629751391784,-0.30319090015706796,-0.8270082856879908,-1.4471217885087218,0.8981111408591386,-4.309084691244922,-1.5411348288527265,-2.4281429845360054,-1.1055752760967827,1.9288710509248284,-2.311343685404575,-0.21544961871463708,-0.018009734829969426,1.2738026804985119,-0.33100242882436015,0.6956208156530147,-0.01830220029125909,-0.6642572926415287,-0.12790547731273466,-0.0029706538695706206,0.24264986661658913,0.32527469072966186,0.5465387948731295,1.0102602700565868,-0.9216069432594772,0.513277917579266,-0.006488589998910461,-0.009419042526870383,-0.6281969882213766,0.08446986357439601,0.4602392090103953,-0.31993047128029606,0.38926913271577634,0.5775171480652461,-0.4260721660780486,0.5248072604849315,1.0308143363927775,-0.2221575182209498,0.7227698110579305,-0.06933767902129406,0.1749069632738778,-0.33761644556154,0.2046049140576547,0.06373769841949825,-0.709474885775004,0.3850877708122735,0.34261352144326185,0.5575892169176222,0.523159848489357,1.0425733203020984,-0.0031622500681406443,0.5023253146628102,0.3186279003425824,0.8427721614704751,-1.1471033140324538,-0.5411638040526648,-0.15562659597513606,0.18694185485907566,-0.46511801751562915,-0.559866807647757,0.4358666856866676,-0.2289269304101187,0.951725303588087,0.7435166301449359,-0.1703986707364761,-0.8988244318527268,0.08159449739350966,0.004711319842199024,0.37675054452376006,0.13210081179915012,-0.4961783971787065,0.10032224895501685,0.5692285226176741,-0.5278173285006618,0.16747406647339083,-0.43892454677903403,-0.24545294950341667,0.16660041933064917,0.09777108344910095,0.14939764594780452,0.42676045132252405,0.06479632608149559,-0.5495893800472995,0.6128037800621979,-0.03232564010034561,-0.4415025906544792,0.4647908814657933,-0.5832877871785274,0.05255642099537837,0.14099575773848397,-0.10978689764126133,-0.20436869704506874,0.35125592983568166,0.7499582560513914,-0.038880332679454135,0.4901374684762397,0.2883015399416986,-0.7916800142064386,-0.11150801115987383,0.4680890265699037,-0.047503821119593996,-0.4398999574013144,-0.1236899282388573,0.20871748949954946,0.3234574118855923,0.4397221243336702,-0.08931603370841101,0.3694513947962572,-0.015057029445320266,0.2347972614954954,-0.09994953857345365,-0.3819231685092737,0.1690594161727318,0.15650239531770715,-0.013030285710283859,0.1082970807221374,0.6113995960734335,-0.1669883831282114,-0.47322987909038555,0.11096397633658542,0.21034166664610385,-0.3208513432202306,0.06695685434179705,0.03387105298137294,-0.08891002901142146,-0.36090690842891404,0.06434496193806302,0.054313013302225724,-0.048298652455668445,0.01512779762312165,-0.03821637761697348,0.09129304370764686,-0.023344025270350746,-0.35876718189356527,0.3479260204702891,-0.05101238668106957,-0.13742265793975156,-0.17156173126164415,-0.23615011002448563,0.06689801041987084,-0.028585441642958148,0.1232011815512104,0.031635547365052294,0.032319994325557086,0.2486315938147313,0.009010338031708975,-0.57853772742865,0.2799220411761357,-0.28297115836162273,0.39734481462578664,-0.24310025564638005,-0.31059549660926217,-0.4405446506077872,0.02012829724875828,-0.1087399315593111,-0.14746799184800904,-0.427744153522684,-0.04902793970694131,0.22283827564971698,-0.07155838841717105,0.3694137131167348,-0.056305747408348254,-0.22782087604154078,-0.26872280098155615,-0.3049968799438172,0.23240680926360968,0.14299140446204855,0.3483322875132289,-0.06945052782380742,-0.36908200488032045,-0.16570034182889093,-0.040706431153190864,-0.09420239666048136,0.47089538772134265,0.14757231201004545,-0.417055462820497,-0.2610265521726352,-0.33668067022213116,0.05566462807511208,-0.06365008841633409,0.1893826772290107,0.0715869728460819,0.21304437741039844,0.10414489542317924,-0.3298020786148642,0.17173623990853712,0.049421918721365365,-0.024922032621628162,-0.04853500099880012,0.17888904663062802,0.1344798467917379,0.02641469880212124,0.10044242980231702,-0.14576974414827842,-0.21370464815389748,-0.01850627463119872,-0.10685188922349087,0.0640549579498482,0.071770109913435,-0.026026316838773687,-0.029967515360764644,-0.13767824580616006,0.09931721457399953,-0.043174662073930975,0.08013937699054147,0.3433546222478943,-0.09329118839819481,-0.21391394646888284,-0.06606075230237693,0.15233556833901052,0.19875556687879808,0.09159104257218158,0.10365529699664218,0.02101050562497995,0.31547341001185464,0.0999581878877876,0.06079914697985882,0.13926940549305422,-0.0632549514690892,-0.1035455219032674,0.11606702166439933,0.055556715866839856,-0.15171014850954856,-0.1279981140226673,0.0868854065640336,0.09844776437942807,-0.23505857192618487,0.04056527478603354,-0.16749930246255243,-0.025381149224149496,-0.10760719756431067,0.046850766030526056,-0.13335622275058626,0.1295294645550235,0.043416825354964016,0.12025671502761565,-0.1566597951479937,0.13279494114014717,0.04892319715964719,0.059738640621869336,-0.040498128693511826,0.007600349173009075,0.06161752665939939,0.16531738072258118,0.017861579288736884,0.14535646950568296,0.010791414045715875,0.016107406511258013,-0.007395018996807549,0.08629099178884098,-0.0205505174297147,0.09200901654433476,-0.06467038865402593,-0.08163789163417333,0.071702933527627,-0.05818787154367022,-0.06358644227720184,-0.039694071530174166,-0.09779450479153276,-0.020487546078393152,-0.016933819728768614,0.028957287046679936,0.13323395254965367,-0.058885206035092716,-0.013720557397852193,0.013898753858301315,0.09895876168188143,-0.002345565533581305,0.07153504440908999,-0.04487652127201883,-0.011595846435474504,-0.059288458130822376,-0.10287396720511605,-0.052509957492579834,0.06487965921612707,-0.014414506956670299,-0.12988962368668183,-0.05647769622524512,0.017753736982063117,0.0636090566549351,0.03254509163867715,0.07591889707309146,-0.019179935675694995,-0.01923755521844623,0.007159229596215941,0.050698927587232705,-0.0029557614159321927,0.0658349321611516,0.0816597194695179,0.004476990556321392,-0.12986120264689796,0.03561606448289925,-0.09130359753061165,-0.04469817771653567,-0.11595161153895356,0.030160818194665207,-0.08066127699497487,-0.03614555210333047,-0.017791659550411378,-0.03626297421446585,-0.09991761318857549,0.003480788163613347,0.017053573169408136,-0.0010532803460067764,-0.02190551138350793,-0.01643847865981834,4.997180636993406E-4,-0.04594528831350296,-0.11529457851954343,-0.025026243614019394,-0.015170729666080119,-0.037741677960739406,-0.05377798464206922,0.005990146776587449,0.06829615743603465,-0.09507329639601618,-0.035815282539911675,-0.06610183866791677,-0.04699332497009439,-0.009948224415147852,0.03173255809498923,0.027508016849171524,0.007773594658303112,0.024507300807833546,0.11047046229683369,-0.011293646564045232,0.048846375308937276,-0.03713974425144653,0.032759109768781984,0.04786061116524397,-0.01038515971841803,0.06697177736599282,-0.02923908917508585,-0.023655031237117152,0.05932973162953499,-0.008292535904497099,-0.07289151485415812,-0.0252777895643298,-0.12405545172740082,0.037662255774503134,0.06318363973965364,-0.04752977272394801,0.0511054988488457,0.08274024253336629,-0.017741152989023734,0.008801098607699688,0.01061314745397357,-0.0666156616119206,-0.0824012023727859,-0.006355951618498633,0.01632963141069381,-0.019485938946485606,-0.07138854754957896,-0.041257750156634174,-0.07541521082557853,-0.03440653056778848,0.03036562696784048,-0.0214244670501813,0.039074804949161115,0.022609504429262507,-0.005883441799255498,0.042132450094233755,-0.01953422578329199,-0.06324413197489094,0.06151342056777215,-0.004025222586892845,0.011269270260456418,-0.035701385014469476,-0.03257453682578941,-0.03173710346445604,-0.06056492270592687,0.009116396525687354,-0.0022810969268497114,0.023367830356453415,-0.02565299462439817,0.014631612214076467,-0.057372492289961365,-0.005089060512232655,0.0344038137697422,-0.01665005363013769,-0.07104799368580283,0.01986086433381446,0.038651224552419636,-0.009645337153948986,0.0042826003289017575,-0.02378398857510635,-0.014577734611246576,-0.01844257125656031,-0.021983310230913905,-0.09811391670709182,0.02055314282130226,-0.035251114202321666,0.02741436146868468,0.08513785852445385,0.020813766603382678,-0.01360158351530917,-0.04803968456874533,-0.002824000122651195,-0.05551159288631022,-0.03796186972169533,0.028610860926081352,0.012546127288045592,-0.017770238945848123,-0.009451091536624635,-0.01911766899457972,0.01685763049922311,-0.0527002749954733,-4.944422369150443E-4,-0.05369954388852574,0.04795482678391762,-0.015333301511342545,0.04352879164771553,0.014664628909442517,0.011478290285487996,-0.08075349511135284,-0.0175760856828185,0.1253306258405107,-0.003433646024701975,-0.0060012945204358376,0.04473813571707599,-0.008079351463959182,-0.01741701610350875,-0.015419870871359515,0.04124232500250498,-0.11604859225209606,-0.07465214704444537,-0.04044744368435303,-0.05279379070680883,-0.09169879570874787,-0.008860157018753333,0.02511079239705097,-0.07800879530117578,-0.03287679322972785,0.04285031072000609,0.019198848737199334,0.0015257646348579568,-0.01743434999047634,0.013782569376880133,-0.03232292314250598,-0.03725492147879438,0.051389871131469235,-0.0035210632803786765,0.01310782851950014,-0.006303465792744219,-0.046632695395232876,-1.8499463190892879E-4,0.0311167421721059,-0.07473370655413641,-0.014024459252567845,-0.0013799257964635242,-0.0071141053195664244,0.043948123101150816,-0.024440047834896124,0.04721048552881754,-0.06638973535960727,-0.04822810455460637,-0.018254332091764087,-0.038017214561460067,-0.04259910641122813,0.020267501269031055,-0.059962992410098906,-0.06333217203250648,-0.018208189286262763,-0.02383597845645307,0.019891494970161853,-0.029984783374836538,-0.008492430627664981,-0.00985195437187491,-0.004261036639428926,-0.016448325566991467,-0.05753170137953388,0.05379567293354971,0.03742611499842374,-0.016572659147755103,0.011709169289475106,0.016790046280305594,0.06220728329118881]              |\n",
      "|[0.2690895793910588,-2.5716675320895996,2.215788202562158,-2.297373252220003,-0.7039946010422744,0.28415891988942293,1.5756415146269258,0.13592889095523036,-0.27296213147150583,-0.5993228759893245,-0.5271373028917101,0.18297061263649428,-0.3778197999469124,-0.1466216482939672,0.8487410472465506,0.16450816064230545,-0.4137535127246575,0.8614165467425038,-0.6856576915030546,-0.4781049076643705,0.9598176450955107,0.615679801407454,-0.8453688299431833,0.9925148315973841,1.1004821890588574,-1.5299019364515958,0.29661042739371846,0.5071482655836521,-0.6662883846590498,0.19074434312573757,0.2806797495904503,0.7082439395849751,-1.0529961228294509,-0.7895920282741332,0.04790104444850243,0.12997315652560026,0.016209581322584283,-1.1433629168248969,1.5150562258036102,-0.12332405808636966,0.4106179742044661,-0.9333024943193873,0.694724548521932,-0.20243765059868576,1.0531777324529294,0.13580879635360174,-1.168392855253452,0.17302111443375773,0.2964237366931442,-0.15930132839560474,-0.4243559417221172,0.671382493934177,-0.38396389161264655,0.2870088499308154,-0.697454674334093,-0.05618091532491625,-0.2879825346051838,-0.09272176481863437,-0.21849466804984827,0.06444102584782718,0.35158848228535394,-0.344676332662727,-0.3240248634323439,-0.9353100222229843,-0.8125718007583057,0.06733268757421601,-0.05999436816958342,0.33061411624414094,-0.48923173510066176,0.4363836986610225,-0.905113125702631,-0.24589782928113002,-0.03947060153200113,-0.7789184336926838,-0.2934999749236213,0.9151407167569339,-0.4459141264046472,-0.7765399093908203,0.33872751671515455,0.4477154245204905,-0.38271704415081936,-0.7761587831602337,-0.08565621736127577,-0.7188830665292155,-0.3008602574156511,0.3840024038028869,0.2876585913248803,0.3821735909950482,0.5875783639706103,-0.026012539936578725,-0.006605239895157336,0.19854887413042627,-0.6762265508823895,-0.3061568741279077,-0.060165564714082825,0.17536128992626548,-0.176384047957438,0.8518193740974421,0.03376842942518737,-0.3409613461402887,0.3763268400632207,-0.1717467941369919,-0.023151073799476153,-0.4680851635290024,0.5868880503953424,0.3521368906413447,-0.21073840839419292,0.12816747749825208,-0.45588106671145734,-0.3563490668781132,-8.73660802638121E-4,0.7701190042251138,-0.12471989550674357,-0.24013787718585672,0.007393229352864256,-0.3099473840251593,-0.384143267845219,0.04156392575028034,-0.18321233956164895,0.1869249611087616,0.0381181676121177,0.8758766256511518,0.2701308872050248,0.011255432496651535,-0.40615524933733704,-0.18446244791151728,-0.4626001199470803,0.27814065744215355,-0.033277051503767946,-0.426008622877081,-0.4433273742434763,-0.09106017717751003,0.44042445758098225,0.2369812733347194,-0.47084972511747447,-0.4720915791263042,-0.7304682142946016,-0.4694458933383642,-0.1245458902990973,0.29990257360876327,-0.5187979069323453,0.11547250178742569,-0.26510484989987665,-0.5133621654623026,-0.016349879558235785,0.22557139056170936,-0.1964845961388197,-0.16567628904759418,-0.14363625538085772,-0.3567967048606815,0.15819909098036827,-0.13621893127410162,-0.16030078103124334,-0.23168009062671885,-0.11439585706539099,0.1632861887684683,0.00910329413091691,-0.5632915464969626,-0.20588665223002445,0.049715283335090066,-0.23747896962472798,-0.05967423014635492,-0.1735661895532558,-0.43989256899365203,-0.08173255483249556,-0.023570597548544236,0.08373206579593366,-0.10587805762345191,-0.2911717710427581,0.06951514477426429,0.042234719544685884,-0.05804000088824917,0.3264728718956266,0.14509903723140224,-0.1962878706968437,0.36239144674686885,0.01870254933240709,-0.1270702791013605,-0.0021669827405099706,0.07661473102911681,0.2147653689843322,0.12617414556157713,0.2708063311785462,-0.11246098712707031,0.32557830353938594,-0.021388270573053217,0.02682885757783987,-0.20373741309616075,-0.06376803436793649,0.2502921280559098,0.19271760899503243,-0.08644170617302084,0.14898431428223036,0.3253862357889809,0.017554778831328555,0.05642009684263001,0.1607433790659405,0.08184270160119293,-0.054833735408742985,0.19294791979946135,-0.023981969056011063,0.04766791447102661,0.08129775961097371,0.20891058515088962,-0.2280046779233273,-0.11758785402294611,0.16210834488527145,-0.12505989275990445,-0.07524711612582642,-0.122013353369975,0.1553195057288583,-0.22461133314541976,-0.1398629846272573,0.17178778740868086,-0.0954625402094956,0.046934587775937925,-0.18408986094963026,-0.29992855956995534,-0.1823549168644868,-0.12238123915859092,-0.06963661638246771,-0.024137879899615543,0.01901820436647604,-0.05486110375313277,-0.14384239362183318,0.3136423497547535,0.16791329120137144,-0.10117881198057707,0.19421115613275944,0.18011975752798307,-0.16857291306094357,-0.012292953814358742,0.09298863410697919,0.11788684699846726,-0.2101616342085972,-0.19275911669174936,0.11882818625006505,0.3310322653196941,-0.12187135230990426,0.18740516314649236,0.03482608949081889,-0.07643305489991578,-0.058649377799136586,-0.02748459688230765,0.10788585867359077,0.11795077636804913,-0.06487594088781716,0.21005646782408144,-0.18841847328820616,0.07327110919512576,-0.09826704065562182,-0.20262072212691412,-0.15198387575518285,-0.04652911390642077,0.02112921322030159,-0.2103886061117553,-0.051121462916317695,-0.033398781582653386,0.1937969728214461,-0.08711644219446282,0.002388505787935445,0.13836747798986304,0.007844404997585501,-0.12921901852484505,0.021467988656755865,0.23406846873108414,0.11585913782003959,-0.18300196043101447,3.246748943495116E-4,0.03645376581175834,-0.03204686487588704,0.13167977046300944,0.0741023685737863,0.15170694850715657,0.06139982859166897,-0.2208403477259154,0.03335804367338213,-0.02357523912126344,-0.09602557317418405,0.1054314914264946,0.11485894772304714,0.11222256660408056,0.010895486605403876,-0.0013103044172628753,-0.17025868044421194,-0.00853060993392625,-0.034232297237496614,0.19678576203085196,-0.0804062281324393,-0.1211555800565505,0.06798172892755927,0.13208831843576296,-8.402023705737505E-4,-0.08660414813128915,0.12622776559278592,-0.01821921892706585,0.09037129356145608,-0.022191174908162303,0.04909473845136479,-0.10010819770598237,-0.16008175329919222,-0.1562620624838065,-0.2337473866202916,0.14886719913403487,-0.13126719733100708,-0.1741241561665528,-0.05749520710360119,-0.032480255659234084,-0.059146844906548396,-0.12846746222868252,0.1305483473889284,-0.06647499918810762,0.03321101391798041,-0.0671249480369514,0.009681363499944737,-0.04367336421408319,0.14486257491124604,-0.034667097116637784,-0.050560528846838065,-0.08078091058752823,0.13457057280299364,0.009489067192985824,-0.1176215641034154,-0.1529256127413321,0.12746276836170306,0.07188123197389737,-0.04033959058099418,-0.07298198419971136,4.4848422151133605E-5,0.052934532317421665,0.005787867816577766,0.055882340086229415,0.09478324727039956,-0.039423083224006436,-0.08960477021992365,-0.055897944102361444,-0.08129340373954885,-0.0672083606838888,-0.12004722726315446,0.2008110609672483,-0.1630023460487216,-0.2177891403826682,0.07049994440210454,0.02383979933953702,-0.18613317346012834,0.14450949593032764,0.005803373422057875,0.13988585381439755,-0.132224902787719,0.20710237862041708,0.05572361643443671,-0.04768258636529545,-0.11838028098799872,-0.20995738406225922,0.17539259921590167,0.05188951168404596,-0.06826150629082803,0.19786121633242,0.054945007777159396,-0.15220838772426293,-0.12217694693648004,-0.05042448372398706,-0.012477058006534415,0.03109115292725722,0.17538746714073675,0.23103454549732447,-0.04047720076187878,-0.13058994244486694,0.05983234727257905,-0.045959729930100515,-0.07454816743104085,-0.14398739029562618,0.0266187915714019,-9.59307356979397E-4,-0.10139658555946536,-0.07712737201343155,0.23356550623672825,0.04979789479502509,-0.042013045967946305,0.004372188757330503,-0.12177416676671732,0.004500596694057074,-0.1069880979527328,0.01913288249599024,0.005997216304287206,-0.11827288399682061,-0.028084500180861775,0.060252972902051755,-0.0038015126736778426,-0.0322232750287515,0.10335398517014621,-0.1340934693658985,-0.22386442819692665,-0.1766720436239137,-0.11592502250482653,-0.09266054696589927,-0.10749856944008448,0.014970137118883078,0.02991512642612554,-0.06322878357877505,0.0016087947667740299,0.04674012847873077,-0.02287538138699752,-0.039051433477107975,-0.06945310676219996,-0.10687980453462086,0.08839687748268638,-0.053171231058098734,-0.14846526937409654,0.001117882980564984,-0.0011640478077757851,-0.0023226408193002535,-0.17075170955312996,0.018738580747176714,0.04928268699005122,-0.00819935789845952,0.09993329322990496,0.06473784135417694,0.007216871034995215,-7.487142891930559E-4,-0.1303278191057885,-0.03344541734252032,-0.016134460190734466,0.02529980526798086,0.08040108412419522,-0.07239586494701644,0.007596585389758936,0.07522982539217637,0.03537066333434493,-0.03337177017796854,-0.03375492531952029,-0.12446683291622757,-0.1116701827480763,0.10416708925425164,-0.1182269725665924,-0.13868954914031276,0.1478921747752576,-0.05622366641698735,0.1444883910471778,0.11607453113726746,0.18035173696775172,0.004743239827158852,0.19907685402087624,-0.0809291983454985,0.06329667108484772,0.09648684282109393,-0.026580279617355138,0.07664898890401985,-0.08747287061757522,0.0032732860572378397,-0.048026987525630706,-0.16886876664390169,0.003938266446593314,0.2316951330363019,-0.0867624481320157,-0.06297968020828923,-0.0781410817896579,0.0685771936051999,-0.03418673213302088,-0.10409218817653117,0.17371835690727405,-0.030828438815808754,-0.010844033721000297,-0.08524842322529794,0.029883073100249156,-0.00962869980019293,0.015137014816052601,-0.08786725849309505,0.13617184556803372,0.07735728431318573,-0.1755193885677314,0.023755117441226454,-0.13748129298105743,0.010156951462359162,0.11506164965584467,0.02522779405622541,0.10540013437714409,-0.16659652818400364,0.09275063154605878,-0.08277849512005377,-0.1041362776724734,0.04770046225915196,-0.06586492971207822,-0.015690310931616325,-0.09211761254362677,0.07272489503497132,-0.13201455903132234,0.007435836575120012,-0.031187078735368974,0.038509988472013236,0.17343771182728898,0.01357089978273937,0.05670262176113955,0.031784313323817315,0.0014481796279634807,0.12416164700099466,-0.003222169437222852,-0.06869099344614078,-1.6182552443575263E-4,0.033391229886938115]                                                                                           |\n",
      "|[-0.6027237229411448,-0.619075973580686,-3.926939338276213,-2.7060971983023108,0.9614465630064766,0.7197703160048279,-0.42576524761904866,-0.4425582917667561,0.1250912492924374,-0.5371072725667525,-0.3203418096822122,0.1192535430317915,-0.21616798342794938,0.38248643938634386,-0.7015612672110014,-1.3983866711411128,0.9999690242349101,1.1569736315537207,1.289919443514305,1.9759431558516485,1.0963548525174664,1.1916412144943678,1.739264694961118,0.40406534950748413,1.033432799886853,-0.13653617946884516,-0.07025354941194539,-0.3975310412218682,0.052994644767117835,-0.3273402651098828,0.10160205795007904,-0.4073056857187878,0.47225944142985254,0.2370109011204496,0.5687171202426747,0.11945865619080352,0.7480616469144479,-0.31366900173277784,-0.12646559256929496,0.2545631531546443,-0.01786220160671166,-0.7145980145926307,0.14719612532231996,-0.006010669690276492,0.3891413031047724,0.32505313339764574,-0.01816059831735882,-0.43255331040886735,0.3595506252453302,-0.2556290141034251,0.018037878012649094,-0.27565519359962154,-0.23438920453377415,-0.09548139750731717,1.0237545137278745,0.04173058257473561,-0.20049558553554053,-0.12768752252755405,0.03456261596746123,0.1557364231770411,-0.21279649997825287,-0.5425262337353918,-0.2898714568189271,0.21436110918576523,0.051813578929338244,-0.13172792926782992,-0.21624706485255565,0.1418764784569528,-0.13717062010521386,-0.06605180960534808,-0.35571654428702865,-0.014774213045483459,0.2349245324997117,-0.2519054992311158,-0.1020798864094434,0.3016185072151216,0.3101935319414853,-0.2877758364642861,0.032836570687675176,-0.4191679992633698,-0.11434113553978592,-0.5700251479700637,-0.010732412597127677,0.39144442166724913,0.08445689230459437,0.04032253282867469,0.2874300718135722,-0.009494755802823544,0.3292256790201176,-0.2961769328706984,0.1162339948193141,-0.02233357192650351,0.1874169660598891,-0.020118937396247746,-0.03469754246455353,-0.3170940264133031,0.20215516351037405,-0.13857042547803602,0.0896586442499299,0.06276494832773463,-0.06257240540145113,0.1027219054860141,-0.5174194440558844,-0.24984470203329087,0.437537990658041,-0.08101466557257611,0.05635738576663097,-0.051492343568566516,-0.0014537230280618207,0.38564941578340944,-0.3711055852412985,-0.07141359855651039,-0.056598260354700315,0.2768384023681121,0.1512926127819863,0.13018211030676452,-0.08411751677438045,-0.003920124973346054,0.1414824548742848,-0.4648602302974235,-0.12562622997461603,0.23607900970104434,-0.2069810827479326,-0.08327341000442373,-0.19379617879068278,0.40573607760063507,-0.5372439429722112,-0.3599898099469727,0.04513636063291786,0.17609558152827154,-0.29835165373379025,-0.18655334122942627,0.06433125811923047,0.19835726117705613,0.09690679211979586,0.09735841096558501,0.07291852810766228,0.15743937276621575,0.09986072977561443,0.16887468435124847,-0.09290477083344528,0.01632192218193032,0.20209983224012057,-0.03176828101530513,-0.13141393464698026,0.4165158281525182,0.1996218663257487,-0.08059648747993901,0.3560702359145569,0.2292613931835412,0.06995606620303729,0.28574478348289895,0.32897972781200413,-0.1922645786123308,0.2640994486367898,-0.20642936737931533,0.21176186463067337,-0.14249104038760801,-0.48957322013237686,-0.06119822340025742,-0.17686060768013973,0.18993696935894194,0.012093586012065324,-0.19458280509953024,0.06031450389875355,-0.4013535444696076,-0.17713866411014306,0.037133818277045566,-0.021238750834965764,-0.002513186451475021,-0.22021523107398105,-0.2160653367082379,0.1346089508556328,0.31029950436864734,-0.1249028848187942,0.22485038024449017,-0.0804458428436428,0.0681723096954488,0.08794966704034744,-0.06307773726755089,0.14917128463209625,0.011929721333635207,-0.015388427551114185,-0.01121057074832138,-0.03367877721751447,0.07108842840101443,0.019446295108102363,-0.09833406110433454,-0.05979626065964499,-0.22556085542021426,-0.08113356494215766,0.036474654271431275,-0.3618019019781937,0.2698650138947243,-0.03722071286482019,0.2927708731346588,0.04048833780269216,0.2661038937613554,-0.12581018718130485,-0.06870098234536158,-0.18365124408197211,0.13698699369488737,0.10184032282817448,0.010034835862089905,0.06052938597650198,-0.0215811186878259,0.11520427529935001,0.07131561234595735,0.038930686687149316,0.030979086572155267,0.1083997345543968,0.152292044163498,0.06716519093023479,0.20420317612456748,-0.02866279930936355,-0.020837896532715006,0.007168804751250195,-0.18251280914824586,0.11640261331498988,0.0641771609426601,-0.04528936063965782,-0.20779181059435423,-0.017710868069371416,-0.14913389132016375,0.04062316934754364,-0.0030586405255486615,-0.040541571850546576,0.11241036863648175,0.060516889057387,0.0029168192068926985,0.013594331819050419,-0.07792466095410572,-0.010598426821393933,0.03278533557252889,-0.06962299953138865,-5.509154146263878E-4,-0.09066378559534242,0.08332826899211541,0.12221866063773804,-0.1229639423529549,0.05754450356118451,-0.007869718022412,0.16625862615012782,-0.06745943226904984,0.07678197944627396,0.09408554271131818,0.15031455028818438,-0.11199170653503664,0.10009202101462046,-0.1583586040636565,0.061467761870237544,0.0015616273973280206,0.02441337120207156,-0.12054956490045741,-0.11453696899270899,-0.013555807038801715,-0.05225346824745271,0.09927528043371396,0.06051241827268772,0.16091772434136228,0.10813081569178486,-0.13358440403127195,-0.062216388980993964,-0.14347815336649605,-0.006782736779972404,0.29291607136775344,0.028766352349654883,0.05881119461807589,0.07924999165309009,-0.27939362373086013,-0.0029740756125310377,0.0551544410996564,-0.055429520919271585,-0.00961479628203736,-0.14137371689858966,-0.05982933027516322,0.04499324873998972,-0.025537452835909642,-0.08553591578003367,-0.06385150629680754,0.05217214089383243,-0.04934541492932215,-0.20907617843002588,-0.05471805731900877,0.09832780666282692,0.17608678565632685,-0.09137294338711381,-0.06707423203934999,-0.05550076870527942,0.06156250930315663,0.07420679934290157,0.11498475868321108,0.06919383339920201,0.023477676053881465,-0.10202021943463431,9.812152951057754E-4,-0.11783732636246548,0.06144065713047256,-0.03974808557547725,0.016095881675597154,0.12454222507126907,0.04489647902825375,-0.030652620664364652,0.06518204965182639,-0.04539635547112919,-0.1818219748569686,-0.08684062536415224,0.01753213030604755,0.09234669290035631,-1.1179909501565777E-4,-0.014015557292049785,-0.024504679908091867,0.0076957179541206205,-0.014250201810303287,0.06461415458879538,0.03758876909007165,-0.09873923601531663,-0.03220123505257948,0.061914271687475875,-0.03638278605661964,0.017764187301233723,-0.04235613056018006,-0.09936888784258613,-0.17417997033595045,0.009657524669108491,0.013760100527957266,0.08678797891767709,-0.07659205234534927,-0.0598611794900085,0.057687481630404526,-5.829890350025268E-4,-0.03619433463932152,0.001468001244706904,-0.05444460369812578,-0.021200821405184315,0.03182133785830475,-0.03682626052274403,0.1125071854551462,0.015306547370622717,-0.024487439311953303,-0.1487646376831256,-0.12275180787070572,0.06660064103742357,-0.011690580605572688,0.07070839175061655,0.026247857071655924,-0.03296131463295199,0.11042895951161845,-0.06244912485843166,0.06900858123372734,-0.028295765983558582,0.009765928452399857,0.05102105587121905,-0.04833242086306694,0.11276978589047644,-0.08925409777207888,-0.06593550431741556,-0.07484780390244375,0.027674142224867734,-0.029752360008956362,-0.009264004583134464,-0.05262378539460445,0.08071874199239289,0.06877964010816834,-0.042137439427600565,-0.041619965872016884,0.02455656510162852,0.03412539164950103,-0.050137756796025154,0.08979802470309323,0.08032248336030015,-0.032380822765370104,-0.029019286298896198,0.08433426953480283,0.07072284628373374,0.014775739147247502,0.08771823133901327,-0.0472481936750762,-0.05887102588074461,-0.05421196308177171,-0.09226561010021425,-0.011499681464761265,-0.01937229872900148,-0.13084046523658588,0.034109886234208374,-0.1258969131879172,-0.02862861576374493,0.026401933389749235,-0.07683367323801625,0.047913109540937616,0.06561037926983748,0.04561260305035457,-0.028978465338923065,-0.016697157968046123,-0.05091402909258051,0.024249287805982834,-0.008413908391605072,0.06308660297186751,0.010232183015344502,-0.08806543884851058,-0.009309235070886919,0.08052358619571451,-0.05350331385940188,-0.09072734334924479,-0.05122268357309,0.04495883037293814,0.08128862278839438,0.09414033986748294,-0.06303273699891124,0.034165266049961195,-0.031238656657661866,-0.049936128870165554,-0.0597291814556178,0.029038736978791287,-0.057035929657392084,0.06868365861488734,0.08620722351109028,0.08919386418009224,-0.07236144639150302,-0.03225613202760125,-0.0335158506298493,0.09607939206256935,-0.0372186933763192,0.07010298970753705,0.029864239004011042,-0.01487554679801037,0.014498960428586859,-0.011883771973474275,-0.056254548163554255,-0.010237759366930943,0.07310064530182148,-0.036947606143363024,-0.11417393942007413,-0.07932755764397469,0.0029087452510686007,0.010639501491241904,0.05432639839040216,-0.11588101563154243,-0.0023781096619373554,0.006558670632806494,-0.04881839494172858,0.04736144271866916,-0.0016362448612616404,0.00633583848526823,-0.04798732612861528,0.019650812062829655,0.04831914242205272,-0.06980545645276867,-0.023349575187100347,-0.008590269005806478,0.017184021668142035,-0.08152383666924137,0.029834515510464857,-0.03284004582288529,-0.02531183267175438,-0.0774661250719353,-0.010348267722084343,-0.03718263942814652,0.0031538996662348606,-0.042801233212189614,0.010084834625903642,0.02383022106662703,-0.10341690208050956,-0.004704439566190405,6.044917478484416E-4,-0.041175498368108174,-0.002876952914731827,-0.04853578770050835,0.09218023766979039,0.05631221176210538,-0.03365354282589819,0.0034070958068498913,-0.025207321767400648,0.059416907949029776,0.06545592158311989,-0.04417790616791093,0.020175612003163812,-0.112940673445479,0.006527166373131856,0.013433978787920409,-0.10001454090402062,-0.04228467519788602,0.031485614670784895,-0.03534697060978802,-0.037433783675179855,-0.030670345893511836,0.038794502819553045,0.0018044025078005413,-0.03010257982120064,0.006520822989110775,-0.04738648207213085,-9.921528145393071E-4,-0.0010230790992608596,-0.021323143014120013,0.11012010245157455,0.014557047657338992,0.05641365518213769,-0.032149862391906495,0.02971625037059929,-0.022346669955979684]   |\n",
      "|[-0.08305370908634115,-0.6538830986056854,-3.977397650707974,-2.14665484282889,-0.9474937415090392,0.24446024351531298,0.1317114043047934,-1.5706317611694982,0.1483601080214569,0.08758814404849857,-0.47738757521212466,-0.17794528444242966,-0.7596356542797917,-0.2236964142831604,-0.4862885177179499,-0.8436489887377145,-0.25758296269557446,0.5758874466313485,0.7699248751290723,0.20187028381316094,0.6314024058053362,-0.6152947330632272,-0.47495622009441874,0.2687159173079639,-0.5296664147169151,0.6767417832528657,-0.5061373839609524,0.1577338489877962,0.1927746977369289,-0.03381076527519679,-0.21407495402439639,0.06506365177244709,0.4891253337246098,-0.33788492093698547,-0.3867707539806099,-0.01322414436681725,-0.8293741350017012,-0.5108900115063547,-0.7672221921835016,0.4086814541777558,0.17571460070928513,-0.2438023611333655,0.46956128091307514,0.2502099510100938,0.23457657004884164,0.10732811745878013,0.06982397545009776,-0.876352528788196,0.5363326617187899,-0.5575356096368643,0.17184050968933806,0.15326273998152432,-0.7568972549085261,-0.0013586229161955954,1.2618110145765888,0.03290068972018517,-1.7087379076462077,-0.5929296405965034,-0.9326275747374516,0.05017326432288719,0.0839209523697226,-0.2129859267728073,0.39757259019341296,0.7487229582094784,-0.01651963529679215,0.44941415882787256,0.7315998043314046,0.8897779440333521,-0.037547568063449735,-0.5745076285142062,-0.016902755071212236,-1.1357653886801296,0.07075333858178853,-1.6846698303370793,0.7976128468545702,0.714879702593147,0.320252300655196,1.094454532041522,-0.7673354146723407,0.5548372378257176,-1.2470920553420304,0.35429334351381,0.8186999174615878,0.0768054006459752,0.31454378398496624,0.8350156883651461,0.17051105395257354,0.7955811353098693,-0.1165160567491634,1.0265436456369548,1.2146824498953006,0.4870701905027584,0.3134555870768696,0.20565439249867606,0.4267970760529555,-0.37438618533445733,-0.8306906004214681,-0.19431603117836363,0.0959994333151985,-0.27838826379004344,0.7449452487698791,-0.5491530167683714,0.8608208514144821,0.8445942270655784,-0.17640599440509924,0.6995033516831386,0.27605328132940965,-0.34447093197520917,-0.6561796024617134,0.5808061359347524,0.41322334419883117,1.373559378615027,0.6885082571137914,-0.6508868655685238,-0.13866785871703746,-0.40889036884980623,0.16916780921805694,0.4318875517476478,-0.12235930869592233,0.4650804900200586,0.012702692954340032,0.0807889628321789,-0.28963801487095464,0.4093583838643206,0.5321294928058526,-0.07416696451106987,0.21617019982365882,0.49139512713436523,0.666459783199161,-0.2101194160469151,-0.2530368412626873,0.4322361008303796,-0.3189475171460451,-0.6324436717243366,0.09542252473218041,0.6065942290032639,-0.07150010927075758,0.1414826506613655,-0.6713729154446647,-0.4509182837823201,0.3809144395017198,-0.309543087246276,0.5746703066339683,0.14838306031092832,-0.47097805892347433,-0.5442755302668254,0.0802566534569136,0.10150414626373025,-0.10019222858030667,0.06754038753971861,-0.5326471931654188,-0.3587344893994334,-0.15019002108123797,0.15989472711647812,0.7201352316994797,0.7848764482410753,-0.008592709427954343,-0.05894958237281774,0.041583579505042406,-0.01693899093675716,-0.22755247715575327,-0.48209489956711554,-0.0626256388781421,0.14064886828370896,-0.18403127252467694,-0.5866005907871591,0.13799143773832911,-0.4270384082965498,0.42762891260969604,0.461154364701213,0.45158910632625177,0.3192365803238426,-0.10366498700509091,0.533446755580854,-0.022728079561421338,0.0030827995893202495,-0.22434726768069554,-0.4937350620398903,0.01579711770428699,0.3336308999609828,0.29845990016735846,0.10685521065888673,0.13763292742039704,0.03417031784365297,-0.08650372146021071,-0.15762312365742248,0.23375217154646433,-0.3892478944998424,0.17274268014152677,0.32306629068088355,0.2143203104114918,-0.4942625747917258,-0.15945581056221264,0.02109891670749378,-0.2891307328620727,-0.06074926964375708,0.18739431007728624,0.09240944443203114,0.3382385461080153,-0.18411297138910002,-0.01457573896639652,0.13389818144157517,0.07544957139596037,0.14855372536304373,0.05344713367578029,-0.00416605545809327,-0.032020025666954804,-0.2133181279249135,-0.12284010187411618,-0.042363995667328,0.07138367080525657,-0.14265324344249497,-0.04040739208935916,0.1715676152037641,0.05924074003802595,0.07557808077069496,-0.03497447831681996,-0.13885669676974657,-0.06277569957721955,0.010005086625006331,-0.11248938984422086,-0.052848147698209516,0.09280640853232183,-9.355732325406693E-4,0.12608302816213435,0.03329894140447735,0.03695444729853263,-0.06362966334024314,0.219007040634626,0.005305812174899852,0.14788913189368158,0.2960924723576172,0.026444353752803552,0.05892486117185091,0.03916596621033867,-0.16667305727888237,0.03671760115573994,0.032265979790706445,-0.17016268950267033,0.3596149236502024,-0.0102598695138309,0.07869466642165251,0.05355267446140537,-0.11752403710788957,-0.08106297095221895,-0.045849256927114626,-0.05153137313161893,-0.04026987715770289,0.08416991477776495,0.07021295578691074,0.09382180243678044,0.09689640140865227,-0.15463090300725485,0.030674901226869333,0.2787828191907664,0.05786037350300481,-0.0254184444764355,-0.05970254694569618,0.040249355829042224,0.12593637208614078,0.10691451042346899,-0.02609634673297949,0.007079093327992417,0.16405117114345033,-0.03878727737668042,0.17754976044395465,0.12810049421797487,0.0870567463233791,0.22164635661528237,-0.07794250268283404,0.20232451272576685,-0.13987050779190421,0.0024439401894563294,-0.14447702795628992,0.08333918819083072,-0.12017334185646292,0.047966915609402014,-0.028292432218881385,-0.0010498020651680193,-0.0033285613107864286,0.11187667164620035,-0.09384509661296113,-0.05600184585259124,-0.08090758420387872,-0.034833808247315926,0.07319620963580997,0.11621335815065822,-0.029194314734752563,-0.19538838431106645,-0.10251999703010764,-0.13102515457201724,0.038294384892673276,0.12477611188291723,-0.15109704102690386,-0.028661161401215083,-0.07567235157930856,0.04488021792083563,-0.12697431847773283,0.016035540358827816,-0.34439956756556445,-0.3383597883711194,-0.16958237781948268,0.20100874352991965,-0.02742286806396632,-0.27591403270655307,-0.27356638336767203,-0.029944959046615725,0.22764686149371866,-0.14114481899015366,-0.04079491408194112,-0.01505606049126429,-0.06554321344538055,9.109666129022975E-5,-0.011078490249444628,0.0031018436575620655,0.20241362670568216,0.240203798277082,-0.0779660662457083,0.30808697434374993,-0.10043891706691999,-0.23384277267255588,0.03639759697884856,0.003275166514110337,0.04911543455041842,-0.07294680156555391,0.21940080089756875,0.1782816554712505,-0.1180726295505175,-0.12453722124089331,-0.06663357187939842,0.03389452711486059,-0.019518282359264498,0.22823878796351327,0.050964404563969105,-0.1584973688715483,-0.15460685914831507,0.011507224460273871,-0.0623835098496675,-0.13501751818706326,-0.13309581803125992,0.06317189255140425,0.06647972658533144,-0.08365434403954695,-0.14251700592083844,0.008964343307741512,-0.03368964412015344,0.013716556852376521,0.07151931285378436,0.032089874839882244,-0.05664169206841784,0.004365588255473896,0.02805895887418318,-0.0027056050139733917,0.019096059880248914,-0.23416919044462534,-0.009448345056888626,0.0020261477519757376,0.20699706108536284,0.012835346859038643,-0.1487564410006526,-0.10187259030372514,0.084142248434276,0.03603922202760659,-0.035045584189711286,-0.18579121482918134,0.03065051897069586,0.24278005740045142,0.021358182544007585,0.022860864181367818,-0.07932405559952244,-0.19847942965793375,-0.021288389897276806,-0.252650417746595,0.006087906128189513,-0.053127301783171536,-0.046143711256227994,-0.06214041613389026,0.09708386735083674,0.04209640840086164,0.034633905545597095,0.029593407845357085,0.07578478635984376,-0.07439308761298419,-0.02226237196247348,-0.027146114544156684,-0.06371611837943553,0.07815900122084718,0.11187454136510071,0.04734969447955773,0.05736166933452518,0.08052968582242176,-0.025430262645090827,0.054623689369647746,-0.10329692648107484,-0.13448272743707976,0.02491470663370721,0.07629097268727125,0.13947240768111885,0.037113848996709796,-0.08255433349189308,-0.0908744338457312,0.05832369737831174,0.11851063526879807,0.14670159343738604,-0.030585173098657804,-0.06631701424055478,-0.11726398312038552,-0.0678879745736152,-0.038521244016259934,0.04172130969495774,0.07121902913902377,0.01258076736985051,-0.05584385272384086,-0.0013693094914802861,0.054758696771404505,0.017695526501047575,0.009104205968842163,-0.051349910000363576,-0.037301442526324655,-0.01458949669358044,-0.05062311884274358,-0.07739981631320905,-0.06641231723956556,0.012124602205677317,0.019400374327813677,-0.10073840382281857,-0.01925174391986445,-0.09443259404987416,0.09136053807092673,-0.07073897254374864,0.029557476325340414,-0.07185477276738451,0.002603755684476572,-0.032287575937271835,0.08302944094146711,-0.059192355611250205,-0.024950655698982725,-0.014049835964559679,-0.03726032686182596,0.14255175377965854,0.09806308590414678,0.08195731041068416,0.07131778973752989,0.07315607062217422,0.03717915001160723,0.11961523548466392,-0.03348649546079191,0.015819889606538268,-0.0012556403235939317,0.03719009759567177,-0.16268335899273445,-0.17042303131401837,-0.07840140082505509,-0.05861348312003527,0.0901474042174176,-0.22160051510793605,0.025935324054579184,-0.03516178684086721,0.043385086420429674,-0.13566721574180962,-0.01226027132292163,0.009050702090271843,0.07566565804863926,0.046693960012463495,-0.0030416136802767293,-0.10389986325793159,-0.12398021531364012,-0.18736794695531922,-0.08547334671545387,-0.16696245542955032,-0.12626505936052723,-0.1334621014301,0.14943585937320863,-0.08438245154717817,-0.025545077714950723,-0.10156167321348263,-0.043173673574715396,-0.1682445455256499,-0.11710596732754229,-0.01984182858404457,0.12786021605215897,-0.1239089878985593,0.02288637833446771,0.06531900739288864,0.00919933392478605,-0.06796396288874584,-0.07514109997882762,-0.04557805107020328,-0.0941719663469165,-0.059344471553307826,0.06287331290256343,0.0747373251050628,0.053185748795516435,-0.06790127349466556,0.15730228398777413,0.04299909505010564,-0.03261017678798485,0.03680627916069511,0.0912004635262107,0.13659791262353]                                                                                                                       |\n",
      "|[0.1535030250689443,-0.23714808106013005,-0.14941406229705492,-0.6663761538743717,0.07897047572210612,0.10485001009811096,-0.506634208126308,0.9344388478515508,0.7734057381792528,1.053753676119289,-0.06204650698543815,0.3141681197567755,0.7324393092209615,-1.353407638365918,-1.1512906612448741,0.9494070285662688,0.002860690862342974,0.420000326271032,-2.6328014773704287,-0.7318573645979447,1.136866681661699,1.9103656288845619,-0.3081547778402294,0.4890042799398534,-1.9329473491674698,2.5665184918775643,1.760116827813797,0.8249046160616872,0.6100178399950344,-0.2864011592299293,-0.5845283067770564,0.44343421913508557,0.8375374253984775,0.7070308854119313,-0.0297242656678295,-0.0959374920087531,0.28628577722144344,-1.4282398885106504,0.30822405734400066,0.6601628982227463,0.10186104116427915,-0.2244092253977666,-0.31949757515217514,1.1162991168006233,-0.06296319506010939,0.4281473603666889,0.36437172680145363,-1.6111855821863754,-0.15568144087933447,0.13667985557764595,0.3210378761646829,0.2402621888418745,-0.7884122986555678,-0.8594819411151767,0.28157687625797906,0.16809888551265875,0.909673393659966,0.10522717091122002,-0.6632085476574476,-1.0878656121772303,-0.1324282202563625,-0.837214234939375,0.08718878368016493,0.3304460687813191,-0.3336923754978592,-0.1292758312756046,-1.256998098724758,-0.47357516240631475,-0.37831664941030363,0.7944615271078889,-0.019893151040363294,0.19172925632792814,0.3497213052406098,0.5811032327907757,-0.0756215830262198,-0.2179541905895843,0.04257576806138928,-0.1658944105037748,0.35261386658420363,0.09956500889387113,-0.32842603106164825,-0.503701630737102,-0.5347528250105849,0.3026511127117023,-0.31705501049721707,-0.2772337617787849,-0.5598870216159118,0.06829485689029442,0.5259484393373737,0.1400142092700937,-0.30353234608065227,-0.5180723817120826,-0.028145509165269672,-0.10149719657135749,0.16928132030606857,0.041964409670730674,0.2615995794788545,0.38156512665166037,0.2608160786658048,0.16816095476342288,0.48178772126078145,0.11570486537087929,-0.18360136823114626,0.2911601053229376,-0.25329862351347776,0.22763120087638888,0.12511718650050202,0.23432591357748755,-0.42425323688155636,-0.06588353524709284,-0.2159811180384282,-0.2173036259387664,-0.7686833447446058,0.19161660043107054,0.6940207642177945,0.026242411975042818,0.03134612455072647,0.46154927836933884,0.11751124107025124,-0.1484432943047299,0.6054494817908495,-0.27148067416097765,0.4521630400308447,-0.27509125833927806,0.19850399744461528,-0.19486502798139294,0.13357772237143256,0.2415072640242365,0.27398979533442075,-5.449123525867738E-4,0.0912508055924275,-0.5979630864551633,-0.09095867746197679,-0.39004476805456756,0.19968678278507968,0.13678804657762939,-0.030865620756889395,0.23914396875834532,0.12137651772530837,-0.23460337709373918,0.14558285058102158,-0.33869869324640095,-0.4094030098319133,-0.0575340134872714,-0.029246709279730665,0.1421377929057788,-0.5604194250230093,-0.016159683415286237,-0.5484776997724793,-0.18100127517244313,0.2877269657733188,-0.7859644846148228,-0.028615482606975273,-0.14709350326174456,0.33860335648540685,-0.6124014848526445,0.010830662061042093,0.33490542643200033,-0.010918736048844593,-0.05518577831629297,0.25205718890416995,-0.1883836815922771,-0.08293254672429055,0.19203319558482645,0.028326184468922905,-0.5794183815544746,-0.03663292401877813,-0.2921421294134914,0.024815043341479548,0.07540057451454078,-0.148515375417356,0.2926316872043412,5.863525518796653E-4,0.07152294270076155,0.20535248951381618,-0.5670765960784854,-0.23487271236835328,-0.1480831041860818,-0.4318000196985605,-0.03412293698012502,0.0034142779372857146,-0.04253966617598553,0.20316341124424392,0.021884298105352612,-0.04283802363779278,-0.6470909857593914,0.16066473810618292,-0.7769283035566763,-0.2710239307546902,0.17241927872550677,0.25926793734188675,0.025135881459966418,-0.17053926650083753,-0.19486052730620732,0.01641785745192503,-0.4278254485976594,0.20367439009219376,0.1602918848163484,-0.026599416658280084,-0.025009698105677,0.040652113682770996,0.03987462301807228,-0.004711062857622704,0.10768125154879568,-0.16935524240208666,-0.05969307421297607,0.017097534873084255,0.17658031652047193,-0.31830444266443086,0.3500663018429917,-0.0488375217455254,-0.2529968065823367,-0.07055463021121255,0.11250182396307595,0.6116911169682748,-0.12697869976878073,0.027104567264050666,0.08216093237731528,0.1640480020831134,-0.1725788355257315,0.13381914800961042,0.1171373797969878,0.29635888412837286,0.055836766197625426,-0.12250668139778928,-0.0316675336796518,-0.509277386447037,0.04181045865255464,0.05631141782771264,-0.041574865812673584,-0.268969131233873,0.15571647350132506,0.28746666869549,0.009849657001491279,-0.3220526808230465,0.06322839104949318,0.3522822470456948,0.30702190020870834,-0.05355870013990624,-0.1274822121290814,0.27375214114489327,-0.1726451927965439,-0.17968763655163938,-0.08473575433636071,0.5673207368880484,0.3403908190763239,0.2392888331820264,-0.26185352345612645,0.02708032562029978,-0.13714277112830425,-0.08786066000499396,0.27001403843388216,-0.2904369679618959,-0.10514084816595605,-0.010987554775510028,0.03602270233673578,-0.03973063588290465,0.2443496432739108,-0.23730046877886152,0.2473231325798386,-0.34840212129213954,-0.27307813121288166,-0.2987074470019278,0.0825117055868817,-0.018466779436009537,-0.4530678590046876,-0.028617608963255086,-0.15627743724587984,0.1701496619245239,0.10801966042350919,-0.05521755295277307,-0.3945791272792832,0.04966673116116889,-0.07910587558650828,-0.07899210470287243,-0.31074797951055966,-0.14334969647380463,-0.00350670996628627,-0.4477628887901162,-0.28670432163678616,0.22897141440337337,-0.07278437651111372,0.33611109129139316,0.1858298177649118,0.1019576656757121,-0.13753657361935673,0.1320702569788449,-0.2908495187981166,0.20158006933587533,-0.12023313156999114,0.32235299679825646,-0.24077542484015485,0.15623723223925645,0.08481220267068218,-0.014541449596907813,-0.10004937359488994,-0.18928075172661518,0.1939712223933436,0.03187595830472442,0.2182303053200518,0.09576593168673704,-0.10876597512230013,-0.17402774512382768,0.09899638747015098,-0.057443590050237046,-0.2917975391989145,-0.10852605975236562,0.3138413987593827,-0.04722608698343527,0.16949873405730295,0.14495076225530465,-0.08256643099769115,0.20284622458292517,0.2506527107973827,0.1272596791574466,0.0387302714274753,0.09208697085586075,0.2447165769798438,0.07261344306619211,-0.01267463400474858,-0.11437890930161654,-0.05212860371354944,-0.23212829790921902,-0.12871543325063753,-0.10994248945795161,0.210548022728473,-0.019664797011392746,-0.15831694838761862,-0.07551242657886412,0.1407775337905419,-0.15557258297523055,0.03411684080592059,0.15944886985689222,-0.01898059653813647,-0.037539973584383046,-0.20741326409532476,-0.17422275702910667,-0.15308260827826375,-0.050493405842517755,0.060022351053033926,-0.05118157388527037,0.009104588936748197,-0.06466628584434211,0.0910422987387468,0.0681287569568209,-0.10758602095684223,-0.1632870353475752,0.12747195158294572,0.1049950744261154,-0.025452925790979766,-0.07696925983537664,0.1138896273010484,-5.398272968230866E-4,0.12925824814092468,0.050496983515355906,0.015446476044127883,0.018253659897083413,-0.10337615710575815,0.11307732133802219,-0.043523108638035796,-0.014697507749192582,-0.09860587947136519,0.1266652570959858,-0.08346830885353901,-0.05240170411071579,0.019689507735044173,0.007760615197993856,0.09665718286400457,0.015479511977571817,0.0813970239624817,-0.16222694032341647,-0.11661968439833527,-0.18430241941758232,0.06094219944219217,0.05654624048282838,0.0921496489383582,-0.04840830375827841,0.05826208802378799,0.005199540864338964,-0.17425429051013336,0.174347559427255,-0.06665122446709451,0.026907097341364067,-0.05556826753678335,-0.1776336978807117,0.06710877169968997,-0.08083879210174835,0.228533112421001,0.018255911619681583,-0.004067367079571809,-0.06502032809502542,0.04266239806706197,-0.017743269203587334,0.0640364940097091,0.05661058539873073,-0.09016073246911674,0.04538161342045004,0.08608820606023018,0.12303055420128378,-0.11960600706798286,-0.14554383677358437,0.06230554707888272,-0.10777395114280455,-0.008673318110400424,0.07406548794200131,0.09413175303479901,-0.004297080764377124,0.06902960612588227,-0.030887813562158778,-0.019425086028944535,4.914845151035713E-4,-0.1324028967053436,-0.013362411042340287,0.1556930359870407,-0.1643535090803665,-0.09405554051837876,0.048820901865211624,-0.05956397345538262,0.07575165286240754,-0.1252403670364663,0.03213536962648908,0.01564675094073676,0.012832526836575335,0.14224240526051335,0.025182625572260562,0.05331063622027928,0.03492838795601448,-0.054434108011264026,-0.11918382576631553,-0.08387617943256236,0.0017155620796604834,0.0073185941795204795,0.011884540922137601,-0.08288406044713467,-0.09351399205914365,0.022514086305002304,0.13249311158686702,-0.023096133800674774,-0.05634412595109055,0.03368632493334722,-0.028738924566327123,0.05132681485296818,-0.15228718315088358,0.06734938087078238,0.03359316154986121,0.16408121083219354,-0.048273086033520374,-0.07718879667281102,0.07734783868437747,0.16414031424495779,0.05288224561283461,-0.05124570917110833,-0.12343549249266321,0.04353658229250102,0.12689764091831537,0.06522990075240095,0.08132727236396128,0.07453593731532317,0.0525826592886848,8.32293610476556E-4,0.09463848498468785,-0.09018701351269064,0.11070925882009683,-0.051297202081236594,0.0013402051770336487,-0.07753186375243692,0.15971228650422492,-0.04746274188604965,0.12671285691863082,-0.04760395798376923,-0.022070112771125507,-0.16392724570782835,-0.12371309069041031,-0.009962207552773557,0.1266942174653255,0.03266348857369275,-0.05302798174054396,-0.24534129456373427,-0.06469815164715424,-0.0745659535213571,-0.13428705488833242,-0.09740828392399205,-0.01719942640219014,0.014442299288520893,0.0014471562543124858,0.19116880673573616,0.05974894190204445,0.0032909033961531498,-0.10889096075491674,0.0598955440085879,-0.08848638188699706,-0.04580763122304668,-0.013254201853047326,-0.059758586539404975,0.09342273817883304,-0.025909617609112562,0.08902447286282716,-0.14975417605531163,-0.0058785422997999215,-0.0036157277053321807]                                                                                                                                        |\n",
      "|[0.03171267489622476,-0.11335591018955468,4.1446894083485303E-4,0.10505087759317588,0.13830384014642327,-0.06686676885951498,-0.17211195075592534,0.06367560802304607,0.13552953027992864,0.11633389424611595,-0.12374602956939051,0.11585429800042518,0.02415529932630416,0.11634077516776828,0.031421776184398585,0.2175603578197504,-0.04394806384476188,-0.046344011429595114,-0.03465697558063969,0.14880681391212364,-0.2282992190611396,0.5111033535594721,0.26518079460434746,-0.1881861657462457,0.20202517590902516,0.0039350945005983025,0.03959503384292158,0.42042786277270194,0.09367585689839716,-0.05596248608499512,0.04571598536858593,-0.2878443729593182,-1.641502691616495,0.28576243374498794,-0.8921448382911675,-0.7068299563318261,-1.1508953810567546,0.4014258454209879,-0.712812168250293,-1.4369844394004394,-1.1110198484253622,3.748679922739059,-0.46323252416294164,-0.04115996133341924,-0.4569692908071225,3.6853106096101964,-1.1550741781643805,-1.1582431944131386,1.9854447086971665,-0.6696320920804066,-1.828596989428398,-1.5652525087144356,0.23974115127186302,-0.5349799870315914,-0.19920450304832832,0.4917312805823473,0.2394205566775025,0.5736863547699813,-0.5474331770122806,0.6246630142363183,1.056331096265636,0.27004667409891836,-1.3680061559597507,0.39452589262356663,0.4561321716992447,-0.4770750144983026,0.15108691684072817,0.21710326837126656,-0.7054848766220607,0.46189281531160487,-0.9201262394361855,-0.04881568323565738,0.1764594580058278,-0.7839591744360205,0.4395127190069351,0.31920140770014876,-0.551815090506865,-0.1942274552128162,-0.40178418718376735,1.1965111699492472,0.5566259717507036,-0.6032617421512776,-0.5052450089989701,0.5991552559117141,0.47008986143981535,-0.5050961055517273,-0.24392154936189483,-0.3976489899951637,0.4155925003733927,-0.6765005618118062,-0.15393756642567202,-0.38259449446871285,1.0503296267812615E-5,0.6488905960042626,0.19415487963872158,0.23295714318823116,0.35303830610899833,0.29635430706277566,0.7487779659517505,-0.01194004114063483,-0.18653678754222836,-0.16327298377915592,0.47577761830662907,0.39211232809802515,-0.18696040469600755,-0.4340792498424997,-0.24761463550234553,-0.08226822568030878,-0.5502483487953328,0.16018746187214078,-0.14178345328269842,0.2560114110009544,-0.12053009141097173,-0.003337645840364646,-0.30533672753042446,0.15180107037622215,0.016687559184497255,-0.09760381194687712,0.039996640034458165,0.17112530898013278,-0.1657805794203839,-0.051994243326684085,-0.16426655452453065,-0.18720190284429766,-0.2111195055992306,0.05486655056869348,0.040845088743200864,0.10829885436086857,0.3991887591382112,0.3485174173487177,0.036769746890877454,-0.37555270671824426,-0.11672881626195614,0.01188243112770837,0.018385784009109146,-0.03964409608868941,0.12673397738479403,0.10017964300902486,0.002179920048302822,0.21724980612189598,-0.09209302966610367,-0.07897569617606541,0.047964051144483606,0.20626527203560424,-0.15618541976841038,0.07290556781179262,0.28149467423869284,-0.2528495762193996,0.3385591365858285,0.21570639853614348,0.299380005950105,0.1238001543214441,0.19015960347793712,-0.5740292087294664,0.027757106921255145,0.03639758430344413,-0.019466310376542048,-0.18879399357545043,0.13567533613446942,0.02505709449012839,-0.38874777946429034,-0.08018428941150568,-0.009296238114558562,0.12581429642920677,-0.18146408408828124,-0.26467841028886513,0.13438763166805248,-0.12306703518082927,-0.20312566416531141,-0.06713607865906564,-0.09316302531150361,-0.19365464165217133,-0.03665765695109238,0.01585869347442779,0.048390511382892534,0.2528097341351474,-0.0511430741008138,-0.17238624588963275,0.39795711463778805,-0.18188465944916066,0.3909154330731749,-0.2697058943558525,0.2079485694009337,0.09176803892460705,-0.03141745193681847,0.07038839040078365,0.35302212385691856,-0.013435663200897598,0.1834563765537977,0.47514339169961334,0.061462840171357704,0.05240428735099128,0.07629027155677132,-0.11096090959285163,-0.05628686561684351,0.16565292545539034,0.051229056702559166,-0.09485976985628039,0.21781386298499888,-0.3192068426216385,-0.024056937939690867,-0.07578343202687216,-0.0628683141716551,0.007562521591864806,0.07945828599189467,-0.045096622639613684,0.12995155660163366,0.09619292615276767,-0.12719498013633826,0.13574995114962185,-0.35421817822806095,-0.25526743880262737,-0.24781559785690788,-0.3561711660738549,0.09112028503777059,-0.09686426721520869,0.08583677098896964,-0.11913127930686354,-0.11824609329750077,-0.10565047305315133,-0.5132028640089782,0.2980414210122443,-0.08822755385062957,0.2615150477242659,0.32119228151227436,-0.20266598323794066,0.4826590317226773,-0.022603668068943254,0.11499303956260233,-0.2024483587801377,-0.3740772546640142,-0.009583120729956873,-0.2124093246932347,0.056459674513066396,0.21375362142742838,0.20423887274782732,-0.1536397218330469,-0.06376224858528265,0.028713997887510917,-0.09974012548613208,-0.048615557983591934,0.26897942813123166,0.04061817322742903,-0.26967175042518293,0.08824333907165952,-0.5260513263157786,0.34852403662119097,-0.05159506838311672,-0.523183063377112,-0.03541986153198489,0.021812170775843957,0.11430053979977244,0.053172985365939285,0.4051673382988661,0.2420967137549443,-0.36674710441385916,-0.3240733281435777,-0.2299887987400067,-0.04225325650374999,-0.1229276862826517,0.2218904084464915,0.08738370819360144,0.06491312536352842,-0.29852048338334025,-0.0773282210970275,-0.417542073515905,-0.26056371825606534,-0.15645402027829278,-0.2620848359905599,0.29501309306578277,-0.17106771612576055,-0.6978013513079165,-0.1221466058960859,-0.41410846080853364,-0.372065269036999,-0.25565355098991455,-0.062233102559410766,-0.15376109777043895,-0.22952606328764696,0.11822725142717064,-0.10504033058896156,-0.06449632731748615,-0.0963575722389135,-0.312506834214652,0.14535402044105933,-0.04362897421885431,-0.5792653697824918,0.36962480420049526,-0.11392810775281273,-0.41120929038166343,-0.24055716365241533,0.571240380452468,0.5737846260414358,0.024810880277191368,-0.2723479803895007,-0.25012277746375167,-0.13944850369740247,0.45218166821594374,0.11292996008746184,0.38667411747589625,0.21038991831342643,-0.4907780040297879,-0.09549299260271343,0.09971637429288498,0.483400862066631,-0.5887672614033388,0.17047181932809177,-0.25585106594719925,-0.26907157142401833,-0.09549718653918407,0.06180308561834429,-0.002965751624802608,-0.334660268481539,0.40373389536081283,0.3051440893078779,-0.06172238058167759,0.09218972836149991,-0.22323589759804546,-0.2516392251471867,-0.09331078483283996,-0.2649804935166111,-0.20104105970520375,-0.1653391727541156,0.1471827734021106,0.21866462318759974,-0.30915103530352145,0.18993065902167114,-0.04984246224112955,-0.12728529355979157,0.0944026182734556,-0.028888455140437933,-0.38277879791684566,0.025858421490538363,-0.2063689299108719,0.23011438360353242,-0.21679032396135195,-0.011096452863570395,0.10871836982287954,8.13005805240144E-4,-0.11255025167792332,-0.38786169737725124,-0.24869532557667412,-0.3896851042822944,-0.07583312495693334,-0.06946848046819791,0.13215739128454243,-0.11820067795245653,0.08755353242800906,-0.1456065599731045,-0.05973050538019031,-0.13585753767719455,0.277410101978798,-0.010317248870361851,0.04820225328868784,-0.1725137779356573,-0.0031033485948051276,-0.06236070912007924,0.00470521871897428,-0.04523096577981797,-0.3092151374931643,-0.22563818298469707,-0.2008070958637992,0.14488224976263872,0.025223311790525768,0.02236406178737968,0.050873145595148855,-0.11287127841927735,0.01562752248824195,0.23383094232162238,-0.14359733124415544,0.1805363893906412,-0.0029085244447914563,0.009881385503971413,0.029896213964293636,-0.030504919270724698,-0.17774329316112777,-0.1341649529966991,-0.09169855689620336,-0.10353253251918805,-0.12758271666654522,0.03967170680741888,0.12397433594572385,0.07822690995152962,-0.03453548493856001,-0.055663639948865,0.05897498919870193,-0.050119916413504745,-0.025874361233498927,-0.007059914577674534,0.16614313307910147,-0.1507412696783521,0.06527620650616539,0.004177890939444706,0.06200517345965971,-0.16409845790139369,0.25176548330797754,0.059381397101685635,0.04585781889005264,0.017532585388092867,-0.26266114083235353,-0.055025629322862674,0.023040965467609614,0.04652468173974292,-0.03579385245466503,0.094254019631271,0.10163693928545753,-0.1614806482816666,-0.0372261961563784,-0.16178745043658493,0.013159051398553875,0.02941271166014467,-0.12426330998604784,0.017930621824535614,0.03130986865816604,0.07316703310934253,0.11187297891210479,0.010709862777873946,-0.0444014260243768,-0.19388733988208204,-0.11164522243711966,0.013842327018505504,-0.27124237224200665,-0.01324532774299006,0.10899647702372205,0.09212187252970677,-0.05041137436091257,-0.045192620398616226,0.03916596576227932,0.0518187775856168,-0.2703394894948667,-0.12260509735411558,-0.046248925447894815,0.2280057546585202,-0.011106757277217605,0.07390847376689347,0.04637906340972832,0.03455878759035874,-0.20740868139841312,0.11898754370842904,0.0818241437922268,0.12799059393574952,0.05061434413268332,0.1792307739343288,-0.10711233027895067,-0.007182175339502543,0.008500983262094725,-0.17374274204170453,-0.08374566834221611,0.03262560749472415,0.0034779812070120375,-0.14364827035426053,0.01882259255057976,0.007735261796888347,0.04133799025205962,-0.07335545052255402,-0.13424174069248027,-0.10927073764423606,0.14965881137186338,0.12159839631325617,-0.010459448972328811,0.03866688103706486,-0.03855521678586282,-0.1329000326325678,0.027297390500345072,0.1644143254094831,0.05064871759820461,0.26005179063513995,0.08497780639174118,-0.006522241574939414,-0.04430444246577643,0.04995658370551745,0.02684379720913664,0.10899386085533272,0.19516261926313885,-0.03425259246193124,-0.01853731572718143,-0.0024338739329165526,-0.10819360183136395,-0.06284695450816746,-0.01812348603600375,-0.035382562001448084,-0.06986829530242109,-0.04593146236641081,0.05521974204745761,-0.0829630878808472,-0.06612467030681621,0.06458893010152006,-0.010320110835811525,-0.06614121680583657,0.049028815565085315,-0.008199494237372151,-0.013519017531336053,-0.14384910783185328,0.015314714116305306,-0.008968300925277353,0.08224954248560677,-0.08080961755982849,-0.009952061482297908,-0.0391557787833532,-0.07978376127709222]                                                                                                 |\n",
      "|[0.03695156157641456,-0.144425264330205,-0.02011303242324548,0.16035926066614664,0.09365267776898709,-0.10817803607719409,-0.2310373227767069,0.03085732472575975,0.26511789778402783,0.1516415131390576,-0.09995657923267368,0.1670918791650627,-0.018811039412717497,0.1093532380610849,0.0058842704186003025,0.21998607395241473,-0.11650227174070982,0.03685158796947243,-0.01492577754664747,0.19821363877016332,-0.307702030461899,0.5274010140103292,0.28823640550127133,-0.2292146195249627,0.16480706633552222,-0.05431840163189501,-0.025041099511702185,0.46688926549796583,0.08249948724752956,-0.04176483468786212,0.029357457706357393,-0.15122058308931413,-1.7914467421772051,0.33254936145936953,-0.9146894659148608,-0.75159766371511,-1.2553563630043159,0.39314283528914284,-0.7544253681923951,-1.626558612964359,-1.2486220698045918,4.082071194851979,-0.49658319590908273,0.06033354852094263,-0.6392837449087588,3.5715685592581625,-1.1838532214326625,-1.1331718840302534,1.8448687214720572,-0.46908053730562455,-1.07405794563127,-1.123150620732991,0.17051149264423834,-0.0935384744847168,0.027120727216065635,0.10365900063128719,0.44911778586483797,0.03840521721894699,-0.42807366069942704,1.0102160272712863,0.4270328737990322,-0.37364328407959646,-0.7669189209638723,-0.05209935072166419,-0.17607482350789214,-0.36974784823496576,0.12240427309611208,0.5306870342923017,-0.5261447023608681,-0.01580956363305855,-0.5958969433080654,0.20247780990886868,0.2688763653370088,-0.265156904345054,-0.26889689043164394,-0.08595022658257483,0.007345701343332761,-0.21855425320362495,0.542923346176089,0.0038395541285341506,-0.21505829661383874,-0.5437031281259423,0.1663152893185564,0.06534489843593677,0.004480840629367044,-0.087632484489849,0.019798386097855947,-0.047092872797453264,0.22929997230788077,0.1168525982124057,0.14158887633281303,0.07129411954900786,0.0319608135653934,-0.09800968064586929,0.07981857959511798,0.24669988501331633,-0.07816676736576314,-0.3346161171767969,0.07423753874037142,0.015560500420564742,-0.17402829277986084,-0.011337985435174412,-0.3818101298902353,0.36729056685410305,0.2204576282019186,0.06936930686478932,0.09349420224117429,-0.13831698001940584,-0.0669823756963498,0.07081857142784466,-0.15777351258922284,-0.0911096325414115,-0.1082233853708862,-0.12835247428716007,-0.35112330992491375,-0.11088041883935543,0.06652049660707553,-0.015345778029871172,-0.11966054154541438,0.26232865899556096,-0.016238635845059392,-0.1251585469767814,-0.0469293135202591,-0.08606071761253453,0.03528586636752003,-0.09539704724213699,0.029662723297313436,0.011669149062367322,0.14399387700387548,-0.14711135006138373,-0.14027836505401783,-0.33631622087916846,0.03850246350308245,-0.00497680495926351,0.025738154994392783,0.1054986498899762,-0.10605285085274263,-0.15925050019356468,-0.0622478995142476,0.11784708113307706,-0.22456080069891304,0.10582537083813864,-0.07715456674004817,0.2606029457117671,-0.17337638269596034,0.08049807665933781,-0.004583466138631868,-0.020701134821357447,0.02660591059264711,-0.12448895729342319,0.2869021056477743,0.07147535959561455,-0.0698089473057608,-0.05036358542779305,-0.045048910367293624,0.026195322743852962,0.3084105082285581,-0.32848671265038504,-0.06628127809398424,-0.2311992082480848,0.45192512849020827,0.13736720087114374,0.03956295516367321,0.054456520743699444,0.16733444292519728,-0.10887474927942219,-0.32080053642876416,-0.10203967300903621,-0.273311312020891,-0.0899483893559774,0.1579330252294593,0.08748708897235191,0.14259613973414753,0.25604635365666517,0.03411356314384674,-0.13703900469882785,-0.18287248662094907,-0.23898128501925872,0.05221306552641704,-0.038374640722787054,-0.09175971209525335,0.10430728075897355,-0.035486080114527085,-0.09168217400737497,0.15457614734951108,0.31283235798561027,0.01015385850667954,-0.04407151177851331,-0.06260036164732038,-0.0011015265272759506,0.10807208904289486,0.21754881760826172,-0.07736353261283092,0.056881153718871084,-0.11728897960898828,-0.025991274925845277,0.15658730178662625,0.007265071558761235,0.12922137209670095,0.10778362026782273,0.1237583089946493,0.23718185183863724,0.13159424013330245,0.12656948035359256,-0.31518230682496895,-0.10327541383573939,0.010196095127888445,-0.21811898159387744,-0.02687055669530912,0.10933769356754419,-0.11976529423219386,-0.025201150394645953,0.006787413210288584,-0.07496720891771827,0.21217961133174557,-0.1601630285185484,0.08724879577721861,-0.07430296659336003,-0.02131387215102399,0.3967940296091462,-0.31456045204054894,-0.29087706858917955,0.33975831216849117,0.003733111719525048,-0.13366405431314815,0.06886742932031946,-0.44810352362249295,-0.15192431614405139,0.4094971523580211,-0.011201542550551932,0.2343209517470212,0.20065743224653798,-0.05036632422834522,0.3258355585457112,-0.10016466053996778,0.30984490722467944,0.44191452266494724,0.31638891417924475,-0.0511218885495897,0.0880520162524632,0.15232559928259137,0.05000389818080127,0.3147820917601004,0.20686154228018294,-0.11641282017909016,0.42806143650164574,-0.23344810569174312,-0.09927551445946482,0.2201681940046487,0.05080358562061483,-0.03226493907623148,0.1022197958428054,0.16938531168775176,-0.003956094019116188,0.015206877935900587,0.09931129182183634,0.27866448955233347,0.09658240375898158,-0.05795796765625136,-0.12058935092465677,-0.24440164525442695,-0.04442979705300984,-0.051777000396466016,0.052671328108878465,0.15477170816189875,0.19548175451190872,0.2907238194336965,0.35510751890925396,0.5553669927009897,-0.3922365338009776,-0.2717949588703608,0.5623007590945017,0.14110084621310484,0.5781510213621509,0.17233124847723258,0.24894236498380645,0.021409141938310904,0.15679750671577208,0.18468990529581353,0.05562510233029659,0.135810992889949,0.35603729097634723,0.04871581272998284,0.1621670991621501,0.26884800279406873,0.011823596160372485,0.5758917004074449,-0.26717978747256266,0.027098982247466374,0.44485785477049034,0.2659479203689442,-0.5054792457366671,-0.3682112377018549,0.25029438155069933,0.3472911789006062,0.18448600175231894,0.19220901099297183,-0.21573138146023865,-0.40685924293940356,-0.4706814537765887,-0.3811301021281991,0.43936572139883745,0.043328467378457566,-0.01653451155437219,-0.4427336341098447,0.45639334299628037,-0.17723438811025094,0.3421338273466989,0.19939310382935616,0.2506223066559815,-0.05997248361658254,-0.18248527693602531,0.19028735019228366,-0.20714802515663844,-0.06948183656645959,0.1534341661148411,-0.29953396533505616,0.3600283433867565,0.15884402019966148,0.0715851577705104,0.12352106893001333,0.268378544751878,0.268531401727845,-0.17136257866596744,-0.13596487746704253,0.46315618481709697,-0.06721278943483071,0.07833743830348584,0.22884879450260626,2.788778679658349E-4,0.06127461750507064,0.48031227415636724,-0.13143677759019828,0.13367114316651024,-0.044173155311697,-0.1033821756991208,0.02525342359408165,0.21073025689949773,-0.31413160572121124,0.22017944867721526,0.049158508207042095,-0.04898517721714624,0.4261487892449889,0.38008638124466787,-6.371308865704018E-4,-0.11274991386731434,0.016263538879841055,0.15048428772852837,-0.16784427641409266,0.18636448498339386,0.043195589559266945,-0.1854103277492556,0.17961827233494276,-0.18783269402777586,0.2176287859588473,-0.09023239182777709,-0.15649392595325978,-0.06895555052172078,0.08389419117559144,0.13284560132842188,-0.030676733751314328,-0.25042554041314263,-0.040022795362677784,0.10042716056707388,-0.13268698262229509,0.11848223928127241,0.1201759403368382,0.03690996042234179,0.017052410520308425,0.014263032868131215,-0.11127642384971793,0.021155865308044593,-0.10145207910486226,-0.011268432695200031,0.04698794792438034,0.16379696794762605,-0.19387748378048178,0.07905709352637444,-0.08077192258313688,0.09847158820407803,-0.12362598063541969,-0.018410618436651732,-0.08549426013542617,-0.1406832682416478,0.15967038261797192,-0.12781395051381375,-0.0746874612927893,0.12748279214446762,-0.10458853270861802,-0.22255420543903065,0.05470353566644224,-0.03556325765527608,0.058502737259803234,-0.07865565787808693,0.13786221091823025,-0.20247952471572409,0.037928680987577346,0.12044219426230682,-0.04332182370254706,0.020608720339144918,0.03884011058234185,0.058528092694231065,-0.004526936169626922,-0.09386207694083813,-0.15844751785419176,-0.12957696880134562,0.08083186242679635,-0.021341464416893385,0.02354608426020964,-0.1257850370197217,-0.13201810035338798,0.05531599959159722,-0.17132020251169933,-0.041693156470592935,-0.11408900885832168,-0.10939288687134863,0.07070070471566323,0.10017538241772964,0.03241782986524038,-0.10171372223135888,-0.01598599952785782,-0.09233260740422133,0.04029091708682955,-0.05858993629203264,0.09485931663579589,-0.06490503172059192,-0.0757448505179475,-0.10208041595210965,-0.01246547213171718,0.12366691056627985,0.0802857749598304,-0.052371080503799794,-0.19345183419796463,-0.006402588370566953,-0.18606839412681658,0.005126681723527621,0.11268196412336051,0.19167976170145362,-0.09858935694524748,0.04210394469781257,-0.11226478579377937,0.13484722693581863,0.04929198776587326,-0.05944513727502379,0.008494108784948315,0.04037662074271969,0.19531771020302,-0.09097902901356388,-0.10296384861214497,-0.03877872026108281,0.10466577013301545,-0.10881244401413352,-0.0072348169651335545,-0.05883624974939073,2.6053338669165815E-4,0.06639789634561422,0.09524859625122867,-0.11982222543686089,-0.08085959155932104,0.10096710687981691,0.11279124201359836,0.03251580494097406,0.10032502739685942,0.019479089625347685,-0.1611237573397728,-0.08481262351711427,-0.25218738888576864,-0.21015344106681833,-0.04305140689378684,0.05200628662426919,-0.1149281297233937,-0.03355977331375183,-0.012948418205659881,-0.11726902549341377,0.09872311122130967,-0.09751227912175674,-0.00938109539387999,-0.019380037665947227,0.014129684115629315,-0.05735280310165089,-0.08383303843431161,-0.021118332324397054,0.05967779989763543,-0.2649828754389618,0.041582048490014914,-0.08870953419473658,-0.12046390283058556,0.02480730065643799,0.03712937774327933,-0.09941819710084604,0.01525463109801617,0.005204628483591198,0.1848201460176418,-0.04673233322135788,0.12778959701489895,-0.028047112167164785,0.004988445980672496,0.026489622363652224,0.011210353041408293,0.03396223323672817]                                                                                                  |\n",
      "|[0.11914709150899186,-1.1576363486015797,0.7019906089182243,-0.560091489115473,-0.2636544259567849,0.08947143112795003,0.8812553832760642,0.628256530373751,-0.5911745340501374,-0.19601766123226363,0.39583114134090625,0.27876131788456004,0.053466145774351645,0.9773472748055086,-0.06106132879885272,0.15439791214467624,-0.49299281677706963,0.31601594506972824,-0.07364722793686188,-0.16699288058247722,1.0593479117706424,-0.2112078180943045,-0.17532848489678515,-0.7597648347802575,-1.2301439113488324,-0.8001254442988749,-0.9241119822774746,-1.8798198889946625,-0.5668107141282515,1.4147348914733806,1.2877797392175288,-0.23743182782243014,0.21328940101268998,0.5112296217890974,-1.897413740664231,0.13218918242936809,0.5661677447804807,-1.2424534160784866,0.18035332905438548,-0.4325955918823239,-0.6040575761737,-0.7781132603225722,-0.03159829182512949,1.0714612369555128,-0.37745517482404656,0.6868319188165553,-0.3912931642093659,0.8951198490120083,0.09540359374887014,-0.28091381755877554,-0.27903594653342545,0.29099455208439473,0.45543516850359406,0.06371746191532014,1.1566856103395808,-0.3803380928830989,1.2243788403146438,0.765344444973081,-0.6376464297238831,-0.5295602414233634,-0.7491414848626157,0.24278104782885943,-0.8263371115507055,0.05061252384761572,0.6146200710538005,-0.4513035499325163,-0.02349046802064078,-0.9875488040903789,0.18885237198950944,-2.5343775556121995E-4,0.5148373345011109,-1.0350240140079747,-0.5814337740214147,0.2974801308320361,-0.08375198961529418,0.06442277605673719,0.6983303554428572,-1.0804827861388415,-0.48762143158498067,0.35065849108740244,0.5101518016017385,0.28349389252820156,0.5524940520631283,0.09383847916384494,0.7555844501533828,0.3744898077812183,0.49839091734449315,2.2650538179988047,-0.247854885133505,0.9698265048812813,-0.4023417927698497,-1.1727556597393056,1.3995619413786096,-0.14435799218322956,0.23874897288579588,-0.8355003535504077,-0.8166549188616082,-0.31379704819935034,0.18707736629001293,0.40665730797399924,-0.5289213002917494,-0.3070988588839163,-0.6076442879137344,0.1423537234435162,0.6131104801884967,-0.39454943211364457,-1.2716020579640823,-0.18856432560829073,0.028143722218605893,0.3144871232593015,0.19509392662570887,-0.0829221312150327,0.05560942818576764,-0.0325367277952987,0.16420846157278998,-0.6449418677400188,0.3909070501188908,-0.7892000485078884,0.18909142419645325,0.09731917046121834,-0.257726962271636,0.7521339692099744,-0.09161480644807125,-0.11787940395050464,0.8075365879907528,-0.642935615474775,0.18703260466583208,0.3776680436014573,-0.32188522219193294,0.3937319917645308,0.07580326346837837,-0.5768761553833297,0.6782500759964418,0.4443904399861013,-0.602738541859166,-0.060211232723004396,0.6480957039749012,0.055466950036785624,0.19999209360464842,0.30356085353830586,-0.12457740169898418,-0.3516964490346465,0.046116909335881584,-0.05934194439747762,0.13367692355680172,0.07998623860126988,-0.40605914478880994,-0.05472412789968456,-0.7182377305209341,-0.2955014095089253,0.10868158976469434,0.12122920561747495,0.0515246018011766,0.1469851963054195,0.13236516945038546,0.26137367700229,0.28857824258478193,0.5876099466188495,-0.2975995380816238,-0.24351912880039528,-0.2880562136013748,0.43852833030277377,0.3546212788843602,0.24263959018489967,0.08911105287274851,-0.11332675378201479,-0.2767489067549903,-0.2787789933482422,0.04737882845092097,0.29143713827986034,-0.24476578434616564,-0.15396842560671356,0.1707377382200838,-0.02614792049493264,0.54802700961598,0.41293582109966975,-0.6741678940434681,0.11665623994455057,-0.2605339466173712,-0.017266693895476692,0.1975041800514427,0.09425771413260728,-0.0458065480978096,-0.11169703100296714,0.07792349433598661,-0.15451439544522907,-0.044854112499508825,-0.08345787165478635,0.06668760187427361,-0.18485287809948203,0.26787820442391247,0.061102197470210534,-0.13952091944531492,0.05550729347158878,0.483286776871521,-0.19803075004891738,-0.058439284599183905,0.6748046052141428,0.1957548167903251,0.015921567815235935,0.07686043768466794,-0.013364664304447521,-0.20364585382483666,0.06344922812767059,-0.2769398610672893,0.29331279707909086,-0.19988392100497068,-0.28804891298533714,-0.2234202823277166,0.47232372216564816,0.47995551611219445,-0.14408832870856064,-0.2395855129737539,-0.5284731629788334,-0.07865431354105006,-0.1939076851474842,-0.05692715999666999,-0.01065760226147161,0.22922792575995987,-0.11742419182445199,-0.6044882755280548,0.14246689219377642,0.3548846915515994,0.5594908309005429,0.0257336757535728,-0.011842838252459548,0.22673241910940206,-0.6924090982395686,-0.02128859105893567,0.057541851189778254,0.2679626656354324,0.43024263797192486,-0.2812884094666604,-0.13656697273857973,-0.5067402210561923,0.23511190455424233,0.0762758438156858,0.06596816780802496,0.04539442320767664,-0.07959975550698542,0.18161735978799187,-0.016636857992708504,-0.2938871923719555,-0.1112146052795868,-0.29829684162128667,-0.21184596973780973,-0.12167461806710896,0.054358072206892843,0.30737564617000457,-0.35339205624876235,0.10152924033667882,0.24491755116911557,-0.011400202298403855,0.28161936648303515,0.18278427984833118,-0.2587248086968528,-0.11233279017813752,0.25820169055716036,0.02956550981211975,-0.4342280559657053,0.20486165701750822,0.3508844504712965,0.19782891204344216,-0.13274669034321185,-0.17839969758731064,0.1814336349281393,0.3296403815084591,-0.22976974748354587,-0.22484330379673828,-0.1261074839675092,0.1382858221006604,0.07646607056879925,-0.5366246012312563,-0.447123251596365,0.06533125747084956,-0.19831624076739301,0.10323002309912899,-0.12507235045567314,0.22168245616929594,-0.08007014599172164,0.00928191539008987,-0.35600588540689326,0.19454118440478324,0.09436415859962595,0.13977172681171204,0.11435407294787236,-0.22714175560488337,0.006951488687280752,-0.15339469162002733,0.2432766087299933,-0.030189944988142405,-0.1839832041383919,0.21401585745520413,0.3828179197036118,0.19223005756816788,-0.22043155944004447,-0.7320574200303314,-0.016811820485071176,0.07333193930319909,-0.38211042348629276,-0.1486080919413748,0.29759437304222036,0.024959343217984653,0.5202965060076018,-0.15909081393404384,0.10138883912252061,0.11004826210126128,-0.2971133718418782,-0.22434180064337098,-0.08353041813370031,-0.25379767776574363,-0.41984966238767546,-0.354304749075763,0.2575049510969567,-0.03127573728995096,-0.7866577217953347,0.037141825915181025,0.002743559071154464,0.3936625691224237,0.24354405730238265,0.11691163536027885,0.1265332841518586,0.20531179132321054,-0.3425852922207617,-0.11774231496154697,0.42726333683349593,-0.04710224372254587,0.04914514027757794,0.009748468871516175,0.12220588227824822,-0.24882630082377175,0.10344507425044358,0.219581097477276,-0.1360380885307227,0.060989376232509385,0.10238236144999731,-0.02591068490528385,-0.07687372893681674,-0.039543655182030436,-0.05958263142998147,0.1561276939109388,0.31102657615405893,-0.023819571540633244,-0.0629831479167976,-0.058743854196890474,0.1292473722060717,-0.2227739149140026,0.028795922428426875,0.035102045641022095,0.24818712191885742,-0.21743672090523608,-0.030787106725749996,-0.043416705662035836,0.07790309949956621,0.10248686247538238,-0.11725181289369141,0.008506419138562982,0.08055911820985612,0.1614973434568921,-0.1891607651649445,-0.05965486246683818,-0.03400147480607689,-0.19114618680827994,0.13224424253946482,0.3603563570093299,0.04215803545223365,-0.12453941232927279,0.21490883043448475,0.05452713264150824,0.21212752795884118,0.07686424275724241,0.0238865962007694,-0.17283785423659115,0.06537253923268244,0.19252022323872517,-0.24847019861889488,-0.006892545464188313,-0.039301038131262275,-0.18987326443465308,-0.19424707624705934,-0.3369530325868059,0.04153622036610058,-0.16163623634315707,-0.1328323081597041,-0.15013724885946092,-0.004469289048485092,-0.108188339817845,0.15694697654246478,0.1758878610822227,0.1444358880373836,0.2916954632886229,-0.04594117020942137,0.08393779664989326,0.2539375282369136,0.08091403935762558,0.2055026910904149,0.04109137295175205,-0.025256964942964227,-0.017049420183708905,-0.03946381490359023,0.25376978125409566,0.025004198097092672,-0.05806376036436561,0.009312959353562245,-0.011546748883635771,0.10786004858449137,-0.045359446932274367,0.1887482946239418,-0.13578989080419038,-0.06439090508991821,-0.05411307796584009,0.06242244566275801,-0.1401333731015371,0.09770651957695806,-0.11175889260640359,0.12506541521829592,-0.02275263692048063,0.035959677607036666,-0.09359598867387674,-0.21266685223100185,-0.06325061559097031,-0.22667527535472304,0.017211660978339885,-0.023935974910588177,0.038024325482287624,-0.1216481670318697,0.11062387106662645,-0.07179004204360626,0.06418403175165052,0.018542491609595153,0.08059642870492587,-0.05719792699196785,-0.14123340345068436,-0.035843890159707,0.0590622137188771,0.0034770013306451575,0.06556848878741918,0.09058901944540416,0.06404572480937071,0.040284358116728786,0.08308653281109311,0.1597428533411726,0.14136280350915043,0.06781811031916703,-0.13905088671883156,-0.060166345550057294,-0.03847249791105775,-0.15639848785174335,0.04739168044246355,0.10960735812837283,-0.009448990362204687,-0.1545952996675348,-0.16615703225606268,0.06775348356337207,-0.1373865992079235,-0.09368616092307495,-0.04568665372900539,-0.12152528518134761,0.046568748788235276,-0.19054245342553616,-0.1920173826677295,0.1407068981624703,-0.09300583077854314,0.024336397855407428,0.09233483276625686,0.060409219806233164,-5.676182661843183E-4,-0.17263460185635332,0.10546035997390146,-0.04984777603734141,-0.02790375108657798,-0.04089076467003732,0.09706214227931245,0.06776288612539899,-0.04229370156459614,-0.06338619817817553,0.03968624990595332,-0.16017992356587885,-0.004702278393775478,-0.07991741011168726,-0.05926882429614207,-0.026440519538978108,0.04072292452521681,0.13961849978973148,-0.061567634527591765,-0.13105677796486298,0.04530438766562848,-0.00881026854538964,-0.04177891032083248,-0.19950438988030206,-0.08930523776449197,-0.1274073877821548,-0.14098726394622751,0.10969112042410824,-0.06151209885625327,0.018752409918754466,-0.044323007493397806,0.13066193621434988,-0.00368392162622491,0.16761964538810956]                                                                                                                                                                              |\n",
      "|[-0.6826618934311063,0.21037004822158956,-0.10405191132224645,0.1830929879448439,0.001608536688598115,0.13437521875025302,-0.23027775259844693,0.44105976341296094,0.4206514767797266,-0.2855147995740668,-0.6963576941633334,-0.6922998878215147,0.5117795934701945,-0.058749212322444455,0.10466464627432234,0.1594893513990079,0.45467751964684056,-0.20487692866507567,0.34305692937858595,0.47539824428519706,-0.5414330729395304,0.4314716047553768,0.03721877837935847,0.19320244934870112,-0.4164721144819989,-0.5722996191733454,-0.06112598433103371,0.24859084548396615,0.26137042738321853,0.1920234370777944,0.4601518546102095,-1.5156720725909474,-0.40379655716323243,-0.5519631774843451,1.3025040993879542,0.5304421928148655,0.49422374564453386,-0.9494447015071836,0.09573822780859165,-0.4839335027032883,-1.2537761422599192,0.2680954212282661,-0.4450511654348123,0.3059329158948856,-0.5510224909797365,-0.5551126613903704,-0.5864999723904294,0.059425367899775705,0.8836057857403261,1.8742729472283879,1.5731025517175103,0.729088082364692,-0.0643088820439563,0.32217487871229733,0.5552078920315693,0.3212549012177886,0.6114552978420112,0.23975867028540332,0.2764206843585145,0.20321954220693525,-0.26680065386849805,0.04372659576846283,0.08617047143726536,0.38917278291362656,-0.463335798319751,-0.2700497210569147,-0.20024819625747659,0.2928396673085032,-1.2484889721612509,0.16857862382804556,0.6966624738291898,-0.5191182051392409,-0.528199907253436,-0.35995793498923667,-0.6143803564498453,-1.6074436134822958,0.3467212262208738,0.0787793684691373,0.1675622557585018,0.8281333986977133,-0.25644650077862147,-0.1228586313922354,0.5346859963776935,-0.15559426497617695,-0.5678903074035666,0.3130050330364749,-0.1584041953489392,0.3861974736225533,-0.2505034589723733,-0.4628856184207416,0.2846378912893139,0.12343264736794982,-0.02599350746454107,0.3836853354745186,-0.09629096340023074,1.5931695813983355,-1.138489530385965,0.12770437097048284,0.12839325732251777,-0.02135428933950878,0.26141788152375567,0.35992028916806695,1.792659045607404,-0.7531742863919316,-1.2826901852227628,0.15310277388349325,-1.3760153308036402,-0.11451548287246094,-0.2757078650848787,0.4043508038726287,0.3987010727295577,0.5977693412646404,-0.5242068435107986,-0.7403919425181427,-0.514088688818654,-0.009675902796216607,-0.7663720914568749,0.7199426411038389,0.8043505226872094,-0.17576441754224786,-0.6039339504999818,0.13937589701524758,0.3949263319214831,-0.128592044624887,-1.0107982286946005,-0.3855084311242878,0.5221968456597612,0.28471760324407047,-0.0771920659105479,0.05068890213093563,0.05106821479661722,0.43376907841891993,-0.6114423195407634,-0.011283217804059137,-0.4755335678348167,0.03231770340006118,-0.1424226283153409,0.32145052299615984,1.0825829463376524,0.2264472437080563,0.17993656236222877,0.06182638440621924,-0.0519903014287534,0.19849754941095882,-0.30927226557674553,-0.27491900178990913,-0.21453821898840839,-0.98659226572206,0.2855821266258163,-0.31356621169525,-0.6922648472937591,-0.04927020163743767,0.7631427766851411,-0.47602692380141043,-0.24267001515095238,-0.220260226605365,-1.0712625246219385,-0.32178615246546743,0.36118878862269377,-0.018204170690634625,0.26687113194694473,-0.04077469735170269,-0.4403315801215286,0.09054442913065666,0.46003729882700883,0.3043708138606172,0.2315491953667625,-0.09386701846325166,-0.6540798497756497,0.8727036408872049,0.020836823038079516,0.1882916759942492,0.5491240050238456,-0.6377214778681971,-0.0435303841727297,0.27213993395706576,0.01068447957057922,-0.009090461433977681,0.12722689285149058,-0.14757544146543106,0.09903596658050262,-0.3106132709194187,-0.7058927412748304,-0.16780531800874204,0.4582937866905634,-0.08929898947112008,-0.5579163010897226,0.11538349663008995,0.3848609637196676,0.18947962253386674,0.568159194853431,-0.3065404421177069,8.374680328124412E-4,0.18577428225604511,-0.716559195918594,-0.23244929279541376,-0.1362672119673011,0.24989374440691303,0.674541571103056,-0.12319988783736785,0.36225971107200594,-0.20213809275186537,-0.08598269550008983,-0.4546886542563178,-0.31279127137381074,0.16836250058426822,-0.1395086366682095,0.21790444097990552,0.5663788107947678,0.17111256389689922,-0.047640303487881154,-0.1328098979378244,0.1856875965952191,0.05771067832526998,0.4977285348177348,0.2258223580909605,-0.44014830318131626,-0.24663740990704636,0.05859889564433547,-0.42452654391272054,-0.19360376874256982,-0.005487475946262282,0.5263853209924901,0.1934130791344879,0.49143194875221063,0.31749273533124206,0.296747983493483,-0.5135669495785161,-0.4190675697992306,0.4255497778377568,-0.19440276251107466,0.22609087388655846,-0.19790958394033675,0.019455015993015377,0.01683196780954719,-0.11067787451317906,0.21710030464373975,0.28272563585284133,0.22795637557726092,-0.2978447035569799,0.44177444716366443,-0.0529876984033363,-0.4618549341763776,-0.23783893119759544,-0.0545631044222096,-0.16607033521888045,0.09731476964599099,-0.4864736779258295,0.4321044156430086,-0.14448680301732658,0.699312643345265,0.4855684149401577,-0.36121554451829735,-0.03104257993537593,0.19830359838499678,-0.18437070530765742,-0.10683918161531833,-0.1779391190825711,0.5964308533219586,-0.13048706022342116,-0.15841474866542882,-0.2671226534552349,-0.048016883264177565,0.2320242454882356,-0.2427846518413655,0.4144279654226663,0.15004850658297564,0.21476944370363008,-0.6793779824522048,-0.37364085954323767,0.6152896242005784,0.280895722774057,-0.2902107951695789,-0.3630166832612598,0.07706190158019348,0.013641112836813948,-0.2129034562143391,-0.48330993936292344,0.44897752008566694,-0.3117893258943284,0.12864600782654756,0.44560695091480385,0.24037749486220356,0.42147507734879064,0.2177432002985183,0.49742428516144044,-0.05863001369415863,0.0037420146023257606,-0.1578933195457708,0.09127576749025573,0.045939006437249116,0.12758486673559696,-0.2492167685207304,-0.6561705333009352,0.2906260399413321,0.2116032559176289,0.3023583397667017,0.08385231358517505,0.4269280847198215,0.19494688468648316,0.2079374495529523,-0.39340830660971443,0.2020774728098249,-0.1973534507612014,0.32277490714470264,0.22499685911263245,-0.31159184506563326,0.14299310644709168,0.14421717974163623,0.16852301933154268,0.3784638099042041,-0.3362000900967823,0.18148489122938102,-0.2715710056522483,-0.07762065410340553,-0.005262203377163287,-0.49893414921384166,0.20793235858548664,-0.09872989805610237,-0.005682331696270332,0.23037423400746818,-0.15857466442198254,-0.39101317747442,-0.41505505254969655,-0.263435024178566,0.32013086937641255,-0.030786999027333603,-0.36070088255128235,0.43996650152258937,0.051770285489017326,-0.07946094240003548,0.1103499527090481,-0.6529599215370296,-0.04986171470249047,0.23119645725504345,0.2164813707162117,-0.01797810907546496,-0.46114219024986136,-0.11432076957803647,-0.1311091151404199,-0.023550561108488494,-0.4640765856849054,-0.0882839571525567,-8.93711710129046E-4,0.1719087937652271,0.34053540370770197,-0.061046662380028496,-0.16061477523676165,-0.20330694746267464,0.32907663392549114,-0.01536961791792274,0.37222116113539483,0.5350376825131734,0.016272729627849786,-0.4237568458178724,-0.3953696901953235,-0.2016950970653057,-0.5571729873496556,0.06186594477998343,-0.36486546547753107,-0.16072738766859815,0.23959389530669242,0.210568495739772,0.4056358671326499,-0.49118297864851895,-0.16186028585294523,0.04192050538605476,0.018010274694404443,0.4140076358434285,-0.05683024692620957,0.2946509897382634,0.010944742258101672,-0.31554407920843647,-0.1466676972276248,-0.25181712535248485,-0.4729371715214788,0.20083160545529546,-0.21677951629883346,-0.09480196005718544,-0.41220083670217605,0.0999522767346761,0.2207116237075038,-0.072891098996533,-0.5637796517586962,0.16627456302499993,-0.019880933788094954,-0.22610400702282782,-0.14295678671611806,-0.23626745814391076,-0.28647468403503845,-0.04531795296912554,0.10904284237678542,0.40161086326111506,0.12120220886542829,0.12599000596563462,-0.35108915440011346,0.035216369358885155,-0.2002378537712063,-0.46483854615428283,-0.7927403932247863,-0.22995606495556575,-0.13617261354152915,-0.05945015176753295,-0.2333523755885589,0.14701540238775263,-0.09746603587769559,0.007007210962246553,0.2984233440379924,0.34912172807600417,-0.010932777352732383,-0.043350583693506,0.18157710534225033,0.34595771241110584,0.48238651510187713,-0.5326520532117671,0.15704934777593021,0.24161707435924185,-0.2594721507446749,0.23224747805845727,-0.02086761025419609,0.27908462996916356,0.1716606871954905,-0.08815006386623794,0.37606412385158355,-0.08622767219266511,-0.034977102154327644,0.06179594654604037,-0.12313313973651821,0.02263532531232334,-0.048931288660851904,0.05456682212549306,-0.14804671018234478,-0.2968948449286918,0.28420487130692657,-0.1495182498946806,0.3855163880262391,-0.1526568399207961,-0.4276558939452861,0.2761701373495955,0.09019502242567201,-0.033843187265329935,-0.1158103780956004,0.2705745203580413,-0.053733884356277795,-0.13438940323022952,0.09679352147342868,-0.04728831739897327,0.18128545607574517,-0.12143022955772759,-0.06445991391855097,-0.06833945796891452,0.048255838237218004,0.3071472157778652,-0.18244059803226212,0.0733680729622268,0.08202270198726681,-0.15854706387974038,-0.014841497393244557,-0.11312338789937036,0.05348470916439853,0.3382338165246508,0.1439213804526206,-0.0033258767251731457,-0.052461156571023945,-0.261979945781264,-0.022033455550288288,-0.10315389440261752,-0.17963820626563232,0.17995351278285807,0.06065010331985089,0.06986351409967395,-0.23157222447568374,-0.0739829999945511,0.1018547291363725,-0.06704727941005939,-0.028688607045287626,0.12113665695680416,0.1035502699976136,-0.06419379695913728,0.03302151235373374,-0.07600605130347417,0.029958436566137572,-0.08096499400873397,0.060670789406781694,-0.1274023798394315,0.09152498045342884,0.14675193649918636,-0.13739514302919065,-0.05874185982054558,-0.05600832993898243,0.08803492745926722,-0.07606645114522134,-0.13564796128112264,-0.08504885406901663,0.013914873306276096,0.1491672170061402,-0.1008901804447323,-0.03124916951297358,0.039522507000149976,-0.11434622723878772]                                                                                                                                                                                                                                          |\n",
      "|[0.7838879798665586,1.5658678425560262,0.637363729403573,-0.7627772587965528,0.2000779836875847,-0.12791275290848975,0.28922769575968843,1.1050026738641148,-0.12173001146668391,1.7843347859280159,0.48755891616456026,-1.2233969425679032,0.24307696068542123,-0.7569359119448715,-0.4924007708761857,-0.3324380732167385,-1.7788329719836984,1.4036669210548016,-1.4991989204179534,-0.41812857878076803,1.0266279387523016,0.6800889281205018,0.9588274035263495,0.12486727852020879,-1.1905223848972262,2.352909474954534,1.733665935071295,0.6307908872346004,0.6090243412051846,0.7880906463193704,0.23509418653191239,-0.5501714182071114,0.7989359583499651,0.9390984603176356,1.1564404422988142,0.10717733118874387,-0.319236773852365,-0.7894817195529505,0.5815037234060603,0.656606117127095,0.742509410068495,-0.5033706018023973,-0.32653588686654655,0.2542371899427672,0.40150260671866145,0.9736894359308448,-0.3847387501138998,-0.7669664544062922,-0.13379105214230788,-0.037280472874061554,0.28409615024773344,-0.25038020450756643,-0.6321616116592912,-0.257374038617148,-0.3418928370628719,0.1925643362862358,0.3413066882598042,-0.1824091994113576,-0.40827637677128925,-0.4345936238848722,-0.1808398563066461,-0.10547477137125391,0.06266024053439091,0.0233122709635633,0.028055525724673985,-0.8918694281681107,-0.4965317054530091,-0.4209127090997034,-1.0189128979903488,-0.2402609171614159,0.2066542934233663,0.07511616344087046,-0.03262430972057914,0.0031244294298779507,0.29352684890751973,0.01287724107473264,0.9408707490809478,0.05295815295637439,-0.0020273523660905013,-0.28706981289237954,-0.2047424645405218,-0.36132364933050065,0.05675039554314673,0.4489723142470756,-0.2419391519753052,-0.4425702784978087,-0.23655144451586108,0.22495123591912577,0.3430227607409793,0.24848435015292672,0.38544593754548395,0.17538044022143706,-0.4849842121305036,-0.12656461340111552,0.26767556364404343,0.3173182323671651,0.6408136884808739,-0.3573930933496714,-0.2665481315973819,0.1433106439930407,0.1699248246611858,-0.40305405422096896,0.25112178257412965,0.4081194438921919,0.35304125709694006,0.12835936251905988,-0.19467573586039255,0.20969359713993074,-0.09823954517939879,0.38696043733458996,-0.18211030585930205,-0.9283435720301592,0.48920444640654803,-0.03572710426559217,-0.6657903427231127,0.420255884486435,-0.008431646149822433,-0.07697537270798366,-0.4987415135753035,0.28138663495639227,-0.36816252400335264,0.2910069394983445,0.04895194759080779,-0.2788249706637958,-0.28421395101559144,-0.06278140672790093,0.0024067691358534773,-0.029692694291088215,-0.10944938883689342,0.07334916919851799,-0.06389054902658686,0.33713868386669305,0.09523637367583421,0.12427082757883104,-0.041444815503542023,0.3123111886237341,0.11749467945085926,0.03189910214782039,0.08310776594508183,-0.13624181635412913,-0.28988357968480066,-0.20492667819822596,-0.04061901598352878,0.39083156799792573,-0.1528090782229578,0.006821454783446035,0.1987448950469524,-0.2821837293960122,-0.04393291893833441,-0.01622022295202037,-0.15201169247149765,0.4515775429229225,0.004073249105048582,0.15190715961572668,0.2210642140152117,0.19007414615193005,-0.22647368544387014,0.23661114761345808,0.15091467190186597,-0.20044523008498538,0.03374532406278754,0.36319732939030386,-0.32331666562971084,0.07352599531189898,-0.6226894699267054,0.02443689671542402,-0.2571444474432852,-0.16031843001439441,-0.29015259702744156,-0.0885659450919365,0.24179067844582103,-0.38021959650153936,-0.21894658042827195,0.56449551714894,-0.17874966575962858,0.4783717877907123,0.24543222574670356,0.5521848779699617,0.46681676177022746,0.25705965924937435,0.09178070334222188,0.3638729007225997,0.20405272622395898,-0.4417905287867018,-0.12524845318469952,0.3808424238937867,0.17356013677325355,0.15390866649169344,-0.09530220925698173,0.4182856024760553,0.2990276643307648,0.028368573034852594,-0.1504627807730081,0.2087102242224539,0.005825726664145891,0.02307215460862312,-0.0012990670641763388,0.21050743144375023,0.2108810773412944,0.3281004193555238,0.3504044284546671,0.1543836239682797,0.42088988437303426,-0.15960608006479376,0.07855703079645428,-0.14367094442223075,0.5347176265937735,-0.26274604376250804,0.2422263886461108,0.35260782872160124,0.40905858877822077,-0.19946945538684646,-0.11158778483983559,0.0713341688824955,-0.33078165272342075,0.13541962400634577,-0.17234113147534993,-0.3555117659402247,-0.04276639400874259,-0.1001009690158112,0.18161860881815384,-0.32909420829679914,0.002765466889702181,-0.19674243227409374,0.05369744930211311,0.541141091184355,-0.07482040543956256,-0.03449922580148852,0.3293677113491565,0.5276885482994766,0.2551977102864644,0.3959956848520123,0.06183410879815909,0.2923021233843323,-0.18259996437302878,-0.2758395081823719,0.278124915019595,0.11287395032782271,0.2885982565402895,0.5880531555471373,0.22287064023279662,-5.275720340273508E-4,0.16583476079497894,-0.1460573825648223,0.14810429211516135,-0.08677786594877147,-0.18390669839228843,0.7964238970541357,0.20067554297950124,-0.32884866906815907,0.05967877760742406,-0.09787950825876035,-0.1660351077531038,0.06902480076726097,-0.21025137976099303,-0.34645902792971794,-0.01996289116798488,-0.16563593943757113,-0.001792119161156805,0.16258571283772005,-0.09295118086867026,0.032360247990287735,0.0689061861534768,0.10974836169269156,0.261732430850829,0.3138528622971378,0.5744429578306487,-0.2530946118448005,-0.09558096693584656,-0.2260260774207388,0.3361352642407704,0.03539296181916088,-0.13558746711510092,0.13654101137630226,0.1900414568714277,-0.13786897708639406,-0.3282906680190226,-0.006468555171307851,0.4655283931982427,0.3731921162746203,0.12563325844934026,-0.4040601289108528,0.09929234982097265,0.3787360135594919,0.30204631220085776,-0.0489051840481705,-0.337838977590107,-0.017299790554589398,-0.07752410736565458,-0.07202123268140621,-0.47461929778976153,0.1300252196068063,0.006102282935306416,0.30479871305738193,-0.219512051607124,-0.004213513836613496,0.23615984732260045,0.20201965894120835,0.1281783573303228,-0.2046423919598077,0.12789541650759395,-0.2509421520916351,0.03153102156930053,0.1368576572184249,0.09669158602173109,0.13149588048461694,0.5269105988173486,-0.45779147371246487,0.17299833343651366,-0.3165211093706442,0.21843413218746482,0.11203529554498914,-0.05230555721995213,-0.2517607055583523,0.026801782752371932,-0.1880665507529739,0.19036233104477626,-0.1399022175816272,-0.0949520740035619,-0.4476594191628448,0.04938522588114868,-0.33964632581985166,0.18088510658374843,-0.02338576956883051,0.02819506554171003,-0.1332213101082374,0.09440502421739938,-0.16584066739108122,0.3454975669126181,0.11833264539859818,0.20649580804214251,-0.442285340980809,0.16006092355569415,0.17420965277305483,-0.09483316250605443,0.05023069004177183,-0.07947455452118361,0.2743814783235049,0.04863484986393758,0.028705131490936675,-0.25698015017003073,0.2871537692216562,0.03698341439662992,0.18483884086596558,-0.2635152776183249,0.2874376866083167,-0.3135154432850602,0.03238473893606861,0.13441460621038642,0.6474853517778755,0.251932275709276,0.12927772880181912,-0.029760647215147193,-0.20073076581996002,0.3660127576323121,-0.3808705686542758,0.14000501895193357,-0.027578447533704677,-0.3683236379211087,-0.23974549467110956,0.01664037638489531,-0.7561708922213046,0.037323752672951516,0.0018391307852478125,-0.03045328923283323,-0.27278598471540216,0.4412537533410687,-0.5663443570784399,-0.03248471673082391,-0.35773816603743613,0.46199782043336296,0.2087781731065953,0.7097405440987008,-0.1543217963700313,-0.5389094265883202,-0.2522156828353339,-0.39021794118337205,-0.3585640970548871,-0.2624142087037448,0.49831061736564564,-0.26016685161007225,0.33219616800543095,0.44950323162523176,-0.8166477083670434,-0.08958964308951631,-0.08994823417846333,-0.04775688014440595,-0.172565510737817,0.2973462286905345,-0.46437528138771694,0.1753811606722376,-1.0814197133987944,-0.24324103795209473,-0.09394787022020806,-0.13491805052725359,0.3770372896669931,0.3307096751143827,0.2823341447966569,0.3661598881702859,0.21936690079648344,0.29220243474313035,-0.4902220200311621,0.1444152378901516,0.6535201553266093,0.2949390006311338,-0.06140528490209122,-0.13810275105942943,-0.08940894126118723,-0.024539688927429054,-0.047671339085780924,-0.005608648617221559,0.6750567694368474,-0.5513702130620123,0.46930394824260535,-0.09486649559977922,-0.28260073010245684,-0.5312119407163084,0.3353910838991074,0.24418066277378805,-0.5670399263144941,-0.34986749567550085,0.24272018564953712,-0.3239035904296643,-0.1402672619721643,0.38040828537764265,0.35926051740859943,0.5631376395294763,-0.33558549978014296,0.6136636484050767,-1.3482612631612814,-0.008350522564954735,0.5681433332619024,0.019338733666542943,0.2778859865685888,0.10728523081449184,-0.019677303798336557,0.3117060937827342,-0.6011136528624234,-0.9835967759251134,0.5392097705515464,0.04187445526527205,-0.6080214116212951,0.5793294581971087,-0.24566549709407803,0.34852260705282695,0.3522105333577021,0.14453678349501856,-0.008709358215222708,0.04268123868122267,-0.7615779201272594,0.90803897367489,-0.4580052485415667,0.4976805567542626,0.3504531647464616,-0.633722595784876,-0.8709798609147857,1.2982397011209825,0.18219876486396105,0.38021886062042387,0.07882505918444188,0.6910744530688636,-0.06982597105985054,-1.0196826651183504,-0.26470879836812095,0.009028114737723844,1.131150152293977,-1.0127979791831505,-0.21850617920895782,-0.5241215835556612,0.4508724506358042,0.4141668836306332,0.8039995227181698,0.9551353969699559,-0.4791688053894189,0.13623616448144593,-0.6993383247187747,-0.791966670797057,0.14361932387817497,-1.0310360418076652,0.4435858944121184,0.7936868926473846,0.4643418652265053,-0.011882502912839828,-0.8726744618231619,0.6891834412292824,0.29548273468549247,-0.19388335162480302,0.4037826595731443,0.055635308000747986,-0.10446550370078932,-0.22735099294431885,-1.2678392914821275,-0.6758010318125232,0.25820593536267367,0.3626647590941238,-0.24892614598138418,-0.018324133123989783,0.15817160315959905,0.3617205318423553,-0.6801361283812498]                                                                                                                                                                                                                                                                                  |\n",
      "|[0.7169944927319071,1.3516010893272274,0.2828126697683449,0.5420832743519584,0.18647647008108348,0.6932750256162291,0.05205688643363962,0.28895796843215404,-0.7839566227198678,-0.08472677050243882,0.10021728477717523,-1.3937402525447782,0.16042198974439859,-1.072630792275478,0.04719642651602837,-1.667022526664611,-1.0864006877832497,0.5969770009958337,0.21474609955812102,-0.524429352985262,0.6587611191732031,-0.9078051757945282,1.194627918147415,1.2288383647743073,-0.5214097901223544,-0.7798051659590223,1.4002580600176293,-0.0029942617607159883,-0.43178925739221297,-1.1507421177574508,1.3728494126480373,-0.07119522095219757,0.5339404313891752,0.07253287561169339,0.12434985448776031,-0.5241850523944198,-0.19425299441008137,0.4043606904072955,0.5700867634461283,0.27005971160834585,0.10101082506072112,0.38839634191532785,0.6986199122078695,0.7422427967028512,0.16643386625882603,-0.35994299761280635,-0.8031881933414625,-0.1038431867459262,-0.16598838394635712,0.12356251705924523,0.23116489315871735,-0.4358287714460196,-0.977820825702637,0.4226659325483201,-0.5298593513236001,0.2600641935409149,0.3002151449174023,-0.34899707964462723,0.08208171355177235,0.514016960907897,-0.37465304202952326,-0.16148272174308315,-0.7380965837270199,0.3429185563918622,0.30928417991409674,-0.7161838993572157,-0.059026119225645726,0.23141664661872857,-0.22138090285927525,-0.33153723927431245,-0.21842870738506054,0.10361274897374997,0.09389493100736782,0.48191997967219485,0.028742980801349554,0.13540956118168568,-0.017686836970404365,0.5043908502311987,-0.26608507852744817,-0.43563928155283865,0.35988756566741414,-0.04151134465364044,0.0012901206494108156,0.19306616175282312,0.2966128984497209,0.046787781509456866,0.8295102233262566,0.48687090239957787,-0.05052018009283475,0.6245323831075894,-0.06145211605619405,0.24211263418848653,0.14006046947449963,0.6504275093010579,-0.398997916034007,-0.19398998099066112,0.44108767898952594,-0.34354058753092465,0.3124028316481641,-0.13023654238287424,0.25530019926733144,-0.04368332233515901,-0.43728537491951774,0.11236143669756271,-0.007413771184654486,-0.0064565390051786065,0.3785770167589241,0.5598816367748405,-0.05729482275190902,0.0890660826392458,-0.10124097493566458,-0.450500103571548,-0.30304473189898473,0.2492277671346244,-0.011476176049192592,-0.3483194830816915,-0.10936923455854614,-0.2232226277152547,0.38223274628418036,0.022027613573109117,-0.37026355816103984,0.42966871251259514,0.298940580020163,-0.14534462569909934,-0.20861550255227762,-0.567534730602695,0.21505209463333547,0.5012903089007665,-0.3429779645128419,0.2617605829451293,0.1829131019778296,-0.0572667290330221,-0.31038038455776606,-0.48600837028251065,-0.08428840129743545,-0.14439509337477593,-0.41172430273161503,0.5622445887782082,0.4029203792589934,-0.5847259391497903,-0.4477270938994057,-0.34330913250145384,-0.04790150784317109,0.3863664086446117,0.1361792248596922,-0.6466788060336182,0.46958525766061704,-0.2921000224657037,-0.2832439831707907,0.41226230696957533,0.19606934419204547,-0.4398559431271527,0.12009194418150088,0.5287278728625052,-0.15310796236072238,0.6620063065338103,-0.5842047138704274,-0.7590197831335512,0.29288699143009406,-0.23002312492123062,0.042166272939128446,-0.6665699388070664,-0.6105556843370264,-0.09376337286649564,-0.08409071865033432,-0.3693102850904438,0.4099465303406968,-0.58409806132769,0.617602557380973,-0.4581748675979982,-0.5366399385472415,-0.7042901685592218,0.37399197019142827,0.5847209592172048,0.7702610441845703,0.17084376818865357,-0.9054274973647397,-0.4889002492488207,0.3878327584436006,-0.5581389865942581,-0.3265563190834821,0.8122226299997245,0.5940477397329114,-0.1823267047292835,-0.12431402942774546,0.23458857452590842,0.11134355766563898,0.13549439866181362,0.35819658589049547,0.00893686168388957,-0.010341871313882398,-0.13607240798265086,-0.07912074299391146,0.3779286358574825,-0.28305905209421606,0.3054979550372181,-0.19066864141847017,-0.23050827167688703,-0.007100475067680146,-0.07304880149221302,-0.1519617302123726,-0.18384503359668283,-0.16473557368563121,0.13582202246006767,0.00948482332585803,-0.20991146738589292,0.29647368254986384,0.08999534804362781,0.3448802392049934,-0.03369077583543936,-0.2908223475685885,-0.021153665619773568,-0.29284065864100467,0.5266100474056732,-0.0890823830947802,0.10425903081802765,-0.15958014481727212,-0.040749549791624984,0.014030872519870508,-0.44998076107069795,0.1565467538906099,0.18911348421379887,-0.1389175530440073,0.1532313344547762,-0.18622747914887924,-0.1264383605782126,0.010560601792031853,-0.366910725439807,-0.276639531180694,-0.12676350267359898,-0.08995491807067463,0.3858358729532159,-0.10824878061896687,0.12444225476643446,0.09857803523944278,-0.21399776355502942,0.3347989413699518,0.20106134191557637,-0.28122010849816426,0.12739212499159233,0.24103287519995778,0.16729629590224085,0.12599744671266644,0.18648327691392386,-0.0982879486444617,-0.5858629473609929,0.01644623838732901,0.5390968715171507,0.11102319694868551,-0.12077178562935156,-0.09863184581948731,-0.14997740892460237,-0.007912160076711097,-0.31228697085196583,0.028993742534535252,-0.09513565380960336,-0.19744897616731014,-0.08291111893639913,-0.17285899554760092,0.05836624014296403,-0.05569021500541476,-0.1413808515785074,0.35813230928563206,0.0664057560762818,-0.05975891999372287,-0.27629968556298506,0.1672145784528236,-0.257845204240879,-0.12062689507330343,-0.26210810106498306,0.006274504057232962,0.1641685226914557,0.07833991402487514,-0.21634749870001813,0.32255322730827574,0.20621265349111118,-0.08211473413232168,-0.29982720420114256,0.36214828340142763,-0.3293354366786302,0.31069855439314675,0.022102802353466785,0.27288875188761696,-0.22320299235868044,0.45164716000051297,-0.02498263253120033,-0.18698890605771432,-0.2095106813838421,-0.015601378296699914,-0.15385857752285695,0.013323172028208485,0.1476050319966415,0.14079169858570612,0.24770353623859553,-0.1564483243803371,0.5297269553273476,0.16625487153021462,0.026536292325024177,-0.0314040268443066,-0.16168652054957022,-0.1401516337289766,-0.2283144370501905,-0.05952658610768996,0.3567689398830955,0.13667812097457988,0.1606912382819385,-0.11334954315879799,0.7199006634158653,0.06416165513399061,-0.2770480175623751,0.2637747764906304,-0.42681015632871894,-0.08458523838109841,-0.7695641365620529,0.42031808347819044,-0.11334067864727897,0.28708937440604104,-0.13841792625942184,-0.12696311562881085,-0.0866944717808538,0.01610985889626384,0.09831791090426324,-0.016321649988080254,-0.8718862518218015,0.08587021100455575,0.43745845337010536,-0.12846378868859473,0.20872206445337138,0.005863958110137638,0.560388764840424,-0.1517668299593747,-0.2563081553579257,-0.5388795697217935,0.20764505807204528,0.3594721841860001,-0.6364554244269256,-0.17427305695728465,0.21914677870041566,-0.26404432614139567,0.07907033601585123,-0.24412854496330372,-4.6258321666803326E-4,-0.10703900438815811,0.004066405140159476,0.10587916095789962,-0.21007632975310503,-0.6196589305936209,0.049511876115118286,0.3255936326881802,-0.24060547011371808,0.20704486424661575,-0.4643646450622973,-0.4051404736289499,0.12615836752345372,0.48037041777498385,-0.05703856948583483,0.4380039509997713,-0.08246884324517684,-0.16678740233801687,-0.037628049028881866,0.1726078761051339,-0.19596521532545366,0.17303746480785687,-0.7062784241568525,0.09928629661526153,-0.3120638479118186,-0.03210048930090478,-0.7763370913686551,-0.21947042211508488,-0.14481149515530894,0.0133774451180263,-0.32416954059930053,-0.10415422480270038,-0.23342178032509242,-0.08203045155224553,-0.023847110621781728,-0.05933452221771488,-0.03972920252411569,0.22662720485588964,-0.5321667567572117,0.14675205088606924,0.011627859735889076,0.09399915322917866,0.0141036179015651,0.14649483594626414,-0.053218314977903504,0.01776563802097983,-0.272590219293577,-0.052940755831401794,-0.3863422536332537,-0.37535485335090274,0.022484047132596913,0.062354999311851615,-0.05020167094169288,-0.2933796283642224,-0.13741448809359147,0.2677791920019999,-0.08355816705057653,-0.09482938217403808,0.0645580837226521,0.12225729929704943,0.002091578105192983,0.11562888691798436,-0.09423622601143211,-0.08298833868832366,-0.2030990634770719,0.04819440931594607,-0.29391811866215367,-0.003982923575999525,-0.027597121780661774,0.14853958762694222,-0.3027299207404208,0.3087721397076355,-0.11329334984138455,0.2737801412797768,-0.10233627840742535,-0.0963274683586322,-0.4265030626266815,-0.006242813762625858,-0.6031678287133077,0.4510753018924448,-0.3941508829484529,0.13724991379371348,0.16318225898939998,0.03209071613405631,-0.5304425197449882,0.43199438523468875,-0.06577904091565137,-0.17385096645757314,0.40940990075016376,-0.6099380313740066,0.0011446662318100181,-0.04817751842832997,-0.2555564399869141,0.13292019928471346,-0.043585838338400074,0.24177087571271363,0.17748922700372521,0.5922793216727121,0.08351931061383439,-0.44767452642365774,0.268011054655234,0.14129043569051628,-0.02234422103111346,-0.023818068915686785,0.05898439986625399,0.2613362424815212,-0.06997512897656037,-0.24797811151453755,-0.1829541304832044,-0.28624293030216086,-0.017465049494936297,-0.18270333806335676,-0.008200155400435435,-0.3767711384238498,0.10641337037737332,-0.13231207502190373,0.049795605647999466,0.17227576195718514,0.009842433919556512,-0.3916945542096512,0.16874280679625048,-0.04828464722379702,-0.09385280099993781,0.1781617454846931,0.05319743775829945,0.17555303228293892,-0.13311563126043136,0.20341005924989175,-0.3111889750644166,-0.10651094926758073,-0.04819714081586738,-0.17741296595347178,0.02815562657174578,0.04271787324093974,-0.0028878847454052343,0.15442679102485474,-0.188057615453035,-0.13820293965222,0.06152103402337014,-0.13778470603248852,0.14311969856238338,-0.14838921868691773,0.03318437885150277,-0.07653645626396008,-0.05094376363982356,0.02753675574784813,0.12494011885397896,0.014657726602910922,0.2602547580293554,-0.16061406435750442,0.013291904687286873,0.027677969118372496,0.334986463859365,0.19087643169400664,0.06915901976737576,0.14889315971306766,0.09168691967831921,0.27203946320453426,0.029970969585596086]                                                                                                                                                                                     |\n",
      "|[0.24658453899984029,1.5042030909320114,0.3347771011995269,0.4237887174190581,0.27764928434234776,0.7126167852891084,0.6665490702068452,0.5304647974611305,-0.29915575025658725,-0.40873489715697975,0.36623456332992793,-1.3710176405139856,0.06339378626223563,-0.6364095847265556,-0.3907386649717597,-1.3367266222243823,-0.8697656143153876,0.6267636584574403,0.36310749079851196,-0.15808248116467308,0.6786994598617986,-1.236462992226299,0.8995954274853272,0.6093374603674782,-0.9881178898031546,-0.5536059488877013,0.9670417540989034,-0.24530550195098869,0.044992273996461316,-0.2947559763750377,0.26524807415294516,0.05742726719055638,-0.2122604271566162,-0.2698509035547167,0.6238684352936787,-0.37753761155480015,-0.14889804948716895,0.37750259079653736,0.7116493654335274,0.5818746728057469,-0.09306183028898198,0.26989337077676107,0.5651730456305798,0.6677021297189486,0.8220314304075285,0.5162927774100717,-0.896149253996724,-0.022669870995334712,-0.4741087782145911,-0.09002449163250957,0.05967700874986259,0.20519186628809863,-0.9863234898098464,0.2035731057008257,-0.6080342848831337,0.6762977135067096,-0.01572239228448269,-0.7125960029592033,0.18699930610474194,0.22573146253534132,-0.5121069672299556,-0.19573059460718598,-0.8490933655106703,0.5993417093281587,0.23336686416421265,-0.3947422622134268,-0.27913371360838085,0.3804038187205034,-0.05450560037482988,-0.4433320423498201,-0.12999125212941512,-0.11332386416447451,-0.19941127779379997,0.33348932215237254,-0.18632542314553166,1.0739860503497536,0.28872423049594775,0.5448395812095053,-0.30124744296074685,-0.9846428617554525,0.4379075595897216,0.16676947471274062,-0.10001394497197136,-0.8027769572596527,0.23552855769861064,0.22790455739557636,0.9949981311550387,0.273483329859624,-0.18484934436885775,0.1456487998857659,0.1662542294816589,-0.3312998180460256,0.5506652334812093,0.407282490711431,-0.9217970880156509,-0.19647424532839164,1.3960112354142746,-0.24066403911444872,1.1258101636412885,0.3371047854624196,1.5593060906691154,0.00811876233123809,-0.7994272192335833,-0.008191200074595027,-0.818334324312285,0.12619294505731868,0.18946919050628877,0.5219931760092962,-0.15039625529876263,0.8695712935034139,-0.4183370133595171,-1.3159508941817026,-1.0357055572213112,-0.11787782770209164,0.09372391514967499,-0.2731341449737389,0.09702678995474695,-0.3141946398191147,0.3347112429910669,0.4755510944835427,-0.6859293436083997,0.9201713703468352,0.673166126869072,0.8264892514195634,-0.4225140457258344,-0.5358086847567687,0.5135194837212523,0.2269434185116097,-0.7236635806926659,0.21726842147339198,0.9037271695004216,0.3333394604479683,-0.6235704820364858,-0.36320510577661835,-0.4545299842934431,-0.011989669423372262,-0.8012486667175294,0.865555144324094,-0.053593854406715866,-0.140683701937716,-0.9695611334970328,-0.8788742492303367,-0.24624065706092482,0.6807699019143084,0.27813383415754606,-1.4590889698697604,0.5271343680506326,0.025578006136634274,0.25569175645092906,0.13458225716758485,0.28387666990799376,-0.5283252460553218,0.14523451189389808,0.353213689838631,-0.1936199387715652,0.5394292901952156,-0.4738800450394447,-0.7678468953757767,0.3118035217670911,0.13230420716788582,-0.011667681385393106,-0.7807496620435913,-0.24352081845986356,0.21515837651619107,0.1606274881630445,-0.259016237628946,0.32266261837721194,-0.36048286513229216,0.36088641045667863,-0.4022890626403522,-0.5732870169533866,-0.2277410056115834,0.24956390340465454,0.3431768656995268,0.40280952793743785,0.06920547212850235,-0.4192688203020848,-0.24371131355755407,0.17514349795807738,-0.36611168341683376,-0.43181068033637937,0.5201088149583465,0.5332056533927528,-0.12324509836304767,-0.16842291842436585,0.35506523807972135,0.06752188601955185,0.25527908600966487,0.35385090253590856,-0.056750094666995154,-0.05020083803070759,-0.07783568526781814,-0.2120408883115368,0.17471036670849271,-0.41309498450560816,0.1499192931198469,-0.18368814855905113,-0.10518794164982168,-0.04113863526006516,-0.09802204527540787,-0.09312566290064236,-0.08061055586191354,-0.09621924562620693,0.017420080051101655,-0.034809554009270265,-0.12056332038088377,0.5367434431466626,0.021945672896018134,0.013094310282075965,-0.010631756671254187,-0.36897628981794633,0.05497895454379108,-0.27642474690939145,0.5517392939832919,-0.06867910823476475,0.23427809688331663,-0.1572624760433493,0.008793402053401261,0.12244635428855825,-0.13827735788535372,-0.014157380934355297,0.05417260704246489,-0.13063484514495852,0.2425605754888283,-0.25944815915057273,-0.03765299287935955,-0.1478733438536038,-0.36641331963205925,-0.056977509470378385,0.04752399667644646,0.13728871412832272,0.5150151119003781,-0.08682839872335757,-0.0920861731513164,0.09918429654036542,-0.04976015722216565,0.17249741751838626,0.17101718788966086,-0.20855221302516913,0.2944656175705749,0.21689619383413664,0.3350094671991341,0.1473530401902544,0.03693099763060021,-0.15549838753224238,-0.4267645382361417,-0.03705531081323655,0.4359929710423699,0.016536059980441255,-0.35516312571993813,-0.22318283501631003,-0.1822295683501441,0.21404579671652801,-0.2523808710977351,0.19226811867196456,-0.02367642632090261,-0.20789480748456804,0.0677578739142602,-0.36840044868579763,0.2286385197384903,-0.1110100408425177,-0.18002865065375537,0.4834047089456151,0.08157020508412499,-0.0721814692928555,-0.214624244345343,0.1543048376212821,-0.1533802929226326,-0.08307599437023733,-0.3364021185282149,0.016346208889421676,0.01990915567586103,0.004727725230817589,-0.3432006642036768,0.07480475114876567,0.3598911608586207,0.09982949158410442,-0.4530384846774356,0.22808021922441146,-0.5465393279386058,0.14245189057553792,-0.25067087984207453,0.25075887389621715,-0.5545196253255091,0.43559687371188605,0.05228321896254818,-0.18130532638910016,-0.18355729026065756,-0.377263948749152,-0.2269423782044674,0.019277339607093727,0.2908733182819255,-0.13091674607069123,0.5060168575032746,-0.37348293291495704,0.5948341002885774,0.16517226879158692,-0.24770634739913688,-0.22123464606676235,-0.061918154035914746,-0.07246702203345604,-0.12295265255570635,-0.4364042755972616,0.6138777747315792,0.41613946497334636,0.3367619807105791,-0.11402728181167875,1.0286081757960612,0.3390577217904369,-0.09357487025683733,0.4467128984659383,-0.08133046695394225,0.0063918690822279784,-0.3958512038289803,0.44746013518219585,-0.32019140518627554,0.4515587309775877,-0.1945498916412513,-0.3227123437694234,0.11597601817510891,0.3157817631677575,0.2726396754225748,-0.11084093132719408,-0.9055394987950809,0.014843841469628125,0.3617697855314522,0.32046467204118445,0.483702721348262,0.18251055697266347,0.467773184330361,0.03497589601651484,-0.31278443097326225,-0.23490562210584104,0.16050579052994382,0.36229498277082695,-0.5846360056199101,-0.31549718542107097,-0.12283102326363032,-0.14471191064448669,-0.10147684773484203,-0.12118931858109996,0.04799411486816921,0.0773777825815319,0.06371230196452693,0.3204274475147838,-0.30917257533164105,-0.4620546841605102,-0.18764304780451166,0.13974112481925333,-0.24027399298142138,0.2460672068102844,-0.2840258216666646,-0.2630219778304638,0.05658184307502927,0.4845208823702985,0.031173821923917024,0.3931843261493247,-0.22565179726888607,-0.17075803172398857,-0.3222513416825645,0.03167989308937118,-0.13933704413660525,0.17872580943025773,-0.7074331832787276,0.03933661608093963,-0.2154055873607436,0.021609632215831086,-0.601341367038815,-0.12634146985227612,-0.04920876770671691,0.07439511236396275,-0.23467543241746608,-0.31527447981850787,-0.11214120515626148,-0.03149327038521975,-0.29051680984075323,-0.047230033628287434,0.14370564288661364,0.23403676959124212,-0.3240787294866275,0.011225012373127383,-0.04912834557445833,0.0693066807710404,-0.06640640225286112,0.04464589353281886,-0.06303631958061993,-0.07794908602456996,-0.3154892318407014,0.2088957599607087,-0.2554593659993395,-0.3731890009443631,0.07920353713749198,-0.02102114198447481,0.12531912437991352,-0.21285567487763885,-0.3187556045533623,0.20060467971489365,-0.09038334232303191,-0.08190728562720236,-0.08916393720027721,0.1181010851220673,0.15374158205385957,0.01371559660503039,-0.13847699233974448,0.004154678341540888,-0.2034601120126394,0.06131855385082262,-0.19103221744989543,0.21529691883789032,0.0405472002507477,0.30342209004166576,-0.2708813119635328,0.16374985915502094,-0.07435423531978129,0.22711254489109056,-0.08867274088018313,-0.05034876119774562,-0.26598546437765447,-0.0680922110282266,-0.3148342548448142,0.4132490106569228,-0.3249450003427754,0.1504407949140651,0.14006610072021564,0.0471990033179714,-0.45043936280419034,0.3819643415298746,-0.20542306053417853,-0.11992696856502784,0.2259492625238207,-0.4419294962668853,0.02105149325052182,-0.03253558342033916,-0.26784156529610303,0.1283659611951151,0.0529939208443736,0.011184528547205917,0.21193026799012288,0.35442405618563433,-0.05146285117539261,-0.24077664803337162,0.19097418555335727,0.20126052722175078,-0.13547718884221238,0.037317610672086346,0.017592143115672042,0.19164416235490514,-0.05397451373049497,-0.10043685209844508,-0.26449605850631824,-0.22069046082443167,-0.07236661650078438,-0.04501851312089278,0.014421752123258275,-0.21948658757489,0.038691317577985336,-0.1940803557174957,0.019324142167928188,0.047954339542446794,0.010988046913061808,-0.13669542328479123,-0.03779253335645653,0.021410464026268686,-0.15761611232636197,0.04285904357230305,-0.004820756526025878,0.01810217377964685,-0.18901018649536744,0.09124871180792046,-0.22984988190482,-0.022226182743705955,-0.05863815848590761,-0.09538819014194948,0.04242686771759327,-0.08746495076106581,0.04669034097150585,0.1212144642655098,-0.07943383918390315,-0.1408441546671922,0.08755897073518179,-0.10163543093905417,0.048703685661395255,-0.07940986349121973,0.08085905954395584,-0.13794317830087513,0.0036159838856842106,0.01938640702069216,0.03191170605658256,0.0829876833333781,0.22537126519782597,-0.13027435970992707,0.05069372639560062,-3.1894562823651083E-4,0.08660971614883914,0.038118889537169756,0.05596128533794652,0.0401544203313916,0.0653604229229848,0.2018695266051212,0.02967082009358042]                                                                                                                                                                                                                              |\n",
      "|[0.14570353161091307,-0.21908708718857917,0.0358176430857943,0.30184260316861167,0.6190909935143825,-0.32581639100383986,-1.8158490287679812,-0.3491759472024217,0.2216375240918783,0.31052949756123716,-1.148558653512798,1.7098326807643474,3.3455483259480236,-2.3198985238549445,-1.4975038161039917,-0.28911870474453966,-0.47528168008534327,-0.5254569721436015,-0.13590745944847282,-0.24343138224448557,0.44258157720119756,-1.0441882625062173,-1.5558978388180413,0.5218140619609517,0.0041428506763867,-1.488734333072003,0.07827420550548285,-1.2340660242495456,0.020380902417980157,-0.03342963648499446,-0.1885297322010669,0.0014910534294978461,0.696267676560008,0.1936021110193684,0.5172973680139977,-1.0441717112999203,-0.5018345028745632,1.3853830541943744,0.04788867930953786,-0.7962598908690688,0.9479551947362106,-1.2849147426685767,0.9817194126768233,-0.3178834505435716,-0.11236991500538296,0.7303804164169151,-0.7899473810490882,0.8674480955830337,0.40474639654876643,-0.2002699880077975,-0.873454568880669,-0.5660461801700316,0.27419037525450946,0.24548608534156877,0.14803923619191717,-0.5121379835798796,-0.0016414753452593939,0.132745270499361,-0.08650925693333118,-1.1455857983571662,-0.07734058599207791,-0.21177447660761745,-0.22158860056561333,-0.512312790658223,-0.2849857163163072,0.07485399745608914,-0.4543870925750619,0.604023448013829,-0.2989856558721241,-0.09193816686599261,0.6570686954841573,-0.6058450249551433,-0.2023721823986442,-0.5305590562620572,0.1909573632582623,-0.2786806599156868,0.3797704206520296,-0.6195649756157421,-0.12204709191210933,-0.8199084414389974,-1.4034175448333446,-0.5292363558926075,0.21041492426199224,0.23002394908187423,-0.6720391428230136,-0.2414632767019323,-0.08071026320933475,-0.39854441064571405,0.0949190404205611,-0.4882574240978682,0.6594927818394026,-0.4981980740869085,0.12155383032795677,0.22868604102558382,-0.366018909734,0.5113298662354352,0.660691758702739,-0.19459307011115962,-0.4342359921879419,-0.015825266348733213,0.05732896737126658,0.444888165864487,0.19650065491601845,0.053909718553716124,0.18543622338880902,-0.5141819151502123,-0.7956732059667007,-0.4425839434143681,0.29542087314034654,1.0208588891582324,0.27813096195241993,0.45718333801560407,0.2865798342980464,-0.16054523918180616,-0.1450342615593931,0.642495162360323,0.46320571686338796,-0.3665792783043419,-0.2951981103451009,0.3308677444002298,-0.7528298203668881,-0.5712100241493601,-0.37713973787768396,0.38260870826612897,-0.33459918593524235,0.28249330458044764,0.21924673725342678,-0.19894105812326768,0.06997657874973526,0.06503998285461488,0.07275976691450538,-0.507360467778896,-0.3886276493243625,-0.007438387750212577,0.2129791803963007,0.07820517647237205,0.2780031114877223,-0.2856464544717796,-0.14723384092870553,0.6155100931140562,-0.05386683653800738,0.04964760699476552,0.3145459975064171,0.32604237164719296,0.5657655276688404,0.17710905639746377,0.3316502679053328,0.12408658554448379,0.08926784550267716,0.3483663879742522,-0.14764992876675878,0.4367974911150496,0.03708608534538313,0.02079957717266301,0.4097121590116921,0.15293041477942348,-0.38398823424726014,-0.031712262725291054,-0.02166155329815922,-0.10322595247983958,0.11544353684839452,-0.12074720768588622,-0.17160785944146212,-0.4184696622609232,-0.09176508768409335,-0.1589755951671316,-0.14230467356900467,0.3813416432228872,-0.0036264768355055658,0.023278898597996305,0.2153714102069052,-0.06477578837537434,0.6784333857917969,-0.1929935118456877,0.22464536096984605,0.1800296750526769,0.31695451823333237,-0.09254548627783812,-0.06511581003276132,0.06414636504313691,-0.05400562094416833,0.19321560934643864,-0.3194265895726148,-0.3472825500883797,0.028070732490990485,0.0734760175920455,-0.2103620155630142,0.22245366341990053,0.0736453672669378,0.03847532653428655,0.09304857859268112,0.48654184818226726,-0.07136441916856462,-0.042390261516599054,0.14967419699443082,-0.014096385944274842,0.5091140990307343,0.10953368644032412,0.12372678153884967,0.3767379602130084,0.3840567891963233,0.09367067237300226,0.11558385317555642,-0.024342618035407278,0.03718012124570952,-0.16687067907667186,0.05878767178850988,-0.17859059291832832,-0.19964635051966137,-0.07503715053039653,0.10217027000948406,0.02643854513726708,0.10698782701699638,0.039563658256400513,0.17508870654066142,0.2121758119116405,0.02894368734956254,-0.21607612870960666,0.09861792228534007,0.1204061451007099,-0.2845261365311754,-0.08393595546377484,-0.0390483042068242,0.27404475403794637,-0.1976216618102543,-0.11450882922087471,0.02052518117826784,-0.11156804770002604,0.10931063693652777,-0.05052054298627981,-0.07558014407440271,-0.011734733815499943,-0.13199755570234828,-0.2696269445732927,-0.21846665718178293,0.07608384968424926,0.11893205491566691,0.18117927127372271,-0.021477455832015217,0.34155288565852865,0.1652350818992916,-0.055209270459850815,0.02992607838214653,-0.025300450797539953,0.08038618325615848,0.30381707014021997,0.005864439802230864,-0.019925364946468294,-0.23146702395616647,-0.16125204191508133,0.03591892789805968,-0.08358310404498978,-0.009601715219948587,-0.028190989129771554,-0.16881616973649308,0.078891623937869,-0.10194738748264061,0.036915664883925024,-0.11076605186792221,-0.13466631288278663,-0.1349301336096243,-0.18121047446320876,-0.07382185628830107,0.0898675108952969,0.013228111449147373,0.11048957036999552,0.16259389720279,0.07133295338771475,0.024723581894590004,-0.10110008895462631,-0.12379610212000079,-0.06623503300154256,-0.08348996547427603,0.0030468120915442265,-0.0390495358888741,-0.31895229743586373,-0.045107463323703766,0.14141523189961147,-0.1588312260529504,0.08312692688663692,-0.08486876216643516,-0.051759798179995646,-0.005088695676470675,-0.13068637796506324,-0.12959896955779507,0.06958590407901843,-0.2151426194317922,-0.02133048852489472,-0.1049221657620641,-0.16682762270880022,0.33010908407903955,0.20648117861875748,0.09764586064366826,0.21727885952585044,0.20087542919617332,-0.24234813616791376,-0.07451280304281638,-0.16281044574090975,-0.006935670682305106,-0.13089820316274955,0.24606879547066238,-0.20355984741799574,0.15150504467165515,-0.03073859766539703,0.08619936241653134,-0.18755851431702142,0.11478013429085404,0.33102278978707905,-0.18776856867838554,-0.07570778136421624,0.07989888496083246,-0.04785411802304451,-0.02066800546462924,0.03359444574693051,-0.0152666802046149,0.1843556692428076,-0.18972221267886835,-0.18492645192505275,-0.0030078632308716997,-0.07573681845756458,-0.029106129977082233,-0.056578488037078614,0.2823216007502269,-0.20284526187242125,-0.04675318642642945,0.1778076569164924,0.08495214196919885,-0.02909698156799359,-0.022313092889864508,0.14276064165970087,0.01848039511810575,-0.12366843377067915,0.07758998684051482,-0.13320387699315686,-0.14335254043044682,-0.13666746500783766,-0.36914224173662813,-0.04177323992334479,0.11003776271556506,-0.008458908758857636,-0.051780440343944176,-0.05084432162934906,0.24415089878135002,0.15456362452073058,-4.515677692529423E-4,0.11216110843226085,-0.05040948072793311,0.11375035271456684,0.06457134951050132,0.09008352198016147,-0.004784438243616421,0.019377530688277134,-0.009189865840233968,-0.038216626598859355,0.038465976749623404,-0.2518902756357767,-0.07820861985578359,-0.08070404674394863,0.17553082227709113,6.390847541451888E-4,0.062108395016649595,-0.0012357990775701605,0.0029514214662033425,-0.07232776632096327,0.03734272774482414,0.15803376556258536,0.04660924524622786,-0.1475902611615928,0.11869785710050167,0.18676112642718837,-0.15367279903863898,-0.0592361705461106,-0.2547012945526683,0.051761212207562565,-6.940848414746237E-4,-0.05310878017963756,0.01180846103120367,-0.021921030442367886,-0.09932439742842951,-0.08013563819498012,-0.1500915891903538,-0.006890148500830695,0.015413720030143907,0.004448546073319355,-0.15996113453300828,0.07018053969748439,0.09354405990656664,0.03560060735171256,0.04892378942275892,-0.008593654808051368,0.041544097251392006,-0.1493876443156165,0.01420365087956571,0.05913264309903819,-0.18395753502767825,0.05630917053349008,-0.02651092242025276,0.027225643295528096,0.045843412300532654,-0.012847960306072048,-0.029520591112761896,0.1471907976028095,0.14506935611577534,-0.0021716471305665286,0.09037075185452073,-0.1633039013496818,0.13658494254222725,0.025592673856093526,0.025910620375084882,0.0057291321766735626,-0.041255171095733546,0.1294818528352441,-0.0806063293089405,0.10482363386983502,0.042638811222670055,-0.03865928060459059,0.07735876557270571,0.10403315002747038,-0.029769644228377433,-0.11466551904459182,-0.14404448147855842,-0.05879746995888968,-0.010134131856157719,0.18283829226487386,-0.1530029049505094,-0.13308440927233461,0.0969069323247638,-0.022480166153050707,-0.14224927683204236,0.00616410185655536,-0.009286119831222725,0.05052253763859499,0.12219058197700051,-0.1600681013173121,-0.26431206218248166,0.1272732359819318,0.0708846746814753,-0.0475230562394756,-0.17094471753894647,-0.09552373866578438,0.1757738573582229,0.03696622547372532,-0.06149102322456447,0.18042590839374678,-0.013866878489495887,-0.05826482271122843,0.0583847517413365,-0.12029307624022953,0.06994435416872066,0.05418836233429922,-0.15157285516146496,-0.10531370074171124,0.10931881477571574,0.16238945647174194,0.02689127621696029,-0.08654280901609979,0.12088254275060736,-0.11098328117349088,-1.568633750970716E-4,-0.1118848671510679,-0.10134170204215295,0.003665088183768997,0.09312117496049921,0.03699332768114621,-0.1424685342679754,0.012173696968791697,0.19157418259507175,-0.1283757453402327,0.14943148452580912,-0.05738444220589711,6.665283062812222E-5,-0.03363501812825094,-0.00938093863665751,-0.07810393485443134,0.15363158085762893,-0.035245797211915814,0.04329939249049271,0.006672727291407707,-0.019407135794020584,-0.008245553447096706,-0.1430188839470306,0.025698275744097075,0.003982583744359454,-0.006779572046224952,-0.023813049064759076,-0.020642869693862725,0.008402794741748196,0.008400898726826797,0.07077924053526297,-0.022338618509501446,-0.08272714083311458,-0.1402859830275035,0.01302722120435039,0.042963502637755696,0.09011806706142095,-0.06593421919368006,-0.014844979230360444,0.05871428082313873,-0.0408086749178167,0.11347443471744542]                                                                                                         |\n",
      "|[0.15193964967758472,-0.11445941034833623,0.20271991318884874,0.3987820618820029,0.5229327182761282,-0.5867870810281192,-1.0664437524764263,-0.7300779673076534,-0.9667981837040593,0.13456387859024688,-0.7192777809858104,0.9254703415939114,2.1114964991370813,-2.2763016698178946,0.26217020575349614,-0.1942125610758373,-0.8340090402410385,0.6376430432342536,1.4242621414805492,0.3149295095298156,-0.38011466414096706,-0.26501721336905826,-0.8623116247180247,0.43460872148392865,-0.7209394879242736,-0.8705268727113668,-0.32550878442221437,-0.735926941488023,0.12839288725692155,-0.5868029980371061,-1.1722262938508785,-0.3740964941181383,0.6954880193216133,1.2007672568910717,-0.007586611393206721,-1.0567480471596014,-0.4332737070922193,0.6597079254036801,-0.34473007716718956,-0.9611924941416399,1.2273682525586742,-1.185956346064927,1.3123495779617966,-0.6645642563905597,-0.25806532589982867,0.6733197177496609,-0.6315298934907226,0.8478274121487719,0.32179285217300946,-0.045215787539992336,-0.5592034219384803,-0.4991951345401443,-0.034233875482195364,-0.13297502553709853,0.2655822504339467,-1.0006927400642758,-0.15799605753693885,0.5386752838633887,-0.2959596894524663,-1.7775518561968289,0.25423058838580787,-0.5411228422725899,-0.02940564637453544,-0.6709713076949969,-0.4767799661976084,0.4272703695858308,-0.3890154211171453,0.44793834427197926,-0.33065033670377436,0.020314056755746036,0.45199886350243,-0.27212155085683853,-0.4314835508119709,-0.041199844245388306,0.2996543966970822,-0.08853691324933158,0.015893257500027846,-0.6349593882220238,0.07880564316918706,-0.7273946592480451,-0.8431156060310403,-0.18215783518545353,0.045683135350879,-0.20475809139358542,-1.2557361460899914,0.31164861990249865,-0.47347377147582825,0.02073008755689032,0.6739913306489906,-0.26756867073664176,0.2602690386824517,-0.8021348702918052,-0.15857676177896293,-0.21309934280135817,-0.0568648799716254,0.6938942082348837,0.118278856860736,-0.2227532141809308,0.293676207529753,-0.2866713374311603,0.1509495490347762,0.09342916518440039,0.5490327398078674,0.12785104870103547,-0.2014505864021422,-0.6560444692323231,-0.5792219354789805,-0.41332074463022633,-0.16318307077434335,0.7325438840933026,0.1776574846947959,0.3342228914910313,-0.4458531678535947,0.2490513906823425,-0.07649708937794147,0.8520882549669928,0.5573933713616687,0.17849376076106513,0.08967616178215695,0.7774379099412388,-0.5151183483092641,-1.0005918494956652,-0.5102018966660468,-0.1616173442854065,0.14262440300840332,0.23468433720633297,0.6626392466630993,-0.0741129963368647,0.06265610395541402,-0.07996507918346442,0.5126946352748359,-0.757593903715252,-0.44263420311628926,0.017703543764459262,0.4352505029111533,-0.08461441520673982,-0.11826535710262095,-0.028699406981861103,0.0638732736807891,0.09989325663603713,0.05870818189111961,-0.652298742370961,0.09197784451221751,-0.34355887782839967,0.7024436306521463,-0.009084314635815272,0.2635058974660568,-0.08328465627802938,0.03159069478185375,-0.016895130618177073,0.16548114152699847,0.11379606224440661,0.2914711023196254,-0.24952470796849135,0.43265112182826004,-0.5459885061139975,0.29318916919493015,0.268731537331369,-0.023082566546296784,-0.019337711950707562,-0.13079858364623467,-0.05923475810399022,0.12082925737269187,-0.28394185509538505,0.29613204443935937,0.13341571181458983,0.0914684346793574,0.6169841567863301,-0.22604840565412337,-0.20343403195810025,-0.28349607885708356,0.07378603868436988,0.4604078581371587,0.018142819550369185,-0.12200893382730696,-0.01223539343609728,-0.1682518033292702,-0.20660875430301798,-0.34103292540023916,-0.4211941910698409,-0.12466884275189904,0.4098305285869507,-0.20270088631484168,-0.1123531176413575,0.10245582770676973,0.3445589386272033,-0.11585027923311447,0.5788257966078098,0.14377670561627343,-0.26868556271193456,0.27101116912233925,0.33151227229043073,0.28421872076911264,0.5189366100270891,0.18642829639938788,-0.01675087253735942,-0.09451434512432001,-0.03824061752906917,-0.0331608170422483,0.06125113675032337,-0.0904228386200766,0.36590131042917134,0.007767775179918508,0.16474861257792214,-0.34770715809391606,-0.016893515616880517,0.008329523550214685,-0.3278325083145882,0.13926613545483907,-0.40148000112441895,-0.07420684116722187,-0.1853373237864373,-0.04466349188171009,0.07129862751553623,-0.04452961701941713,-0.01784833658109905,-0.25572625030989243,-0.05617952331367582,-0.13732155773036672,0.1124771717862349,-4.687428895635698E-4,-0.11933883719112913,0.04928590062478951,0.3687006560880366,-0.0441166155154267,0.18366743455328852,0.0036953779012832075,-0.0985063621861447,0.35189248019803687,0.2642581128358584,0.025193290721086767,0.31615081581003845,-0.03422956164136233,0.031110073166087465,0.014340638325659627,-0.03693550475062406,0.1952631304856145,0.28654840937404846,0.3794145087463471,0.18026690846648047,0.24480755105982938,0.05471271380680506,0.10425772080856076,-0.12900415514614694,-0.05542544514664122,0.14664975917027642,0.004917703646170252,0.2033180037508406,-0.19899513892189685,-0.06252717720391962,0.13738426030997944,-0.27246243455054897,0.002876346282075788,0.010305174384010268,-0.14363041816985314,-0.06832488038876128,0.031026862310352038,-0.1463004755228995,-0.06825675205616505,-0.15762044538679543,0.08901089246692258,-0.024931544716187314,0.0269529080297349,0.22731467612134953,-0.057281987090040426,0.2646048768293,0.1730989166284208,-0.03808808608497738,0.09845017511492984,0.022941907563186877,-0.010538987269758132,-0.04160882418787351,0.051051465524339465,0.13475448833847603,-0.0025782764733009583,-0.04191537410192686,0.019246603806209604,0.03635615902353966,-0.22564264669750678,-0.028958453670844923,0.05210739457524764,0.1355059347958236,0.007644684724679593,-0.07958005319996937,-0.06971120196271877,-0.15461129774599802,-0.33373532524288124,0.03564789937793135,0.07787826137061021,-0.16580706505996598,0.0263044004792075,0.19600401345481186,0.22055662110406737,0.17075499736587832,0.031110639603631335,-0.22555145807236676,0.17069053205989995,-0.003885912095024431,0.0383522241168338,-0.3385844402361994,-0.03054439547459826,0.02665983656613229,0.2207923678646494,-0.026946826705036196,0.06793553882393355,-0.16482528949712527,0.03296131038069328,0.07019697405951787,-0.10229153382891877,-0.1674916523963602,-0.04057279667160309,0.018206215504113804,0.15220834656348442,0.06786449735667237,-0.20356791123208332,0.14955238657319583,-0.17519035467972421,-0.3182312707297369,-0.08019080052366123,-0.2301665777342304,0.015998806128850282,0.04126790671360489,0.49006508766939555,-0.15619278060345382,-0.03843514078292812,0.2630798078098775,0.12777100307793748,0.2551857842367095,-0.03468812700654565,0.2083467058306507,0.06512475315179028,0.031849658131489406,0.06697136341416077,-0.15606642396438766,0.13133962837707835,-0.15318184406970575,-0.23175359197210887,-0.11446662112804074,0.1532812243395564,-0.17143289007115342,-0.3470122285120182,-0.01060877244061716,-0.21581213750643277,0.11934674244842483,0.23876886534936345,0.10093636510543669,-0.1119464576853734,0.2199737774514105,-0.028992941921332664,0.11485070270170404,0.14782964855481923,0.13216937153503244,-0.05675621687879773,-0.0557082641913198,0.028326125878341227,-0.02422947865654279,-0.07460540876326621,0.029115841406251966,0.2756319305951374,0.35237464419634573,-0.09502487399489991,-0.07144395586683577,0.07289309834727581,0.05471088781886988,0.17541573535432214,0.10082825749477602,-0.2705399811042731,-0.055488928037072824,0.08562742688967408,0.1806943208320718,0.029928078913162952,-0.07093953454795751,-0.21301849099017564,0.045248842596862626,-0.07992707286522044,-0.04777551844373994,0.03453995526641675,-0.013928968540980663,-0.10597725909070793,-0.06622551826927969,-0.1945467167388791,0.16644658552744215,0.06349162813970041,-0.054641726752706135,-0.08601770042258881,0.0805761100331478,0.1302311223447831,-0.14364304831364377,0.0947648083615721,-0.10723380414594091,-0.05672137574796819,-0.06273125638253788,-0.08909759385893364,0.19070700232796817,-0.07397295177325078,0.05927338459498883,-0.11170159817089646,0.006301338207801134,-0.027716493576886228,-0.1630679859050076,-0.02783249470358129,0.22120697764749125,0.10083586908870837,-0.19311080129173364,-0.12972160047584325,0.0026015924945496788,0.030506570128436453,-0.037353329286043555,-0.06650918706675554,-0.010038596450174964,-0.12317549498353514,0.13199643468159172,-0.21457158820223277,-0.11473394207110763,0.04446344935350697,-0.10514212553622818,0.03753226215087982,0.04939644071959653,-0.04676835833659112,-7.308027011598828E-4,-0.13359444039879456,0.03084117000892278,0.07755942670353659,0.11272738325198373,-0.15439977373064043,-0.21882621948562828,-0.03517305829187704,-0.08167249086275849,-0.022395505822913372,-0.046758100340301756,0.020156407779227586,-0.007232271945317562,0.1866822293082041,-0.3678570296098933,-0.13532646503045953,0.2101588355323488,0.13350987265866146,0.026568350553205496,-0.26509445488846156,-0.22471009502305173,0.03782867644883439,0.022136251245114834,0.0017349144796204585,0.13121141411798332,-0.12114442288862673,-0.025381405696175918,0.15134904618886047,-0.15113815815969148,0.034339793029478344,-0.09136279188067535,-0.050311801799568484,-0.04067585533305175,0.09392269871421768,0.18095858375105592,0.04545494289634408,0.004748639062461993,0.04076133844702775,-0.10492500384178505,0.052018484130856094,-0.1895732238990874,0.04194129226371028,0.04577234844214807,0.052861857289098646,0.04728470584483233,-0.11577514445380031,0.021716914827149242,0.11220161576621375,-0.17771577144104264,-0.024804811376410565,-0.04179422536103575,0.06358482898118586,0.06677161716910279,0.04531244535125056,-0.04455245279317821,0.17060964961508676,-0.04652746827702994,0.04242397240574508,-0.03429359190655732,-0.014012273239233644,-0.003787258702002024,-0.05945123535377582,-0.008755771227886877,-0.003965514649315653,0.01869332547952718,-0.033241793214520005,-0.05656940973658248,0.1269193456492447,-0.08258154780717097,0.13510018907582055,0.032650567738892064,-0.09887455165924389,-0.03691948972814371,-0.12016170096345084,0.03214382724731747,0.12322550351515216,-0.12109638865141048,0.046527625626423805,-0.019815671318459738,-0.01934154330945377,0.0801569665193132]                                                                                                                      |\n",
      "|[0.09327981774550811,-0.7826897158922801,0.6101337376317874,-0.0426696286715213,0.14408759895772946,-0.32207943029329184,0.03887350416644575,0.99511125442984,1.001126826923715,1.2915105354872605,1.600015786427065,-0.8058624066881479,-1.3573346879083381,-0.8502606214931727,0.2047131541364341,-1.0765699480456798,-0.1807315528023549,-0.6821640794769179,0.8107833777960987,0.7453618866979514,0.11020042244705075,-2.2989151351895143,0.38535139042593514,0.8401013443436319,-0.3923975544033312,0.08529714602684862,0.7184483457279276,0.2653128329743851,-0.11775264546883889,-0.3744491955714435,-1.0585367434550033,-0.35043648120601567,0.33331288914448637,0.13910910233305096,0.9405461099898873,-0.7013592116471714,0.7399648855356167,0.4742294822535742,0.24665530781635733,0.3842147967763396,-0.5051044582530486,0.3065513037163672,0.3014853145314062,0.3013279772806259,0.22804736756242644,0.14981604697316364,0.33652538300886947,0.008157176317917555,-0.014558993390518846,-0.5494483914266182,-0.05984700123174605,7.050108951019429E-4,0.4377289027534265,0.3206540839458881,-0.874560155746464,-0.04594986513207164,1.2325590427971767,-0.2972055116955691,0.6881261325680953,-1.1432127924690945,-0.28468497166234835,0.14744742953448914,-0.2837535233845213,0.624003449526729,0.44016044188487635,-0.44153576111428905,-0.10771641818556102,0.13607362961466968,-0.6455881674300423,-0.44188173358925986,0.25590255392773886,-0.2513676033300118,0.9826619983515092,-0.23850849694954115,-0.1578688167641437,0.3779534250334936,-0.30703099254278343,-0.31660011938401983,0.3007508774239175,0.10654098977810383,-0.2725288875234959,-0.0714286083247576,0.0760555088377936,-0.6511109095855048,-0.1707229916073387,-0.8575222531489435,0.46200928989031265,0.6582177343710096,-0.24398280501643024,0.2844153067171022,0.7298699363394403,0.024195960585614407,-0.3203348579500529,-0.8829539888820601,0.9337510792072605,0.23007124805293502,0.40327259175771923,-0.13157353927929016,0.4273706967844908,-0.33389864301237626,-0.37048807628765124,-0.5435473921997469,-0.11096278881020143,-0.15057858551964745,0.6207792092743436,-0.25794895364178894,0.03852140612445078,-0.012084603386372308,0.01214151279075506,0.2874275052285656,-0.7350760145438554,0.994809083691399,0.6837410738703418,0.012283684335349515,-0.14331606909379754,0.02830082540918176,-0.4667516021745512,0.3085778961697831,0.1835346852948131,-0.3610838185233612,0.066757648302958,0.4944666117286096,-0.11844210142879544,-0.47175439101746325,0.3812569993839223,0.1126714004530655,-0.8111452776494824,-0.14312736047038727,-0.124889334107485,0.2819184856482076,0.13722635364528696,0.428187427922776,0.09892849249120697,-0.5206320885190507,-0.25578317985735627,0.5629390198691153,-0.26492256754561094,-0.1149742671151139,0.2177776330938687,0.16277511873530742,0.18335677054414695,0.3205131064920783,0.28546513840207,0.20321358747357196,0.015603153718317178,0.3787635731620683,-0.21811083323085828,-0.11101367886683379,0.21236744358831663,-0.25944787755794446,-0.014225174276314811,-0.18295695025580272,-0.05827203852293396,-0.3385832921798996,0.10563479726153849,-0.05384891190886637,-0.1638124713951583,0.18776059980411802,0.39349161109549047,-9.786681821619125E-4,-0.11978689584794486,0.2531401948576923,-0.2687346097680464,0.062222115982583065,0.1486808674663856,0.24671331889983028,-0.18468058028108605,0.19928886870635304,-0.13425209192990528,-0.1940349712980843,-0.2819673400838293,-0.28437236342937894,0.1399929762454098,-0.07472463699417316,0.08823430395518861,0.47553291340990134,-0.1883861186787815,-0.0553097753871965,0.049478067847162854,0.1496826291562698,-0.2932046904763992,0.49106503233071713,0.24384681026168958,-0.09914316340448404,0.37578154004678477,0.3936839610859483,0.35927394681841873,-0.5555503850459478,0.47636194924826014,0.09464044326992808,-0.2986893622454345,-0.44960382873890575,0.27114658703354944,0.33146758188584025,0.08724480484613927,-0.021818275216352656,0.20158204168207905,0.6512802888739965,0.2551435578211503,-0.30078339549326855,0.14237183649310453,-0.042594330294773816,0.13967918100239637,0.17363704163968202,-0.3878531187483075,-0.16383268437692916,0.6759486942492963,-0.291182941799026,-0.0696845103942205,-0.02188775298032828,-0.6682160180756014,0.05932670454835859,-0.03661927814488666,-0.16559031387263917,-0.168675468543165,0.2117709063463816,0.1061343188029876,-0.23301411306969955,0.11939879974728657,-0.006425048117852453,-0.3652075785203901,0.0803301080430279,-0.03317164978914515,0.07965523368823535,0.08768217582727794,-0.053961851725001536,-0.6094782916202535,-0.0512971525182717,0.23412609307666052,-0.42207725551556974,-0.3575927479696736,0.44542176840825953,0.24481755247499287,0.06842097635975816,0.09390509350899046,-0.27986717575894604,-0.042527209423593254,0.04447285742506968,0.626491933810075,0.22876472650376561,0.23607531104841228,0.45456843396188085,-0.31945359650862254,0.3750333553808188,-0.18762474524530057,-0.26473969408016007,0.2665021796140353,-0.16144433559540294,-0.3219252905080755,-0.5271409941234674,0.5172520365525759,0.031091235647173105,-0.06799494491230396,-0.023225215164778587,-0.0564294518304894,0.6039662276740201,-0.01154092835539855,0.38056436092672996,-0.3466371033721345,-0.24464635657215963,-0.6487090636008811,0.10391163642988864,0.023588963763061202,0.7024575869410632,0.6771191588298113,-0.19841621426961029,0.3321781462904232,0.5990773764116248,0.04966039195156903,0.23402034065676316,0.3633190762159654,-0.11187307406416455,-0.07236559699647033,-0.7993848843128972,-0.17970780740549055,0.5265301258795446,0.2124189358909463,0.16379183013212462,0.19534191159325115,-0.733421859311332,-0.12832685041825248,-0.5308687470771911,0.4577393496770944,-0.4424052548691108,-0.3123745241772258,0.7339886824539402,-0.16838758967797074,-0.9481921603560299,0.6231384417159691,0.47586753778740404,-0.19191459837406208,-0.11832153183355262,0.09924684265478366,-0.30803150600978785,0.09043742720114553,-0.1542328405186323,-0.8529925102805971,0.5837438827970762,-0.4326039397247975,0.04506255485712476,0.05178882028737716,0.1935422363674017,0.16319762902449564,-0.37418861090014244,-0.6451383350097645,0.010632326933242155,-0.3375020992537384,-0.3398988961447536,-0.3550505927047726,0.3405973255564333,-0.2667569446874071,-0.225585168351126,0.09661810669357948,0.5072635167896444,0.294472762244394,0.4897065804143054,-0.35742005281019773,-0.4263585973738061,-0.29750785442402516,-0.1965211393556692,-0.18276057399833756,0.2140683115312088,-0.17593729257294977,0.3934787265842999,-0.07245235493854787,-0.1573993960066795,0.42268672599737456,0.053249804957804674,-0.011657708726903887,-0.02194251020794169,0.03402242692803367,-0.4113072853238693,0.3334319126050669,-0.12756815419270662,0.14997978116486574,0.05774920967825092,-0.5570614266582308,0.16498352184228862,0.13086302078649528,-0.023321883890357685,0.16484313533862086,0.1963433796809042,-0.02345452649374183,-0.11663279421811489,0.21112715695593975,0.05220779226586984,-0.1500580927895707,0.03714791294316347,-0.0767738043082356,-0.0692821568400271,0.26266291259282476,0.24910884767319025,0.27344402880650054,0.20714281603339074,0.15478521312739635,-0.14013974223104866,-0.3121158333637806,0.15287793375534023,0.2352083221395389,0.2771582928947204,0.14724296147695756,-0.1461813487525886,0.23810351876472946,0.3522436115482689,-0.1091080162977016,-0.16412358136237964,0.1525476250734481,-0.11519055871598508,0.2245683580483731,-0.002659171477575953,0.12370219018528439,0.17249029199023513,-0.19009278070094376,-0.021953581033166525,0.1749362137799435,0.0561026060263249,-0.05432249738399967,0.2779520480128634,0.17208016970071938,-0.22018026933787138,0.18217979083551597,0.2669989860629077,-0.2673055828335742,0.07292448712395193,-0.05996706930591429,-0.037039494989858396,-0.0012456430410588831,0.271751726476674,0.12974658194615424,-0.0788973117806666,-0.07996985691048114,0.15398567645782754,0.2917021440735877,-0.24227528454979386,0.11420279457794363,0.04736164376771179,0.001216958190584285,0.1015112910264725,0.008930505955456594,0.08490400145875228,-0.0713084339406361,0.17104572633427062,0.050155097539057836,0.04584013304266718,-0.020164361464868927,-0.1182339045847151,-0.08619224614354103,0.08211838969710007,0.14479861154491278,0.16288010899022334,0.3002442529150805,-0.06676903421260108,-0.05253856784585272,-0.0500235988241559,-0.27158211547483146,-0.04031622578497745,0.08567466935113037,0.1344080932977213,0.044315130228189545,-0.16373406182540468,0.004857331390184214,-0.006068977882969312,0.06648299626394666,0.08531619325966691,0.09708484265420421,-0.11662751524697626,0.002177257368907984,-0.168843719250662,-0.034703985786995864,-0.20195235542030124,-0.17174434375869138,-0.16939827238134017,-0.23878264714175423,-0.007778434151555427,-0.011963413142999004,3.3799222828002906E-4,0.1419599900162658,-0.026695469882920292,-0.10687249878170843,0.17716939972944942,0.16708725648988298,0.11933666052503683,-0.15391713029143572,0.08240821545968142,0.08206221407384597,0.13748633727624404,0.004997446155334248,-0.1293829285991311,-0.08183644543481104,0.08764704240221152,0.0381613106815165,-0.0813707092980333,0.1469491021113573,-0.2145196842868492,-0.18059727898331318,-0.19595168313314698,0.19816218268664512,-0.10540608579544082,-0.21689093890942054,-0.1095499596990692,0.014573355936005096,-0.04683689821947826,0.1040332781909219,-0.02751106294896446,0.02804741009668,-0.17594721018247408,-0.030061237739611946,-0.07302895335267545,0.09326287582321413,0.0051064333087423724,-0.09816319009656484,0.005377911840924791,0.0986838703958441,0.25681172720677375,0.09999703279125835,-0.06446016328493953,0.04457393969332936,0.021656309086914946,-0.16004897884884958,0.15205203509279613,-0.039121644633373,0.0937353636467578,0.13335302816534836,-0.12329765810985029,-0.15171530170399047,0.09263800009904437,0.0278453101956177,0.06192178918577518,0.1242437958716112,0.04365516553262766,-0.002024291319906321,0.1398399773160967,-0.10221639441668608,0.02834302486899482,-0.17621049888118936,0.14407423851224693,-0.10991558775388949,-0.08050987711589486,0.022117691181190995,0.09093619634445912]                                                                                                                                                                                                                                                 |\n",
      "+--------------------------------------------------------------------------------------------------------------------------------------------------------------------------------------------------------------------------------------------------------------------------------------------------------------------------------------------------------------------------------------------------------------------------------------------------------------------------------------------------------------------------------------------------------------------------------------------------------------------------------------------------------------------------------------------------------------------------------------------------------------------------------------------------------------------------------------------------------------------------------------------------------------------------------------------------------------------------------------------------------------------------------------------------------------------------------------------------------------------------------------------------------------------------------------------------------------------------------------------------------------------------------------------------------------------------------------------------------------------------------------------------------------------------------------------------------------------------------------------------------------------------------------------------------------------------------------------------------------------------------------------------------------------------------------------------------------------------------------------------------------------------------------------------------------------------------------------------------------------------------------------------------------------------------------------------------------------------------------------------------------------------------------------------------------------------------------------------------------------------------------------------------------------------------------------------------------------------------------------------------------------------------------------------------------------------------------------------------------------------------------------------------------------------------------------------------------------------------------------------------------------------------------------------------------------------------------------------------------------------------------------------------------------------------------------------------------------------------------------------------------------------------------------------------------------------------------------------------------------------------------------------------------------------------------------------------------------------------------------------------------------------------------------------------------------------------------------------------------------------------------------------------------------------------------------------------------------------------------------------------------------------------------------------------------------------------------------------------------------------------------------------------------------------------------------------------------------------------------------------------------------------------------------------------------------------------------------------------------------------------------------------------------------------------------------------------------------------------------------------------------------------------------------------------------------------------------------------------------------------------------------------------------------------------------------------------------------------------------------------------------------------------------------------------------------------------------------------------------------------------------------------------------------------------------------------------------------------------------------------------------------------------------------------------------------------------------------------------------------------------------------------------------------------------------------------------------------------------------------------------------------------------------------------------------------------------------------------------------------------------------------------------------------------------------------------------------------------------------------------------------------------------------------------------------------------------------------------------------------------------------------------------------------------------------------------------------------------------------------------------------------------------------------------------------------------------------------------------------------------------------------------------------------------------------------------------------------------------------------------------------------------------------------------------------------------------------------------------------------------------------------------------------------------------------------------------------------------------------------------------------------------------------------------------------------------------------------------------------------------------------------------------------------------------------------------------------------------------------------------------------------------------------------------------------------------------------------------------------------------------------------------------------------------------------------------------------------------------------------------------------------------------------------------------------------------------------------------------------------------------------------------------------------------------------------------------------------------------------------------------------------------------------------------------------------------------------------------------------------------------------------------------------------------------------------------------------------------------------------------------------------------------------------------------------------------------------------------------------------------------------------------------------------------------------------------------------------------------------------------------------------------------------------------------------------------------------------------------------------------------------------------------------------------------------------------------------------------------------------------------------------------------------------------------------------------------------------------------------------------------------------------------------------------------------------------------------------------------------------------------------------------------------------------------------------------------------------------------------------------------------------------------------------------------------------------------------------------------------------------------------------------------------------------------------------------------------------------------------------------------------------------------------------------------------------------------------------------------------------------------------------------------------------------------------------------------------------------------------------------------------------------------------------------------------------------------------------------------------------------------------------------------------------------------------------------------------------------------------------------------------------------------------------------------------------------------------------------------------------------------------------------------------------------------------------------------------------------------------------------------------------------------------------------------------------------------------------------------------------------------------------------------------------------------------------------------------------------------------------------------------------------------------------------------------------------------------------------------------------------------------------------------------------------------------------------------------------------------------------------------------------------------------------------------------------------------------------------------------------------------------------------------------------------------------------------------------------------------------------------------------------------------------------------------------------------------------------------------------------------------------------------------------------------------------------------------------------------------------------------------------------------------------------------------------------------------------------------------------------------------------------------------------------------------------------------------------------------------------------------------------------------------------------------------------------------------------------------------------------------------------------------------------------------------------------------------------------------------------------------------------------------------------------------------------------------------------------------------------------------------------------------------------------------------------------------------------------------------------------------------------------------------------------------------------------------------------------------------------------------------------------------------------------------------------------------------------------------------------------------------------------------------------------------------------------------------------------------------------------------------------------------------------------------------------------------------------------------------------------------------------------------------------------------------------------------------------------------+\n",
      "only showing top 20 rows\n",
      "\n"
     ]
    }
   ],
   "source": [
    "pcamodel.select('pcaFeatures').show(truncate=False)"
   ]
  },
  {
   "cell_type": "markdown",
   "metadata": {},
   "source": [
    "## VectorAssembler\n",
    "\n",
    "VectorAssembler is a transformer that combines a given list of columns into a single vector column. It is useful for combining raw features and features generated by different feature transformers into a single feature vector, in order to train ML models like logistic regression and decision trees. VectorAssembler accepts the following input column types: all numeric types, boolean type, and vector type. In each row, the values of the input columns will be concatenated into a vector in the specified order.\n",
    "\n",
    "Examples\n",
    "\n",
    "Assume that we have a DataFrame with the columns id, hour, mobile, userFeatures, and clicked:\n",
    "\n",
    " id | hour | mobile | userFeatures     | clicked\n",
    "----|------|--------|------------------|---------\n",
    " 0  | 18   | 1.0    | [0.0, 10.0, 0.5] | 1.0\n",
    "userFeatures is a vector column that contains three user features. We want to combine hour, mobile, and userFeatures into a single feature vector called features and use it to predict clicked or not. If we set VectorAssembler’s input columns to hour, mobile, and userFeatures and output column to features, after transformation we should get the following DataFrame:\n",
    "\n",
    " id | hour | mobile | userFeatures     | clicked | features\n",
    "----|------|--------|------------------|---------|-----------------------------\n",
    " 0  | 18   | 1.0    | [0.0, 10.0, 0.5] | 1.0     | [18.0, 1.0, 0.0, 10.0, 0.5]"
   ]
  },
  {
   "cell_type": "code",
   "execution_count": 53,
   "metadata": {},
   "outputs": [
    {
     "name": "stdout",
     "output_type": "stream",
     "text": [
      "+----+----+----+\n",
      "|int1|int2|int3|\n",
      "+----+----+----+\n",
      "|   1|   2|   3|\n",
      "|   4|   5|   6|\n",
      "|   7|   8|   9|\n",
      "+----+----+----+\n",
      "\n"
     ]
    }
   ],
   "source": [
    "intDF.show()"
   ]
  },
  {
   "cell_type": "code",
   "execution_count": 27,
   "metadata": {},
   "outputs": [],
   "source": [
    "from pyspark.ml.feature import VectorAssembler"
   ]
  },
  {
   "cell_type": "code",
   "execution_count": 28,
   "metadata": {},
   "outputs": [],
   "source": [
    "va = VectorAssembler(inputCols=['int1','int2','int3'], outputCol='features')"
   ]
  },
  {
   "cell_type": "code",
   "execution_count": 29,
   "metadata": {},
   "outputs": [],
   "source": [
    "vaDF = va.transform(intDF)"
   ]
  },
  {
   "cell_type": "code",
   "execution_count": 30,
   "metadata": {},
   "outputs": [
    {
     "name": "stdout",
     "output_type": "stream",
     "text": [
      "+----+----+----+-------------+\n",
      "|int1|int2|int3|     features|\n",
      "+----+----+----+-------------+\n",
      "|   1|   2|   3|[1.0,2.0,3.0]|\n",
      "|   4|   5|   6|[4.0,5.0,6.0]|\n",
      "|   7|   8|   9|[7.0,8.0,9.0]|\n",
      "+----+----+----+-------------+\n",
      "\n"
     ]
    }
   ],
   "source": [
    "vaDF.show()"
   ]
  },
  {
   "cell_type": "markdown",
   "metadata": {},
   "source": [
    "#### Standard Scaler\n",
    "\n",
    "\n",
    "\n",
    "StandardScaler transforms a dataset of Vector rows, normalizing each feature to have unit standard deviation and/or zero mean. It takes parameters:\n",
    "\n",
    "withStd: True by default. Scales the data to unit standard deviation.\n",
    "\n",
    "withMean: False by default. Centers the data with mean before scaling. It will build a dense output, so take care when applying to sparse input."
   ]
  },
  {
   "cell_type": "code",
   "execution_count": 31,
   "metadata": {},
   "outputs": [],
   "source": [
    "from pyspark.ml.feature import StandardScaler"
   ]
  },
  {
   "cell_type": "code",
   "execution_count": 32,
   "metadata": {},
   "outputs": [],
   "source": [
    "ss = StandardScaler(inputCol='features', outputCol='scaledfeatures')"
   ]
  },
  {
   "cell_type": "code",
   "execution_count": 33,
   "metadata": {},
   "outputs": [],
   "source": [
    "scaledModel = ss.fit(idfDF)"
   ]
  },
  {
   "cell_type": "code",
   "execution_count": 34,
   "metadata": {},
   "outputs": [],
   "source": [
    "scaledDF = scaledModel.transform(idfDF)"
   ]
  },
  {
   "cell_type": "code",
   "execution_count": 35,
   "metadata": {},
   "outputs": [
    {
     "name": "stdout",
     "output_type": "stream",
     "text": [
      "+------------------------------------------------------------------------------------------------------------------------+-----------------------------------------------------------------------------------------------------------------------+\n",
      "|features                                                                                                                |scaledfeatures                                                                                                         |\n",
      "+------------------------------------------------------------------------------------------------------------------------+-----------------------------------------------------------------------------------------------------------------------+\n",
      "|(1000,[77,152,160,348,538],[3.01461366633085,2.844800959228604,2.7450505564615444,3.396869541528644,3.4509367627989196])|(1000,[77,152,160,348,538],[4.635023651770548,4.277276300419256,4.081966009511676,5.569389272628786,5.717440613119333])|\n",
      "|(1000,[77,495,729],[3.01461366633085,5.168588259873252,3.4297943262251103])                                             |(1000,[77,495,729],[4.635023651770548,11.506190185210073,5.659045375815251])                                           |\n",
      "+------------------------------------------------------------------------------------------------------------------------+-----------------------------------------------------------------------------------------------------------------------+\n",
      "only showing top 2 rows\n",
      "\n"
     ]
    }
   ],
   "source": [
    "scaledDF.select('features','scaledfeatures').show(2,truncate=False)"
   ]
  },
  {
   "cell_type": "markdown",
   "metadata": {},
   "source": [
    "### RFormula\n",
    "RFormula selects columns specified by an R model formula. Currently we support a limited subset of the R operators, including ‘~’, ‘.’, ‘:’, ‘+’, and ‘-‘. The basic operators are:\n",
    "\n",
    "~ separate target and terms\n",
    "+ concat terms, “+ 0” means removing intercept\n",
    "- remove a term, “- 1” means removing intercept\n",
    ": interaction (multiplication for numeric values, or binarized categorical values)\n",
    ". all columns except target\n",
    "Suppose a and b are double columns, we use the following simple examples to illustrate the effect of RFormula:\n",
    "\n",
    "y ~ a + b means model y ~ w0 + w1 * a + w2 * b where w0 is the intercept and w1, w2 are coefficients.\n",
    "y ~ a + b + a:b - 1 means model y ~ w1 * a + w2 * b + w3 * a * b where w1, w2, w3 are coefficients.\n",
    "RFormula produces a vector column of features and a double or string column of label. Like when formulas are used in R for linear regression, numeric columns will be cast to doubles. As to string input columns, they will first be transformed with StringIndexer using ordering determined by stringOrderType, and the last category after ordering is dropped, then the doubles will be one-hot encoded."
   ]
  },
  {
   "cell_type": "code",
   "execution_count": 11,
   "metadata": {},
   "outputs": [],
   "source": [
    "from pyspark.ml.feature import RFormula"
   ]
  },
  {
   "cell_type": "code",
   "execution_count": 12,
   "metadata": {},
   "outputs": [
    {
     "ename": "NameError",
     "evalue": "name 'simpleDF' is not defined",
     "output_type": "error",
     "traceback": [
      "\u001b[0;31m---------------------------------------------------------------------------\u001b[0m",
      "\u001b[0;31mNameError\u001b[0m                                 Traceback (most recent call last)",
      "\u001b[0;32m/tmp/ipykernel_3339/3229037386.py\u001b[0m in \u001b[0;36m<module>\u001b[0;34m\u001b[0m\n\u001b[0;32m----> 1\u001b[0;31m \u001b[0msimpleDF\u001b[0m\u001b[0;34m.\u001b[0m\u001b[0mshow\u001b[0m\u001b[0;34m(\u001b[0m\u001b[0;34m)\u001b[0m\u001b[0;34m\u001b[0m\u001b[0;34m\u001b[0m\u001b[0m\n\u001b[0m",
      "\u001b[0;31mNameError\u001b[0m: name 'simpleDF' is not defined"
     ]
    }
   ],
   "source": [
    "simpleDF.show()"
   ]
  },
  {
   "cell_type": "code",
   "execution_count": 38,
   "metadata": {},
   "outputs": [],
   "source": [
    "rf = RFormula(formula='lab ~ .')"
   ]
  },
  {
   "cell_type": "code",
   "execution_count": 39,
   "metadata": {},
   "outputs": [],
   "source": [
    "rfModel = rf.fit(simpleDF)"
   ]
  },
  {
   "cell_type": "code",
   "execution_count": 40,
   "metadata": {},
   "outputs": [],
   "source": [
    "labelDF = rfModel.transform(simpleDF)"
   ]
  },
  {
   "cell_type": "code",
   "execution_count": 43,
   "metadata": {},
   "outputs": [
    {
     "name": "stdout",
     "output_type": "stream",
     "text": [
      "+-----+---------------------------------+-----+\n",
      "|color|features                         |label|\n",
      "+-----+---------------------------------+-----+\n",
      "|green|[0.0,1.0,1.0,14.386294994851129] |1.0  |\n",
      "|blue |[0.0,0.0,8.0,14.386294994851129] |0.0  |\n",
      "|blue |[0.0,0.0,12.0,14.386294994851129]|0.0  |\n",
      "|green|[0.0,1.0,15.0,38.97187133755819] |1.0  |\n",
      "|green|[0.0,1.0,12.0,14.386294994851129]|1.0  |\n",
      "|green|[0.0,1.0,16.0,14.386294994851129]|0.0  |\n",
      "|red  |[1.0,0.0,35.0,14.386294994851129]|1.0  |\n",
      "|red  |[1.0,0.0,1.0,38.97187133755819]  |0.0  |\n",
      "|red  |[1.0,0.0,2.0,14.386294994851129] |0.0  |\n",
      "|red  |[1.0,0.0,16.0,14.386294994851129]|0.0  |\n",
      "|red  |[1.0,0.0,45.0,38.97187133755819] |1.0  |\n",
      "|green|[0.0,1.0,1.0,14.386294994851129] |1.0  |\n",
      "|blue |[0.0,0.0,8.0,14.386294994851129] |0.0  |\n",
      "|blue |[0.0,0.0,12.0,14.386294994851129]|0.0  |\n",
      "|green|[0.0,1.0,15.0,38.97187133755819] |1.0  |\n",
      "|green|[0.0,1.0,12.0,14.386294994851129]|1.0  |\n",
      "|green|[0.0,1.0,16.0,14.386294994851129]|0.0  |\n",
      "|red  |[1.0,0.0,35.0,14.386294994851129]|1.0  |\n",
      "|red  |[1.0,0.0,1.0,38.97187133755819]  |0.0  |\n",
      "|red  |[1.0,0.0,2.0,14.386294994851129] |0.0  |\n",
      "+-----+---------------------------------+-----+\n",
      "only showing top 20 rows\n",
      "\n"
     ]
    }
   ],
   "source": [
    "labelDF.select('color','features','label').show(truncate=False)"
   ]
  },
  {
   "cell_type": "code",
   "execution_count": 111,
   "metadata": {},
   "outputs": [
    {
     "name": "stdout",
     "output_type": "stream",
     "text": [
      "== Physical Plan ==\n",
      "*(1) Project [features#1660 AS features#1670, UDF(lab#194) AS label#1685]\n",
      "+- *(1) Project [lab#194, UDF(named_struct(onehot_6a4441f02305, UDF(stridx_05d5bf0425f5#1628, 0), value1_double_RFormula_0c537f2b4141, cast(value1#195L as double), value2, value2#196, interaction_7f067c050cfe, UDF(named_struct(stridx_05d5bf0425f5, stridx_05d5bf0425f5#1628, col2, cast(value1#195L as double))), interaction_626f2e09e204, UDF(named_struct(stridx_05d5bf0425f5, stridx_05d5bf0425f5#1628, value2, value2#196)))) AS features#1660]\n",
      "   +- *(1) Project [lab#194, value1#195L, value2#196, UDF(color#193) AS stridx_05d5bf0425f5#1628]\n",
      "      +- *(1) FileScan json [color#193,lab#194,value1#195L,value2#196] Batched: false, Format: JSON, Location: InMemoryFileIndex[file:/E:/BigDataAnalytics/Notebooks/Notebooks/data/simple-ml], PartitionFilters: [], PushedFilters: [], ReadSchema: struct<color:string,lab:string,value1:bigint,value2:double>\n"
     ]
    }
   ],
   "source": [
    "labelDF.select(\"features\", \"label\").explain()"
   ]
  },
  {
   "cell_type": "code",
   "execution_count": 99,
   "metadata": {},
   "outputs": [],
   "source": [
    "rf1 = RFormula(formula='lab~color+value1+value2')"
   ]
  },
  {
   "cell_type": "code",
   "execution_count": 101,
   "metadata": {},
   "outputs": [],
   "source": [
    "rf1DF = rf1.fit(simpleDF).transform(simpleDF)"
   ]
  },
  {
   "cell_type": "code",
   "execution_count": 105,
   "metadata": {},
   "outputs": [
    {
     "name": "stdout",
     "output_type": "stream",
     "text": [
      "+-----+---------------------------------+-----+\n",
      "|color|features                         |label|\n",
      "+-----+---------------------------------+-----+\n",
      "|green|[0.0,1.0,1.0,14.386294994851129] |1.0  |\n",
      "|blue |[0.0,0.0,8.0,14.386294994851129] |0.0  |\n",
      "|blue |[0.0,0.0,12.0,14.386294994851129]|0.0  |\n",
      "|green|[0.0,1.0,15.0,38.97187133755819] |1.0  |\n",
      "|green|[0.0,1.0,12.0,14.386294994851129]|1.0  |\n",
      "|green|[0.0,1.0,16.0,14.386294994851129]|0.0  |\n",
      "|red  |[1.0,0.0,35.0,14.386294994851129]|1.0  |\n",
      "|red  |[1.0,0.0,1.0,38.97187133755819]  |0.0  |\n",
      "|red  |[1.0,0.0,2.0,14.386294994851129] |0.0  |\n",
      "|red  |[1.0,0.0,16.0,14.386294994851129]|0.0  |\n",
      "|red  |[1.0,0.0,45.0,38.97187133755819] |1.0  |\n",
      "|green|[0.0,1.0,1.0,14.386294994851129] |1.0  |\n",
      "|blue |[0.0,0.0,8.0,14.386294994851129] |0.0  |\n",
      "|blue |[0.0,0.0,12.0,14.386294994851129]|0.0  |\n",
      "|green|[0.0,1.0,15.0,38.97187133755819] |1.0  |\n",
      "|green|[0.0,1.0,12.0,14.386294994851129]|1.0  |\n",
      "|green|[0.0,1.0,16.0,14.386294994851129]|0.0  |\n",
      "|red  |[1.0,0.0,35.0,14.386294994851129]|1.0  |\n",
      "|red  |[1.0,0.0,1.0,38.97187133755819]  |0.0  |\n",
      "|red  |[1.0,0.0,2.0,14.386294994851129] |0.0  |\n",
      "+-----+---------------------------------+-----+\n",
      "only showing top 20 rows\n",
      "\n"
     ]
    }
   ],
   "source": [
    "rf1DF.select('color','features','label').show(truncate=False)"
   ]
  },
  {
   "cell_type": "code",
   "execution_count": 20,
   "metadata": {},
   "outputs": [
    {
     "name": "stdout",
     "output_type": "stream",
     "text": [
      "+---+-------+----+-------+--------------+-----+\n",
      "| id|country|hour|clicked|      features|label|\n",
      "+---+-------+----+-------+--------------+-----+\n",
      "|  7|     US|  18|    1.0|[0.0,0.0,18.0]|  1.0|\n",
      "|  8|     CA|  12|    0.0|[1.0,0.0,12.0]|  0.0|\n",
      "|  9|     NZ|  15|    0.0|[0.0,1.0,15.0]|  0.0|\n",
      "+---+-------+----+-------+--------------+-----+\n",
      "\n"
     ]
    }
   ],
   "source": [
    "dataset = spark.createDataFrame(\n",
    "    [(7, \"US\", 18, 1.0),\n",
    "     (8, \"CA\", 12, 0.0),\n",
    "     (9, \"NZ\", 15, 0.0)],\n",
    "    [\"id\", \"country\", \"hour\", \"clicked\"])\n",
    "\n",
    "\n",
    "formula = RFormula(formula=\"clicked ~   country + hour\")\n",
    "\n",
    "output = formula.fit(dataset).transform(dataset)\n",
    "output.show()"
   ]
  },
  {
   "cell_type": "code",
   "execution_count": 18,
   "metadata": {},
   "outputs": [
    {
     "name": "stdout",
     "output_type": "stream",
     "text": [
      "+---+-------+----+-------+\n",
      "| id|country|hour|clicked|\n",
      "+---+-------+----+-------+\n",
      "|  7|     US|  18|    1.0|\n",
      "|  8|     CA|  12|    0.0|\n",
      "|  9|     NZ|  15|    0.0|\n",
      "+---+-------+----+-------+\n",
      "\n"
     ]
    }
   ],
   "source": [
    "dataset.show()"
   ]
  },
  {
   "cell_type": "markdown",
   "metadata": {},
   "source": [
    "#### SQLTransformer\n",
    "SQLTransformer implements the transformations which are defined by SQL statement. Currently, only supported SQL syntax is like \"SELECT ... FROM __THIS__ ...\" where \"__THIS__\" represents the underlying table of the input dataset. The select clause specifies the fields, constants, and expressions to display in the output, and can be any select clause that Spark SQL supports. Users can also use Spark SQL built-in function and UDFs to operate on these selected columns. For example, SQLTransformer supports statements like:\n",
    "\n",
    "SELECT a, a + b AS a_b FROM __THIS__\n",
    "\n",
    "SELECT a, SQRT(b) AS b_sqrt FROM __THIS__ where a > 5\n",
    "\n",
    "SELECT a, b, SUM(c) AS c_sum FROM __THIS__ GROUP BY a, b\n",
    "\n",
    "Examples\n",
    "\n",
    "Assume that we have the following DataFrame with columns id, v1 and v2:\n",
    "\n",
    " id |  v1 |  v2\n",
    "----|-----|-----\n",
    " 0  | 1.0 | 3.0  \n",
    " 2  | 2.0 | 5.0\n",
    "This is the output of the SQLTransformer with statement \"SELECT *, (v1 + v2) AS v3, (v1 * v2) AS v4 FROM __THIS__\":\n",
    "\n",
    " id |  v1 |  v2 |  v3 |  v4\n",
    "----|-----|-----|-----|-----\n",
    " 0  | 1.0 | 3.0 | 4.0 | 3.0\n",
    " 2  | 2.0 | 5.0 | 7.0 |10.0"
   ]
  },
  {
   "cell_type": "code",
   "execution_count": 45,
   "metadata": {},
   "outputs": [
    {
     "name": "stdout",
     "output_type": "stream",
     "text": [
      "+---+---+---+---+----+\n",
      "| id| v1| v2| v3|  v4|\n",
      "+---+---+---+---+----+\n",
      "|  0|1.0|3.0|4.0| 3.0|\n",
      "|  2|2.0|5.0|7.0|10.0|\n",
      "+---+---+---+---+----+\n",
      "\n"
     ]
    }
   ],
   "source": [
    "from pyspark.ml.feature import SQLTransformer\n",
    "\n",
    "df = spark.createDataFrame([\n",
    "    (0, 1.0, 3.0),\n",
    "    (2, 2.0, 5.0)\n",
    "], [\"id\", \"v1\", \"v2\"])\n",
    "sqlTrans = SQLTransformer(\n",
    "    statement=\"SELECT *, (v1 + v2) AS v3, (v1 * v2) AS v4 FROM __THIS__\")\n",
    "sqlTrans.transform(df).show()"
   ]
  },
  {
   "cell_type": "code",
   "execution_count": 46,
   "metadata": {},
   "outputs": [],
   "source": [
    "sqlDF = sqlTrans.transform(df)"
   ]
  },
  {
   "cell_type": "code",
   "execution_count": 82,
   "metadata": {},
   "outputs": [
    {
     "name": "stdout",
     "output_type": "stream",
     "text": [
      "+---+---+---+---+----+\n",
      "| id| v1| v2| v3|  v4|\n",
      "+---+---+---+---+----+\n",
      "|  0|1.0|3.0|4.0| 3.0|\n",
      "|  2|2.0|5.0|7.0|10.0|\n",
      "+---+---+---+---+----+\n",
      "\n"
     ]
    }
   ],
   "source": [
    "sqlDF.show()"
   ]
  },
  {
   "cell_type": "code",
   "execution_count": null,
   "metadata": {},
   "outputs": [],
   "source": []
  },
  {
   "cell_type": "markdown",
   "metadata": {},
   "source": [
    "### Working with Continuous Features"
   ]
  },
  {
   "cell_type": "markdown",
   "metadata": {},
   "source": [
    "##### Bucketing\n",
    "When specifying your\n",
    "bucket points, the values you pass into splits must satisfy three requirements:\n",
    "- The minimum value in your splits array must be less than the minimum value in your DataFrame.\n",
    "- The maximum value in your splits array must be greater than the maximum value in your DataFrame.\n",
    "- You need to specify at a minimum three values in the splits array, which creates two buckets."
   ]
  },
  {
   "cell_type": "code",
   "execution_count": null,
   "metadata": {},
   "outputs": [],
   "source": []
  },
  {
   "cell_type": "code",
   "execution_count": 47,
   "metadata": {
    "scrolled": true
   },
   "outputs": [],
   "source": [
    "quatiles = sales.approxQuantile('unitprice',[0.2,0.4,0.6,0.8,1.0],0.05)"
   ]
  },
  {
   "cell_type": "code",
   "execution_count": 48,
   "metadata": {},
   "outputs": [
    {
     "data": {
      "text/plain": [
       "[1.25, 1.95, 2.95, 4.65, 887.52]"
      ]
     },
     "execution_count": 48,
     "metadata": {},
     "output_type": "execute_result"
    }
   ],
   "source": [
    "quatiles"
   ]
  },
  {
   "cell_type": "code",
   "execution_count": 49,
   "metadata": {},
   "outputs": [],
   "source": [
    "quatiles.insert(0,-float(\"inf\"))"
   ]
  },
  {
   "cell_type": "code",
   "execution_count": 50,
   "metadata": {},
   "outputs": [],
   "source": [
    "quatiles.insert(6,float(\"inf\"))"
   ]
  },
  {
   "cell_type": "code",
   "execution_count": 51,
   "metadata": {},
   "outputs": [
    {
     "data": {
      "text/plain": [
       "[-inf, 1.25, 1.95, 2.95, 4.65, 887.52, inf]"
      ]
     },
     "execution_count": 51,
     "metadata": {},
     "output_type": "execute_result"
    }
   ],
   "source": [
    "quatiles"
   ]
  },
  {
   "cell_type": "code",
   "execution_count": 206,
   "metadata": {},
   "outputs": [],
   "source": [
    "from pyspark.ml.feature import Bucketizer\n",
    "\n",
    "b = Bucketizer(splits=quatiles,inputCol='UnitPrice',outputCol='buck_unitprice')\n",
    "\n",
    "bucketedDF = b.transform(sales)"
   ]
  },
  {
   "cell_type": "code",
   "execution_count": 207,
   "metadata": {},
   "outputs": [
    {
     "name": "stdout",
     "output_type": "stream",
     "text": [
      "+---------+--------------+\n",
      "|unitprice|buck_unitprice|\n",
      "+---------+--------------+\n",
      "|     0.42|           0.0|\n",
      "|     0.85|           0.0|\n",
      "|     0.85|           0.0|\n",
      "|     0.72|           0.0|\n",
      "|     0.95|           0.0|\n",
      "|     0.99|           0.0|\n",
      "|     0.85|           0.0|\n",
      "|     0.85|           0.0|\n",
      "|     0.84|           0.0|\n",
      "|     0.95|           0.0|\n",
      "|     0.85|           0.0|\n",
      "|     0.43|           0.0|\n",
      "|     0.85|           0.0|\n",
      "|     0.85|           0.0|\n",
      "|     0.85|           0.0|\n",
      "|     0.95|           0.0|\n",
      "|     0.85|           0.0|\n",
      "|     0.42|           0.0|\n",
      "|     0.85|           0.0|\n",
      "|     0.43|           0.0|\n",
      "|     0.85|           0.0|\n",
      "|     0.85|           0.0|\n",
      "|     0.85|           0.0|\n",
      "|     0.42|           0.0|\n",
      "|     0.43|           0.0|\n",
      "|     0.42|           0.0|\n",
      "|     0.42|           0.0|\n",
      "|     0.85|           0.0|\n",
      "|     0.42|           0.0|\n",
      "|     0.65|           0.0|\n",
      "|     0.42|           0.0|\n",
      "|     0.55|           0.0|\n",
      "|     0.85|           0.0|\n",
      "|     0.85|           0.0|\n",
      "|     0.85|           0.0|\n",
      "|     0.24|           0.0|\n",
      "|     0.85|           0.0|\n",
      "|     0.85|           0.0|\n",
      "|     0.84|           0.0|\n",
      "|     0.64|           0.0|\n",
      "|     0.43|           0.0|\n",
      "|     0.95|           0.0|\n",
      "|     0.65|           0.0|\n",
      "|     0.85|           0.0|\n",
      "|     0.42|           0.0|\n",
      "|     0.65|           0.0|\n",
      "|     0.29|           0.0|\n",
      "|     0.95|           0.0|\n",
      "|     0.85|           0.0|\n",
      "|     0.65|           0.0|\n",
      "|     0.29|           0.0|\n",
      "|     0.42|           0.0|\n",
      "|     0.85|           0.0|\n",
      "|     0.85|           0.0|\n",
      "|     0.85|           0.0|\n",
      "|     0.95|           0.0|\n",
      "|     0.29|           0.0|\n",
      "|     0.85|           0.0|\n",
      "|     0.85|           0.0|\n",
      "|     0.85|           0.0|\n",
      "|     0.85|           0.0|\n",
      "|     0.42|           0.0|\n",
      "|     0.85|           0.0|\n",
      "|     1.06|           0.0|\n",
      "|     0.85|           0.0|\n",
      "|     1.06|           0.0|\n",
      "|     0.85|           0.0|\n",
      "|     0.42|           0.0|\n",
      "|     0.85|           0.0|\n",
      "|     0.85|           0.0|\n",
      "|     0.55|           0.0|\n",
      "|     1.06|           0.0|\n",
      "|     0.65|           0.0|\n",
      "|     0.85|           0.0|\n",
      "|     0.65|           0.0|\n",
      "|     0.55|           0.0|\n",
      "|     0.85|           0.0|\n",
      "|     0.85|           0.0|\n",
      "|     0.85|           0.0|\n",
      "|     0.85|           0.0|\n",
      "|     0.85|           0.0|\n",
      "|     0.85|           0.0|\n",
      "|     0.85|           0.0|\n",
      "|     0.85|           0.0|\n",
      "|     0.72|           0.0|\n",
      "|     0.64|           0.0|\n",
      "|     0.42|           0.0|\n",
      "|     0.85|           0.0|\n",
      "|     0.42|           0.0|\n",
      "|     0.85|           0.0|\n",
      "|     0.85|           0.0|\n",
      "|     0.85|           0.0|\n",
      "|     0.85|           0.0|\n",
      "|     0.85|           0.0|\n",
      "|     0.55|           0.0|\n",
      "|     0.85|           0.0|\n",
      "|     0.85|           0.0|\n",
      "|     1.06|           0.0|\n",
      "|     0.42|           0.0|\n",
      "|     0.29|           0.0|\n",
      "|     0.85|           0.0|\n",
      "|     0.85|           0.0|\n",
      "|     0.43|           0.0|\n",
      "|     0.85|           0.0|\n",
      "|     0.85|           0.0|\n",
      "|     0.42|           0.0|\n",
      "|     1.06|           0.0|\n",
      "|     1.06|           0.0|\n",
      "|     0.85|           0.0|\n",
      "|     0.42|           0.0|\n",
      "|     0.85|           0.0|\n",
      "|     0.85|           0.0|\n",
      "|     0.42|           0.0|\n",
      "|     0.42|           0.0|\n",
      "|     0.85|           0.0|\n",
      "|     0.29|           0.0|\n",
      "|     0.85|           0.0|\n",
      "|     0.55|           0.0|\n",
      "|     0.85|           0.0|\n",
      "|     0.85|           0.0|\n",
      "|     0.42|           0.0|\n",
      "|     0.42|           0.0|\n",
      "|     0.85|           0.0|\n",
      "|     0.85|           0.0|\n",
      "|     0.42|           0.0|\n",
      "|     0.55|           0.0|\n",
      "|     0.81|           0.0|\n",
      "|     0.85|           0.0|\n",
      "|     1.06|           0.0|\n",
      "|     1.06|           0.0|\n",
      "|     0.85|           0.0|\n",
      "|     0.55|           0.0|\n",
      "|     1.06|           0.0|\n",
      "|     1.06|           0.0|\n",
      "|     0.85|           0.0|\n",
      "|     0.55|           0.0|\n",
      "|     0.42|           0.0|\n",
      "|     0.21|           0.0|\n",
      "|     0.42|           0.0|\n",
      "|     0.85|           0.0|\n",
      "|     0.85|           0.0|\n",
      "|     0.29|           0.0|\n",
      "|     0.85|           0.0|\n",
      "|     0.85|           0.0|\n",
      "|     0.85|           0.0|\n",
      "|     0.29|           0.0|\n",
      "|     0.55|           0.0|\n",
      "|     0.42|           0.0|\n",
      "|     0.85|           0.0|\n",
      "|     0.43|           0.0|\n",
      "|     0.43|           0.0|\n",
      "|     0.85|           0.0|\n",
      "|     0.85|           0.0|\n",
      "|     0.85|           0.0|\n",
      "|     0.29|           0.0|\n",
      "|     0.85|           0.0|\n",
      "|     0.72|           0.0|\n",
      "|     0.85|           0.0|\n",
      "|     0.55|           0.0|\n",
      "|     0.85|           0.0|\n",
      "|     0.85|           0.0|\n",
      "|     0.85|           0.0|\n",
      "|     0.85|           0.0|\n",
      "|     0.85|           0.0|\n",
      "|     0.85|           0.0|\n",
      "|     0.43|           0.0|\n",
      "|     0.43|           0.0|\n",
      "|     0.85|           0.0|\n",
      "|     0.85|           0.0|\n",
      "|     0.72|           0.0|\n",
      "|     0.85|           0.0|\n",
      "|     0.72|           0.0|\n",
      "|     0.42|           0.0|\n",
      "|     0.42|           0.0|\n",
      "|     0.85|           0.0|\n",
      "|     0.85|           0.0|\n",
      "|     0.29|           0.0|\n",
      "|     0.85|           0.0|\n",
      "|     0.85|           0.0|\n",
      "|     0.85|           0.0|\n",
      "|     1.06|           0.0|\n",
      "|     0.42|           0.0|\n",
      "|     0.32|           0.0|\n",
      "|     0.85|           0.0|\n",
      "|     0.65|           0.0|\n",
      "|     0.85|           0.0|\n",
      "|     0.85|           0.0|\n",
      "|     0.85|           0.0|\n",
      "|     0.65|           0.0|\n",
      "|     0.42|           0.0|\n",
      "|     0.65|           0.0|\n",
      "|     0.85|           0.0|\n",
      "|     0.42|           0.0|\n",
      "|     0.85|           0.0|\n",
      "|     0.65|           0.0|\n",
      "|     1.06|           0.0|\n",
      "|     0.65|           0.0|\n",
      "|     0.42|           0.0|\n",
      "|     0.42|           0.0|\n",
      "|     0.21|           0.0|\n",
      "|     0.85|           0.0|\n",
      "|     0.21|           0.0|\n",
      "|     0.85|           0.0|\n",
      "|     0.42|           0.0|\n",
      "|     0.42|           0.0|\n",
      "|     0.42|           0.0|\n",
      "|     0.85|           0.0|\n",
      "|     0.85|           0.0|\n",
      "|     0.43|           0.0|\n",
      "|     0.42|           0.0|\n",
      "|     0.85|           0.0|\n",
      "|     1.06|           0.0|\n",
      "|     0.85|           0.0|\n",
      "|     0.42|           0.0|\n",
      "|     0.85|           0.0|\n",
      "|     0.81|           0.0|\n",
      "|     0.85|           0.0|\n",
      "|     0.42|           0.0|\n",
      "|     0.42|           0.0|\n",
      "|     0.85|           0.0|\n",
      "|     0.85|           0.0|\n",
      "|     0.85|           0.0|\n",
      "|     0.42|           0.0|\n",
      "|     0.42|           0.0|\n",
      "|     0.42|           0.0|\n",
      "|     0.85|           0.0|\n",
      "|     0.85|           0.0|\n",
      "|     0.29|           0.0|\n",
      "|     0.29|           0.0|\n",
      "|     0.85|           0.0|\n",
      "|     0.85|           0.0|\n",
      "|     0.55|           0.0|\n",
      "|     0.85|           0.0|\n",
      "|     0.42|           0.0|\n",
      "|     0.85|           0.0|\n",
      "|     0.55|           0.0|\n",
      "|     0.55|           0.0|\n",
      "|     1.06|           0.0|\n",
      "|     0.85|           0.0|\n",
      "|     0.85|           0.0|\n",
      "|     0.85|           0.0|\n",
      "|     0.85|           0.0|\n",
      "|     0.42|           0.0|\n",
      "|     0.55|           0.0|\n",
      "|     0.85|           0.0|\n",
      "|     0.42|           0.0|\n",
      "|     0.42|           0.0|\n",
      "|     0.85|           0.0|\n",
      "|     0.85|           0.0|\n",
      "|     0.42|           0.0|\n",
      "|     0.85|           0.0|\n",
      "|     0.42|           0.0|\n",
      "|     0.55|           0.0|\n",
      "|     0.85|           0.0|\n",
      "|     0.85|           0.0|\n",
      "|     0.42|           0.0|\n",
      "|     1.06|           0.0|\n",
      "|     1.06|           0.0|\n",
      "|     1.06|           0.0|\n",
      "|     0.42|           0.0|\n",
      "|     1.06|           0.0|\n",
      "|     0.85|           0.0|\n",
      "|     0.85|           0.0|\n",
      "|     0.42|           0.0|\n",
      "|     0.55|           0.0|\n",
      "|     0.85|           0.0|\n",
      "|     0.55|           0.0|\n",
      "|     0.42|           0.0|\n",
      "|     1.06|           0.0|\n",
      "|     0.42|           0.0|\n",
      "|     0.55|           0.0|\n",
      "|     0.42|           0.0|\n",
      "|     1.06|           0.0|\n",
      "|     0.42|           0.0|\n",
      "|     0.85|           0.0|\n",
      "|     0.42|           0.0|\n",
      "|     0.55|           0.0|\n",
      "|     0.42|           0.0|\n",
      "|     0.38|           0.0|\n",
      "|     0.42|           0.0|\n",
      "|     0.21|           0.0|\n",
      "|     0.12|           0.0|\n",
      "|     0.42|           0.0|\n",
      "|     0.42|           0.0|\n",
      "|     0.85|           0.0|\n",
      "|     0.65|           0.0|\n",
      "|     0.85|           0.0|\n",
      "|     0.42|           0.0|\n",
      "|     1.06|           0.0|\n",
      "|     0.85|           0.0|\n",
      "|     0.85|           0.0|\n",
      "|     0.42|           0.0|\n",
      "|     0.29|           0.0|\n",
      "|     0.55|           0.0|\n",
      "|     0.55|           0.0|\n",
      "|     0.42|           0.0|\n",
      "|     0.65|           0.0|\n",
      "|     0.42|           0.0|\n",
      "|     0.65|           0.0|\n",
      "|     0.42|           0.0|\n",
      "|     0.85|           0.0|\n",
      "|     0.85|           0.0|\n",
      "|     0.42|           0.0|\n",
      "|     0.42|           0.0|\n",
      "|     0.85|           0.0|\n",
      "|     0.43|           0.0|\n",
      "|     0.85|           0.0|\n",
      "|     0.42|           0.0|\n",
      "|     0.85|           0.0|\n",
      "|     0.55|           0.0|\n",
      "|     0.81|           0.0|\n",
      "|     0.85|           0.0|\n",
      "|     0.29|           0.0|\n",
      "|     0.85|           0.0|\n",
      "|     0.85|           0.0|\n",
      "|     0.85|           0.0|\n",
      "|     0.85|           0.0|\n",
      "|     0.42|           0.0|\n",
      "|     0.85|           0.0|\n",
      "|     0.65|           0.0|\n",
      "|     0.55|           0.0|\n",
      "|     1.06|           0.0|\n",
      "|     0.85|           0.0|\n",
      "|     0.95|           0.0|\n",
      "|     0.85|           0.0|\n",
      "|     0.85|           0.0|\n",
      "|     0.85|           0.0|\n",
      "|     0.42|           0.0|\n",
      "|     0.85|           0.0|\n",
      "|     0.85|           0.0|\n",
      "|     0.55|           0.0|\n",
      "|     0.55|           0.0|\n",
      "|     0.85|           0.0|\n",
      "|     0.85|           0.0|\n",
      "|      0.1|           0.0|\n",
      "|     1.06|           0.0|\n",
      "|     1.06|           0.0|\n",
      "|     0.43|           0.0|\n",
      "|     0.85|           0.0|\n",
      "|     1.06|           0.0|\n",
      "|     0.84|           0.0|\n",
      "|     0.85|           0.0|\n",
      "|     0.85|           0.0|\n",
      "|     1.06|           0.0|\n",
      "|     0.85|           0.0|\n",
      "|     0.42|           0.0|\n",
      "|     0.72|           0.0|\n",
      "|     1.06|           0.0|\n",
      "|     0.85|           0.0|\n",
      "|     0.42|           0.0|\n",
      "|     0.85|           0.0|\n",
      "|     1.06|           0.0|\n",
      "|     1.06|           0.0|\n",
      "|     0.42|           0.0|\n",
      "|     0.12|           0.0|\n",
      "|     1.06|           0.0|\n",
      "|     0.42|           0.0|\n",
      "|     0.85|           0.0|\n",
      "|     0.85|           0.0|\n",
      "|     1.06|           0.0|\n",
      "|     0.65|           0.0|\n",
      "|     0.85|           0.0|\n",
      "|     0.42|           0.0|\n",
      "|     1.06|           0.0|\n",
      "|     0.55|           0.0|\n",
      "|     0.29|           0.0|\n",
      "|     0.42|           0.0|\n",
      "|     0.85|           0.0|\n",
      "|     1.06|           0.0|\n",
      "|     0.85|           0.0|\n",
      "|     0.85|           0.0|\n",
      "|     0.85|           0.0|\n",
      "|     0.65|           0.0|\n",
      "|     0.29|           0.0|\n",
      "|     0.65|           0.0|\n",
      "|     0.85|           0.0|\n",
      "|     0.85|           0.0|\n",
      "|     0.65|           0.0|\n",
      "|     0.42|           0.0|\n",
      "|     0.55|           0.0|\n",
      "|     0.42|           0.0|\n",
      "|     0.42|           0.0|\n",
      "|     0.85|           0.0|\n",
      "|     0.65|           0.0|\n",
      "|     1.06|           0.0|\n",
      "|     1.06|           0.0|\n",
      "|     0.85|           0.0|\n",
      "|     0.65|           0.0|\n",
      "|     0.85|           0.0|\n",
      "|     0.85|           0.0|\n",
      "|     0.85|           0.0|\n",
      "|     0.65|           0.0|\n",
      "|     0.65|           0.0|\n",
      "|     0.42|           0.0|\n",
      "|     1.05|           0.0|\n",
      "|     0.65|           0.0|\n",
      "|     0.85|           0.0|\n",
      "|     0.42|           0.0|\n",
      "|     0.42|           0.0|\n",
      "|     0.65|           0.0|\n",
      "|     0.42|           0.0|\n",
      "|     0.65|           0.0|\n",
      "|     0.29|           0.0|\n",
      "|     0.65|           0.0|\n",
      "|     0.42|           0.0|\n",
      "|     0.55|           0.0|\n",
      "|     0.65|           0.0|\n",
      "|     0.85|           0.0|\n",
      "|     0.42|           0.0|\n",
      "|     0.85|           0.0|\n",
      "|     0.85|           0.0|\n",
      "|     0.29|           0.0|\n",
      "|     0.85|           0.0|\n",
      "|     0.85|           0.0|\n",
      "|     0.85|           0.0|\n",
      "|     0.85|           0.0|\n",
      "|     0.42|           0.0|\n",
      "|     0.85|           0.0|\n",
      "|     0.55|           0.0|\n",
      "|     0.85|           0.0|\n",
      "|     0.85|           0.0|\n",
      "|     0.85|           0.0|\n",
      "|     0.42|           0.0|\n",
      "|     1.06|           0.0|\n",
      "|     0.43|           0.0|\n",
      "|     0.43|           0.0|\n",
      "|     0.43|           0.0|\n",
      "|     0.85|           0.0|\n",
      "|     0.85|           0.0|\n",
      "|     0.85|           0.0|\n",
      "|     0.42|           0.0|\n",
      "|     0.85|           0.0|\n",
      "|     0.85|           0.0|\n",
      "|     0.85|           0.0|\n",
      "|     0.85|           0.0|\n",
      "|     0.85|           0.0|\n",
      "|     0.85|           0.0|\n",
      "|     0.85|           0.0|\n",
      "|     0.85|           0.0|\n",
      "|     0.85|           0.0|\n",
      "|     0.42|           0.0|\n",
      "|     0.85|           0.0|\n",
      "|     0.85|           0.0|\n",
      "|     0.65|           0.0|\n",
      "|     1.06|           0.0|\n",
      "|     0.42|           0.0|\n",
      "|     0.85|           0.0|\n",
      "|     0.85|           0.0|\n",
      "|     0.42|           0.0|\n",
      "|     0.85|           0.0|\n",
      "|     0.85|           0.0|\n",
      "|     0.85|           0.0|\n",
      "|     0.42|           0.0|\n",
      "|     0.85|           0.0|\n",
      "|     0.85|           0.0|\n",
      "|     0.55|           0.0|\n",
      "|     0.55|           0.0|\n",
      "|     0.29|           0.0|\n",
      "|     0.85|           0.0|\n",
      "|     0.85|           0.0|\n",
      "|     0.29|           0.0|\n",
      "|     0.85|           0.0|\n",
      "|     0.19|           0.0|\n",
      "|     0.29|           0.0|\n",
      "|     0.29|           0.0|\n",
      "|     0.55|           0.0|\n",
      "|     1.06|           0.0|\n",
      "|     0.85|           0.0|\n",
      "|     0.42|           0.0|\n",
      "|     0.65|           0.0|\n",
      "|     0.85|           0.0|\n",
      "|     0.65|           0.0|\n",
      "|     0.85|           0.0|\n",
      "|     0.55|           0.0|\n",
      "|     0.55|           0.0|\n",
      "|     1.06|           0.0|\n",
      "|     0.55|           0.0|\n",
      "|     0.42|           0.0|\n",
      "|     0.42|           0.0|\n",
      "|     0.85|           0.0|\n",
      "|     0.85|           0.0|\n",
      "|     0.85|           0.0|\n",
      "|     0.85|           0.0|\n",
      "|     0.85|           0.0|\n",
      "|     0.85|           0.0|\n",
      "|     0.85|           0.0|\n",
      "|     0.65|           0.0|\n",
      "|     0.55|           0.0|\n",
      "|     0.85|           0.0|\n",
      "|      0.0|           0.0|\n",
      "|      0.0|           0.0|\n",
      "|     0.42|           0.0|\n",
      "|     0.85|           0.0|\n",
      "|     0.42|           0.0|\n",
      "|     0.85|           0.0|\n",
      "|     0.85|           0.0|\n",
      "|     0.42|           0.0|\n",
      "|     0.85|           0.0|\n",
      "|     0.42|           0.0|\n",
      "|     0.85|           0.0|\n",
      "|     0.42|           0.0|\n",
      "|     0.85|           0.0|\n",
      "|     0.85|           0.0|\n",
      "|     0.85|           0.0|\n",
      "|     0.85|           0.0|\n",
      "|     0.85|           0.0|\n",
      "|     0.65|           0.0|\n",
      "|     0.85|           0.0|\n",
      "|     0.65|           0.0|\n",
      "|     0.85|           0.0|\n",
      "|     0.29|           0.0|\n",
      "|     0.65|           0.0|\n",
      "|     0.65|           0.0|\n",
      "|     0.85|           0.0|\n",
      "|     0.85|           0.0|\n",
      "|     0.65|           0.0|\n",
      "|     0.65|           0.0|\n",
      "|     0.85|           0.0|\n",
      "|     0.85|           0.0|\n",
      "|     0.85|           0.0|\n",
      "|     0.65|           0.0|\n",
      "|     0.85|           0.0|\n",
      "|     1.06|           0.0|\n",
      "|     0.65|           0.0|\n",
      "|     0.65|           0.0|\n",
      "|     0.03|           0.0|\n",
      "|     0.85|           0.0|\n",
      "|     0.85|           0.0|\n",
      "|     0.65|           0.0|\n",
      "|     0.65|           0.0|\n",
      "|     0.29|           0.0|\n",
      "|     0.85|           0.0|\n",
      "|     0.65|           0.0|\n",
      "|     0.65|           0.0|\n",
      "|     0.55|           0.0|\n",
      "|     0.42|           0.0|\n",
      "|     0.65|           0.0|\n",
      "|     0.42|           0.0|\n",
      "|     0.42|           0.0|\n",
      "|     0.65|           0.0|\n",
      "|     0.42|           0.0|\n",
      "|     0.42|           0.0|\n",
      "|     0.42|           0.0|\n",
      "|     0.65|           0.0|\n",
      "|     0.85|           0.0|\n",
      "|     0.85|           0.0|\n",
      "|     0.65|           0.0|\n",
      "|     0.42|           0.0|\n",
      "|     0.85|           0.0|\n",
      "|     0.65|           0.0|\n",
      "|     0.85|           0.0|\n",
      "|     0.85|           0.0|\n",
      "|     0.85|           0.0|\n",
      "|     0.42|           0.0|\n",
      "|     0.55|           0.0|\n",
      "|     0.85|           0.0|\n",
      "|     0.85|           0.0|\n",
      "|     0.85|           0.0|\n",
      "|     0.65|           0.0|\n",
      "|     0.55|           0.0|\n",
      "|     0.65|           0.0|\n",
      "|     0.85|           0.0|\n",
      "|     0.42|           0.0|\n",
      "|     0.55|           0.0|\n",
      "|     0.65|           0.0|\n",
      "|     0.85|           0.0|\n",
      "|     0.65|           0.0|\n",
      "|     0.85|           0.0|\n",
      "|     0.55|           0.0|\n",
      "|     0.85|           0.0|\n",
      "|     0.42|           0.0|\n",
      "|     0.65|           0.0|\n",
      "|     0.55|           0.0|\n",
      "|     0.42|           0.0|\n",
      "|     0.95|           0.0|\n",
      "|     0.85|           0.0|\n",
      "|     0.95|           0.0|\n",
      "|     0.75|           0.0|\n",
      "|     0.65|           0.0|\n",
      "|     0.42|           0.0|\n",
      "|     0.85|           0.0|\n",
      "|     0.85|           0.0|\n",
      "|     0.85|           0.0|\n",
      "|     0.36|           0.0|\n",
      "|     0.65|           0.0|\n",
      "|     0.55|           0.0|\n",
      "|     0.85|           0.0|\n",
      "|     0.36|           0.0|\n",
      "|     0.65|           0.0|\n",
      "|     0.36|           0.0|\n",
      "|     0.85|           0.0|\n",
      "|     0.36|           0.0|\n",
      "|     0.65|           0.0|\n",
      "|     0.36|           0.0|\n",
      "|     0.85|           0.0|\n",
      "|     0.34|           0.0|\n",
      "|     0.85|           0.0|\n",
      "|     0.34|           0.0|\n",
      "|     0.85|           0.0|\n",
      "|     0.34|           0.0|\n",
      "|     0.85|           0.0|\n",
      "|     0.42|           0.0|\n",
      "|     0.85|           0.0|\n",
      "|     0.72|           0.0|\n",
      "|     0.85|           0.0|\n",
      "|     0.16|           0.0|\n",
      "|     0.43|           0.0|\n",
      "|     0.32|           0.0|\n",
      "|     0.85|           0.0|\n",
      "|     0.72|           0.0|\n",
      "|     0.85|           0.0|\n",
      "|     0.36|           0.0|\n",
      "|     0.85|           0.0|\n",
      "|     0.36|           0.0|\n",
      "|     0.42|           0.0|\n",
      "|     0.36|           0.0|\n",
      "|     0.85|           0.0|\n",
      "|     0.72|           0.0|\n",
      "|     0.85|           0.0|\n",
      "|     0.36|           0.0|\n",
      "|     0.55|           0.0|\n",
      "|     0.36|           0.0|\n",
      "|     0.85|           0.0|\n",
      "|     0.36|           0.0|\n",
      "|     0.85|           0.0|\n",
      "|     0.36|           0.0|\n",
      "|     0.42|           0.0|\n",
      "|     0.34|           0.0|\n",
      "|     0.85|           0.0|\n",
      "|     0.34|           0.0|\n",
      "|     0.85|           0.0|\n",
      "|     0.42|           0.0|\n",
      "|     0.85|           0.0|\n",
      "|     0.72|           0.0|\n",
      "|     0.55|           0.0|\n",
      "|     0.16|           0.0|\n",
      "|     0.85|           0.0|\n",
      "|     1.06|           0.0|\n",
      "|     0.85|           0.0|\n",
      "|     1.06|           0.0|\n",
      "|     0.85|           0.0|\n",
      "|     1.06|           0.0|\n",
      "|     0.29|           0.0|\n",
      "|     1.06|           0.0|\n",
      "|     0.85|           0.0|\n",
      "|     1.06|           0.0|\n",
      "|     0.85|           0.0|\n",
      "|     1.06|           0.0|\n",
      "|     0.85|           0.0|\n",
      "|     1.06|           0.0|\n",
      "|     0.85|           0.0|\n",
      "|     1.06|           0.0|\n",
      "|     0.85|           0.0|\n",
      "|     0.85|           0.0|\n",
      "|     0.85|           0.0|\n",
      "|     0.29|           0.0|\n",
      "|     0.85|           0.0|\n",
      "|     0.29|           0.0|\n",
      "|     0.85|           0.0|\n",
      "|     0.85|           0.0|\n",
      "|     0.85|           0.0|\n",
      "|     0.85|           0.0|\n",
      "|     0.85|           0.0|\n",
      "|     0.29|           0.0|\n",
      "|     0.85|           0.0|\n",
      "|     0.29|           0.0|\n",
      "|     0.55|           0.0|\n",
      "|     0.29|           0.0|\n",
      "|     0.42|           0.0|\n",
      "|     0.55|           0.0|\n",
      "|     0.85|           0.0|\n",
      "|     0.42|           0.0|\n",
      "|     0.42|           0.0|\n",
      "|     0.12|           0.0|\n",
      "|     0.55|           0.0|\n",
      "|     0.85|           0.0|\n",
      "|     1.06|           0.0|\n",
      "|     0.85|           0.0|\n",
      "|     0.43|           0.0|\n",
      "|     0.85|           0.0|\n",
      "|     0.64|           0.0|\n",
      "|     0.29|           0.0|\n",
      "|     0.85|           0.0|\n",
      "|     0.85|           0.0|\n",
      "|     0.42|           0.0|\n",
      "|     0.29|           0.0|\n",
      "|     0.85|           0.0|\n",
      "|     0.85|           0.0|\n",
      "|     0.85|           0.0|\n",
      "|     0.85|           0.0|\n",
      "|     0.42|           0.0|\n",
      "|     0.29|           0.0|\n",
      "|     0.95|           0.0|\n",
      "|     0.29|           0.0|\n",
      "|     0.65|           0.0|\n",
      "|     0.29|           0.0|\n",
      "|     0.85|           0.0|\n",
      "|     0.29|           0.0|\n",
      "|     0.42|           0.0|\n",
      "|     0.42|           0.0|\n",
      "|     0.21|           0.0|\n",
      "|     0.55|           0.0|\n",
      "|     0.85|           0.0|\n",
      "|     0.29|           0.0|\n",
      "|     0.65|           0.0|\n",
      "|     0.85|           0.0|\n",
      "|     0.42|           0.0|\n",
      "|     0.85|           0.0|\n",
      "|     0.85|           0.0|\n",
      "|     0.85|           0.0|\n",
      "|     0.64|           0.0|\n",
      "|     0.55|           0.0|\n",
      "|     0.85|           0.0|\n",
      "|     0.55|           0.0|\n",
      "|     0.85|           0.0|\n",
      "|     0.65|           0.0|\n",
      "|     1.06|           0.0|\n",
      "|     0.65|           0.0|\n",
      "|     0.42|           0.0|\n",
      "|     0.65|           0.0|\n",
      "|     1.06|           0.0|\n",
      "|     0.65|           0.0|\n",
      "|     0.42|           0.0|\n",
      "|     0.65|           0.0|\n",
      "|     1.06|           0.0|\n",
      "|     0.65|           0.0|\n",
      "|     0.85|           0.0|\n",
      "|     0.65|           0.0|\n",
      "|     1.06|           0.0|\n",
      "|     0.42|           0.0|\n",
      "|     0.85|           0.0|\n",
      "|     0.42|           0.0|\n",
      "|     1.06|           0.0|\n",
      "|     0.42|           0.0|\n",
      "|     0.85|           0.0|\n",
      "|     0.42|           0.0|\n",
      "|     1.06|           0.0|\n",
      "|     0.42|           0.0|\n",
      "|     0.42|           0.0|\n",
      "|     0.42|           0.0|\n",
      "|     1.06|           0.0|\n",
      "|     0.42|           0.0|\n",
      "|     0.85|           0.0|\n",
      "|     0.42|           0.0|\n",
      "|     1.06|           0.0|\n",
      "|     0.55|           0.0|\n",
      "|     0.85|           0.0|\n",
      "|     1.06|           0.0|\n",
      "|     0.85|           0.0|\n",
      "|     0.85|           0.0|\n",
      "|     0.85|           0.0|\n",
      "|     0.85|           0.0|\n",
      "|     0.85|           0.0|\n",
      "|     0.65|           0.0|\n",
      "|     0.85|           0.0|\n",
      "|     0.65|           0.0|\n",
      "|     0.85|           0.0|\n",
      "|     0.65|           0.0|\n",
      "|     0.42|           0.0|\n",
      "|     0.85|           0.0|\n",
      "|     0.85|           0.0|\n",
      "|     0.42|           0.0|\n",
      "|     0.29|           0.0|\n",
      "|     0.75|           0.0|\n",
      "|     0.85|           0.0|\n",
      "|     0.42|           0.0|\n",
      "|     0.65|           0.0|\n",
      "|     0.85|           0.0|\n",
      "|     0.55|           0.0|\n",
      "|     0.55|           0.0|\n",
      "|     0.85|           0.0|\n",
      "|     0.55|           0.0|\n",
      "|     0.65|           0.0|\n",
      "|     0.55|           0.0|\n",
      "|     0.29|           0.0|\n",
      "|     0.55|           0.0|\n",
      "|     0.85|           0.0|\n",
      "|     0.85|           0.0|\n",
      "|     0.85|           0.0|\n",
      "|     0.72|           0.0|\n",
      "|     0.85|           0.0|\n",
      "|     0.72|           0.0|\n",
      "|     0.65|           0.0|\n",
      "|     0.72|           0.0|\n",
      "|     0.85|           0.0|\n",
      "|     0.72|           0.0|\n",
      "|     0.85|           0.0|\n",
      "|     0.12|           0.0|\n",
      "|     0.85|           0.0|\n",
      "|     0.42|           0.0|\n",
      "|     1.06|           0.0|\n",
      "|     0.42|           0.0|\n",
      "|     0.65|           0.0|\n",
      "|     0.42|           0.0|\n",
      "|     0.42|           0.0|\n",
      "|     0.42|           0.0|\n",
      "|     0.85|           0.0|\n",
      "|     0.42|           0.0|\n",
      "|     0.42|           0.0|\n",
      "|     0.42|           0.0|\n",
      "|     0.55|           0.0|\n",
      "|     0.21|           0.0|\n",
      "|     0.85|           0.0|\n",
      "|     0.42|           0.0|\n",
      "|     0.65|           0.0|\n",
      "|     0.42|           0.0|\n",
      "|     0.85|           0.0|\n",
      "|     0.42|           0.0|\n",
      "|     0.85|           0.0|\n",
      "|     0.55|           0.0|\n",
      "|     0.42|           0.0|\n",
      "|     0.85|           0.0|\n",
      "|     0.85|           0.0|\n",
      "|     0.85|           0.0|\n",
      "|     0.85|           0.0|\n",
      "|     0.55|           0.0|\n",
      "|     0.65|           0.0|\n",
      "|     0.85|           0.0|\n",
      "|     0.85|           0.0|\n",
      "|     0.85|           0.0|\n",
      "|     0.65|           0.0|\n",
      "|     0.85|           0.0|\n",
      "|     0.85|           0.0|\n",
      "|     0.95|           0.0|\n",
      "|     0.42|           0.0|\n",
      "|     0.65|           0.0|\n",
      "|     0.55|           0.0|\n",
      "|     0.85|           0.0|\n",
      "|     0.72|           0.0|\n",
      "|     0.85|           0.0|\n",
      "|     0.29|           0.0|\n",
      "|     0.85|           0.0|\n",
      "|     1.06|           0.0|\n",
      "|     0.85|           0.0|\n",
      "|     0.85|           0.0|\n",
      "|     0.85|           0.0|\n",
      "|     0.29|           0.0|\n",
      "|     0.18|           0.0|\n",
      "|     0.43|           0.0|\n",
      "|     1.06|           0.0|\n",
      "|     0.42|           0.0|\n",
      "|     0.85|           0.0|\n",
      "|     0.43|           0.0|\n",
      "|     0.85|           0.0|\n",
      "|     0.85|           0.0|\n",
      "|     0.85|           0.0|\n",
      "|     0.85|           0.0|\n",
      "|     0.85|           0.0|\n",
      "|     0.85|           0.0|\n",
      "|     0.85|           0.0|\n",
      "|     0.85|           0.0|\n",
      "|     0.85|           0.0|\n",
      "|     0.85|           0.0|\n",
      "|     0.85|           0.0|\n",
      "|     0.42|           0.0|\n",
      "|     0.85|           0.0|\n",
      "|     0.85|           0.0|\n",
      "|     0.42|           0.0|\n",
      "|     0.85|           0.0|\n",
      "|     0.42|           0.0|\n",
      "|     0.42|           0.0|\n",
      "|     0.42|           0.0|\n",
      "|     0.85|           0.0|\n",
      "|     0.29|           0.0|\n",
      "|     0.42|           0.0|\n",
      "|     0.85|           0.0|\n",
      "|     0.85|           0.0|\n",
      "|     0.85|           0.0|\n",
      "|     0.55|           0.0|\n",
      "|     0.42|           0.0|\n",
      "|     0.42|           0.0|\n",
      "|     0.42|           0.0|\n",
      "|     0.42|           0.0|\n",
      "|     0.75|           0.0|\n",
      "|     0.85|           0.0|\n",
      "|     0.19|           0.0|\n",
      "|     0.65|           0.0|\n",
      "|     0.42|           0.0|\n",
      "|     1.06|           0.0|\n",
      "|     0.21|           0.0|\n",
      "|     0.42|           0.0|\n",
      "|     0.42|           0.0|\n",
      "|     0.65|           0.0|\n",
      "|     0.42|           0.0|\n",
      "|     0.42|           0.0|\n",
      "|     0.42|           0.0|\n",
      "|     0.42|           0.0|\n",
      "|     0.42|           0.0|\n",
      "|     0.42|           0.0|\n",
      "|     0.42|           0.0|\n",
      "|     0.85|           0.0|\n",
      "|     0.42|           0.0|\n",
      "|     0.85|           0.0|\n",
      "|     0.42|           0.0|\n",
      "|     0.84|           0.0|\n",
      "|     0.42|           0.0|\n",
      "|     0.65|           0.0|\n",
      "|     0.42|           0.0|\n",
      "|     0.65|           0.0|\n",
      "|     0.42|           0.0|\n",
      "|     0.21|           0.0|\n",
      "|     0.42|           0.0|\n",
      "|     0.29|           0.0|\n",
      "|     1.06|           0.0|\n",
      "|     0.42|           0.0|\n",
      "|     0.85|           0.0|\n",
      "|     0.85|           0.0|\n",
      "|     0.85|           0.0|\n",
      "|     0.42|           0.0|\n",
      "|     0.55|           0.0|\n",
      "|     0.42|           0.0|\n",
      "|     0.55|           0.0|\n",
      "|     0.85|           0.0|\n",
      "|     0.55|           0.0|\n",
      "|     0.65|           0.0|\n",
      "|     0.55|           0.0|\n",
      "|     0.42|           0.0|\n",
      "|     0.85|           0.0|\n",
      "|     0.55|           0.0|\n",
      "|     0.85|           0.0|\n",
      "|     0.85|           0.0|\n",
      "|     0.29|           0.0|\n",
      "|     0.85|           0.0|\n",
      "|     0.65|           0.0|\n",
      "|     0.65|           0.0|\n",
      "|     0.85|           0.0|\n",
      "|     0.29|           0.0|\n",
      "|     0.95|           0.0|\n",
      "|     0.19|           0.0|\n",
      "|     0.85|           0.0|\n",
      "|     0.65|           0.0|\n",
      "|     0.95|           0.0|\n",
      "|     0.95|           0.0|\n",
      "|     0.85|           0.0|\n",
      "|     0.29|           0.0|\n",
      "|     0.85|           0.0|\n",
      "|     0.55|           0.0|\n",
      "|     0.65|           0.0|\n",
      "|     0.55|           0.0|\n",
      "|     0.85|           0.0|\n",
      "|     0.85|           0.0|\n",
      "|     0.85|           0.0|\n",
      "|     0.85|           0.0|\n",
      "|     0.65|           0.0|\n",
      "|     1.06|           0.0|\n",
      "|     0.85|           0.0|\n",
      "|     0.85|           0.0|\n",
      "|     0.65|           0.0|\n",
      "|     0.85|           0.0|\n",
      "|     1.06|           0.0|\n",
      "|     0.85|           0.0|\n",
      "|     1.06|           0.0|\n",
      "|     0.42|           0.0|\n",
      "|     0.85|           0.0|\n",
      "|     0.42|           0.0|\n",
      "|     1.06|           0.0|\n",
      "|     0.85|           0.0|\n",
      "|     0.85|           0.0|\n",
      "|     0.85|           0.0|\n",
      "|     1.06|           0.0|\n",
      "|     0.85|           0.0|\n",
      "|     0.85|           0.0|\n",
      "|     0.42|           0.0|\n",
      "|     1.06|           0.0|\n",
      "|     1.06|           0.0|\n",
      "|     0.42|           0.0|\n",
      "|     1.06|           0.0|\n",
      "|     1.06|           0.0|\n",
      "|     0.85|           0.0|\n",
      "|     0.85|           0.0|\n",
      "|     0.85|           0.0|\n",
      "|     1.06|           0.0|\n",
      "|     0.85|           0.0|\n",
      "|     0.85|           0.0|\n",
      "|     0.85|           0.0|\n",
      "|     0.65|           0.0|\n",
      "|     0.42|           0.0|\n",
      "|     0.65|           0.0|\n",
      "|     0.85|           0.0|\n",
      "|     0.65|           0.0|\n",
      "|     0.85|           0.0|\n",
      "|     0.85|           0.0|\n",
      "|     0.85|           0.0|\n",
      "|     0.65|           0.0|\n",
      "|      0.0|           0.0|\n",
      "|     0.85|           0.0|\n",
      "|     0.29|           0.0|\n",
      "|     0.65|           0.0|\n",
      "|     0.85|           0.0|\n",
      "|     0.42|           0.0|\n",
      "|     0.42|           0.0|\n",
      "|     0.85|           0.0|\n",
      "|     0.85|           0.0|\n",
      "|     0.85|           0.0|\n",
      "|     0.85|           0.0|\n",
      "|     0.85|           0.0|\n",
      "|     0.85|           0.0|\n",
      "|     0.42|           0.0|\n",
      "|     0.42|           0.0|\n",
      "|     0.85|           0.0|\n",
      "+---------+--------------+\n",
      "only showing top 1000 rows\n",
      "\n"
     ]
    }
   ],
   "source": [
    "bucketedDF.select('unitprice','buck_unitprice').sort('buck_unitprice').show(1000)"
   ]
  },
  {
   "cell_type": "markdown",
   "metadata": {},
   "source": [
    "Another option is to split based on percentiles\n",
    "in our data. This is done with QuantileDiscretizer, which will bucket the values into userspecified buckets with the splits being determined by approximate quantiles values. For instance,\n",
    "the 90th quantile is the point in your data at which 90% of the data is below that value. You can\n",
    "control how finely the buckets should be split by setting the relative error for the approximate\n",
    "quantiles calculation using setRelativeError"
   ]
  },
  {
   "cell_type": "code",
   "execution_count": 208,
   "metadata": {},
   "outputs": [],
   "source": [
    "from pyspark.ml.feature import QuantileDiscretizer"
   ]
  },
  {
   "cell_type": "code",
   "execution_count": 210,
   "metadata": {},
   "outputs": [],
   "source": [
    "buckDF = QuantileDiscretizer(numBuckets=5,inputCol='UnitPrice',outputCol='buck_unit')"
   ]
  },
  {
   "cell_type": "code",
   "execution_count": 211,
   "metadata": {},
   "outputs": [],
   "source": [
    "buckMod = buckDF.fit(sales)"
   ]
  },
  {
   "cell_type": "code",
   "execution_count": 214,
   "metadata": {},
   "outputs": [
    {
     "data": {
      "text/plain": [
       "[-inf, 1.25, 1.95, 2.95, 5.06, inf]"
      ]
     },
     "execution_count": 214,
     "metadata": {},
     "output_type": "execute_result"
    }
   ],
   "source": [
    "buckMod.getSplits()"
   ]
  },
  {
   "cell_type": "code",
   "execution_count": 212,
   "metadata": {},
   "outputs": [],
   "source": [
    "buckDF = buckMod.transform(sales)"
   ]
  },
  {
   "cell_type": "code",
   "execution_count": 213,
   "metadata": {},
   "outputs": [
    {
     "name": "stdout",
     "output_type": "stream",
     "text": [
      "+---------+---------+\n",
      "|unitprice|buck_unit|\n",
      "+---------+---------+\n",
      "|     0.85|      0.0|\n",
      "|     0.42|      0.0|\n",
      "|     0.55|      0.0|\n",
      "|     1.06|      0.0|\n",
      "|     1.06|      0.0|\n",
      "|     0.85|      0.0|\n",
      "|     1.06|      0.0|\n",
      "|     1.06|      0.0|\n",
      "|     1.06|      0.0|\n",
      "|     1.06|      0.0|\n",
      "|     1.06|      0.0|\n",
      "|     0.85|      0.0|\n",
      "|     0.42|      0.0|\n",
      "|     0.85|      0.0|\n",
      "|     0.42|      0.0|\n",
      "|     0.85|      0.0|\n",
      "|     0.85|      0.0|\n",
      "|     1.06|      0.0|\n",
      "|     0.42|      0.0|\n",
      "|     1.06|      0.0|\n",
      "+---------+---------+\n",
      "only showing top 20 rows\n",
      "\n"
     ]
    }
   ],
   "source": [
    "buckDF.select('unitprice','buck_unit').sort('buck_unit').show()"
   ]
  },
  {
   "cell_type": "markdown",
   "metadata": {},
   "source": [
    "### Scaling and Normalization\n",
    "\n",
    "StandardScaler  --> already covered\n",
    "\n",
    "MinMaxScaler\n",
    "\n",
    "The MinMaxScaler will scale the values in a vector (component wise) to the proportional values on a scale from a given min value to a max value. If you specify the minimum value to be 0 and the maximum value to be 1, then all the values will fall in between 0 and 1:\n"
   ]
  },
  {
   "cell_type": "code",
   "execution_count": 52,
   "metadata": {},
   "outputs": [],
   "source": [
    "from pyspark.ml.feature import MinMaxScaler\n",
    "\n",
    "mmscale = MinMaxScaler(min=0,max=1,inputCol='features',outputCol='scaledfeatures')"
   ]
  },
  {
   "cell_type": "code",
   "execution_count": 54,
   "metadata": {},
   "outputs": [],
   "source": [
    "mmscaleMod = mmscale.fit(labelDF)"
   ]
  },
  {
   "cell_type": "code",
   "execution_count": 55,
   "metadata": {},
   "outputs": [],
   "source": [
    "mmDF = mmscaleMod.transform(labelDF)"
   ]
  },
  {
   "cell_type": "code",
   "execution_count": 225,
   "metadata": {
    "scrolled": true
   },
   "outputs": [
    {
     "name": "stdout",
     "output_type": "stream",
     "text": [
      "+-----------------------------------------------------------------------------------------------+\n",
      "|scaledfeatures                                                                                 |\n",
      "+-----------------------------------------------------------------------------------------------+\n",
      "|[0.0,1.0,0.0,0.0,0.0,0.0,0.0625,0.0,0.0,0.36914560428066195,0.0]                               |\n",
      "|[0.0,0.0,1.0,0.1590909090909091,0.0,0.0,0.0,0.6666666666666666,0.0,0.0,1.0]                    |\n",
      "|[0.0,0.0,1.0,0.25,0.0,0.0,0.0,1.0,0.0,0.0,1.0]                                                 |\n",
      "|[0.0,1.0,0.0,0.3181818181818182,1.0,0.0,0.9375,0.0,0.0,1.0,0.0]                                |\n",
      "|[0.0,1.0,0.0,0.25,0.0,0.0,0.75,0.0,0.0,0.36914560428066195,0.0]                                |\n",
      "|[0.0,1.0,0.0,0.3409090909090909,0.0,0.0,1.0,0.0,0.0,0.36914560428066195,0.0]                   |\n",
      "|[1.0,0.0,0.0,0.7727272727272727,0.0,0.7777777777777778,0.0,0.0,0.36914560428066195,0.0,0.0]    |\n",
      "|[1.0,0.0,0.0,0.0,1.0,0.022222222222222223,0.0,0.0,1.0,0.0,0.0]                                 |\n",
      "|[1.0,0.0,0.0,0.022727272727272728,0.0,0.044444444444444446,0.0,0.0,0.36914560428066195,0.0,0.0]|\n",
      "|[1.0,0.0,0.0,0.3409090909090909,0.0,0.35555555555555557,0.0,0.0,0.36914560428066195,0.0,0.0]   |\n",
      "|[1.0,0.0,0.0,1.0,1.0,1.0,0.0,0.0,1.0,0.0,0.0]                                                  |\n",
      "|[0.0,1.0,0.0,0.0,0.0,0.0,0.0625,0.0,0.0,0.36914560428066195,0.0]                               |\n",
      "|[0.0,0.0,1.0,0.1590909090909091,0.0,0.0,0.0,0.6666666666666666,0.0,0.0,1.0]                    |\n",
      "|[0.0,0.0,1.0,0.25,0.0,0.0,0.0,1.0,0.0,0.0,1.0]                                                 |\n",
      "|[0.0,1.0,0.0,0.3181818181818182,1.0,0.0,0.9375,0.0,0.0,1.0,0.0]                                |\n",
      "|[0.0,1.0,0.0,0.25,0.0,0.0,0.75,0.0,0.0,0.36914560428066195,0.0]                                |\n",
      "|[0.0,1.0,0.0,0.3409090909090909,0.0,0.0,1.0,0.0,0.0,0.36914560428066195,0.0]                   |\n",
      "|[1.0,0.0,0.0,0.7727272727272727,0.0,0.7777777777777778,0.0,0.0,0.36914560428066195,0.0,0.0]    |\n",
      "|[1.0,0.0,0.0,0.0,1.0,0.022222222222222223,0.0,0.0,1.0,0.0,0.0]                                 |\n",
      "|[1.0,0.0,0.0,0.022727272727272728,0.0,0.044444444444444446,0.0,0.0,0.36914560428066195,0.0,0.0]|\n",
      "+-----------------------------------------------------------------------------------------------+\n",
      "only showing top 20 rows\n",
      "\n"
     ]
    }
   ],
   "source": [
    "mmDF.select('scaledfeatures').show(truncate=False)"
   ]
  },
  {
   "cell_type": "code",
   "execution_count": 233,
   "metadata": {},
   "outputs": [],
   "source": [
    "mmscale = MinMaxScaler(min=0,max=1,inputCol='rawFeatures',outputCol='scaledfeatures')"
   ]
  },
  {
   "cell_type": "code",
   "execution_count": 234,
   "metadata": {},
   "outputs": [],
   "source": [
    "mmMod = mmscale.fit(featuredDF)"
   ]
  },
  {
   "cell_type": "code",
   "execution_count": 235,
   "metadata": {},
   "outputs": [],
   "source": [
    "mmDF1 = mmMod.transform(featuredDF)"
   ]
  },
  {
   "cell_type": "code",
   "execution_count": 237,
   "metadata": {},
   "outputs": [
    {
     "name": "stdout",
     "output_type": "stream",
     "text": [
      "+----------------------------------------------------------------------------------------------------------------------------------------------+\n",
      "|scaledfeatures                                                                                                                                |\n",
      "+----------------------------------------------------------------------------------------------------------------------------------------------+\n",
      "|[0.3333333333333333,0.0,0.0,0.0,0.0,0.0,0.0,0.0,0.3333333333333333,0.0,0.0,0.0,0.25,0.0,0.0,0.0,0.0,0.3333333333333333,0.3333333333333333,0.0]|\n",
      "|[0.0,0.0,0.0,0.0,0.0,0.0,0.0,0.0,0.0,0.3333333333333333,0.0,0.0,0.0,0.0,0.0,0.3333333333333333,0.0,0.3333333333333333,0.0,0.0]                |\n",
      "|[0.0,0.0,0.0,0.0,0.0,0.0,0.3333333333333333,1.0,0.0,0.0,0.0,0.0,0.0,0.0,0.5,0.0,0.0,0.3333333333333333,0.0,0.0]                               |\n",
      "|[0.0,0.0,0.0,0.0,0.0,0.0,0.0,0.0,0.0,0.3333333333333333,0.0,0.5,0.25,0.0,0.5,0.0,0.0,0.0,0.3333333333333333,0.0]                              |\n",
      "|[0.0,0.0,0.3333333333333333,0.0,0.0,0.0,0.0,0.0,0.0,0.0,0.0,0.25,0.25,0.0,0.0,0.0,0.5,0.3333333333333333,0.0,0.0]                             |\n",
      "|[0.3333333333333333,0.0,0.0,0.3333333333333333,0.0,0.0,0.0,0.0,0.0,0.0,0.0,0.0,0.0,0.6666666666666666,0.0,0.0,0.5,0.0,0.0,0.0]                |\n",
      "|[0.0,0.0,0.0,0.0,0.0,0.0,0.0,0.0,0.3333333333333333,0.0,0.3333333333333333,0.0,0.25,0.0,0.0,0.0,0.5,0.0,0.3333333333333333,0.0]               |\n",
      "|[0.0,0.0,0.0,0.3333333333333333,0.0,0.0,0.0,0.5,0.0,0.0,0.0,0.0,0.0,0.0,0.5,0.0,0.0,0.3333333333333333,0.0,0.0]                               |\n",
      "|[0.6666666666666666,0.0,0.0,0.3333333333333333,0.0,0.0,0.0,0.0,0.0,0.0,0.0,0.25,0.0,0.0,0.0,0.0,0.0,0.3333333333333333,0.0,0.0]               |\n",
      "|[0.0,0.0,0.0,0.0,0.0,0.0,0.3333333333333333,0.0,0.0,0.0,0.0,0.0,0.0,0.0,1.0,0.3333333333333333,0.0,0.0,0.0,0.0]                               |\n",
      "|[0.0,0.3333333333333333,0.0,0.0,0.0,0.0,0.0,1.0,0.0,0.0,0.0,0.0,0.0,0.0,0.0,0.0,0.0,0.0,0.0,0.0]                                              |\n",
      "|[0.0,0.6666666666666666,0.0,0.0,0.0,0.0,0.0,0.5,0.0,0.0,0.0,0.0,0.0,0.0,0.0,0.0,0.0,0.0,0.0,0.0]                                              |\n",
      "|[0.0,0.0,0.0,0.0,0.0,0.5,0.3333333333333333,0.0,0.0,0.0,0.0,0.0,0.25,0.0,0.0,0.3333333333333333,0.0,0.0,0.0,0.0]                              |\n",
      "|[0.0,0.0,0.3333333333333333,0.0,0.0,0.0,0.3333333333333333,0.0,0.0,0.3333333333333333,0.0,0.25,0.0,0.0,0.0,0.0,0.0,0.0,0.0,0.0]               |\n",
      "|[0.0,0.0,0.0,0.3333333333333333,0.3333333333333333,0.0,0.3333333333333333,0.0,0.0,0.0,0.0,0.0,0.25,0.0,0.5,0.3333333333333333,0.0,0.0,0.0,0.0]|\n",
      "|[0.3333333333333333,0.0,0.3333333333333333,0.3333333333333333,0.0,0.0,0.0,0.0,0.0,0.0,0.3333333333333333,0.0,0.25,0.0,0.0,0.0,0.0,0.0,0.0,0.0]|\n",
      "|[0.3333333333333333,0.0,0.0,0.6666666666666666,0.0,0.0,0.0,0.0,0.0,0.0,0.3333333333333333,0.0,0.25,0.0,0.0,0.0,0.0,0.0,0.0,0.0]               |\n",
      "|[0.0,0.0,0.0,0.0,0.0,0.5,0.0,0.0,0.0,0.0,0.0,0.25,0.25,0.0,0.0,0.0,0.0,0.0,0.0,0.5]                                                           |\n",
      "|[0.3333333333333333,0.0,0.0,0.0,0.0,0.0,0.0,0.0,0.0,0.0,0.0,0.25,0.25,0.0,0.0,0.0,0.0,0.0,0.0,0.5]                                            |\n",
      "|[0.3333333333333333,0.0,0.0,0.3333333333333333,0.0,0.0,0.0,0.0,0.0,0.3333333333333333,0.3333333333333333,0.0,0.25,0.0,0.0,0.0,0.0,0.0,0.0,0.0]|\n",
      "+----------------------------------------------------------------------------------------------------------------------------------------------+\n",
      "only showing top 20 rows\n",
      "\n"
     ]
    }
   ],
   "source": [
    "mmDF1.select('scaledfeatures').show(truncate=False)"
   ]
  },
  {
   "cell_type": "markdown",
   "metadata": {},
   "source": [
    "### MaxAbsScaler\n",
    "The max absolute scaler (MaxAbsScaler) scales the data by dividing each value by the maximum\n",
    "absolute value in this feature. All values therefore end up between −1 and 1. "
   ]
  },
  {
   "cell_type": "code",
   "execution_count": null,
   "metadata": {},
   "outputs": [],
   "source": []
  },
  {
   "cell_type": "code",
   "execution_count": null,
   "metadata": {},
   "outputs": [],
   "source": []
  },
  {
   "cell_type": "markdown",
   "metadata": {},
   "source": [
    "#### Normalizer\n",
    "The normalizer allows us to scale multidimensional vectors using one of several power norms,\n",
    "set through the parameter “p”. For example, we can use the Manhattan norm (or Manhattan\n",
    "distance) with p = 1, Euclidean norm with p = 2, and so on."
   ]
  },
  {
   "cell_type": "code",
   "execution_count": 56,
   "metadata": {},
   "outputs": [],
   "source": [
    "from pyspark.ml.feature import Normalizer\n",
    "\n",
    "nor = Normalizer(p=1,inputCol='rawFeatures',outputCol='norFeatures')"
   ]
  },
  {
   "cell_type": "code",
   "execution_count": 57,
   "metadata": {},
   "outputs": [],
   "source": [
    "norDF = nor.transform(featuredDF)"
   ]
  },
  {
   "cell_type": "code",
   "execution_count": 58,
   "metadata": {},
   "outputs": [
    {
     "name": "stdout",
     "output_type": "stream",
     "text": [
      "+---------------------------------------------------------------------------------------------------------------------------------------------------------+\n",
      "|norFeatures                                                                                                                                              |\n",
      "+---------------------------------------------------------------------------------------------------------------------------------------------------------+\n",
      "|(1000,[77,152,160,348,538],[0.2,0.2,0.2,0.2,0.2])                                                                                                        |\n",
      "|(1000,[77,495,729],[0.3333333333333333,0.3333333333333333,0.3333333333333333])                                                                           |\n",
      "|(1000,[127,446,467,477,514],[0.2,0.2,0.2,0.2,0.2])                                                                                                       |\n",
      "|(1000,[69,138,194,231,411,932],[0.16666666666666666,0.16666666666666666,0.16666666666666666,0.16666666666666666,0.16666666666666666,0.16666666666666666])|\n",
      "|(1000,[77,142,291,756,872],[0.2,0.2,0.2,0.2,0.2])                                                                                                        |\n",
      "+---------------------------------------------------------------------------------------------------------------------------------------------------------+\n",
      "only showing top 5 rows\n",
      "\n"
     ]
    }
   ],
   "source": [
    "norDF.select('norFeatures').show(5,truncate=False)"
   ]
  },
  {
   "cell_type": "code",
   "execution_count": 3,
   "metadata": {},
   "outputs": [],
   "source": [
    "weatherDF = spark.read.parquet(\"ny/*.parquet\")"
   ]
  },
  {
   "cell_type": "code",
   "execution_count": 8,
   "metadata": {},
   "outputs": [
    {
     "name": "stdout",
     "output_type": "stream",
     "text": [
      "+-----------+-----------+----+--------------------+-----+--------------------+\n",
      "|    Station|Measurement|Year|              Values|state|                name|\n",
      "+-----------+-----------+----+--------------------+-----+--------------------+\n",
      "|USW00094704|   PRCP_s20|1945|[00 00 00 00 00 0...|   NY|   DANSVILLE MUNI AP|\n",
      "|USW00094704|   PRCP_s20|1946|[99 46 52 46 0B 4...|   NY|   DANSVILLE MUNI AP|\n",
      "|USW00094704|   PRCP_s20|1947|[79 4C 75 4C 8F 4...|   NY|   DANSVILLE MUNI AP|\n",
      "|USW00094704|   PRCP_s20|1948|[72 48 7A 48 85 4...|   NY|   DANSVILLE MUNI AP|\n",
      "|USW00094704|   PRCP_s20|1949|[BB 49 BC 49 BD 4...|   NY|   DANSVILLE MUNI AP|\n",
      "|USW00094704|   PRCP_s20|1950|[6E 4B 93 4B BB 4...|   NY|   DANSVILLE MUNI AP|\n",
      "|USW00094704|   PRCP_s20|1951|[27 4A 32 4A 28 4...|   NY|   DANSVILLE MUNI AP|\n",
      "|USW00094704|   PRCP_s20|1952|[54 4B 60 4B 6A 4...|   NY|   DANSVILLE MUNI AP|\n",
      "|USW00094704|   PRCP_s20|1953|[48 4A 37 4A 28 4...|   NY|   DANSVILLE MUNI AP|\n",
      "|USW00094704|   PRCP_s20|2000|[DE 4A D4 4A CA 4...|   NY|   DANSVILLE MUNI AP|\n",
      "|USW00094704|   PRCP_s20|2001|[D9 44 C7 44 B6 4...|   NY|   DANSVILLE MUNI AP|\n",
      "|USW00094704|   PRCP_s20|2002|[CF 4B B8 4B A1 4...|   NY|   DANSVILLE MUNI AP|\n",
      "|USW00094704|   PRCP_s20|2003|[18 4B F1 4A D2 4...|   NY|   DANSVILLE MUNI AP|\n",
      "|USW00094704|   PRCP_s20|2004|[CE 4A 9C 4A 6B 4...|   NY|   DANSVILLE MUNI AP|\n",
      "|USW00094704|   PRCP_s20|2005|[DD 4C D3 4C C9 4...|   NY|   DANSVILLE MUNI AP|\n",
      "|USW00094704|   PRCP_s20|2006|[91 4B 9F 4B AC 4...|   NY|   DANSVILLE MUNI AP|\n",
      "|USW00094704|   PRCP_s20|2007|[39 4E 36 4E 34 4...|   NY|   DANSVILLE MUNI AP|\n",
      "|USW00094704|   PRCP_s20|2008|[3A 4A 11 4A EA 4...|   NY|   DANSVILLE MUNI AP|\n",
      "|USW00094704|   PRCP_s20|2009|[5C 4A 3F 4A 26 4...|   NY|   DANSVILLE MUNI AP|\n",
      "|USW00094704|   PRCP_s20|2010|[A1 48 97 48 8E 4...|   NY|   DANSVILLE MUNI AP|\n",
      "|USW00094704|   PRCP_s20|2011|[43 47 21 47 FE 4...|   NY|   DANSVILLE MUNI AP|\n",
      "|USW00094704|   PRCP_s20|2012|[40 4B 2A 4B 15 4...|   NY|   DANSVILLE MUNI AP|\n",
      "|USW00094704|   PRCP_s20|2013|[29 4D 1B 4D 16 4...|   NY|   DANSVILLE MUNI AP|\n",
      "|USC00307356|   TOBS_s20|1956|[00 00 00 00 00 0...|   NY|SABATTIS WHITNEY ...|\n",
      "|USC00307356|   TOBS_s20|1957|[09 D5 1A D5 27 D...|   NY|SABATTIS WHITNEY ...|\n",
      "|USC00307356|   TOBS_s20|1958|[9C D3 C6 D3 F0 D...|   NY|SABATTIS WHITNEY ...|\n",
      "|USW00094704|   TMAX_s20|1945|[00 00 00 00 00 0...|   NY|   DANSVILLE MUNI AP|\n",
      "|USW00094704|   TMAX_s20|1946|[50 4D 59 4D 67 4...|   NY|   DANSVILLE MUNI AP|\n",
      "|USW00094704|   TMAX_s20|1947|[00 55 80 54 00 7...|   NY|   DANSVILLE MUNI AP|\n",
      "|USW00094704|   TMAX_s20|1948|[07 40 13 3A 2E B...|   NY|   DANSVILLE MUNI AP|\n",
      "|USW00094704|   TMAX_s20|1949|[41 51 3B 51 37 5...|   NY|   DANSVILLE MUNI AP|\n",
      "|USW00094704|   TMAX_s20|1950|[0C 54 0D 54 0C 5...|   NY|   DANSVILLE MUNI AP|\n",
      "|USW00094704|   TMAX_s20|1951|[97 4D 9A 4D 9C 4...|   NY|   DANSVILLE MUNI AP|\n",
      "|USW00094704|   TMAX_s20|1952|[FD 4F F0 4F E0 4...|   NY|   DANSVILLE MUNI AP|\n",
      "|USW00094704|   TMAX_s20|1953|[E7 50 E2 50 D8 5...|   NY|   DANSVILLE MUNI AP|\n",
      "|USW00094704|   TMAX_s20|2000|[95 52 79 52 5C 5...|   NY|   DANSVILLE MUNI AP|\n",
      "|USW00094704|   TMAX_s20|2001|[BF 45 17 46 62 4...|   NY|   DANSVILLE MUNI AP|\n",
      "|USW00094704|   TMAX_s20|2002|[BE 52 A7 52 90 5...|   NY|   DANSVILLE MUNI AP|\n",
      "|USW00094704|   TMAX_s20|2003|[6E 43 50 41 5D 3...|   NY|   DANSVILLE MUNI AP|\n",
      "|USW00094704|   TMAX_s20|2004|[C3 4D 4F 4D DD 4...|   NY|   DANSVILLE MUNI AP|\n",
      "|USW00094704|   TMAX_s20|2005|[EF 4E 9F 4E 50 4...|   NY|   DANSVILLE MUNI AP|\n",
      "|USW00094704|   TMAX_s20|2006|[8C 51 A0 51 B6 5...|   NY|   DANSVILLE MUNI AP|\n",
      "|USW00094704|   TMAX_s20|2007|[82 53 42 53 00 5...|   NY|   DANSVILLE MUNI AP|\n",
      "|USW00094704|   TMAX_s20|2008|[A3 50 9C 50 94 5...|   NY|   DANSVILLE MUNI AP|\n",
      "|USW00094704|   TMAX_s20|2009|[B2 4A 40 4A CF 4...|   NY|   DANSVILLE MUNI AP|\n",
      "|USW00094704|   TMAX_s20|2010|[EA 49 91 49 39 4...|   NY|   DANSVILLE MUNI AP|\n",
      "|USW00094704|   TMAX_s20|2011|[17 45 2A 44 8E 4...|   NY|   DANSVILLE MUNI AP|\n",
      "|USW00094704|   TMAX_s20|2012|[31 53 14 53 F8 5...|   NY|   DANSVILLE MUNI AP|\n",
      "|USW00094704|   TMAX_s20|2013|[4C 51 27 51 09 5...|   NY|   DANSVILLE MUNI AP|\n",
      "|USC00306957|   SNWD_s20|1969|[00 00 00 00 00 0...|   NY|           RAY BROOK|\n",
      "|USC00306957|   SNWD_s20|1971|[73 40 31 40 E1 3...|   NY|           RAY BROOK|\n",
      "|USC00306957|   SNWD_s20|1972|[F3 57 09 58 1B 5...|   NY|           RAY BROOK|\n",
      "|USC00306957|   SNWD_s20|1973|[F6 5B FE 5B 03 5...|   NY|           RAY BROOK|\n",
      "|USC00306957|   SNWD_s20|1974|[55 5C 56 5C 57 5...|   NY|           RAY BROOK|\n",
      "|USC00306957|   SNWD_s20|1975|[CA 5C DC 5C DF 5...|   NY|           RAY BROOK|\n",
      "|USC00306957|   SNWD_s20|1976|[48 5F 4B 5F 4B 5...|   NY|           RAY BROOK|\n",
      "|USC00306957|   SNWD_s20|1977|[70 5D 88 5D 9E 5...|   NY|           RAY BROOK|\n",
      "|USC00306957|   SNWD_s20|1978|[AE 5D C2 5D D6 5...|   NY|           RAY BROOK|\n",
      "|USC00306957|   SNWD_s20|1979|[00 7E 00 7E 00 7...|   NY|           RAY BROOK|\n",
      "|USC00306957|   SNWD_s20|1980|[60 52 60 52 60 5...|   NY|           RAY BROOK|\n",
      "|USC00306957|   SNWD_s20|1981|[AB 5C AB 5C AA 5...|   NY|           RAY BROOK|\n",
      "|USC00306957|   SNWD_s20|1982|[00 7E 00 7E 00 7...|   NY|           RAY BROOK|\n",
      "|USC00306957|   SNWD_s20|1983|[00 7E 00 7E 00 7...|   NY|           RAY BROOK|\n",
      "|USC00306957|   SNWD_s20|1984|[00 7E 00 7E 00 7...|   NY|           RAY BROOK|\n",
      "|USC00306957|   SNWD_s20|1985|[00 00 00 00 00 0...|   NY|           RAY BROOK|\n",
      "|USC00306957|   SNWD_s20|1986|[8B 5E 8F 5E 92 5...|   NY|           RAY BROOK|\n",
      "|USC00306957|   SNWD_s20|1987|[00 7E 00 7E 00 7...|   NY|           RAY BROOK|\n",
      "|USC00306957|   SNWD_s20|1988|[00 00 00 00 00 0...|   NY|           RAY BROOK|\n",
      "|USC00306957|   SNWD_s20|1989|[00 7E 00 7E 00 7...|   NY|           RAY BROOK|\n",
      "|USC00306957|   SNWD_s20|1990|[00 7E 00 7E 00 7...|   NY|           RAY BROOK|\n",
      "|USC00306957|   SNWD_s20|1991|[00 00 00 00 00 0...|   NY|           RAY BROOK|\n",
      "|USC00306957|   SNWD_s20|1992|[00 7E 00 7E 00 7...|   NY|           RAY BROOK|\n",
      "|USC00306957|   SNWD_s20|1993|[FA 57 38 58 72 5...|   NY|           RAY BROOK|\n",
      "|USC00306957|   SNWD_s20|1994|[28 60 28 60 28 6...|   NY|           RAY BROOK|\n",
      "|USC00306957|   SNWD_s20|1995|[00 00 00 00 00 0...|   NY|           RAY BROOK|\n",
      "|USC00306957|   SNWD_s20|1996|[03 5F F2 5E E4 5...|   NY|           RAY BROOK|\n",
      "|USC00306957|   SNWD_s20|1997|[C0 58 C5 58 CB 5...|   NY|           RAY BROOK|\n",
      "|USC00306957|   SNWD_s20|1998|[FB 5B ED 5B DB 5...|   NY|           RAY BROOK|\n",
      "|USC00306957|   SNWD_s20|1999|[63 58 7C 58 92 5...|   NY|           RAY BROOK|\n",
      "|USC00306957|   SNWD_s20|2000|[00 00 00 00 00 0...|   NY|           RAY BROOK|\n",
      "|USC00306957|   SNWD_s20|2001|[2A 4E A4 4E 3B 4...|   NY|           RAY BROOK|\n",
      "|USC00306957|   SNWD_s20|2002|[00 00 00 00 00 0...|   NY|           RAY BROOK|\n",
      "|USC00306957|   SNWD_s20|2003|[00 00 00 00 00 0...|   NY|           RAY BROOK|\n",
      "|USC00308625|   TOBS_s20|1979|[00 00 00 00 00 0...|   NY|          TULLY 4 NE|\n",
      "|USC00308625|   TOBS_s20|1980|[28 CE A4 CE 2B C...|   NY|          TULLY 4 NE|\n",
      "|USC00308625|   TOBS_s20|1981|[43 D6 4A D6 4F D...|   NY|          TULLY 4 NE|\n",
      "|USC00308625|   TOBS_s20|1982|[AF D4 C9 D4 E2 D...|   NY|          TULLY 4 NE|\n",
      "|USC00308625|   TOBS_s20|1983|[C1 D1 F1 D1 1E D...|   NY|          TULLY 4 NE|\n",
      "|USC00308625|   TOBS_s20|1984|[43 D5 53 D5 62 D...|   NY|          TULLY 4 NE|\n",
      "|USC00308625|   TOBS_s20|1985|[22 D2 63 D2 9E D...|   NY|          TULLY 4 NE|\n",
      "|USC00308625|   TOBS_s20|1986|[BC D3 C9 D3 DC D...|   NY|          TULLY 4 NE|\n",
      "|USC00308625|   TOBS_s20|1987|[03 D2 2D D2 56 D...|   NY|          TULLY 4 NE|\n",
      "|USC00308625|   TOBS_s20|1988|[B8 D3 E6 D3 08 D...|   NY|          TULLY 4 NE|\n",
      "|USC00308625|   TOBS_s20|1989|[7E D2 80 D2 85 D...|   NY|          TULLY 4 NE|\n",
      "|USC00308625|   TOBS_s20|1990|[6E D4 54 D4 38 D...|   NY|          TULLY 4 NE|\n",
      "|USC00308625|   TOBS_s20|1991|[D5 D0 F8 D0 18 D...|   NY|          TULLY 4 NE|\n",
      "|USC00308625|   TOBS_s20|1992|[18 D1 43 D1 71 D...|   NY|          TULLY 4 NE|\n",
      "|USC00308625|   TOBS_s20|1993|[C6 CF 04 D0 20 D...|   NY|          TULLY 4 NE|\n",
      "|USC00308625|   TOBS_s20|1994|[F7 D5 17 D6 36 D...|   NY|          TULLY 4 NE|\n",
      "|USW00014743|   TMIN_s20|1893|[BA D5 F2 D5 28 D...|   NY|         CANTON 4 SE|\n",
      "+-----------+-----------+----+--------------------+-----+--------------------+\n",
      "only showing top 100 rows\n",
      "\n"
     ]
    }
   ],
   "source": [
    "weatherDF.select('Station','Measurement','Year','Values','state','name').show(100)"
   ]
  },
  {
   "cell_type": "markdown",
   "metadata": {},
   "source": [
    "### Working with Categorical Features\n",
    "The most common task for categorical features is indexing. Indexing converts a categorical\n",
    "variable in a column to a numerical one that you can plug into machine learning algorithms.\n",
    "While this is conceptually simple, there are some catches that are important to keep in mind so\n",
    "that Spark can do this in a stable and repeatable manner.\n",
    "In general, we recommend re-indexing every categorical variable when pre-processing just for\n",
    "consistency’s sake. This can be helpful in maintaining your models over the long run as your\n",
    "encoding practices may change over time.\n",
    "\n",
    "StringIndexer\n",
    "\n",
    "The simplest way to index is via the StringIndexer, which maps strings to different numerical\n",
    "IDs. Spark’s StringIndexer also creates metadata attached to the DataFrame that specify what\n",
    "inputs correspond to what outputs"
   ]
  },
  {
   "cell_type": "code",
   "execution_count": 7,
   "metadata": {},
   "outputs": [],
   "source": [
    "from pyspark.ml.feature import StringIndexer\n",
    "\n",
    "str_ind_df = spark.createDataFrame(\n",
    "    [(0, \"a\"), (1, \"b\"), (2, \"c\"), (3, \"a\"), (4, \"a\"), (5, \"c\")],\n",
    "    [\"id\", \"category\"])"
   ]
  },
  {
   "cell_type": "code",
   "execution_count": 60,
   "metadata": {},
   "outputs": [
    {
     "name": "stdout",
     "output_type": "stream",
     "text": [
      "+---+--------+\n",
      "| id|category|\n",
      "+---+--------+\n",
      "|  0|       a|\n",
      "|  1|       b|\n",
      "|  2|       c|\n",
      "|  3|       a|\n",
      "|  4|       a|\n",
      "|  5|       c|\n",
      "+---+--------+\n",
      "\n"
     ]
    }
   ],
   "source": [
    "str_ind_df.show()"
   ]
  },
  {
   "cell_type": "code",
   "execution_count": 8,
   "metadata": {},
   "outputs": [],
   "source": [
    "si = StringIndexer(inputCol='category',outputCol='indexed')"
   ]
  },
  {
   "cell_type": "code",
   "execution_count": 9,
   "metadata": {},
   "outputs": [],
   "source": [
    "siModel = si.fit(str_ind_df)"
   ]
  },
  {
   "cell_type": "code",
   "execution_count": 10,
   "metadata": {},
   "outputs": [],
   "source": [
    "siDF = siModel.transform(str_ind_df)"
   ]
  },
  {
   "cell_type": "code",
   "execution_count": 65,
   "metadata": {},
   "outputs": [
    {
     "name": "stdout",
     "output_type": "stream",
     "text": [
      "+---+--------+-------+\n",
      "| id|category|indexed|\n",
      "+---+--------+-------+\n",
      "|  0|       a|    0.0|\n",
      "|  1|       b|    2.0|\n",
      "|  2|       c|    1.0|\n",
      "|  3|       a|    0.0|\n",
      "|  4|       a|    0.0|\n",
      "|  5|       c|    1.0|\n",
      "+---+--------+-------+\n",
      "\n"
     ]
    }
   ],
   "source": [
    "siDF.show()"
   ]
  },
  {
   "cell_type": "markdown",
   "metadata": {},
   "source": [
    "Using same indexer with other datasets"
   ]
  },
  {
   "cell_type": "code",
   "execution_count": 4,
   "metadata": {},
   "outputs": [],
   "source": [
    "str_ind_df1 = spark.createDataFrame(\n",
    "    [(0, \"a\"), (1, \"b\"), (2, \"d\"), (3, \"a\"), (4, \"a\"), (5, \"e\"),(5, \"f\"),(5, \"f\")],\n",
    "    [\"id\", \"category\"])"
   ]
  },
  {
   "cell_type": "code",
   "execution_count": 5,
   "metadata": {},
   "outputs": [
    {
     "name": "stdout",
     "output_type": "stream",
     "text": [
      "+---+--------+\n",
      "| id|category|\n",
      "+---+--------+\n",
      "|  0|       a|\n",
      "|  1|       b|\n",
      "|  2|       d|\n",
      "|  3|       a|\n",
      "|  4|       a|\n",
      "|  5|       e|\n",
      "|  5|       f|\n",
      "|  5|       f|\n",
      "+---+--------+\n",
      "\n"
     ]
    }
   ],
   "source": [
    "str_ind_df1.show()"
   ]
  },
  {
   "cell_type": "code",
   "execution_count": 11,
   "metadata": {},
   "outputs": [],
   "source": [
    "str_indDF = si.fit(str_ind_df1).transform(str_ind_df1)"
   ]
  },
  {
   "cell_type": "code",
   "execution_count": 13,
   "metadata": {},
   "outputs": [
    {
     "name": "stdout",
     "output_type": "stream",
     "text": [
      "+---+--------+-------+\n",
      "| id|category|indexed|\n",
      "+---+--------+-------+\n",
      "|  0|       a|    0.0|\n",
      "|  1|       b|    3.0|\n",
      "|  2|       d|    4.0|\n",
      "|  3|       a|    0.0|\n",
      "|  4|       a|    0.0|\n",
      "|  5|       e|    2.0|\n",
      "|  5|       f|    1.0|\n",
      "|  5|       f|    1.0|\n",
      "+---+--------+-------+\n",
      "\n"
     ]
    }
   ],
   "source": [
    "str_indDF.show()"
   ]
  },
  {
   "cell_type": "code",
   "execution_count": null,
   "metadata": {},
   "outputs": [],
   "source": []
  },
  {
   "cell_type": "markdown",
   "metadata": {},
   "source": [
    "### OneHotEncoder\n"
   ]
  },
  {
   "cell_type": "code",
   "execution_count": 114,
   "metadata": {},
   "outputs": [],
   "source": [
    "from pyspark.ml.feature import OneHotEncoder"
   ]
  },
  {
   "cell_type": "code",
   "execution_count": 115,
   "metadata": {},
   "outputs": [],
   "source": [
    "ohe = OneHotEncoder(inputCol='indexed',outputCol='encoded_indexed')"
   ]
  },
  {
   "cell_type": "code",
   "execution_count": 116,
   "metadata": {},
   "outputs": [],
   "source": [
    "str_ind_encoDF = ohe.transform(str_indDF)"
   ]
  },
  {
   "cell_type": "code",
   "execution_count": 117,
   "metadata": {},
   "outputs": [
    {
     "name": "stdout",
     "output_type": "stream",
     "text": [
      "+---+--------+-------+---------------+\n",
      "| id|category|indexed|encoded_indexed|\n",
      "+---+--------+-------+---------------+\n",
      "|  0|       a|    0.0|  (4,[0],[1.0])|\n",
      "|  1|       b|    3.0|  (4,[3],[1.0])|\n",
      "|  2|       d|    4.0|      (4,[],[])|\n",
      "|  3|       a|    0.0|  (4,[0],[1.0])|\n",
      "|  4|       a|    0.0|  (4,[0],[1.0])|\n",
      "|  5|       e|    2.0|  (4,[2],[1.0])|\n",
      "|  5|       f|    1.0|  (4,[1],[1.0])|\n",
      "|  5|       f|    1.0|  (4,[1],[1.0])|\n",
      "+---+--------+-------+---------------+\n",
      "\n"
     ]
    }
   ],
   "source": [
    "str_ind_encoDF.show()"
   ]
  },
  {
   "cell_type": "code",
   "execution_count": 131,
   "metadata": {},
   "outputs": [],
   "source": [
    "from pyspark.ml.feature import OneHotEncoder\n",
    "\n",
    "df = spark.createDataFrame([\n",
    "    (0.0, 1.0),\n",
    "    (1.0, 0.0),\n",
    "    (2.0, 1.0),\n",
    "    (0.0, 2.0),\n",
    "    (0.0, 1.0),\n",
    "    (2.0, 0.0)\n",
    "], [\"categoryIndex1\", \"categoryIndex2\"])"
   ]
  },
  {
   "cell_type": "code",
   "execution_count": 132,
   "metadata": {},
   "outputs": [],
   "source": [
    "encoder = OneHotEncoder(inputCol=\"categoryIndex1\", outputCol=\"categoryVec1\")"
   ]
  },
  {
   "cell_type": "code",
   "execution_count": 133,
   "metadata": {},
   "outputs": [],
   "source": [
    "df1 = encoder.transform(df)"
   ]
  },
  {
   "cell_type": "code",
   "execution_count": 134,
   "metadata": {},
   "outputs": [
    {
     "name": "stdout",
     "output_type": "stream",
     "text": [
      "+--------------+--------------+-------------+\n",
      "|categoryIndex1|categoryIndex2| categoryVec1|\n",
      "+--------------+--------------+-------------+\n",
      "|           0.0|           1.0|(2,[0],[1.0])|\n",
      "|           1.0|           0.0|(2,[1],[1.0])|\n",
      "|           2.0|           1.0|    (2,[],[])|\n",
      "|           0.0|           2.0|(2,[0],[1.0])|\n",
      "|           0.0|           1.0|(2,[0],[1.0])|\n",
      "|           2.0|           0.0|    (2,[],[])|\n",
      "+--------------+--------------+-------------+\n",
      "\n"
     ]
    }
   ],
   "source": [
    "df1.show()"
   ]
  },
  {
   "cell_type": "code",
   "execution_count": null,
   "metadata": {},
   "outputs": [],
   "source": []
  },
  {
   "cell_type": "code",
   "execution_count": 135,
   "metadata": {},
   "outputs": [],
   "source": [
    "encoder = OneHotEncoder(inputCol=\"categoryIndex2\", outputCol=\"categoryVec2\")"
   ]
  },
  {
   "cell_type": "code",
   "execution_count": 136,
   "metadata": {},
   "outputs": [],
   "source": [
    "df2 = encoder.transform(df1)"
   ]
  },
  {
   "cell_type": "code",
   "execution_count": 137,
   "metadata": {},
   "outputs": [
    {
     "name": "stdout",
     "output_type": "stream",
     "text": [
      "+--------------+--------------+-------------+-------------+\n",
      "|categoryIndex1|categoryIndex2| categoryVec1| categoryVec2|\n",
      "+--------------+--------------+-------------+-------------+\n",
      "|           0.0|           1.0|(2,[0],[1.0])|(2,[1],[1.0])|\n",
      "|           1.0|           0.0|(2,[1],[1.0])|(2,[0],[1.0])|\n",
      "|           2.0|           1.0|    (2,[],[])|(2,[1],[1.0])|\n",
      "|           0.0|           2.0|(2,[0],[1.0])|    (2,[],[])|\n",
      "|           0.0|           1.0|(2,[0],[1.0])|(2,[1],[1.0])|\n",
      "|           2.0|           0.0|    (2,[],[])|(2,[0],[1.0])|\n",
      "+--------------+--------------+-------------+-------------+\n",
      "\n"
     ]
    }
   ],
   "source": [
    "df2.show()"
   ]
  },
  {
   "cell_type": "code",
   "execution_count": 142,
   "metadata": {},
   "outputs": [],
   "source": [
    "va = VectorAssembler(inputCols=(['categoryVec1']),outputCol='features')"
   ]
  },
  {
   "cell_type": "code",
   "execution_count": 143,
   "metadata": {},
   "outputs": [],
   "source": [
    "df3 = va.transform(df2)"
   ]
  },
  {
   "cell_type": "code",
   "execution_count": 144,
   "metadata": {},
   "outputs": [
    {
     "name": "stdout",
     "output_type": "stream",
     "text": [
      "+--------------+--------------+-------------+-------------+---------+\n",
      "|categoryIndex1|categoryIndex2| categoryVec1| categoryVec2| features|\n",
      "+--------------+--------------+-------------+-------------+---------+\n",
      "|           0.0|           1.0|(2,[0],[1.0])|(2,[1],[1.0])|[1.0,0.0]|\n",
      "|           1.0|           0.0|(2,[1],[1.0])|(2,[0],[1.0])|[0.0,1.0]|\n",
      "|           2.0|           1.0|    (2,[],[])|(2,[1],[1.0])|(2,[],[])|\n",
      "|           0.0|           2.0|(2,[0],[1.0])|    (2,[],[])|[1.0,0.0]|\n",
      "|           0.0|           1.0|(2,[0],[1.0])|(2,[1],[1.0])|[1.0,0.0]|\n",
      "|           2.0|           0.0|    (2,[],[])|(2,[0],[1.0])|(2,[],[])|\n",
      "+--------------+--------------+-------------+-------------+---------+\n",
      "\n"
     ]
    }
   ],
   "source": [
    "df3.show()"
   ]
  },
  {
   "cell_type": "code",
   "execution_count": 145,
   "metadata": {},
   "outputs": [],
   "source": [
    "va = VectorAssembler(inputCols=(['categoryVec2']),outputCol='features2')"
   ]
  },
  {
   "cell_type": "code",
   "execution_count": 146,
   "metadata": {},
   "outputs": [],
   "source": [
    "df4 = va.transform(df3)"
   ]
  },
  {
   "cell_type": "code",
   "execution_count": 147,
   "metadata": {},
   "outputs": [
    {
     "name": "stdout",
     "output_type": "stream",
     "text": [
      "+--------------+--------------+-------------+-------------+---------+---------+\n",
      "|categoryIndex1|categoryIndex2| categoryVec1| categoryVec2| features|features2|\n",
      "+--------------+--------------+-------------+-------------+---------+---------+\n",
      "|           0.0|           1.0|(2,[0],[1.0])|(2,[1],[1.0])|[1.0,0.0]|[0.0,1.0]|\n",
      "|           1.0|           0.0|(2,[1],[1.0])|(2,[0],[1.0])|[0.0,1.0]|[1.0,0.0]|\n",
      "|           2.0|           1.0|    (2,[],[])|(2,[1],[1.0])|(2,[],[])|[0.0,1.0]|\n",
      "|           0.0|           2.0|(2,[0],[1.0])|    (2,[],[])|[1.0,0.0]|(2,[],[])|\n",
      "|           0.0|           1.0|(2,[0],[1.0])|(2,[1],[1.0])|[1.0,0.0]|[0.0,1.0]|\n",
      "|           2.0|           0.0|    (2,[],[])|(2,[0],[1.0])|(2,[],[])|[1.0,0.0]|\n",
      "+--------------+--------------+-------------+-------------+---------+---------+\n",
      "\n"
     ]
    }
   ],
   "source": [
    "df4.show()"
   ]
  },
  {
   "cell_type": "code",
   "execution_count": 148,
   "metadata": {},
   "outputs": [],
   "source": [
    "va = VectorAssembler(inputCols=('features','features2'),outputCol='features3')"
   ]
  },
  {
   "cell_type": "code",
   "execution_count": 149,
   "metadata": {},
   "outputs": [],
   "source": [
    "df5 = va.transform(df4)"
   ]
  },
  {
   "cell_type": "code",
   "execution_count": 150,
   "metadata": {},
   "outputs": [
    {
     "name": "stdout",
     "output_type": "stream",
     "text": [
      "+--------------+--------------+-------------+-------------+---------+---------+-----------------+\n",
      "|categoryIndex1|categoryIndex2| categoryVec1| categoryVec2| features|features2|        features3|\n",
      "+--------------+--------------+-------------+-------------+---------+---------+-----------------+\n",
      "|           0.0|           1.0|(2,[0],[1.0])|(2,[1],[1.0])|[1.0,0.0]|[0.0,1.0]|[1.0,0.0,0.0,1.0]|\n",
      "|           1.0|           0.0|(2,[1],[1.0])|(2,[0],[1.0])|[0.0,1.0]|[1.0,0.0]|[0.0,1.0,1.0,0.0]|\n",
      "|           2.0|           1.0|    (2,[],[])|(2,[1],[1.0])|(2,[],[])|[0.0,1.0]|    (4,[3],[1.0])|\n",
      "|           0.0|           2.0|(2,[0],[1.0])|    (2,[],[])|[1.0,0.0]|(2,[],[])|    (4,[0],[1.0])|\n",
      "|           0.0|           1.0|(2,[0],[1.0])|(2,[1],[1.0])|[1.0,0.0]|[0.0,1.0]|[1.0,0.0,0.0,1.0]|\n",
      "|           2.0|           0.0|    (2,[],[])|(2,[0],[1.0])|(2,[],[])|[1.0,0.0]|    (4,[2],[1.0])|\n",
      "+--------------+--------------+-------------+-------------+---------+---------+-----------------+\n",
      "\n"
     ]
    }
   ],
   "source": [
    "df5.show()"
   ]
  },
  {
   "cell_type": "code",
   "execution_count": 151,
   "metadata": {},
   "outputs": [],
   "source": [
    "va = VectorAssembler(inputCols=(['features3']),outputCol='features_final')"
   ]
  },
  {
   "cell_type": "code",
   "execution_count": 152,
   "metadata": {},
   "outputs": [],
   "source": [
    "df6 = va.transform(df5)"
   ]
  },
  {
   "cell_type": "code",
   "execution_count": 156,
   "metadata": {},
   "outputs": [
    {
     "name": "stdout",
     "output_type": "stream",
     "text": [
      "+-----------------+\n",
      "|   features_final|\n",
      "+-----------------+\n",
      "|[1.0,0.0,0.0,1.0]|\n",
      "|[0.0,1.0,1.0,0.0]|\n",
      "|    (4,[3],[1.0])|\n",
      "|    (4,[0],[1.0])|\n",
      "|[1.0,0.0,0.0,1.0]|\n",
      "|    (4,[2],[1.0])|\n",
      "+-----------------+\n",
      "\n"
     ]
    }
   ],
   "source": [
    "df6.select('features_final').show()"
   ]
  },
  {
   "cell_type": "code",
   "execution_count": null,
   "metadata": {},
   "outputs": [],
   "source": []
  },
  {
   "cell_type": "code",
   "execution_count": 28,
   "metadata": {},
   "outputs": [
    {
     "name": "stdout",
     "output_type": "stream",
     "text": [
      "+---------+---------+--------------------+--------+-------------------+---------+----------+--------------+\n",
      "|InvoiceNo|StockCode|         Description|Quantity|        InvoiceDate|UnitPrice|CustomerID|       Country|\n",
      "+---------+---------+--------------------+--------+-------------------+---------+----------+--------------+\n",
      "|   536365|   85123A|WHITE HANGING HEA...|       6|2010-12-01 08:26:00|     2.55|   17850.0|United Kingdom|\n",
      "|   536365|    71053| WHITE METAL LANTERN|       6|2010-12-01 08:26:00|     3.39|   17850.0|United Kingdom|\n",
      "|   536365|   84406B|CREAM CUPID HEART...|       8|2010-12-01 08:26:00|     2.75|   17850.0|United Kingdom|\n",
      "|   536365|   84029G|KNITTED UNION FLA...|       6|2010-12-01 08:26:00|     3.39|   17850.0|United Kingdom|\n",
      "|   536365|   84029E|RED WOOLLY HOTTIE...|       6|2010-12-01 08:26:00|     3.39|   17850.0|United Kingdom|\n",
      "+---------+---------+--------------------+--------+-------------------+---------+----------+--------------+\n",
      "only showing top 5 rows\n",
      "\n"
     ]
    }
   ],
   "source": [
    "sales.show(5)"
   ]
  },
  {
   "cell_type": "code",
   "execution_count": 16,
   "metadata": {},
   "outputs": [],
   "source": [
    "from pyspark.ml.feature import Tokenizer"
   ]
  },
  {
   "cell_type": "code",
   "execution_count": 17,
   "metadata": {},
   "outputs": [],
   "source": [
    "tk = Tokenizer(inputCol='Description',outputCol='tokens')"
   ]
  },
  {
   "cell_type": "code",
   "execution_count": 18,
   "metadata": {},
   "outputs": [],
   "source": [
    "tkDF = tk.transform(sales.select('Description'))"
   ]
  },
  {
   "cell_type": "code",
   "execution_count": 19,
   "metadata": {},
   "outputs": [
    {
     "name": "stdout",
     "output_type": "stream",
     "text": [
      "+--------------------+--------------------+\n",
      "|         Description|              tokens|\n",
      "+--------------------+--------------------+\n",
      "|WHITE HANGING HEA...|[white, hanging, ...|\n",
      "| WHITE METAL LANTERN|[white, metal, la...|\n",
      "|CREAM CUPID HEART...|[cream, cupid, he...|\n",
      "|KNITTED UNION FLA...|[knitted, union, ...|\n",
      "|RED WOOLLY HOTTIE...|[red, woolly, hot...|\n",
      "|SET 7 BABUSHKA NE...|[set, 7, babushka...|\n",
      "|GLASS STAR FROSTE...|[glass, star, fro...|\n",
      "|HAND WARMER UNION...|[hand, warmer, un...|\n",
      "|HAND WARMER RED P...|[hand, warmer, re...|\n",
      "|ASSORTED COLOUR B...|[assorted, colour...|\n",
      "|POPPY'S PLAYHOUSE...|[poppy's, playhou...|\n",
      "|POPPY'S PLAYHOUSE...|[poppy's, playhou...|\n",
      "|FELTCRAFT PRINCES...|[feltcraft, princ...|\n",
      "|IVORY KNITTED MUG...|[ivory, knitted, ...|\n",
      "|BOX OF 6 ASSORTED...|[box, of, 6, asso...|\n",
      "|BOX OF VINTAGE JI...|[box, of, vintage...|\n",
      "|BOX OF VINTAGE AL...|[box, of, vintage...|\n",
      "|HOME BUILDING BLO...|[home, building, ...|\n",
      "|LOVE BUILDING BLO...|[love, building, ...|\n",
      "|RECIPE BOX WITH M...|[recipe, box, wit...|\n",
      "+--------------------+--------------------+\n",
      "only showing top 20 rows\n",
      "\n"
     ]
    }
   ],
   "source": [
    "tkDF.show()"
   ]
  },
  {
   "cell_type": "code",
   "execution_count": 20,
   "metadata": {},
   "outputs": [],
   "source": [
    "from pyspark.ml.feature import HashingTF, IDF"
   ]
  },
  {
   "cell_type": "code",
   "execution_count": 21,
   "metadata": {},
   "outputs": [],
   "source": [
    "tf = HashingTF(inputCol='tokens',outputCol='features')"
   ]
  },
  {
   "cell_type": "code",
   "execution_count": 22,
   "metadata": {},
   "outputs": [],
   "source": [
    "tfDF = tf.transform(tkDF)"
   ]
  },
  {
   "cell_type": "code",
   "execution_count": 23,
   "metadata": {},
   "outputs": [
    {
     "name": "stdout",
     "output_type": "stream",
     "text": [
      "+------------------------------------------+---------------------------------------------------------------------------+\n",
      "|tokens                                    |features                                                                   |\n",
      "+------------------------------------------+---------------------------------------------------------------------------+\n",
      "|[white, hanging, heart, t-light, holder]  |(262144,[2618,57341,102296,121320,193684],[1.0,1.0,1.0,1.0,1.0])           |\n",
      "|[white, metal, lantern]                   |(262144,[57341,68281,240983],[1.0,1.0,1.0])                                |\n",
      "|[cream, cupid, hearts, coat, hanger]      |(262144,[1133,69598,172939,179146,255343],[1.0,1.0,1.0,1.0,1.0])           |\n",
      "|[knitted, union, flag, hot, water, bottle]|(262144,[4842,42343,61666,149851,167916,187621],[1.0,1.0,1.0,1.0,1.0,1.0]) |\n",
      "|[red, woolly, hottie, white, heart.]      |(262144,[30600,57341,81060,100086,195459],[1.0,1.0,1.0,1.0,1.0])           |\n",
      "|[set, 7, babushka, nesting, boxes]        |(262144,[77099,80112,94337,135533,203156],[1.0,1.0,1.0,1.0,1.0])           |\n",
      "|[glass, star, frosted, t-light, holder]   |(262144,[113864,121320,145718,193684,213314],[1.0,1.0,1.0,1.0,1.0])        |\n",
      "|[hand, warmer, union, jack]               |(262144,[4842,58545,154435,232367],[1.0,1.0,1.0,1.0])                      |\n",
      "|[hand, warmer, red, polka, dot]           |(262144,[58545,167356,178320,195459,232367],[1.0,1.0,1.0,1.0,1.0])         |\n",
      "|[assorted, colour, bird, ornament]        |(262144,[100503,208090,209126,249670],[1.0,1.0,1.0,1.0])                   |\n",
      "|[poppy's, playhouse, bedroom]             |(262144,[34239,122609,207779],[1.0,1.0,1.0])                               |\n",
      "|[poppy's, playhouse, kitchen]             |(262144,[34239,94853,122609],[1.0,1.0,1.0])                                |\n",
      "|[feltcraft, princess, charlotte, doll]    |(262144,[64355,123133,189712,231118],[1.0,1.0,1.0,1.0])                    |\n",
      "|[ivory, knitted, mug, cosy]               |(262144,[5105,122426,149851,203010],[1.0,1.0,1.0,1.0])                     |\n",
      "|[box, of, 6, assorted, colour, teaspoons] |(262144,[9639,18659,107656,189792,208090,249670],[1.0,1.0,1.0,1.0,1.0,1.0])|\n",
      "|[box, of, vintage, jigsaw, blocks]        |(262144,[9639,87306,88422,189792,250972],[1.0,1.0,1.0,1.0,1.0])            |\n",
      "|[box, of, vintage, alphabet, blocks]      |(262144,[9639,88422,117031,189792,250972],[1.0,1.0,1.0,1.0,1.0])           |\n",
      "|[home, building, block, word]             |(262144,[17893,24031,90428,128327],[1.0,1.0,1.0,1.0])                      |\n",
      "|[love, building, block, word]             |(262144,[24031,90428,128327,186480],[1.0,1.0,1.0,1.0])                     |\n",
      "|[recipe, box, with, metal, heart]         |(262144,[68281,102296,108955,126466,189792],[1.0,1.0,1.0,1.0,1.0])         |\n",
      "+------------------------------------------+---------------------------------------------------------------------------+\n",
      "only showing top 20 rows\n",
      "\n"
     ]
    }
   ],
   "source": [
    "tfDF.select('tokens','features').show(truncate=False)"
   ]
  },
  {
   "cell_type": "code",
   "execution_count": 73,
   "metadata": {},
   "outputs": [],
   "source": [
    "from pyspark.ml.feature import CountVectorizer, Tokenizer"
   ]
  },
  {
   "cell_type": "code",
   "execution_count": 74,
   "metadata": {},
   "outputs": [],
   "source": [
    "sentenceData = spark.createDataFrame([\n",
    "    (0.0, \"Hi I heard about Spark\"),\n",
    "    (0.0, \"I wish Java could use case classes\"),\n",
    "    (1.0, \"Logistic regression models are neat\")\n",
    "], [\"label\", \"sentence\"])"
   ]
  },
  {
   "cell_type": "code",
   "execution_count": 75,
   "metadata": {},
   "outputs": [],
   "source": [
    "tk = Tokenizer(inputCol='sentence',outputCol='tokens')"
   ]
  },
  {
   "cell_type": "code",
   "execution_count": 77,
   "metadata": {},
   "outputs": [],
   "source": [
    "tkData = tk.transform(sentenceData)"
   ]
  },
  {
   "cell_type": "code",
   "execution_count": null,
   "metadata": {},
   "outputs": [],
   "source": []
  },
  {
   "cell_type": "code",
   "execution_count": null,
   "metadata": {},
   "outputs": [],
   "source": []
  },
  {
   "cell_type": "code",
   "execution_count": 15,
   "metadata": {},
   "outputs": [
    {
     "name": "stdout",
     "output_type": "stream",
     "text": [
      "+-----+--------------------+--------------------+\n",
      "|label|            sentence|              tokens|\n",
      "+-----+--------------------+--------------------+\n",
      "|  0.0|Hi I heard about ...|[hi, i, heard, ab...|\n",
      "|  0.0|I wish Java could...|[i, wish, java, c...|\n",
      "|  1.0|Logistic regressi...|[logistic, regres...|\n",
      "+-----+--------------------+--------------------+\n",
      "\n"
     ]
    }
   ],
   "source": [
    "tkData.show()"
   ]
  },
  {
   "cell_type": "code",
   "execution_count": 81,
   "metadata": {},
   "outputs": [],
   "source": [
    "cv = CountVectorizer(inputCol='tokens',outputCol='feature')"
   ]
  },
  {
   "cell_type": "code",
   "execution_count": 82,
   "metadata": {},
   "outputs": [],
   "source": [
    "cvModel = cv.fit(tkData)"
   ]
  },
  {
   "cell_type": "code",
   "execution_count": 83,
   "metadata": {},
   "outputs": [],
   "source": [
    "cvDF = cvModel.transform(tkData)"
   ]
  },
  {
   "cell_type": "code",
   "execution_count": 84,
   "metadata": {},
   "outputs": [
    {
     "name": "stdout",
     "output_type": "stream",
     "text": [
      "+-----+-----------------------------------+------------------------------------------+----------------------------------------------------+\n",
      "|label|sentence                           |tokens                                    |feature                                             |\n",
      "+-----+-----------------------------------+------------------------------------------+----------------------------------------------------+\n",
      "|0.0  |Hi I heard about Spark             |[hi, i, heard, about, spark]              |(16,[0,1,4,14,15],[1.0,1.0,1.0,1.0,1.0])            |\n",
      "|0.0  |I wish Java could use case classes |[i, wish, java, could, use, case, classes]|(16,[0,2,6,7,9,12,13],[1.0,1.0,1.0,1.0,1.0,1.0,1.0])|\n",
      "|1.0  |Logistic regression models are neat|[logistic, regression, models, are, neat] |(16,[3,5,8,10,11],[1.0,1.0,1.0,1.0,1.0])            |\n",
      "+-----+-----------------------------------+------------------------------------------+----------------------------------------------------+\n",
      "\n"
     ]
    }
   ],
   "source": [
    "cvDF.show(truncate=False)"
   ]
  },
  {
   "cell_type": "code",
   "execution_count": 22,
   "metadata": {},
   "outputs": [
    {
     "name": "stdout",
     "output_type": "stream",
     "text": [
      "['i', 'logistic', 'case', 'heard', 'classes', 'hi', 'regression', 'could', 'are', 'spark', 'about', 'neat', 'java', 'models', 'wish', 'use']\n"
     ]
    }
   ],
   "source": [
    "print(cvModel.vocabulary)"
   ]
  },
  {
   "cell_type": "code",
   "execution_count": 91,
   "metadata": {},
   "outputs": [
    {
     "name": "stdout",
     "output_type": "stream",
     "text": [
      "+------------------------------------------+------------------------------------------------------+\n",
      "|tokens                                    |feature                                               |\n",
      "+------------------------------------------+------------------------------------------------------+\n",
      "|[white, hanging, heart, t-light, holder]  |(1554,[5,10,17,22,28],[1.0,1.0,1.0,1.0,1.0])          |\n",
      "|[white, metal, lantern]                   |(1554,[10,19,204],[1.0,1.0,1.0])                      |\n",
      "|[cream, cupid, hearts, coat, hanger]      |(1554,[56,96,140,176,373],[1.0,1.0,1.0,1.0,1.0])      |\n",
      "|[knitted, union, flag, hot, water, bottle]|(1554,[13,14,15,47,127,179],[1.0,1.0,1.0,1.0,1.0,1.0])|\n",
      "|[red, woolly, hottie, white, heart.]      |(1554,[0,10,203,208,212],[1.0,1.0,1.0,1.0,1.0])       |\n",
      "|[set, 7, babushka, nesting, boxes]        |(1554,[1,45,65,230,236],[1.0,1.0,1.0,1.0,1.0])        |\n",
      "|[glass, star, frosted, t-light, holder]   |(1554,[17,22,30,54,371],[1.0,1.0,1.0,1.0,1.0])        |\n",
      "|[hand, warmer, union, jack]               |(1554,[23,24,47,85],[1.0,1.0,1.0,1.0])                |\n",
      "|[hand, warmer, red, polka, dot]           |(1554,[0,23,24,315,336],[1.0,1.0,1.0,1.0,1.0])        |\n",
      "|[assorted, colour, bird, ornament]        |(1554,[46,60,66,287],[1.0,1.0,1.0,1.0])               |\n",
      "|[poppy's, playhouse, bedroom]             |(1554,[153,156,379],[1.0,1.0,1.0])                    |\n",
      "|[poppy's, playhouse, kitchen]             |(1554,[107,153,156],[1.0,1.0,1.0])                    |\n",
      "|[feltcraft, princess, charlotte, doll]    |(1554,[33,108,157,303],[1.0,1.0,1.0,1.0])             |\n",
      "|[ivory, knitted, mug, cosy]               |(1554,[27,77,161,179],[1.0,1.0,1.0,1.0])              |\n",
      "|[box, of, 6, assorted, colour, teaspoons] |(1554,[2,7,34,46,66,786],[1.0,1.0,1.0,1.0,1.0,1.0])   |\n",
      "|[box, of, vintage, jigsaw, blocks]        |(1554,[2,7,8,223,478],[1.0,1.0,1.0,1.0,1.0])          |\n",
      "|[box, of, vintage, alphabet, blocks]      |(1554,[2,7,8,478,517],[1.0,1.0,1.0,1.0,1.0])          |\n",
      "|[home, building, block, word]             |(1554,[89,159,244,247],[1.0,1.0,1.0,1.0])             |\n",
      "|[love, building, block, word]             |(1554,[59,159,244,247],[1.0,1.0,1.0,1.0])             |\n",
      "|[recipe, box, with, metal, heart]         |(1554,[5,7,19,40,195],[1.0,1.0,1.0,1.0,1.0])          |\n",
      "+------------------------------------------+------------------------------------------------------+\n",
      "only showing top 20 rows\n",
      "\n"
     ]
    }
   ],
   "source": [
    "cvDF.select('tokens','feature').show(truncate=False)"
   ]
  },
  {
   "cell_type": "code",
   "execution_count": 85,
   "metadata": {},
   "outputs": [],
   "source": [
    "sentenceData = spark.createDataFrame([\n",
    "    (0.0, \"Hi I heard about Spark\"),\n",
    "    (0.0, \"I wish,, Java could use case- classes\"),\n",
    "    (1.0, \"Logistic, ,regression ,models are neat\")\n",
    "], [\"label\", \"sentence\"])\n",
    "\n",
    "tokenizer = Tokenizer(inputCol=\"sentence\", outputCol=\"words\")\n",
    "wordsData = tokenizer.transform(sentenceData)"
   ]
  },
  {
   "cell_type": "code",
   "execution_count": 86,
   "metadata": {},
   "outputs": [
    {
     "name": "stdout",
     "output_type": "stream",
     "text": [
      "+---------------------------------------------+\n",
      "|words                                        |\n",
      "+---------------------------------------------+\n",
      "|[hi, i, heard, about, spark]                 |\n",
      "|[i, wish,,, java, could, use, case-, classes]|\n",
      "|[logistic,, ,regression, ,models, are, neat] |\n",
      "+---------------------------------------------+\n",
      "\n"
     ]
    }
   ],
   "source": [
    "wordsData.select('words').show(truncate=False)"
   ]
  },
  {
   "cell_type": "code",
   "execution_count": 87,
   "metadata": {},
   "outputs": [],
   "source": [
    "from pyspark.ml.feature import RegexTokenizer"
   ]
  },
  {
   "cell_type": "code",
   "execution_count": 88,
   "metadata": {},
   "outputs": [],
   "source": [
    "regex = RegexTokenizer(inputCol='sentence', outputCol='words',pattern='\\\\W')"
   ]
  },
  {
   "cell_type": "code",
   "execution_count": 89,
   "metadata": {},
   "outputs": [],
   "source": [
    "regexDF = regex.transform(sentenceData)"
   ]
  },
  {
   "cell_type": "code",
   "execution_count": 90,
   "metadata": {},
   "outputs": [
    {
     "name": "stdout",
     "output_type": "stream",
     "text": [
      "+------------------------------------------+\n",
      "|words                                     |\n",
      "+------------------------------------------+\n",
      "|[hi, i, heard, about, spark]              |\n",
      "|[i, wish, java, could, use, case, classes]|\n",
      "|[logistic, regression, models, are, neat] |\n",
      "+------------------------------------------+\n",
      "\n"
     ]
    }
   ],
   "source": [
    "regexDF.select('words').show(truncate=False)"
   ]
  },
  {
   "cell_type": "code",
   "execution_count": 121,
   "metadata": {},
   "outputs": [],
   "source": [
    "tf = HashingTF(inputCol='features',outputCol='newFeatures', numFeatures=100)"
   ]
  },
  {
   "cell_type": "code",
   "execution_count": 124,
   "metadata": {},
   "outputs": [],
   "source": [
    "tfDF = tf.transform(regexDF)"
   ]
  },
  {
   "cell_type": "code",
   "execution_count": 147,
   "metadata": {},
   "outputs": [
    {
     "name": "stdout",
     "output_type": "stream",
     "text": [
      "+--------------------+\n",
      "|            features|\n",
      "+--------------------+\n",
      "|(20,[0,8,12,17,18...|\n",
      "|(20,[9,15,17],[1....|\n",
      "|(20,[6,7,14,17],[...|\n",
      "|(20,[9,11,12,14,1...|\n",
      "|(20,[2,11,12,16,1...|\n",
      "|(20,[0,3,13,16],[...|\n",
      "|(20,[8,10,12,16,1...|\n",
      "|(20,[3,7,14,17],[...|\n",
      "|(20,[0,3,11,17],[...|\n",
      "|(20,[6,14,15],[1....|\n",
      "|(20,[1,7],[2.2875...|\n",
      "|(20,[1,7],[4.5750...|\n",
      "|(20,[5,6,12,15],[...|\n",
      "|(20,[2,6,9,11],[1...|\n",
      "|(20,[3,4,6,12,14,...|\n",
      "|(20,[0,2,3,10,12]...|\n",
      "|(20,[0,3,10,12],[...|\n",
      "|(20,[5,11,12,19],...|\n",
      "|(20,[0,11,12,19],...|\n",
      "|(20,[0,3,9,10,12]...|\n",
      "+--------------------+\n",
      "only showing top 20 rows\n",
      "\n"
     ]
    }
   ],
   "source": [
    "idfDF.select('features').show()"
   ]
  },
  {
   "cell_type": "markdown",
   "metadata": {},
   "source": [
    "### Removing Stop/Common Words"
   ]
  },
  {
   "cell_type": "code",
   "execution_count": 91,
   "metadata": {},
   "outputs": [],
   "source": [
    "from pyspark.ml.feature import StopWordsRemover"
   ]
  },
  {
   "cell_type": "code",
   "execution_count": 92,
   "metadata": {},
   "outputs": [],
   "source": [
    "dic = StopWordsRemover.loadDefaultStopWords('english')"
   ]
  },
  {
   "cell_type": "code",
   "execution_count": 93,
   "metadata": {},
   "outputs": [],
   "source": [
    "stopwords = StopWordsRemover(inputCol='words',stopWords=dic,outputCol='removed_words')"
   ]
  },
  {
   "cell_type": "code",
   "execution_count": 94,
   "metadata": {},
   "outputs": [],
   "source": [
    "stopedDF = stopwords.transform(regexDF)"
   ]
  },
  {
   "cell_type": "code",
   "execution_count": 95,
   "metadata": {},
   "outputs": [
    {
     "name": "stdout",
     "output_type": "stream",
     "text": [
      "+------------------------------------------+------------------------------------+\n",
      "|words                                     |removed_words                       |\n",
      "+------------------------------------------+------------------------------------+\n",
      "|[hi, i, heard, about, spark]              |[hi, heard, spark]                  |\n",
      "|[i, wish, java, could, use, case, classes]|[wish, java, use, case, classes]    |\n",
      "|[logistic, regression, models, are, neat] |[logistic, regression, models, neat]|\n",
      "+------------------------------------------+------------------------------------+\n",
      "\n"
     ]
    }
   ],
   "source": [
    "stopedDF.select('words','removed_words').show(truncate=False)"
   ]
  },
  {
   "cell_type": "markdown",
   "metadata": {},
   "source": [
    "## Creating Word Combinations"
   ]
  },
  {
   "cell_type": "code",
   "execution_count": 96,
   "metadata": {},
   "outputs": [],
   "source": [
    "from pyspark.ml.feature import NGram"
   ]
  },
  {
   "cell_type": "code",
   "execution_count": 97,
   "metadata": {},
   "outputs": [],
   "source": [
    "ng = NGram(inputCol='words',n=2, outputCol='ngrams')"
   ]
  },
  {
   "cell_type": "code",
   "execution_count": 98,
   "metadata": {},
   "outputs": [],
   "source": [
    "ngDF = ng.transform(regexDF)"
   ]
  },
  {
   "cell_type": "code",
   "execution_count": 99,
   "metadata": {},
   "outputs": [
    {
     "name": "stdout",
     "output_type": "stream",
     "text": [
      "+--------------------+--------------------+\n",
      "|               words|              ngrams|\n",
      "+--------------------+--------------------+\n",
      "|[hi, i, heard, ab...|[hi i, i heard, h...|\n",
      "|[i, wish, java, c...|[i wish, wish jav...|\n",
      "|[logistic, regres...|[logistic regress...|\n",
      "+--------------------+--------------------+\n",
      "\n"
     ]
    }
   ],
   "source": [
    "ngDF.select('words','ngrams').show()"
   ]
  },
  {
   "cell_type": "markdown",
   "metadata": {},
   "source": [
    "## Converting Words into Numerical Representations\n",
    "\n",
    "hashingTF, IDF, CountVectorizer, Word2Vec"
   ]
  },
  {
   "cell_type": "markdown",
   "metadata": {},
   "source": [
    "## Data Summarization"
   ]
  },
  {
   "cell_type": "code",
   "execution_count": 101,
   "metadata": {},
   "outputs": [],
   "source": [
    "from pyspark.ml.feature import VectorAssembler"
   ]
  },
  {
   "cell_type": "code",
   "execution_count": 102,
   "metadata": {},
   "outputs": [],
   "source": [
    "va = VectorAssembler(inputCols=['int1','int2','int3'],outputCol='features')"
   ]
  },
  {
   "cell_type": "code",
   "execution_count": 105,
   "metadata": {},
   "outputs": [],
   "source": [
    "va_intDF = va.transform(intDF)"
   ]
  },
  {
   "cell_type": "code",
   "execution_count": 106,
   "metadata": {},
   "outputs": [
    {
     "name": "stdout",
     "output_type": "stream",
     "text": [
      "+----+----+----+-------------+\n",
      "|int1|int2|int3|     features|\n",
      "+----+----+----+-------------+\n",
      "|   1|   2|   3|[1.0,2.0,3.0]|\n",
      "|   4|   5|   6|[4.0,5.0,6.0]|\n",
      "|   7|   8|   9|[7.0,8.0,9.0]|\n",
      "+----+----+----+-------------+\n",
      "\n"
     ]
    }
   ],
   "source": [
    "va_intDF.show()"
   ]
  },
  {
   "cell_type": "code",
   "execution_count": null,
   "metadata": {},
   "outputs": [],
   "source": []
  },
  {
   "cell_type": "code",
   "execution_count": 108,
   "metadata": {},
   "outputs": [],
   "source": [
    "from pyspark.ml.stat import Summarizer\n",
    "\n",
    "summarizer = Summarizer.metrics(\"count\",\"mean\",\"variance\")"
   ]
  },
  {
   "cell_type": "code",
   "execution_count": 109,
   "metadata": {},
   "outputs": [],
   "source": [
    "summary = summarizer.summary(va_intDF.features)"
   ]
  },
  {
   "cell_type": "code",
   "execution_count": 110,
   "metadata": {},
   "outputs": [
    {
     "name": "stdout",
     "output_type": "stream",
     "text": [
      "+---------------------------------+\n",
      "|aggregate_metrics(features, 1.0) |\n",
      "+---------------------------------+\n",
      "|[3, [4.0,5.0,6.0], [9.0,9.0,9.0]]|\n",
      "+---------------------------------+\n",
      "\n"
     ]
    }
   ],
   "source": [
    "va_intDF.select(summary).show(truncate=False)"
   ]
  },
  {
   "cell_type": "code",
   "execution_count": 3,
   "metadata": {},
   "outputs": [
    {
     "name": "stdout",
     "output_type": "stream",
     "text": [
      "Pearson correlation matrix:\n",
      "DenseMatrix([[1.        , 0.05564149,        nan, 0.40047142],\n",
      "             [0.05564149, 1.        ,        nan, 0.91359586],\n",
      "             [       nan,        nan, 1.        ,        nan],\n",
      "             [0.40047142, 0.91359586,        nan, 1.        ]])\n",
      "Spearman correlation matrix:\n",
      "DenseMatrix([[1.        , 0.10540926,        nan, 0.4       ],\n",
      "             [0.10540926, 1.        ,        nan, 0.9486833 ],\n",
      "             [       nan,        nan, 1.        ,        nan],\n",
      "             [0.4       , 0.9486833 ,        nan, 1.        ]])\n"
     ]
    }
   ],
   "source": [
    "from pyspark.ml.linalg import Vectors\n",
    "from pyspark.ml.stat import Correlation\n",
    "\n",
    "data = [(Vectors.sparse(4, [(0, 1.0), (3, -2.0)]),),\n",
    "        (Vectors.dense([4.0, 5.0, 0.0, 3.0]),),\n",
    "        (Vectors.dense([6.0, 7.0, 0.0, 8.0]),),\n",
    "        (Vectors.sparse(4, [(0, 9.0), (3, 1.0)]),)]\n",
    "df = spark.createDataFrame(data, [\"features\"])\n",
    "\n",
    "r1 = Correlation.corr(df, \"features\").head()\n",
    "print(\"Pearson correlation matrix:\\n\" + str(r1[0]))\n",
    "\n",
    "r2 = Correlation.corr(df, \"features\", \"spearman\").head()\n",
    "print(\"Spearman correlation matrix:\\n\" + str(r2[0]))"
   ]
  },
  {
   "cell_type": "code",
   "execution_count": 15,
   "metadata": {},
   "outputs": [
    {
     "name": "stdout",
     "output_type": "stream",
     "text": [
      "+---------------------------------------------------------------------------------------------------------------------------------------------------------------------------------------------------------------------------------------------------------------------------------------+\n",
      "|pearson(features)                                                                                                                                                                                                                                                                      |\n",
      "+---------------------------------------------------------------------------------------------------------------------------------------------------------------------------------------------------------------------------------------------------------------------------------------+\n",
      "|1.0                   0.055641488407465814  NaN  0.4004714203168137  \n",
      "0.055641488407465814  1.0                   NaN  0.9135958615342522  \n",
      "NaN                   NaN                   1.0  NaN                 \n",
      "0.4004714203168137    0.9135958615342522    NaN  1.0                 |\n",
      "+---------------------------------------------------------------------------------------------------------------------------------------------------------------------------------------------------------------------------------------------------------------------------------------+\n",
      "\n"
     ]
    }
   ],
   "source": [
    "Correlation.corr(df, \"features\").show(truncate=False)"
   ]
  },
  {
   "cell_type": "code",
   "execution_count": null,
   "metadata": {},
   "outputs": [],
   "source": []
  }
 ],
 "metadata": {
  "kernelspec": {
   "display_name": "Python 3 (ipykernel)",
   "language": "python",
   "name": "python3"
  },
  "language_info": {
   "codemirror_mode": {
    "name": "ipython",
    "version": 3
   },
   "file_extension": ".py",
   "mimetype": "text/x-python",
   "name": "python",
   "nbconvert_exporter": "python",
   "pygments_lexer": "ipython3",
   "version": "3.10.2"
  }
 },
 "nbformat": 4,
 "nbformat_minor": 4
}
