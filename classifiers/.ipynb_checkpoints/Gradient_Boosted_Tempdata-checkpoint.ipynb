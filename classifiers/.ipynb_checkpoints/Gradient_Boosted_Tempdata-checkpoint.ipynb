{
 "cells": [
  {
   "cell_type": "code",
   "execution_count": 1,
   "metadata": {
    "colab": {
     "base_uri": "https://localhost:8080/"
    },
    "id": "VuwKVOvQCw9O",
    "outputId": "a2d34ae5-a20e-4fa3-8f19-1ed3c897b5c4"
   },
   "outputs": [],
   "source": [
    "import findspark\n",
    "findspark.init()"
   ]
  },
  {
   "cell_type": "code",
   "execution_count": 2,
   "metadata": {
    "id": "ZAeKfl5oDW7U"
   },
   "outputs": [],
   "source": [
    "from pyspark.sql import SparkSession\n",
    "spark=SparkSession.builder.getOrCreate()\n",
    "from pyspark.ml import Pipeline\n",
    "from pyspark.ml.regression import GBTRegressor\n",
    "from pyspark.ml.feature import VectorIndexer\n",
    "from pyspark.ml.evaluation import RegressionEvaluator\n",
    "\n",
    "from pyspark.sql.functions import isnan,count,isnull,count,when"
   ]
  },
  {
   "cell_type": "code",
   "execution_count": 3,
   "metadata": {
    "colab": {
     "base_uri": "https://localhost:8080/"
    },
    "id": "1kx0MioXD7Kd",
    "outputId": "b8c4166b-5e56-42df-c3ea-ea454f3b9b49"
   },
   "outputs": [],
   "source": [
    "df=spark.read.csv('../Dataset/paktemp.csv',header=True,inferSchema=True)\n",
    "\n"
   ]
  },
  {
   "cell_type": "code",
   "execution_count": 55,
   "metadata": {},
   "outputs": [
    {
     "name": "stdout",
     "output_type": "stream",
     "text": [
      "+----+----+-----+\n",
      "|temp|year|month|\n",
      "+----+----+-----+\n",
      "|   0|   0|    0|\n",
      "+----+----+-----+\n",
      "\n"
     ]
    }
   ],
   "source": [
    "#Checking Null values\n",
    "from pyspark.sql.functions import col,isnan,when,count\n",
    "df.select([count(when( isnan(c)|col(c).isNull(),c)).alias(c) for c in df.columns]).show()\n",
    "\n"
   ]
  },
  {
   "cell_type": "code",
   "execution_count": 45,
   "metadata": {},
   "outputs": [],
   "source": [
    "\n",
    "\n",
    "df.count()\n",
    "\n",
    "from pyspark.ml.feature import StringIndexer \n",
    "si=StringIndexer(inputCol='month',outputCol='month_o')\n",
    "df=si.fit(df).transform(df)"
   ]
  },
  {
   "cell_type": "code",
   "execution_count": 34,
   "metadata": {},
   "outputs": [],
   "source": [
    "df=df.drop('month')"
   ]
  },
  {
   "cell_type": "code",
   "execution_count": 38,
   "metadata": {
    "colab": {
     "base_uri": "https://localhost:8080/",
     "height": 400
    },
    "id": "AW_aI8ZLGeSW",
    "outputId": "9995a246-3697-4a93-d3da-0879e6977928"
   },
   "outputs": [
    {
     "name": "stdout",
     "output_type": "stream",
     "text": [
      "+-------+----+-------+---------------+\n",
      "|   temp|year|month_o|          month|\n",
      "+-------+----+-------+---------------+\n",
      "|7.72768|1901|    4.0| (11,[4],[1.0])|\n",
      "|  8.936|1901|    3.0| (11,[3],[1.0])|\n",
      "|16.9632|1901|    7.0| (11,[7],[1.0])|\n",
      "|21.2741|1901|    0.0| (11,[0],[1.0])|\n",
      "|26.0497|1901|    8.0| (11,[8],[1.0])|\n",
      "|29.3811|1901|    6.0| (11,[6],[1.0])|\n",
      "|29.2391|1901|    5.0| (11,[5],[1.0])|\n",
      "|27.9718|1901|    1.0| (11,[1],[1.0])|\n",
      "|25.2887|1901|   11.0|     (11,[],[])|\n",
      "|21.2279|1901|   10.0|(11,[10],[1.0])|\n",
      "|15.7539|1901|    9.0| (11,[9],[1.0])|\n",
      "| 10.917|1901|    2.0| (11,[2],[1.0])|\n",
      "|9.90868|1902|    4.0| (11,[4],[1.0])|\n",
      "|11.2238|1902|    3.0| (11,[3],[1.0])|\n",
      "|17.3237|1902|    7.0| (11,[7],[1.0])|\n",
      "|22.1011|1902|    0.0| (11,[0],[1.0])|\n",
      "|26.7454|1902|    8.0| (11,[8],[1.0])|\n",
      "|28.6774|1902|    6.0| (11,[6],[1.0])|\n",
      "|29.3654|1902|    5.0| (11,[5],[1.0])|\n",
      "|28.2741|1902|    1.0| (11,[1],[1.0])|\n",
      "+-------+----+-------+---------------+\n",
      "only showing top 20 rows\n",
      "\n"
     ]
    }
   ],
   "source": [
    "from pyspark.ml.feature import OneHotEncoder\n",
    "encoder = OneHotEncoder(inputCol=\"month_o\",\n",
    "                        outputCol='month')\n",
    "\n",
    "model = encoder.fit(df)\n",
    "df = model.transform(df)\n",
    "df.show()"
   ]
  },
  {
   "cell_type": "code",
   "execution_count": null,
   "metadata": {
    "colab": {
     "base_uri": "https://localhost:8080/"
    },
    "id": "ZoYgjeyyEKjs",
    "outputId": "fcc0c76e-6bb9-48d0-f2aa-260e99452492"
   },
   "outputs": [],
   "source": [
    "\n",
    "\n",
    "# from pyspark.ml.feature import RFormula\n",
    "\n",
    "# formula = RFormula(\n",
    "#     formula=\"temp ~ month+ year\",\n",
    "#     featuresCol=\"features\",\n",
    "#     labelCol=\"label\")\n",
    "\n",
    "# output = formula.fit(df).transform(df)\n",
    "# # \n",
    "# output.select(\"features\", \"label\").show()\n"
   ]
  },
  {
   "cell_type": "code",
   "execution_count": null,
   "metadata": {
    "colab": {
     "base_uri": "https://localhost:8080/",
     "height": 400
    },
    "id": "wOBrpT0hER9U",
    "outputId": "3e63f291-b151-4bd7-87f5-7a7d4549a493"
   },
   "outputs": [],
   "source": []
  },
  {
   "cell_type": "code",
   "execution_count": 39,
   "metadata": {
    "id": "N7woFS8AEW-L"
   },
   "outputs": [],
   "source": [
    "df=df.drop(\"month_o\")"
   ]
  },
  {
   "cell_type": "code",
   "execution_count": 40,
   "metadata": {},
   "outputs": [
    {
     "name": "stdout",
     "output_type": "stream",
     "text": [
      "+-------+----+---------------+\n",
      "|   temp|year|          month|\n",
      "+-------+----+---------------+\n",
      "|7.72768|1901| (11,[4],[1.0])|\n",
      "|  8.936|1901| (11,[3],[1.0])|\n",
      "|16.9632|1901| (11,[7],[1.0])|\n",
      "|21.2741|1901| (11,[0],[1.0])|\n",
      "|26.0497|1901| (11,[8],[1.0])|\n",
      "|29.3811|1901| (11,[6],[1.0])|\n",
      "|29.2391|1901| (11,[5],[1.0])|\n",
      "|27.9718|1901| (11,[1],[1.0])|\n",
      "|25.2887|1901|     (11,[],[])|\n",
      "|21.2279|1901|(11,[10],[1.0])|\n",
      "|15.7539|1901| (11,[9],[1.0])|\n",
      "| 10.917|1901| (11,[2],[1.0])|\n",
      "|9.90868|1902| (11,[4],[1.0])|\n",
      "|11.2238|1902| (11,[3],[1.0])|\n",
      "|17.3237|1902| (11,[7],[1.0])|\n",
      "|22.1011|1902| (11,[0],[1.0])|\n",
      "|26.7454|1902| (11,[8],[1.0])|\n",
      "|28.6774|1902| (11,[6],[1.0])|\n",
      "|29.3654|1902| (11,[5],[1.0])|\n",
      "|28.2741|1902| (11,[1],[1.0])|\n",
      "+-------+----+---------------+\n",
      "only showing top 20 rows\n",
      "\n"
     ]
    }
   ],
   "source": [
    "df.show()"
   ]
  },
  {
   "cell_type": "code",
   "execution_count": 41,
   "metadata": {},
   "outputs": [],
   "source": [
    "from pyspark.ml.feature import VectorAssembler,VectorIndexer"
   ]
  },
  {
   "cell_type": "code",
   "execution_count": 56,
   "metadata": {},
   "outputs": [],
   "source": [
    "cols=[c for c in df.columns if c!='temp']"
   ]
  },
  {
   "cell_type": "code",
   "execution_count": 58,
   "metadata": {},
   "outputs": [],
   "source": [
    "va=VectorAssembler(inputCols=cols,outputCol='vafeatures')"
   ]
  },
  {
   "cell_type": "code",
   "execution_count": 59,
   "metadata": {},
   "outputs": [],
   "source": [
    "vi=VectorIndexer(inputCol='vafeatures',outputCol='features')"
   ]
  },
  {
   "cell_type": "code",
   "execution_count": 61,
   "metadata": {},
   "outputs": [],
   "source": [
    "\n",
    "from pyspark.ml.regression import GBTRegressor\n",
    "gbt = GBTRegressor(featuresCol='features', labelCol='temp')"
   ]
  },
  {
   "cell_type": "code",
   "execution_count": 62,
   "metadata": {},
   "outputs": [],
   "source": [
    "eval = RegressionEvaluator(predictionCol=gbt.getPredictionCol(),\n",
    "    labelCol=gbt.getLabelCol(),\n",
    "    metricName='rmse')"
   ]
  },
  {
   "cell_type": "code",
   "execution_count": 63,
   "metadata": {},
   "outputs": [],
   "source": [
    "from pyspark.ml.tuning import CrossValidator, ParamGridBuilder\n",
    "from pyspark.ml.pipeline import Pipeline"
   ]
  },
  {
   "cell_type": "code",
   "execution_count": 64,
   "metadata": {},
   "outputs": [],
   "source": [
    "param = ParamGridBuilder().addGrid(gbt.maxIter,[10,15]).addGrid(gbt.stepSize,[0.05,0.08]).addGrid(gbt.maxDepth,[3,10]).build()"
   ]
  },
  {
   "cell_type": "code",
   "execution_count": 65,
   "metadata": {},
   "outputs": [],
   "source": [
    "cv = CrossValidator(estimator=gbt,\n",
    "    estimatorParamMaps=param,\n",
    "    evaluator=eval,\n",
    "    numFolds=3,\n",
    "    parallelism=8)"
   ]
  },
  {
   "cell_type": "code",
   "execution_count": null,
   "metadata": {},
   "outputs": [],
   "source": []
  }
 ],
 "metadata": {
  "colab": {
   "name": "Gradient Boosted Tempdata.ipynb",
   "provenance": []
  },
  "kernelspec": {
   "display_name": "Python 3 (ipykernel)",
   "language": "python",
   "name": "python3"
  },
  "language_info": {
   "codemirror_mode": {
    "name": "ipython",
    "version": 3
   },
   "file_extension": ".py",
   "mimetype": "text/x-python",
   "name": "python",
   "nbconvert_exporter": "python",
   "pygments_lexer": "ipython3",
   "version": "3.10.2"
  }
 },
 "nbformat": 4,
 "nbformat_minor": 1
}
