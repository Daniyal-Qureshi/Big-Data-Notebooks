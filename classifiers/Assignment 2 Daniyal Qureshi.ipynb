{
 "cells": [
  {
   "cell_type": "code",
   "execution_count": 13,
   "id": "ca7c8208",
   "metadata": {},
   "outputs": [],
   "source": [
    "from pyspark.sql import SparkSession\n",
    "from pyspark.ml.feature import VectorAssembler\n",
    "from pyspark.ml.feature import StringIndexer\n",
    "from pyspark.ml.classification import DecisionTreeClassifier,LinearSVC,LogisticRegression\n",
    "import pandas as pd\n",
    "\n"
   ]
  },
  {
   "cell_type": "markdown",
   "id": "d98162e0",
   "metadata": {},
   "source": [
    "# User Input  and Classifier List"
   ]
  },
  {
   "cell_type": "code",
   "execution_count": 14,
   "id": "d351292b",
   "metadata": {},
   "outputs": [],
   "source": [
    "bootstrap_count=5  #number of boostraps\n",
    "classifiers = [LogisticRegression,DecisionTreeClassifier,LinearSVC]  #Classifiers list\n"
   ]
  },
  {
   "cell_type": "code",
   "execution_count": 15,
   "id": "6ebc5fc5",
   "metadata": {},
   "outputs": [],
   "source": [
    "pd.set_option(\"display.max_rows\", None, \"display.max_columns\", None)\n"
   ]
  },
  {
   "cell_type": "markdown",
   "id": "bff34f68",
   "metadata": {},
   "source": [
    "# File Reading dropping unnecessary columns"
   ]
  },
  {
   "cell_type": "code",
   "execution_count": 16,
   "id": "ca0f935f",
   "metadata": {},
   "outputs": [
    {
     "name": "stdout",
     "output_type": "stream",
     "text": [
      "root\n",
      " |-- diagnosis: string (nullable = true)\n",
      " |-- radius_mean: double (nullable = true)\n",
      " |-- texture_mean: double (nullable = true)\n",
      " |-- perimeter_mean: double (nullable = true)\n",
      " |-- area_mean: double (nullable = true)\n",
      " |-- smoothness_mean: double (nullable = true)\n",
      " |-- compactness_mean: double (nullable = true)\n",
      " |-- concavity_mean: double (nullable = true)\n",
      " |-- concave points_mean: double (nullable = true)\n",
      " |-- symmetry_mean: double (nullable = true)\n",
      " |-- fractal_dimension_mean: double (nullable = true)\n",
      " |-- radius_se: double (nullable = true)\n",
      " |-- texture_se: double (nullable = true)\n",
      " |-- perimeter_se: double (nullable = true)\n",
      " |-- area_se: double (nullable = true)\n",
      " |-- smoothness_se: double (nullable = true)\n",
      " |-- compactness_se: double (nullable = true)\n",
      " |-- concavity_se: double (nullable = true)\n",
      " |-- concave points_se: double (nullable = true)\n",
      " |-- symmetry_se: double (nullable = true)\n",
      " |-- fractal_dimension_se: double (nullable = true)\n",
      " |-- radius_worst: double (nullable = true)\n",
      " |-- texture_worst: double (nullable = true)\n",
      " |-- perimeter_worst: double (nullable = true)\n",
      " |-- area_worst: double (nullable = true)\n",
      " |-- smoothness_worst: double (nullable = true)\n",
      " |-- compactness_worst: double (nullable = true)\n",
      " |-- concavity_worst: double (nullable = true)\n",
      " |-- concave points_worst: double (nullable = true)\n",
      " |-- symmetry_worst: double (nullable = true)\n",
      " |-- fractal_dimension_worst: double (nullable = true)\n",
      "\n"
     ]
    }
   ],
   "source": [
    "spark=SparkSession.builder.getOrCreate()\n",
    "df=spark.read.csv(\"BCancer.csv\",inferSchema=True,header=True).drop(\"_c32\").drop(\"id\")\n",
    "df.printSchema()"
   ]
  },
  {
   "cell_type": "markdown",
   "id": "4e72b20b",
   "metadata": {},
   "source": [
    "# Vector Assembler"
   ]
  },
  {
   "cell_type": "code",
   "execution_count": 17,
   "id": "70f6c15d",
   "metadata": {},
   "outputs": [
    {
     "name": "stdout",
     "output_type": "stream",
     "text": [
      "+--------------------+---------+\n",
      "|            features|diagnosis|\n",
      "+--------------------+---------+\n",
      "|[17.99,10.38,122....|        M|\n",
      "|[20.57,17.77,132....|        M|\n",
      "|[19.69,21.25,130....|        M|\n",
      "|[11.42,20.38,77.5...|        M|\n",
      "|[20.29,14.34,135....|        M|\n",
      "|[12.45,15.7,82.57...|        M|\n",
      "|[18.25,19.98,119....|        M|\n",
      "|[13.71,20.83,90.2...|        M|\n",
      "|[13.0,21.82,87.5,...|        M|\n",
      "|[12.46,24.04,83.9...|        M|\n",
      "|[16.02,23.24,102....|        M|\n",
      "|[15.78,17.89,103....|        M|\n",
      "|[19.17,24.8,132.4...|        M|\n",
      "|[15.85,23.95,103....|        M|\n",
      "|[13.73,22.61,93.6...|        M|\n",
      "|[14.54,27.54,96.7...|        M|\n",
      "|[14.68,20.13,94.7...|        M|\n",
      "|[16.13,20.68,108....|        M|\n",
      "|[19.81,22.15,130....|        M|\n",
      "|[13.54,14.36,87.4...|        B|\n",
      "+--------------------+---------+\n",
      "only showing top 20 rows\n",
      "\n"
     ]
    }
   ],
   "source": [
    "va=VectorAssembler(inputCols=([c for c in df.columns if c!='diagnosis']),outputCol='features')\n",
    "vaDf=va.transform(df)\n",
    "vaDf.select('features','diagnosis').show()"
   ]
  },
  {
   "cell_type": "markdown",
   "id": "e3dfde3c",
   "metadata": {},
   "source": [
    "# String Indexer"
   ]
  },
  {
   "cell_type": "code",
   "execution_count": 18,
   "id": "357d3f65",
   "metadata": {},
   "outputs": [],
   "source": [
    "sInd=StringIndexer(inputCol='diagnosis',outputCol='label')\n",
    "df=sInd.fit(vaDf).transform(vaDf).select('features','label')\n"
   ]
  },
  {
   "cell_type": "markdown",
   "id": "19d9d9f3",
   "metadata": {},
   "source": [
    "# Creating Boostraps "
   ]
  },
  {
   "cell_type": "code",
   "execution_count": 19,
   "id": "3540555f",
   "metadata": {},
   "outputs": [
    {
     "data": {
      "text/plain": [
       "108"
      ]
     },
     "execution_count": 19,
     "metadata": {},
     "output_type": "execute_result"
    }
   ],
   "source": [
    "#Bootstraps\n",
    "bootstraps=df.randomSplit([1/bootstrap_count for i in range(bootstrap_count)])\n",
    "test=bootstraps[0]\n",
    "del bootstraps[0]\n",
    "\n",
    "test.count()"
   ]
  },
  {
   "cell_type": "markdown",
   "id": "3662c944",
   "metadata": {},
   "source": [
    "Fitting and testing and Selecting prediction column of each Model"
   ]
  },
  {
   "cell_type": "code",
   "execution_count": null,
   "id": "9729917e",
   "metadata": {},
   "outputs": [],
   "source": [
    "predicted=[]\n",
    "for bootstrap in bootstraps:\n",
    "    for classifier in classifiers:\n",
    "        predicted.append(classifier(labelCol='label',featuresCol='features').fit(bootstrap).transform(test).select('prediction').toPandas())\n",
    "            "
   ]
  },
  {
   "cell_type": "markdown",
   "id": "9746cd01",
   "metadata": {},
   "source": [
    "# Stacking prediction columns of all models into One"
   ]
  },
  {
   "cell_type": "code",
   "execution_count": null,
   "id": "e2b80b62",
   "metadata": {},
   "outputs": [],
   "source": [
    "\n",
    "prediction=pd.concat(predicted,axis=1)\n",
    "len(prediction)"
   ]
  },
  {
   "cell_type": "code",
   "execution_count": null,
   "id": "dca5a40b",
   "metadata": {},
   "outputs": [],
   "source": [
    "prediction"
   ]
  },
  {
   "cell_type": "markdown",
   "id": "42513238",
   "metadata": {},
   "source": [
    "# Voting from all predictions "
   ]
  },
  {
   "cell_type": "code",
   "execution_count": null,
   "id": "4d9942de",
   "metadata": {},
   "outputs": [],
   "source": [
    "\n",
    "import numpy as np\n",
    "import builtins as p\n",
    "final=[]\n",
    "for index,row in prediction.iterrows():\n",
    "    final.append(p.max(row,key=list(row).count))\n",
    "    \n",
    "final=pd.DataFrame(final, columns = ['final'])\n",
    "\n",
    "final_prediction=pd.concat([prediction,final],axis=1)\n"
   ]
  },
  {
   "cell_type": "code",
   "execution_count": null,
   "id": "f3b98c1c",
   "metadata": {},
   "outputs": [],
   "source": [
    "final_prediction"
   ]
  },
  {
   "cell_type": "code",
   "execution_count": null,
   "id": "b81833ef",
   "metadata": {},
   "outputs": [],
   "source": []
  },
  {
   "cell_type": "code",
   "execution_count": null,
   "id": "bceb0ae9",
   "metadata": {},
   "outputs": [],
   "source": []
  },
  {
   "cell_type": "code",
   "execution_count": null,
   "id": "acc943b3",
   "metadata": {},
   "outputs": [],
   "source": []
  },
  {
   "cell_type": "code",
   "execution_count": null,
   "id": "d2376ed5",
   "metadata": {},
   "outputs": [],
   "source": []
  },
  {
   "cell_type": "code",
   "execution_count": null,
   "id": "da2e35dd",
   "metadata": {},
   "outputs": [],
   "source": [
    "\n",
    "    "
   ]
  },
  {
   "cell_type": "code",
   "execution_count": null,
   "id": "34094115",
   "metadata": {},
   "outputs": [],
   "source": []
  },
  {
   "cell_type": "code",
   "execution_count": null,
   "id": "ed45d9df",
   "metadata": {},
   "outputs": [],
   "source": [
    "\n"
   ]
  },
  {
   "cell_type": "code",
   "execution_count": null,
   "id": "1bf477a4",
   "metadata": {},
   "outputs": [],
   "source": []
  }
 ],
 "metadata": {
  "kernelspec": {
   "display_name": "Python 3 (ipykernel)",
   "language": "python",
   "name": "python3"
  },
  "language_info": {
   "codemirror_mode": {
    "name": "ipython",
    "version": 3
   },
   "file_extension": ".py",
   "mimetype": "text/x-python",
   "name": "python",
   "nbconvert_exporter": "python",
   "pygments_lexer": "ipython3",
   "version": "3.8.10"
  }
 },
 "nbformat": 4,
 "nbformat_minor": 5
}
