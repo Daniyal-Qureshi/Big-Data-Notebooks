{
 "cells": [
  {
   "cell_type": "code",
   "execution_count": 1,
   "id": "17e47ef9",
   "metadata": {},
   "outputs": [],
   "source": [
    "from pyspark.sql import SparkSession"
   ]
  },
  {
   "cell_type": "code",
   "execution_count": 3,
   "id": "0ad7f075",
   "metadata": {},
   "outputs": [],
   "source": [
    "Spark = SparkSession.builder.getOrCreate()\n"
   ]
  },
  {
   "cell_type": "code",
   "execution_count": 4,
   "id": "f832ec9f",
   "metadata": {},
   "outputs": [],
   "source": [
    "from pyspark.ml.classification import RandomForestClassifier"
   ]
  },
  {
   "cell_type": "code",
   "execution_count": 10,
   "id": "346a2f14",
   "metadata": {},
   "outputs": [],
   "source": [
    "rf = RandomForestClassifier(\n",
    "featuresCol='ScaledFeatures',\n",
    "    labelCol='label',\n",
    "    predictionCol='prediction',\n",
    "    probabilityCol='probability',\n",
    "    rawPredictionCol='rawPrediction',\n",
    "    maxDepth=5,\n",
    "    maxBins=32,\n",
    "    minInstancesPerNode=1,\n",
    "    minInfoGain=0.0,\n",
    "    maxMemoryInMB=256,\n",
    "    cacheNodeIds=False,\n",
    "    checkpointInterval=1,\n",
    "    impurity='gini',\n",
    "    numTrees=20,\n",
    "    featureSubsetStrategy='auto',\n",
    "    seed=None,\n",
    "    subsamplingRate=0.6)"
   ]
  },
  {
   "cell_type": "code",
   "execution_count": 8,
   "id": "d08df248",
   "metadata": {},
   "outputs": [],
   "source": [
    "rfModel = rf.fit(train)"
   ]
  },
  {
   "cell_type": "code",
   "execution_count": 9,
   "id": "92d45915",
   "metadata": {},
   "outputs": [],
   "source": [
    "rfResult = rfModel.transform(test)"
   ]
  },
  {
   "cell_type": "code",
   "execution_count": null,
   "id": "d662d6a3",
   "metadata": {},
   "outputs": [],
   "source": [
    "rfResult.select('label','prediction').show()"
   ]
  },
  {
   "cell_type": "code",
   "execution_count": null,
   "id": "1276f308",
   "metadata": {},
   "outputs": [],
   "source": []
  }
 ],
 "metadata": {
  "kernelspec": {
   "display_name": "Python 3 (ipykernel)",
   "language": "python",
   "name": "python3"
  },
  "language_info": {
   "codemirror_mode": {
    "name": "ipython",
    "version": 3
   },
   "file_extension": ".py",
   "mimetype": "text/x-python",
   "name": "python",
   "nbconvert_exporter": "python",
   "pygments_lexer": "ipython3",
   "version": "3.8.10"
  }
 },
 "nbformat": 4,
 "nbformat_minor": 5
}
